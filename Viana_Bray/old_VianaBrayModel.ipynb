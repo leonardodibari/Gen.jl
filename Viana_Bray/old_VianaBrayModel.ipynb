{
 "cells": [
  {
   "cell_type": "code",
   "execution_count": 292,
   "id": "1e49af85",
   "metadata": {
    "tags": []
   },
   "outputs": [],
   "source": [
    "using LinearAlgebra\n",
    "using DelimitedFiles\n",
    "using PyPlot\n",
    "using Random\n",
    "using LinearAlgebra\n",
    "using Statistics\n",
    "using DCAUtils\n",
    "using StatsBase\n",
    "using Distributions"
   ]
  },
  {
   "cell_type": "code",
   "execution_count": 89,
   "id": "c9356f9f",
   "metadata": {
    "tags": []
   },
   "outputs": [
    {
     "data": {
      "text/plain": [
       "dATlineSearch (generic function with 1 method)"
      ]
     },
     "execution_count": 89,
     "metadata": {},
     "output_type": "execute_result"
    }
   ],
   "source": [
    "include(\"energy.jl\");\n",
    "include(\"MontecarloUtils.jl\");\n",
    "include(\"dATline.jl\")"
   ]
  },
  {
   "cell_type": "code",
   "execution_count": 3,
   "id": "2d07c8f9",
   "metadata": {},
   "outputs": [
    {
     "ename": "LoadError",
     "evalue": "UndefVarError: `histogram` not defined",
     "output_type": "error",
     "traceback": [
      "UndefVarError: `histogram` not defined",
      "",
      "Stacktrace:",
      " [1] top-level scope",
      "   @ In[3]:51"
     ]
    }
   ],
   "source": [
    "### Model parameters\n",
    "L = 100 \n",
    "Connectivity = 4  ## Average connectivity of the model\n",
    "p = Connectivity/(L-1)\n",
    "R = 0.2 ## Standard deviation used to extract random couplings\n",
    "\n",
    "\n",
    "### Initialize seed RNG\n",
    "RNGseed = 10\n",
    "Random.seed!(RNGseed)\n",
    "\n",
    "\n",
    "### Initialize fields & couplings\n",
    "# h = zeros(Float64,L) ## No fields\n",
    "FieldDistribution = Normal(0,0.02) ## Gaussian fields\n",
    "# FieldDistribution = Truncated(Cauchy(0,0.5),-100,100) ## Cauchy fields\n",
    "h=rand(FieldDistribution, L)  \n",
    "\n",
    "J = zeros(Float64,L,L)\n",
    "for i = 1:L\n",
    "    for j = i+1:L\n",
    "        if rand() < p\n",
    "            # Jvalue = 1.0 ## Fixed ferromagnetic couplings\n",
    "            Jvalue = rand(Normal(0,R))\n",
    "            J[i,j] = Jvalue\n",
    "            J[j,i] = Jvalue\n",
    "        end\n",
    "    end\n",
    "end\n",
    "\n",
    "\n",
    "### Check that J is symmetric\n",
    "for i in 1:L\n",
    "    for j in 1:L\n",
    "        @assert J[i,j] == J[j,i]\n",
    "    end\n",
    "end     \n",
    "\n",
    "\n",
    "### Initialize the spin configuration to a random one\n",
    "S = zeros(Int,L)\n",
    "for i = 1:L\n",
    "    if rand() > 0.5\n",
    "        S[i] = 1\n",
    "    else\n",
    "        S[i] = -1\n",
    "    end\n",
    "end\n",
    "\n",
    "### Plot histogram of fields\n",
    "histogram(h)"
   ]
  },
  {
   "cell_type": "code",
   "execution_count": 4,
   "id": "8e254449",
   "metadata": {},
   "outputs": [],
   "source": [
    "### Print configuration of couplings and fields in a file\n",
    "file_coupl = \"CouplingsFields_Connectivity$(Connectivity)_seed$(RNGseed)_L$(L)\"\n",
    "\n",
    "open(file_coupl, \"w\") do f\n",
    "    for i in 1:L\n",
    "        for j in i:L\n",
    "            println(f,\"$i $j $(J[i,j])\")\n",
    "        end\n",
    "    end\n",
    "\n",
    "    println(f,\"\")\n",
    "\n",
    "    for i in 1:L\n",
    "            println(f,\"$i $(h[i])\")\n",
    "    end\n",
    "end"
   ]
  },
  {
   "cell_type": "markdown",
   "id": "74b317ad",
   "metadata": {},
   "source": [
    "### Montecarlo simulations"
   ]
  },
  {
   "cell_type": "code",
   "execution_count": 11,
   "id": "c0f02b04",
   "metadata": {},
   "outputs": [],
   "source": [
    "###\n",
    "T = 0.2\n",
    "Nstore = 10\n",
    "Nsteps = 100\n",
    "overlap_all2 = zeros(Nstore,500)\n",
    "for iter in 1:500\n",
    "    S = zeros(Int,L)\n",
    "    for i = 1:L\n",
    "        if rand() > 0.5\n",
    "            S[i] = 1\n",
    "        else\n",
    "            S[i] = -1\n",
    "        end\n",
    "    end\n",
    "    en,magn,overlap,seq = MCMC_Metropolis_store_en_magn(Nstore,Nsteps,S,L,h,J,1/T)\n",
    "    overlap_all2[:,iter] = overlap\n",
    "end"
   ]
  },
  {
   "cell_type": "code",
   "execution_count": 15,
   "id": "979052e1",
   "metadata": {},
   "outputs": [
    {
     "data": {
      "image/png": "[encoded data removed]",
      "image/svg+xml": [
       "<?xml version=\"1.0\" encoding=\"utf-8\"?>\n",
       "<svg xmlns=\"http://www.w3.org/2000/svg\" xmlns:xlink=\"http://www.w3.org/1999/xlink\" width=\"600\" height=\"400\" viewBox=\"0 0 2400 1600\">\n",
       "<defs>\n",
       "  <clipPath id=\"clip740\">\n",
       "    <rect x=\"0\" y=\"0\" width=\"2400\" height=\"1600\"/>\n",
       "  </clipPath>\n",
       "</defs>\n",
       "<path clip-path=\"url(#clip740)\" d=\"M0 1600 L2400 1600 L2400 0 L0 0  Z\" fill=\"#ffffff\" fill-rule=\"evenodd\" fill-opacity=\"1\"/>\n",
       "<defs>\n",
       "  <clipPath id=\"clip741\">\n",
       "    <rect x=\"480\" y=\"0\" width=\"1681\" height=\"1600\"/>\n",
       "  </clipPath>\n",
       "</defs>\n",
       "<path clip-path=\"url(#clip740)\" d=\"M189.496 1474.16 L2352.76 1474.16 L2352.76 47.2441 L189.496 47.2441  Z\" fill=\"#ffffff\" fill-rule=\"evenodd\" fill-opacity=\"1\"/>\n",
       "<defs>\n",
       "  <clipPath id=\"clip742\">\n",
       "    <rect x=\"189\" y=\"47\" width=\"2164\" height=\"1428\"/>\n",
       "  </clipPath>\n",
       "</defs>\n",
       "<polyline clip-path=\"url(#clip742)\" style=\"stroke:#000000; stroke-linecap:round; stroke-linejoin:round; stroke-width:2; stroke-opacity:0.1; fill:none\" points=\"250.72,1474.16 250.72,47.2441 \"/>\n",
       "<polyline clip-path=\"url(#clip742)\" style=\"stroke:#000000; stroke-linecap:round; stroke-linejoin:round; stroke-width:2; stroke-opacity:0.1; fill:none\" points=\"1292.46,1474.16 1292.46,47.2441 \"/>\n",
       "<polyline clip-path=\"url(#clip742)\" style=\"stroke:#000000; stroke-linecap:round; stroke-linejoin:round; stroke-width:2; stroke-opacity:0.1; fill:none\" points=\"2334.2,1474.16 2334.2,47.2441 \"/>\n",
       "<polyline clip-path=\"url(#clip740)\" style=\"stroke:#000000; stroke-linecap:round; stroke-linejoin:round; stroke-width:4; stroke-opacity:1; fill:none\" points=\"189.496,1474.16 2352.76,1474.16 \"/>\n",
       "<polyline clip-path=\"url(#clip740)\" style=\"stroke:#000000; stroke-linecap:round; stroke-linejoin:round; stroke-width:4; stroke-opacity:1; fill:none\" points=\"250.72,1474.16 250.72,1455.27 \"/>\n",
       "<polyline clip-path=\"url(#clip740)\" style=\"stroke:#000000; stroke-linecap:round; stroke-linejoin:round; stroke-width:4; stroke-opacity:1; fill:none\" points=\"1292.46,1474.16 1292.46,1455.27 \"/>\n",
       "<polyline clip-path=\"url(#clip740)\" style=\"stroke:#000000; stroke-linecap:round; stroke-linejoin:round; stroke-width:4; stroke-opacity:1; fill:none\" points=\"2334.2,1474.16 2334.2,1455.27 \"/>\n",
       "<path clip-path=\"url(#clip740)\" d=\"M215.703 1548.29 L223.342 1548.29 L223.342 1521.92 L215.032 1523.59 L215.032 1519.33 L223.296 1517.66 L227.972 1517.66 L227.972 1548.29 L235.61 1548.29 L235.61 1552.22 L215.703 1552.22 L215.703 1548.29 Z\" fill=\"#000000\" fill-rule=\"nonzero\" fill-opacity=\"1\" /><path clip-path=\"url(#clip740)\" d=\"M255.055 1520.74 Q251.444 1520.74 249.615 1524.31 Q247.809 1527.85 247.809 1534.98 Q247.809 1542.09 249.615 1545.65 Q251.444 1549.19 255.055 1549.19 Q258.689 1549.19 260.495 1545.65 Q262.323 1542.09 262.323 1534.98 Q262.323 1527.85 260.495 1524.31 Q258.689 1520.74 255.055 1520.74 M255.055 1517.04 Q260.865 1517.04 263.92 1521.65 Q266.999 1526.23 266.999 1534.98 Q266.999 1543.71 263.92 1548.31 Q260.865 1552.9 255.055 1552.9 Q249.245 1552.9 246.166 1548.31 Q243.11 1543.71 243.11 1534.98 Q243.11 1526.23 246.166 1521.65 Q249.245 1517.04 255.055 1517.04 Z\" fill=\"#000000\" fill-rule=\"nonzero\" fill-opacity=\"1\" /><path clip-path=\"url(#clip740)\" d=\"M276.704 1499.24 Q273.77 1499.24 272.284 1502.13 Q270.817 1505.01 270.817 1510.8 Q270.817 1516.58 272.284 1519.47 Q273.77 1522.35 276.704 1522.35 Q279.657 1522.35 281.124 1519.47 Q282.61 1516.58 282.61 1510.8 Q282.61 1505.01 281.124 1502.13 Q279.657 1499.24 276.704 1499.24 M276.704 1496.23 Q281.425 1496.23 283.907 1499.97 Q286.409 1503.69 286.409 1510.8 Q286.409 1517.89 283.907 1521.64 Q281.425 1525.36 276.704 1525.36 Q271.983 1525.36 269.482 1521.64 Q266.999 1517.89 266.999 1510.8 Q266.999 1503.69 269.482 1499.97 Q271.983 1496.23 276.704 1496.23 Z\" fill=\"#000000\" fill-rule=\"nonzero\" fill-opacity=\"1\" /><path clip-path=\"url(#clip740)\" d=\"M1258.79 1548.29 L1266.43 1548.29 L1266.43 1521.92 L1258.12 1523.59 L1258.12 1519.33 L1266.38 1517.66 L1271.06 1517.66 L1271.06 1548.29 L1278.69 1548.29 L1278.69 1552.22 L1258.79 1552.22 L1258.79 1548.29 Z\" fill=\"#000000\" fill-rule=\"nonzero\" fill-opacity=\"1\" /><path clip-path=\"url(#clip740)\" d=\"M1298.14 1520.74 Q1294.53 1520.74 1292.7 1524.31 Q1290.89 1527.85 1290.89 1534.98 Q1290.89 1542.09 1292.7 1545.65 Q1294.53 1549.19 1298.14 1549.19 Q1301.77 1549.19 1303.58 1545.65 Q1305.41 1542.09 1305.41 1534.98 Q1305.41 1527.85 1303.58 1524.31 Q1301.77 1520.74 1298.14 1520.74 M1298.14 1517.04 Q1303.95 1517.04 1307 1521.65 Q1310.08 1526.23 1310.08 1534.98 Q1310.08 1543.71 1307 1548.31 Q1303.95 1552.9 1298.14 1552.9 Q1292.33 1552.9 1289.25 1548.31 Q1286.19 1543.71 1286.19 1534.98 Q1286.19 1526.23 1289.25 1521.65 Q1292.33 1517.04 1298.14 1517.04 Z\" fill=\"#000000\" fill-rule=\"nonzero\" fill-opacity=\"1\" /><path clip-path=\"url(#clip740)\" d=\"M1310.63 1521.62 L1316.84 1521.62 L1316.84 1500.19 L1310.08 1501.55 L1310.08 1498.09 L1316.8 1496.73 L1320.6 1496.73 L1320.6 1521.62 L1326.8 1521.62 L1326.8 1524.81 L1310.63 1524.81 L1310.63 1521.62 Z\" fill=\"#000000\" fill-rule=\"nonzero\" fill-opacity=\"1\" /><path clip-path=\"url(#clip740)\" d=\"M2299.97 1548.29 L2307.61 1548.29 L2307.61 1521.92 L2299.3 1523.59 L2299.3 1519.33 L2307.57 1517.66 L2312.24 1517.66 L2312.24 1548.29 L2319.88 1548.29 L2319.88 1552.22 L2299.97 1552.22 L2299.97 1548.29 Z\" fill=\"#000000\" fill-rule=\"nonzero\" fill-opacity=\"1\" /><path clip-path=\"url(#clip740)\" d=\"M2339.32 1520.74 Q2335.71 1520.74 2333.88 1524.31 Q2332.08 1527.85 2332.08 1534.98 Q2332.08 1542.09 2333.88 1545.65 Q2335.71 1549.19 2339.32 1549.19 Q2342.96 1549.19 2344.76 1545.65 Q2346.59 1542.09 2346.59 1534.98 Q2346.59 1527.85 2344.76 1524.31 Q2342.96 1520.74 2339.32 1520.74 M2339.32 1517.04 Q2345.13 1517.04 2348.19 1521.65 Q2351.27 1526.23 2351.27 1534.98 Q2351.27 1543.71 2348.19 1548.31 Q2345.13 1552.9 2339.32 1552.9 Q2333.51 1552.9 2330.44 1548.31 Q2327.38 1543.71 2327.38 1534.98 Q2327.38 1526.23 2330.44 1521.65 Q2333.51 1517.04 2339.32 1517.04 Z\" fill=\"#000000\" fill-rule=\"nonzero\" fill-opacity=\"1\" /><path clip-path=\"url(#clip740)\" d=\"M2355.84 1521.62 L2369.1 1521.62 L2369.1 1524.81 L2351.27 1524.81 L2351.27 1521.62 Q2353.43 1519.38 2357.16 1515.62 Q2360.9 1511.84 2361.86 1510.75 Q2363.68 1508.7 2364.4 1507.29 Q2365.13 1505.86 2365.13 1504.48 Q2365.13 1502.24 2363.55 1500.83 Q2361.99 1499.42 2359.47 1499.42 Q2357.68 1499.42 2355.69 1500.04 Q2353.71 1500.67 2351.46 1501.93 L2351.46 1498.09 Q2353.75 1497.17 2355.74 1496.7 Q2357.74 1496.23 2359.39 1496.23 Q2363.76 1496.23 2366.35 1498.41 Q2368.95 1500.59 2368.95 1504.24 Q2368.95 1505.97 2368.29 1507.53 Q2367.65 1509.07 2365.94 1511.18 Q2365.47 1511.72 2362.95 1514.34 Q2360.43 1516.93 2355.84 1521.62 Z\" fill=\"#000000\" fill-rule=\"nonzero\" fill-opacity=\"1\" /><polyline clip-path=\"url(#clip742)\" style=\"stroke:#000000; stroke-linecap:round; stroke-linejoin:round; stroke-width:2; stroke-opacity:0.1; fill:none\" points=\"189.496,1474.16 2352.76,1474.16 \"/>\n",
       "<polyline clip-path=\"url(#clip742)\" style=\"stroke:#000000; stroke-linecap:round; stroke-linejoin:round; stroke-width:2; stroke-opacity:0.1; fill:none\" points=\"189.496,1117.43 2352.76,1117.43 \"/>\n",
       "<polyline clip-path=\"url(#clip742)\" style=\"stroke:#000000; stroke-linecap:round; stroke-linejoin:round; stroke-width:2; stroke-opacity:0.1; fill:none\" points=\"189.496,760.704 2352.76,760.704 \"/>\n",
       "<polyline clip-path=\"url(#clip742)\" style=\"stroke:#000000; stroke-linecap:round; stroke-linejoin:round; stroke-width:2; stroke-opacity:0.1; fill:none\" points=\"189.496,403.974 2352.76,403.974 \"/>\n",
       "<polyline clip-path=\"url(#clip742)\" style=\"stroke:#000000; stroke-linecap:round; stroke-linejoin:round; stroke-width:2; stroke-opacity:0.1; fill:none\" points=\"189.496,47.2441 2352.76,47.2441 \"/>\n",
       "<polyline clip-path=\"url(#clip740)\" style=\"stroke:#000000; stroke-linecap:round; stroke-linejoin:round; stroke-width:4; stroke-opacity:1; fill:none\" points=\"189.496,1474.16 189.496,47.2441 \"/>\n",
       "<polyline clip-path=\"url(#clip740)\" style=\"stroke:#000000; stroke-linecap:round; stroke-linejoin:round; stroke-width:4; stroke-opacity:1; fill:none\" points=\"189.496,1474.16 208.394,1474.16 \"/>\n",
       "<polyline clip-path=\"url(#clip740)\" style=\"stroke:#000000; stroke-linecap:round; stroke-linejoin:round; stroke-width:4; stroke-opacity:1; fill:none\" points=\"189.496,1117.43 208.394,1117.43 \"/>\n",
       "<polyline clip-path=\"url(#clip740)\" style=\"stroke:#000000; stroke-linecap:round; stroke-linejoin:round; stroke-width:4; stroke-opacity:1; fill:none\" points=\"189.496,760.704 208.394,760.704 \"/>\n",
       "<polyline clip-path=\"url(#clip740)\" style=\"stroke:#000000; stroke-linecap:round; stroke-linejoin:round; stroke-width:4; stroke-opacity:1; fill:none\" points=\"189.496,403.974 208.394,403.974 \"/>\n",
       "<polyline clip-path=\"url(#clip740)\" style=\"stroke:#000000; stroke-linecap:round; stroke-linejoin:round; stroke-width:4; stroke-opacity:1; fill:none\" points=\"189.496,47.2441 208.394,47.2441 \"/>\n",
       "<path clip-path=\"url(#clip740)\" d=\"M51.6634 1493.96 L59.3023 1493.96 L59.3023 1467.59 L50.9921 1469.26 L50.9921 1465 L59.256 1463.33 L63.9319 1463.33 L63.9319 1493.96 L71.5707 1493.96 L71.5707 1497.89 L51.6634 1497.89 L51.6634 1493.96 Z\" fill=\"#000000\" fill-rule=\"nonzero\" fill-opacity=\"1\" /><path clip-path=\"url(#clip740)\" d=\"M91.0151 1466.41 Q87.404 1466.41 85.5753 1469.98 Q83.7697 1473.52 83.7697 1480.65 Q83.7697 1487.75 85.5753 1491.32 Q87.404 1494.86 91.0151 1494.86 Q94.6493 1494.86 96.4548 1491.32 Q98.2835 1487.75 98.2835 1480.65 Q98.2835 1473.52 96.4548 1469.98 Q94.6493 1466.41 91.0151 1466.41 M91.0151 1462.71 Q96.8252 1462.71 99.8808 1467.31 Q102.959 1471.9 102.959 1480.65 Q102.959 1489.37 99.8808 1493.98 Q96.8252 1498.56 91.0151 1498.56 Q85.2049 1498.56 82.1262 1493.98 Q79.0707 1489.37 79.0707 1480.65 Q79.0707 1471.9 82.1262 1467.31 Q85.2049 1462.71 91.0151 1462.71 Z\" fill=\"#000000\" fill-rule=\"nonzero\" fill-opacity=\"1\" /><path clip-path=\"url(#clip740)\" d=\"M102.959 1456.81 L127.071 1456.81 L127.071 1460.01 L102.959 1460.01 L102.959 1456.81 Z\" fill=\"#000000\" fill-rule=\"nonzero\" fill-opacity=\"1\" /><path clip-path=\"url(#clip740)\" d=\"M145.71 1445.71 L136.118 1460.7 L145.71 1460.7 L145.71 1445.71 M144.713 1442.4 L149.49 1442.4 L149.49 1460.7 L153.496 1460.7 L153.496 1463.86 L149.49 1463.86 L149.49 1470.48 L145.71 1470.48 L145.71 1463.86 L133.033 1463.86 L133.033 1460.19 L144.713 1442.4 Z\" fill=\"#000000\" fill-rule=\"nonzero\" fill-opacity=\"1\" /><path clip-path=\"url(#clip740)\" d=\"M52.585 1137.23 L60.2238 1137.23 L60.2238 1110.86 L51.9137 1112.53 L51.9137 1108.27 L60.1776 1106.6 L64.8535 1106.6 L64.8535 1137.23 L72.4923 1137.23 L72.4923 1141.16 L52.585 1141.16 L52.585 1137.23 Z\" fill=\"#000000\" fill-rule=\"nonzero\" fill-opacity=\"1\" /><path clip-path=\"url(#clip740)\" d=\"M91.9366 1109.68 Q88.3255 1109.68 86.4969 1113.25 Q84.6913 1116.79 84.6913 1123.92 Q84.6913 1131.02 86.4969 1134.59 Q88.3255 1138.13 91.9366 1138.13 Q95.5709 1138.13 97.3764 1134.59 Q99.2051 1131.02 99.2051 1123.92 Q99.2051 1116.79 97.3764 1113.25 Q95.5709 1109.68 91.9366 1109.68 M91.9366 1105.98 Q97.7468 1105.98 100.802 1110.58 Q103.881 1115.17 103.881 1123.92 Q103.881 1132.64 100.802 1137.25 Q97.7468 1141.83 91.9366 1141.83 Q86.1265 1141.83 83.0478 1137.25 Q79.9923 1132.64 79.9923 1123.92 Q79.9923 1115.17 83.0478 1110.58 Q86.1265 1105.98 91.9366 1105.98 Z\" fill=\"#000000\" fill-rule=\"nonzero\" fill-opacity=\"1\" /><path clip-path=\"url(#clip740)\" d=\"M103.881 1100.08 L127.993 1100.08 L127.993 1103.28 L103.881 1103.28 L103.881 1100.08 Z\" fill=\"#000000\" fill-rule=\"nonzero\" fill-opacity=\"1\" /><path clip-path=\"url(#clip740)\" d=\"M147.703 1098.61 Q150.43 1099.19 151.954 1101.04 Q153.496 1102.88 153.496 1105.59 Q153.496 1109.75 150.637 1112.02 Q147.778 1114.3 142.512 1114.3 Q140.744 1114.3 138.863 1113.94 Q137.002 1113.6 135.008 1112.91 L135.008 1109.24 Q136.588 1110.16 138.469 1110.63 Q140.349 1111.1 142.399 1111.1 Q145.973 1111.1 147.835 1109.69 Q149.716 1108.28 149.716 1105.59 Q149.716 1103.11 147.966 1101.71 Q146.236 1100.3 143.133 1100.3 L139.86 1100.3 L139.86 1097.18 L143.283 1097.18 Q146.086 1097.18 147.571 1096.07 Q149.057 1094.94 149.057 1092.84 Q149.057 1090.67 147.515 1089.53 Q145.992 1088.36 143.133 1088.36 Q141.572 1088.36 139.785 1088.7 Q137.998 1089.04 135.854 1089.75 L135.854 1086.37 Q138.017 1085.77 139.898 1085.46 Q141.797 1085.16 143.471 1085.16 Q147.797 1085.16 150.317 1087.14 Q152.838 1089.09 152.838 1092.44 Q152.838 1094.77 151.502 1096.39 Q150.167 1097.99 147.703 1098.61 Z\" fill=\"#000000\" fill-rule=\"nonzero\" fill-opacity=\"1\" /><path clip-path=\"url(#clip740)\" d=\"M53.3561 780.497 L60.995 780.497 L60.995 754.131 L52.6848 755.798 L52.6848 751.539 L60.9487 749.872 L65.6246 749.872 L65.6246 780.497 L73.2634 780.497 L73.2634 784.432 L53.3561 784.432 L53.3561 780.497 Z\" fill=\"#000000\" fill-rule=\"nonzero\" fill-opacity=\"1\" /><path clip-path=\"url(#clip740)\" d=\"M92.7078 752.951 Q89.0967 752.951 87.268 756.515 Q85.4624 760.057 85.4624 767.187 Q85.4624 774.293 87.268 777.858 Q89.0967 781.4 92.7078 781.4 Q96.342 781.4 98.1475 777.858 Q99.9762 774.293 99.9762 767.187 Q99.9762 760.057 98.1475 756.515 Q96.342 752.951 92.7078 752.951 M92.7078 749.247 Q98.5179 749.247 101.573 753.853 Q104.652 758.437 104.652 767.187 Q104.652 775.914 101.573 780.52 Q98.5179 785.103 92.7078 785.103 Q86.8976 785.103 83.8189 780.52 Q80.7634 775.914 80.7634 767.187 Q80.7634 758.437 83.8189 753.853 Q86.8976 749.247 92.7078 749.247 Z\" fill=\"#000000\" fill-rule=\"nonzero\" fill-opacity=\"1\" /><path clip-path=\"url(#clip740)\" d=\"M104.652 743.348 L128.764 743.348 L128.764 746.546 L104.652 746.546 L104.652 743.348 Z\" fill=\"#000000\" fill-rule=\"nonzero\" fill-opacity=\"1\" /><path clip-path=\"url(#clip740)\" d=\"M140.236 753.824 L153.496 753.824 L153.496 757.022 L135.666 757.022 L135.666 753.824 Q137.829 751.586 141.553 747.825 Q145.296 744.044 146.255 742.953 Q148.079 740.903 148.794 739.493 Q149.527 738.063 149.527 736.69 Q149.527 734.452 147.948 733.042 Q146.387 731.631 143.866 731.631 Q142.08 731.631 140.086 732.252 Q138.111 732.872 135.854 734.133 L135.854 730.296 Q138.149 729.374 140.142 728.904 Q142.136 728.434 143.791 728.434 Q148.155 728.434 150.75 730.615 Q153.345 732.797 153.345 736.446 Q153.345 738.176 152.687 739.737 Q152.048 741.279 150.336 743.386 Q149.866 743.931 147.346 746.546 Q144.826 749.141 140.236 753.824 Z\" fill=\"#000000\" fill-rule=\"nonzero\" fill-opacity=\"1\" /><path clip-path=\"url(#clip740)\" d=\"M53.0552 423.767 L60.694 423.767 L60.694 397.401 L52.3839 399.068 L52.3839 394.808 L60.6477 393.142 L65.3236 393.142 L65.3236 423.767 L72.9625 423.767 L72.9625 427.702 L53.0552 427.702 L53.0552 423.767 Z\" fill=\"#000000\" fill-rule=\"nonzero\" fill-opacity=\"1\" /><path clip-path=\"url(#clip740)\" d=\"M92.4068 396.221 Q88.7957 396.221 86.967 399.785 Q85.1615 403.327 85.1615 410.457 Q85.1615 417.563 86.967 421.128 Q88.7957 424.669 92.4068 424.669 Q96.0411 424.669 97.8466 421.128 Q99.6753 417.563 99.6753 410.457 Q99.6753 403.327 97.8466 399.785 Q96.0411 396.221 92.4068 396.221 M92.4068 392.517 Q98.217 392.517 101.273 397.123 Q104.351 401.707 104.351 410.457 Q104.351 419.183 101.273 423.79 Q98.217 428.373 92.4068 428.373 Q86.5967 428.373 83.518 423.79 Q80.4625 419.183 80.4625 410.457 Q80.4625 401.707 83.518 397.123 Q86.5967 392.517 92.4068 392.517 Z\" fill=\"#000000\" fill-rule=\"nonzero\" fill-opacity=\"1\" /><path clip-path=\"url(#clip740)\" d=\"M104.351 386.618 L128.463 386.618 L128.463 389.816 L104.351 389.816 L104.351 386.618 Z\" fill=\"#000000\" fill-rule=\"nonzero\" fill-opacity=\"1\" /><path clip-path=\"url(#clip740)\" d=\"M137.321 397.094 L143.528 397.094 L143.528 375.672 L136.776 377.026 L136.776 373.566 L143.49 372.211 L147.289 372.211 L147.289 397.094 L153.496 397.094 L153.496 400.291 L137.321 400.291 L137.321 397.094 Z\" fill=\"#000000\" fill-rule=\"nonzero\" fill-opacity=\"1\" /><path clip-path=\"url(#clip740)\" d=\"M82.7903 67.0365 L90.4291 67.0365 L90.4291 40.6709 L82.119 42.3376 L82.119 38.0784 L90.3828 36.4117 L95.0587 36.4117 L95.0587 67.0365 L102.698 67.0365 L102.698 70.9717 L82.7903 70.9717 L82.7903 67.0365 Z\" fill=\"#000000\" fill-rule=\"nonzero\" fill-opacity=\"1\" /><path clip-path=\"url(#clip740)\" d=\"M122.142 39.4904 Q118.531 39.4904 116.702 43.0552 Q114.897 46.5968 114.897 53.7264 Q114.897 60.8329 116.702 64.3977 Q118.531 67.9393 122.142 67.9393 Q125.776 67.9393 127.582 64.3977 Q129.41 60.8329 129.41 53.7264 Q129.41 46.5968 127.582 43.0552 Q125.776 39.4904 122.142 39.4904 M122.142 35.7867 Q127.952 35.7867 131.008 40.3932 Q134.086 44.9765 134.086 53.7264 Q134.086 62.4532 131.008 67.0597 Q127.952 71.643 122.142 71.643 Q116.332 71.643 113.253 67.0597 Q110.198 62.4532 110.198 53.7264 Q110.198 44.9765 113.253 40.3932 Q116.332 35.7867 122.142 35.7867 Z\" fill=\"#000000\" fill-rule=\"nonzero\" fill-opacity=\"1\" /><path clip-path=\"url(#clip740)\" d=\"M143.791 17.9827 Q140.857 17.9827 139.371 20.8791 Q137.904 23.7567 137.904 29.5495 Q137.904 35.3235 139.371 38.2199 Q140.857 41.0975 143.791 41.0975 Q146.744 41.0975 148.211 38.2199 Q149.697 35.3235 149.697 29.5495 Q149.697 23.7567 148.211 20.8791 Q146.744 17.9827 143.791 17.9827 M143.791 14.9735 Q148.512 14.9735 150.994 18.7162 Q153.496 22.4402 153.496 29.5495 Q153.496 36.64 150.994 40.3828 Q148.512 44.1067 143.791 44.1067 Q139.07 44.1067 136.569 40.3828 Q134.086 36.64 134.086 29.5495 Q134.086 22.4402 136.569 18.7162 Q139.07 14.9735 143.791 14.9735 Z\" fill=\"#000000\" fill-rule=\"nonzero\" fill-opacity=\"1\" /><polyline clip-path=\"url(#clip742)\" style=\"stroke:#000000; stroke-linecap:round; stroke-linejoin:round; stroke-width:8; stroke-opacity:1; fill:none\" points=\"250.72,66.178 1335.58,84.172 1628.13,101.075 1804.33,116.938 1930.82,131.54 2029.56,146.083 2110.57,159.145 2179.25,170.802 2238.86,182.278 2291.53,192.031 \"/>\n",
       "<path clip-path=\"url(#clip740)\" d=\"M1924.85 198.488 L2280.65 198.488 L2280.65 94.8081 L1924.85 94.8081  Z\" fill=\"#ffffff\" fill-rule=\"evenodd\" fill-opacity=\"1\"/>\n",
       "<polyline clip-path=\"url(#clip740)\" style=\"stroke:#000000; stroke-linecap:round; stroke-linejoin:round; stroke-width:4; stroke-opacity:1; fill:none\" points=\"1924.85,198.488 2280.65,198.488 2280.65,94.8081 1924.85,94.8081 1924.85,198.488 \"/>\n",
       "<polyline clip-path=\"url(#clip740)\" style=\"stroke:#000000; stroke-linecap:round; stroke-linejoin:round; stroke-width:8; stroke-opacity:1; fill:none\" points=\"1948.89,146.648 2093.11,146.648 \"/>\n",
       "<path clip-path=\"url(#clip740)\" d=\"M2117.14 129.368 L2146.38 129.368 L2146.38 133.303 L2134.11 133.303 L2134.11 163.928 L2129.41 163.928 L2129.41 133.303 L2117.14 133.303 L2117.14 129.368 Z\" fill=\"#000000\" fill-rule=\"nonzero\" fill-opacity=\"1\" /><path clip-path=\"url(#clip740)\" d=\"M2151.26 142.4 L2180.94 142.4 L2180.94 146.289 L2151.26 146.289 L2151.26 142.4 M2151.26 151.845 L2180.94 151.845 L2180.94 155.78 L2151.26 155.78 L2151.26 151.845 Z\" fill=\"#000000\" fill-rule=\"nonzero\" fill-opacity=\"1\" /><path clip-path=\"url(#clip740)\" d=\"M2201.03 132.447 Q2197.42 132.447 2195.59 136.012 Q2193.79 139.553 2193.79 146.683 Q2193.79 153.789 2195.59 157.354 Q2197.42 160.896 2201.03 160.896 Q2204.67 160.896 2206.47 157.354 Q2208.3 153.789 2208.3 146.683 Q2208.3 139.553 2206.47 136.012 Q2204.67 132.447 2201.03 132.447 M2201.03 128.743 Q2206.84 128.743 2209.9 133.35 Q2212.98 137.933 2212.98 146.683 Q2212.98 155.41 2209.9 160.016 Q2206.84 164.599 2201.03 164.599 Q2195.22 164.599 2192.14 160.016 Q2189.09 155.41 2189.09 146.683 Q2189.09 137.933 2192.14 133.35 Q2195.22 128.743 2201.03 128.743 Z\" fill=\"#000000\" fill-rule=\"nonzero\" fill-opacity=\"1\" /><path clip-path=\"url(#clip740)\" d=\"M2221.19 158.049 L2226.08 158.049 L2226.08 163.928 L2221.19 163.928 L2221.19 158.049 Z\" fill=\"#000000\" fill-rule=\"nonzero\" fill-opacity=\"1\" /><path clip-path=\"url(#clip740)\" d=\"M2240.29 159.993 L2256.61 159.993 L2256.61 163.928 L2234.67 163.928 L2234.67 159.993 Q2237.33 157.238 2241.91 152.609 Q2246.52 147.956 2247.7 146.613 Q2249.94 144.09 2250.82 142.354 Q2251.73 140.595 2251.73 138.905 Q2251.73 136.15 2249.78 134.414 Q2247.86 132.678 2244.76 132.678 Q2242.56 132.678 2240.11 133.442 Q2237.68 134.206 2234.9 135.757 L2234.9 131.035 Q2237.72 129.901 2240.18 129.322 Q2242.63 128.743 2244.67 128.743 Q2250.04 128.743 2253.23 131.428 Q2256.43 134.113 2256.43 138.604 Q2256.43 140.734 2255.62 142.655 Q2254.83 144.553 2252.72 147.146 Q2252.14 147.817 2249.04 151.035 Q2245.94 154.229 2240.29 159.993 Z\" fill=\"#000000\" fill-rule=\"nonzero\" fill-opacity=\"1\" /></svg>\n"
      ],
      "text/html": [
       "<?xml version=\"1.0\" encoding=\"utf-8\"?>\n",
       "<svg xmlns=\"http://www.w3.org/2000/svg\" xmlns:xlink=\"http://www.w3.org/1999/xlink\" width=\"600\" height=\"400\" viewBox=\"0 0 2400 1600\">\n",
       "<defs>\n",
       "  <clipPath id=\"clip790\">\n",
       "    <rect x=\"0\" y=\"0\" width=\"2400\" height=\"1600\"/>\n",
       "  </clipPath>\n",
       "</defs>\n",
       "<path clip-path=\"url(#clip790)\" d=\"M0 1600 L2400 1600 L2400 0 L0 0  Z\" fill=\"#ffffff\" fill-rule=\"evenodd\" fill-opacity=\"1\"/>\n",
       "<defs>\n",
       "  <clipPath id=\"clip791\">\n",
       "    <rect x=\"480\" y=\"0\" width=\"1681\" height=\"1600\"/>\n",
       "  </clipPath>\n",
       "</defs>\n",
       "<path clip-path=\"url(#clip790)\" d=\"M189.496 1474.16 L2352.76 1474.16 L2352.76 47.2441 L189.496 47.2441  Z\" fill=\"#ffffff\" fill-rule=\"evenodd\" fill-opacity=\"1\"/>\n",
       "<defs>\n",
       "  <clipPath id=\"clip792\">\n",
       "    <rect x=\"189\" y=\"47\" width=\"2164\" height=\"1428\"/>\n",
       "  </clipPath>\n",
       "</defs>\n",
       "<polyline clip-path=\"url(#clip792)\" style=\"stroke:#000000; stroke-linecap:round; stroke-linejoin:round; stroke-width:2; stroke-opacity:0.1; fill:none\" points=\"250.72,1474.16 250.72,47.2441 \"/>\n",
       "<polyline clip-path=\"url(#clip792)\" style=\"stroke:#000000; stroke-linecap:round; stroke-linejoin:round; stroke-width:2; stroke-opacity:0.1; fill:none\" points=\"1292.46,1474.16 1292.46,47.2441 \"/>\n",
       "<polyline clip-path=\"url(#clip792)\" style=\"stroke:#000000; stroke-linecap:round; stroke-linejoin:round; stroke-width:2; stroke-opacity:0.1; fill:none\" points=\"2334.2,1474.16 2334.2,47.2441 \"/>\n",
       "<polyline clip-path=\"url(#clip790)\" style=\"stroke:#000000; stroke-linecap:round; stroke-linejoin:round; stroke-width:4; stroke-opacity:1; fill:none\" points=\"189.496,1474.16 2352.76,1474.16 \"/>\n",
       "<polyline clip-path=\"url(#clip790)\" style=\"stroke:#000000; stroke-linecap:round; stroke-linejoin:round; stroke-width:4; stroke-opacity:1; fill:none\" points=\"250.72,1474.16 250.72,1455.27 \"/>\n",
       "<polyline clip-path=\"url(#clip790)\" style=\"stroke:#000000; stroke-linecap:round; stroke-linejoin:round; stroke-width:4; stroke-opacity:1; fill:none\" points=\"1292.46,1474.16 1292.46,1455.27 \"/>\n",
       "<polyline clip-path=\"url(#clip790)\" style=\"stroke:#000000; stroke-linecap:round; stroke-linejoin:round; stroke-width:4; stroke-opacity:1; fill:none\" points=\"2334.2,1474.16 2334.2,1455.27 \"/>\n",
       "<path clip-path=\"url(#clip790)\" d=\"M215.703 1548.29 L223.342 1548.29 L223.342 1521.92 L215.032 1523.59 L215.032 1519.33 L223.296 1517.66 L227.972 1517.66 L227.972 1548.29 L235.61 1548.29 L235.61 1552.22 L215.703 1552.22 L215.703 1548.29 Z\" fill=\"#000000\" fill-rule=\"nonzero\" fill-opacity=\"1\" /><path clip-path=\"url(#clip790)\" d=\"M255.055 1520.74 Q251.444 1520.74 249.615 1524.31 Q247.809 1527.85 247.809 1534.98 Q247.809 1542.09 249.615 1545.65 Q251.444 1549.19 255.055 1549.19 Q258.689 1549.19 260.495 1545.65 Q262.323 1542.09 262.323 1534.98 Q262.323 1527.85 260.495 1524.31 Q258.689 1520.74 255.055 1520.74 M255.055 1517.04 Q260.865 1517.04 263.92 1521.65 Q266.999 1526.23 266.999 1534.98 Q266.999 1543.71 263.92 1548.31 Q260.865 1552.9 255.055 1552.9 Q249.245 1552.9 246.166 1548.31 Q243.11 1543.71 243.11 1534.98 Q243.11 1526.23 246.166 1521.65 Q249.245 1517.04 255.055 1517.04 Z\" fill=\"#000000\" fill-rule=\"nonzero\" fill-opacity=\"1\" /><path clip-path=\"url(#clip790)\" d=\"M276.704 1499.24 Q273.77 1499.24 272.284 1502.13 Q270.817 1505.01 270.817 1510.8 Q270.817 1516.58 272.284 1519.47 Q273.77 1522.35 276.704 1522.35 Q279.657 1522.35 281.124 1519.47 Q282.61 1516.58 282.61 1510.8 Q282.61 1505.01 281.124 1502.13 Q279.657 1499.24 276.704 1499.24 M276.704 1496.23 Q281.425 1496.23 283.907 1499.97 Q286.409 1503.69 286.409 1510.8 Q286.409 1517.89 283.907 1521.64 Q281.425 1525.36 276.704 1525.36 Q271.983 1525.36 269.482 1521.64 Q266.999 1517.89 266.999 1510.8 Q266.999 1503.69 269.482 1499.97 Q271.983 1496.23 276.704 1496.23 Z\" fill=\"#000000\" fill-rule=\"nonzero\" fill-opacity=\"1\" /><path clip-path=\"url(#clip790)\" d=\"M1258.79 1548.29 L1266.43 1548.29 L1266.43 1521.92 L1258.12 1523.59 L1258.12 1519.33 L1266.38 1517.66 L1271.06 1517.66 L1271.06 1548.29 L1278.69 1548.29 L1278.69 1552.22 L1258.79 1552.22 L1258.79 1548.29 Z\" fill=\"#000000\" fill-rule=\"nonzero\" fill-opacity=\"1\" /><path clip-path=\"url(#clip790)\" d=\"M1298.14 1520.74 Q1294.53 1520.74 1292.7 1524.31 Q1290.89 1527.85 1290.89 1534.98 Q1290.89 1542.09 1292.7 1545.65 Q1294.53 1549.19 1298.14 1549.19 Q1301.77 1549.19 1303.58 1545.65 Q1305.41 1542.09 1305.41 1534.98 Q1305.41 1527.85 1303.58 1524.31 Q1301.77 1520.74 1298.14 1520.74 M1298.14 1517.04 Q1303.95 1517.04 1307 1521.65 Q1310.08 1526.23 1310.08 1534.98 Q1310.08 1543.71 1307 1548.31 Q1303.95 1552.9 1298.14 1552.9 Q1292.33 1552.9 1289.25 1548.31 Q1286.19 1543.71 1286.19 1534.98 Q1286.19 1526.23 1289.25 1521.65 Q1292.33 1517.04 1298.14 1517.04 Z\" fill=\"#000000\" fill-rule=\"nonzero\" fill-opacity=\"1\" /><path clip-path=\"url(#clip790)\" d=\"M1310.63 1521.62 L1316.84 1521.62 L1316.84 1500.19 L1310.08 1501.55 L1310.08 1498.09 L1316.8 1496.73 L1320.6 1496.73 L1320.6 1521.62 L1326.8 1521.62 L1326.8 1524.81 L1310.63 1524.81 L1310.63 1521.62 Z\" fill=\"#000000\" fill-rule=\"nonzero\" fill-opacity=\"1\" /><path clip-path=\"url(#clip790)\" d=\"M2299.97 1548.29 L2307.61 1548.29 L2307.61 1521.92 L2299.3 1523.59 L2299.3 1519.33 L2307.57 1517.66 L2312.24 1517.66 L2312.24 1548.29 L2319.88 1548.29 L2319.88 1552.22 L2299.97 1552.22 L2299.97 1548.29 Z\" fill=\"#000000\" fill-rule=\"nonzero\" fill-opacity=\"1\" /><path clip-path=\"url(#clip790)\" d=\"M2339.32 1520.74 Q2335.71 1520.74 2333.88 1524.31 Q2332.08 1527.85 2332.08 1534.98 Q2332.08 1542.09 2333.88 1545.65 Q2335.71 1549.19 2339.32 1549.19 Q2342.96 1549.19 2344.76 1545.65 Q2346.59 1542.09 2346.59 1534.98 Q2346.59 1527.85 2344.76 1524.31 Q2342.96 1520.74 2339.32 1520.74 M2339.32 1517.04 Q2345.13 1517.04 2348.19 1521.65 Q2351.27 1526.23 2351.27 1534.98 Q2351.27 1543.71 2348.19 1548.31 Q2345.13 1552.9 2339.32 1552.9 Q2333.51 1552.9 2330.44 1548.31 Q2327.38 1543.71 2327.38 1534.98 Q2327.38 1526.23 2330.44 1521.65 Q2333.51 1517.04 2339.32 1517.04 Z\" fill=\"#000000\" fill-rule=\"nonzero\" fill-opacity=\"1\" /><path clip-path=\"url(#clip790)\" d=\"M2355.84 1521.62 L2369.1 1521.62 L2369.1 1524.81 L2351.27 1524.81 L2351.27 1521.62 Q2353.43 1519.38 2357.16 1515.62 Q2360.9 1511.84 2361.86 1510.75 Q2363.68 1508.7 2364.4 1507.29 Q2365.13 1505.86 2365.13 1504.48 Q2365.13 1502.24 2363.55 1500.83 Q2361.99 1499.42 2359.47 1499.42 Q2357.68 1499.42 2355.69 1500.04 Q2353.71 1500.67 2351.46 1501.93 L2351.46 1498.09 Q2353.75 1497.17 2355.74 1496.7 Q2357.74 1496.23 2359.39 1496.23 Q2363.76 1496.23 2366.35 1498.41 Q2368.95 1500.59 2368.95 1504.24 Q2368.95 1505.97 2368.29 1507.53 Q2367.65 1509.07 2365.94 1511.18 Q2365.47 1511.72 2362.95 1514.34 Q2360.43 1516.93 2355.84 1521.62 Z\" fill=\"#000000\" fill-rule=\"nonzero\" fill-opacity=\"1\" /><polyline clip-path=\"url(#clip792)\" style=\"stroke:#000000; stroke-linecap:round; stroke-linejoin:round; stroke-width:2; stroke-opacity:0.1; fill:none\" points=\"189.496,1474.16 2352.76,1474.16 \"/>\n",
       "<polyline clip-path=\"url(#clip792)\" style=\"stroke:#000000; stroke-linecap:round; stroke-linejoin:round; stroke-width:2; stroke-opacity:0.1; fill:none\" points=\"189.496,1117.43 2352.76,1117.43 \"/>\n",
       "<polyline clip-path=\"url(#clip792)\" style=\"stroke:#000000; stroke-linecap:round; stroke-linejoin:round; stroke-width:2; stroke-opacity:0.1; fill:none\" points=\"189.496,760.704 2352.76,760.704 \"/>\n",
       "<polyline clip-path=\"url(#clip792)\" style=\"stroke:#000000; stroke-linecap:round; stroke-linejoin:round; stroke-width:2; stroke-opacity:0.1; fill:none\" points=\"189.496,403.974 2352.76,403.974 \"/>\n",
       "<polyline clip-path=\"url(#clip792)\" style=\"stroke:#000000; stroke-linecap:round; stroke-linejoin:round; stroke-width:2; stroke-opacity:0.1; fill:none\" points=\"189.496,47.2441 2352.76,47.2441 \"/>\n",
       "<polyline clip-path=\"url(#clip790)\" style=\"stroke:#000000; stroke-linecap:round; stroke-linejoin:round; stroke-width:4; stroke-opacity:1; fill:none\" points=\"189.496,1474.16 189.496,47.2441 \"/>\n",
       "<polyline clip-path=\"url(#clip790)\" style=\"stroke:#000000; stroke-linecap:round; stroke-linejoin:round; stroke-width:4; stroke-opacity:1; fill:none\" points=\"189.496,1474.16 208.394,1474.16 \"/>\n",
       "<polyline clip-path=\"url(#clip790)\" style=\"stroke:#000000; stroke-linecap:round; stroke-linejoin:round; stroke-width:4; stroke-opacity:1; fill:none\" points=\"189.496,1117.43 208.394,1117.43 \"/>\n",
       "<polyline clip-path=\"url(#clip790)\" style=\"stroke:#000000; stroke-linecap:round; stroke-linejoin:round; stroke-width:4; stroke-opacity:1; fill:none\" points=\"189.496,760.704 208.394,760.704 \"/>\n",
       "<polyline clip-path=\"url(#clip790)\" style=\"stroke:#000000; stroke-linecap:round; stroke-linejoin:round; stroke-width:4; stroke-opacity:1; fill:none\" points=\"189.496,403.974 208.394,403.974 \"/>\n",
       "<polyline clip-path=\"url(#clip790)\" style=\"stroke:#000000; stroke-linecap:round; stroke-linejoin:round; stroke-width:4; stroke-opacity:1; fill:none\" points=\"189.496,47.2441 208.394,47.2441 \"/>\n",
       "<path clip-path=\"url(#clip790)\" d=\"M51.6634 1493.96 L59.3023 1493.96 L59.3023 1467.59 L50.9921 1469.26 L50.9921 1465 L59.256 1463.33 L63.9319 1463.33 L63.9319 1493.96 L71.5707 1493.96 L71.5707 1497.89 L51.6634 1497.89 L51.6634 1493.96 Z\" fill=\"#000000\" fill-rule=\"nonzero\" fill-opacity=\"1\" /><path clip-path=\"url(#clip790)\" d=\"M91.0151 1466.41 Q87.404 1466.41 85.5753 1469.98 Q83.7697 1473.52 83.7697 1480.65 Q83.7697 1487.75 85.5753 1491.32 Q87.404 1494.86 91.0151 1494.86 Q94.6493 1494.86 96.4548 1491.32 Q98.2835 1487.75 98.2835 1480.65 Q98.2835 1473.52 96.4548 1469.98 Q94.6493 1466.41 91.0151 1466.41 M91.0151 1462.71 Q96.8252 1462.71 99.8808 1467.31 Q102.959 1471.9 102.959 1480.65 Q102.959 1489.37 99.8808 1493.98 Q96.8252 1498.56 91.0151 1498.56 Q85.2049 1498.56 82.1262 1493.98 Q79.0707 1489.37 79.0707 1480.65 Q79.0707 1471.9 82.1262 1467.31 Q85.2049 1462.71 91.0151 1462.71 Z\" fill=\"#000000\" fill-rule=\"nonzero\" fill-opacity=\"1\" /><path clip-path=\"url(#clip790)\" d=\"M102.959 1456.81 L127.071 1456.81 L127.071 1460.01 L102.959 1460.01 L102.959 1456.81 Z\" fill=\"#000000\" fill-rule=\"nonzero\" fill-opacity=\"1\" /><path clip-path=\"url(#clip790)\" d=\"M145.71 1445.71 L136.118 1460.7 L145.71 1460.7 L145.71 1445.71 M144.713 1442.4 L149.49 1442.4 L149.49 1460.7 L153.496 1460.7 L153.496 1463.86 L149.49 1463.86 L149.49 1470.48 L145.71 1470.48 L145.71 1463.86 L133.033 1463.86 L133.033 1460.19 L144.713 1442.4 Z\" fill=\"#000000\" fill-rule=\"nonzero\" fill-opacity=\"1\" /><path clip-path=\"url(#clip790)\" d=\"M52.585 1137.23 L60.2238 1137.23 L60.2238 1110.86 L51.9137 1112.53 L51.9137 1108.27 L60.1776 1106.6 L64.8535 1106.6 L64.8535 1137.23 L72.4923 1137.23 L72.4923 1141.16 L52.585 1141.16 L52.585 1137.23 Z\" fill=\"#000000\" fill-rule=\"nonzero\" fill-opacity=\"1\" /><path clip-path=\"url(#clip790)\" d=\"M91.9366 1109.68 Q88.3255 1109.68 86.4969 1113.25 Q84.6913 1116.79 84.6913 1123.92 Q84.6913 1131.02 86.4969 1134.59 Q88.3255 1138.13 91.9366 1138.13 Q95.5709 1138.13 97.3764 1134.59 Q99.2051 1131.02 99.2051 1123.92 Q99.2051 1116.79 97.3764 1113.25 Q95.5709 1109.68 91.9366 1109.68 M91.9366 1105.98 Q97.7468 1105.98 100.802 1110.58 Q103.881 1115.17 103.881 1123.92 Q103.881 1132.64 100.802 1137.25 Q97.7468 1141.83 91.9366 1141.83 Q86.1265 1141.83 83.0478 1137.25 Q79.9923 1132.64 79.9923 1123.92 Q79.9923 1115.17 83.0478 1110.58 Q86.1265 1105.98 91.9366 1105.98 Z\" fill=\"#000000\" fill-rule=\"nonzero\" fill-opacity=\"1\" /><path clip-path=\"url(#clip790)\" d=\"M103.881 1100.08 L127.993 1100.08 L127.993 1103.28 L103.881 1103.28 L103.881 1100.08 Z\" fill=\"#000000\" fill-rule=\"nonzero\" fill-opacity=\"1\" /><path clip-path=\"url(#clip790)\" d=\"M147.703 1098.61 Q150.43 1099.19 151.954 1101.04 Q153.496 1102.88 153.496 1105.59 Q153.496 1109.75 150.637 1112.02 Q147.778 1114.3 142.512 1114.3 Q140.744 1114.3 138.863 1113.94 Q137.002 1113.6 135.008 1112.91 L135.008 1109.24 Q136.588 1110.16 138.469 1110.63 Q140.349 1111.1 142.399 1111.1 Q145.973 1111.1 147.835 1109.69 Q149.716 1108.28 149.716 1105.59 Q149.716 1103.11 147.966 1101.71 Q146.236 1100.3 143.133 1100.3 L139.86 1100.3 L139.86 1097.18 L143.283 1097.18 Q146.086 1097.18 147.571 1096.07 Q149.057 1094.94 149.057 1092.84 Q149.057 1090.67 147.515 1089.53 Q145.992 1088.36 143.133 1088.36 Q141.572 1088.36 139.785 1088.7 Q137.998 1089.04 135.854 1089.75 L135.854 1086.37 Q138.017 1085.77 139.898 1085.46 Q141.797 1085.16 143.471 1085.16 Q147.797 1085.16 150.317 1087.14 Q152.838 1089.09 152.838 1092.44 Q152.838 1094.77 151.502 1096.39 Q150.167 1097.99 147.703 1098.61 Z\" fill=\"#000000\" fill-rule=\"nonzero\" fill-opacity=\"1\" /><path clip-path=\"url(#clip790)\" d=\"M53.3561 780.497 L60.995 780.497 L60.995 754.131 L52.6848 755.798 L52.6848 751.539 L60.9487 749.872 L65.6246 749.872 L65.6246 780.497 L73.2634 780.497 L73.2634 784.432 L53.3561 784.432 L53.3561 780.497 Z\" fill=\"#000000\" fill-rule=\"nonzero\" fill-opacity=\"1\" /><path clip-path=\"url(#clip790)\" d=\"M92.7078 752.951 Q89.0967 752.951 87.268 756.515 Q85.4624 760.057 85.4624 767.187 Q85.4624 774.293 87.268 777.858 Q89.0967 781.4 92.7078 781.4 Q96.342 781.4 98.1475 777.858 Q99.9762 774.293 99.9762 767.187 Q99.9762 760.057 98.1475 756.515 Q96.342 752.951 92.7078 752.951 M92.7078 749.247 Q98.5179 749.247 101.573 753.853 Q104.652 758.437 104.652 767.187 Q104.652 775.914 101.573 780.52 Q98.5179 785.103 92.7078 785.103 Q86.8976 785.103 83.8189 780.52 Q80.7634 775.914 80.7634 767.187 Q80.7634 758.437 83.8189 753.853 Q86.8976 749.247 92.7078 749.247 Z\" fill=\"#000000\" fill-rule=\"nonzero\" fill-opacity=\"1\" /><path clip-path=\"url(#clip790)\" d=\"M104.652 743.348 L128.764 743.348 L128.764 746.546 L104.652 746.546 L104.652 743.348 Z\" fill=\"#000000\" fill-rule=\"nonzero\" fill-opacity=\"1\" /><path clip-path=\"url(#clip790)\" d=\"M140.236 753.824 L153.496 753.824 L153.496 757.022 L135.666 757.022 L135.666 753.824 Q137.829 751.586 141.553 747.825 Q145.296 744.044 146.255 742.953 Q148.079 740.903 148.794 739.493 Q149.527 738.063 149.527 736.69 Q149.527 734.452 147.948 733.042 Q146.387 731.631 143.866 731.631 Q142.08 731.631 140.086 732.252 Q138.111 732.872 135.854 734.133 L135.854 730.296 Q138.149 729.374 140.142 728.904 Q142.136 728.434 143.791 728.434 Q148.155 728.434 150.75 730.615 Q153.345 732.797 153.345 736.446 Q153.345 738.176 152.687 739.737 Q152.048 741.279 150.336 743.386 Q149.866 743.931 147.346 746.546 Q144.826 749.141 140.236 753.824 Z\" fill=\"#000000\" fill-rule=\"nonzero\" fill-opacity=\"1\" /><path clip-path=\"url(#clip790)\" d=\"M53.0552 423.767 L60.694 423.767 L60.694 397.401 L52.3839 399.068 L52.3839 394.808 L60.6477 393.142 L65.3236 393.142 L65.3236 423.767 L72.9625 423.767 L72.9625 427.702 L53.0552 427.702 L53.0552 423.767 Z\" fill=\"#000000\" fill-rule=\"nonzero\" fill-opacity=\"1\" /><path clip-path=\"url(#clip790)\" d=\"M92.4068 396.221 Q88.7957 396.221 86.967 399.785 Q85.1615 403.327 85.1615 410.457 Q85.1615 417.563 86.967 421.128 Q88.7957 424.669 92.4068 424.669 Q96.0411 424.669 97.8466 421.128 Q99.6753 417.563 99.6753 410.457 Q99.6753 403.327 97.8466 399.785 Q96.0411 396.221 92.4068 396.221 M92.4068 392.517 Q98.217 392.517 101.273 397.123 Q104.351 401.707 104.351 410.457 Q104.351 419.183 101.273 423.79 Q98.217 428.373 92.4068 428.373 Q86.5967 428.373 83.518 423.79 Q80.4625 419.183 80.4625 410.457 Q80.4625 401.707 83.518 397.123 Q86.5967 392.517 92.4068 392.517 Z\" fill=\"#000000\" fill-rule=\"nonzero\" fill-opacity=\"1\" /><path clip-path=\"url(#clip790)\" d=\"M104.351 386.618 L128.463 386.618 L128.463 389.816 L104.351 389.816 L104.351 386.618 Z\" fill=\"#000000\" fill-rule=\"nonzero\" fill-opacity=\"1\" /><path clip-path=\"url(#clip790)\" d=\"M137.321 397.094 L143.528 397.094 L143.528 375.672 L136.776 377.026 L136.776 373.566 L143.49 372.211 L147.289 372.211 L147.289 397.094 L153.496 397.094 L153.496 400.291 L137.321 400.291 L137.321 397.094 Z\" fill=\"#000000\" fill-rule=\"nonzero\" fill-opacity=\"1\" /><path clip-path=\"url(#clip790)\" d=\"M82.7903 67.0365 L90.4291 67.0365 L90.4291 40.6709 L82.119 42.3376 L82.119 38.0784 L90.3828 36.4117 L95.0587 36.4117 L95.0587 67.0365 L102.698 67.0365 L102.698 70.9717 L82.7903 70.9717 L82.7903 67.0365 Z\" fill=\"#000000\" fill-rule=\"nonzero\" fill-opacity=\"1\" /><path clip-path=\"url(#clip790)\" d=\"M122.142 39.4904 Q118.531 39.4904 116.702 43.0552 Q114.897 46.5968 114.897 53.7264 Q114.897 60.8329 116.702 64.3977 Q118.531 67.9393 122.142 67.9393 Q125.776 67.9393 127.582 64.3977 Q129.41 60.8329 129.41 53.7264 Q129.41 46.5968 127.582 43.0552 Q125.776 39.4904 122.142 39.4904 M122.142 35.7867 Q127.952 35.7867 131.008 40.3932 Q134.086 44.9765 134.086 53.7264 Q134.086 62.4532 131.008 67.0597 Q127.952 71.643 122.142 71.643 Q116.332 71.643 113.253 67.0597 Q110.198 62.4532 110.198 53.7264 Q110.198 44.9765 113.253 40.3932 Q116.332 35.7867 122.142 35.7867 Z\" fill=\"#000000\" fill-rule=\"nonzero\" fill-opacity=\"1\" /><path clip-path=\"url(#clip790)\" d=\"M143.791 17.9827 Q140.857 17.9827 139.371 20.8791 Q137.904 23.7567 137.904 29.5495 Q137.904 35.3235 139.371 38.2199 Q140.857 41.0975 143.791 41.0975 Q146.744 41.0975 148.211 38.2199 Q149.697 35.3235 149.697 29.5495 Q149.697 23.7567 148.211 20.8791 Q146.744 17.9827 143.791 17.9827 M143.791 14.9735 Q148.512 14.9735 150.994 18.7162 Q153.496 22.4402 153.496 29.5495 Q153.496 36.64 150.994 40.3828 Q148.512 44.1067 143.791 44.1067 Q139.07 44.1067 136.569 40.3828 Q134.086 36.64 134.086 29.5495 Q134.086 22.4402 136.569 18.7162 Q139.07 14.9735 143.791 14.9735 Z\" fill=\"#000000\" fill-rule=\"nonzero\" fill-opacity=\"1\" /><polyline clip-path=\"url(#clip792)\" style=\"stroke:#000000; stroke-linecap:round; stroke-linejoin:round; stroke-width:8; stroke-opacity:1; fill:none\" points=\"250.72,66.178 1335.58,84.172 1628.13,101.075 1804.33,116.938 1930.82,131.54 2029.56,146.083 2110.57,159.145 2179.25,170.802 2238.86,182.278 2291.53,192.031 \"/>\n",
       "<path clip-path=\"url(#clip790)\" d=\"M1924.85 198.488 L2280.65 198.488 L2280.65 94.8081 L1924.85 94.8081  Z\" fill=\"#ffffff\" fill-rule=\"evenodd\" fill-opacity=\"1\"/>\n",
       "<polyline clip-path=\"url(#clip790)\" style=\"stroke:#000000; stroke-linecap:round; stroke-linejoin:round; stroke-width:4; stroke-opacity:1; fill:none\" points=\"1924.85,198.488 2280.65,198.488 2280.65,94.8081 1924.85,94.8081 1924.85,198.488 \"/>\n",
       "<polyline clip-path=\"url(#clip790)\" style=\"stroke:#000000; stroke-linecap:round; stroke-linejoin:round; stroke-width:8; stroke-opacity:1; fill:none\" points=\"1948.89,146.648 2093.11,146.648 \"/>\n",
       "<path clip-path=\"url(#clip790)\" d=\"M2117.14 129.368 L2146.38 129.368 L2146.38 133.303 L2134.11 133.303 L2134.11 163.928 L2129.41 163.928 L2129.41 133.303 L2117.14 133.303 L2117.14 129.368 Z\" fill=\"#000000\" fill-rule=\"nonzero\" fill-opacity=\"1\" /><path clip-path=\"url(#clip790)\" d=\"M2151.26 142.4 L2180.94 142.4 L2180.94 146.289 L2151.26 146.289 L2151.26 142.4 M2151.26 151.845 L2180.94 151.845 L2180.94 155.78 L2151.26 155.78 L2151.26 151.845 Z\" fill=\"#000000\" fill-rule=\"nonzero\" fill-opacity=\"1\" /><path clip-path=\"url(#clip790)\" d=\"M2201.03 132.447 Q2197.42 132.447 2195.59 136.012 Q2193.79 139.553 2193.79 146.683 Q2193.79 153.789 2195.59 157.354 Q2197.42 160.896 2201.03 160.896 Q2204.67 160.896 2206.47 157.354 Q2208.3 153.789 2208.3 146.683 Q2208.3 139.553 2206.47 136.012 Q2204.67 132.447 2201.03 132.447 M2201.03 128.743 Q2206.84 128.743 2209.9 133.35 Q2212.98 137.933 2212.98 146.683 Q2212.98 155.41 2209.9 160.016 Q2206.84 164.599 2201.03 164.599 Q2195.22 164.599 2192.14 160.016 Q2189.09 155.41 2189.09 146.683 Q2189.09 137.933 2192.14 133.35 Q2195.22 128.743 2201.03 128.743 Z\" fill=\"#000000\" fill-rule=\"nonzero\" fill-opacity=\"1\" /><path clip-path=\"url(#clip790)\" d=\"M2221.19 158.049 L2226.08 158.049 L2226.08 163.928 L2221.19 163.928 L2221.19 158.049 Z\" fill=\"#000000\" fill-rule=\"nonzero\" fill-opacity=\"1\" /><path clip-path=\"url(#clip790)\" d=\"M2240.29 159.993 L2256.61 159.993 L2256.61 163.928 L2234.67 163.928 L2234.67 159.993 Q2237.33 157.238 2241.91 152.609 Q2246.52 147.956 2247.7 146.613 Q2249.94 144.09 2250.82 142.354 Q2251.73 140.595 2251.73 138.905 Q2251.73 136.15 2249.78 134.414 Q2247.86 132.678 2244.76 132.678 Q2242.56 132.678 2240.11 133.442 Q2237.68 134.206 2234.9 135.757 L2234.9 131.035 Q2237.72 129.901 2240.18 129.322 Q2242.63 128.743 2244.67 128.743 Q2250.04 128.743 2253.23 131.428 Q2256.43 134.113 2256.43 138.604 Q2256.43 140.734 2255.62 142.655 Q2254.83 144.553 2252.72 147.146 Q2252.14 147.817 2249.04 151.035 Q2245.94 154.229 2240.29 159.993 Z\" fill=\"#000000\" fill-rule=\"nonzero\" fill-opacity=\"1\" /></svg>\n"
      ]
     },
     "execution_count": 15,
     "metadata": {},
     "output_type": "execute_result"
    }
   ],
   "source": [
    "xbins = collect(1:10:100)\n",
    "# plot(xbins,mean(overlap_all1, dims = 2), xticks = 10.0 .^collect(0:10), xaxis = :log, label = \"T=0.1\", linewidth = 2, color = :green, xlabel = \"Steps\", ylabel = \"Overlap\", \n",
    "# xtickfontsize=12,ytickfontsize=12,xlabelfontsize=14,ylabelfontsize=14, size = (700,300))\n",
    "# plot!(xbins,mean(overlap_all04, dims = 2), xticks = 10.0 .^collect(0:10), xaxis = :log, label = \"T=0.04\", linewidth = 2, color = :red)\n",
    "# plot!(xbins,mean(overlap_all02, dims = 2), xticks = 10.0 .^collect(0:10), xaxis = :log, label = \"T=0.02\", linewidth = 2, color = :black)\n",
    "# plot!(xbins,mean(overlap_all01, dims = 2), xticks = 10.0 .^collect(0:10), xaxis = :log, label = \"T=0.01\", linewidth = 2, color = :blue)\n",
    "# ylims!(0,1)\n",
    "#plot(xbins,abs.(mean(overlap_all10, dims = 2)), xticks = 10.0 .^collect(0:10), yaxis = :log, xaxis = :log, label = \"T=1.0\", linewidth = 2, color = :green, xlabel = \"Steps\", ylabel = \"Overlap\", \n",
    "#xtickfontsize=12,ytickfontsize=12,xlabelfontsize=14,ylabelfontsize=14, size = (700,300))\n",
    "#plot!(xbins,mean(overlap_all4, dims = 2), xticks = 10.0 .^collect(0:10), yaxis = :log, xaxis = :log, label = \"T=0.4\", linewidth = 2, color = :red)\n",
    "plot(xbins,mean(overlap_all2, dims = 2), xticks = 10.0 .^collect(0:10), yaxis = :log, xaxis = :log, label = \"T=0.2\", linewidth = 2, color = :black)\n",
    "# plot!(xbins,mean(overlap_all01, dims = 2), xticks = 10.0 .^collect(0:10), yaxis = :log, xaxis = :log, label = \"T=0.01\", linewidth = 2, color = :blue)\n",
    "ylims!(0.0001,1)"
   ]
  },
  {
   "cell_type": "code",
   "execution_count": null,
   "id": "c3c93256",
   "metadata": {},
   "outputs": [],
   "source": [
    "Nsamples = 500\n",
    "Nsteps = 10000000\n",
    "eq_seq = Multiple_MCMC_Metropolis(Nsamples,Nsteps,S,L,h,J,0.55)"
   ]
  },
  {
   "cell_type": "markdown",
   "id": "eaa3b3e5",
   "metadata": {},
   "source": [
    "### dAT line code "
   ]
  },
  {
   "cell_type": "code",
   "execution_count": 223,
   "id": "caa626ab-68a2-413b-b082-e3e290541f91",
   "metadata": {},
   "outputs": [
    {
     "data": {
      "text/plain": [
       "initialize_pars (generic function with 1 method)"
      ]
     },
     "execution_count": 223,
     "metadata": {},
     "output_type": "execute_result"
    }
   ],
   "source": [
    "function initialize_pars(L::Int, Connectivity::Int, R::Float64)\n",
    "    p = Connectivity/(L-1)\n",
    "\n",
    "    ### Initialize seed RNG\n",
    "    RNGseed = 10\n",
    "    Random.seed!(RNGseed)\n",
    "    \n",
    "    h=zeros(L)\n",
    "    \n",
    "    J = zeros(Float64,L,L)\n",
    "    for i = 1:L\n",
    "        for j = i+1:L\n",
    "            if rand() < p\n",
    "                Jvalue = 1.0 ## Fixed ferromagnetic couplings\n",
    "                J[i,j] = Jvalue\n",
    "                J[j,i] = Jvalue\n",
    "            end\n",
    "        end\n",
    "    end\n",
    "\n",
    "    return h,J\n",
    "end\n",
    "\n",
    "    \n",
    "    \n",
    "    "
   ]
  },
  {
   "cell_type": "code",
   "execution_count": 276,
   "id": "b8b05115-e61f-4547-95ac-615f299c5f38",
   "metadata": {},
   "outputs": [
    {
     "name": "stdout",
     "output_type": "stream",
     "text": [
      "  0.101538 seconds (1.88 M allocations: 59.819 MiB)\n"
     ]
    },
    {
     "data": {
      "text/plain": [
       "([0.0 0.0 … 0.0 0.0; 0.0 0.0 … 0.0 0.0; … ; 0.0 0.0 … 0.0 0.0; 0.0 0.0 … 0.0 0.0], [0.0 0.0 … 0.0 0.0; 0.0 0.0 … 0.0 0.0; … ; 0.0 0.0 … 0.0 0.0; 0.0 0.0 … 0.0 0.0], [46.35375727704111, 60.53188984968505, 57.49810191736831, 50.80205954304741, 18.049529714837842, 0.0, 0.0, 0.0, 0.0, 0.0  …  0.0, 0.0, 0.0, 0.0, 0.0, 0.0, 0.0, 0.0, 0.0, 0.0], [3.6501999849527538, 69.32419942844868, 1316.7939837153117, 25010.71858759253, 475037.9386087381, 9.022615092636045e6, 1.7137041094370946e8, 3.254912326929608e9, 6.182195788576879e10, 1.1742111911732117e12  …  1.3626498588737681e26, 2.588139825609491e27, 4.915765934502217e28, 9.336726896941053e29, 1.773364930502738e31, 3.368228728814274e32, 6.39742253524411e33, 1.2150901375648802e35, 2.307873263448749e36, 4.383443528572941e37], [25.99999989282001, 513.9999957622682, 9679.999880288195, 184022.9969656026, 3.495545927951427e6, 6.6388401357959636e7, 1.2609434576140249e9, 2.39494453461842e10, 4.548825692985082e11, 8.639784429053528e12  …  1.0026305972979516e27, 1.904339667554938e28, 3.616994712904791e29, 6.869914530519948e30, 1.3048325862424732e32, 2.4783249785079366e33, 4.707189844778291e34, 8.940569306662835e35, 1.6981210055913188e37, 3.225314687154761e38])"
      ]
     },
     "execution_count": 276,
     "metadata": {},
     "output_type": "execute_result"
    }
   ],
   "source": [
    "### Model parameters\n",
    "L = 100 \n",
    "Connectivity = 20  ## Average connectivity of the model\n",
    "R = 0.2\n",
    "h,J = initialize_pars(L, Connectivity, R)\n",
    "@time U, Δ, ev_u, avPert, maxPert = dATlineSearch(0.1,h,J)"
   ]
  },
  {
   "cell_type": "code",
   "execution_count": 274,
   "id": "1ca285fc-1b90-4506-a3ba-b317797c3c8a",
   "metadata": {},
   "outputs": [
    {
     "data": {
      "image/png": "[encoded data removed]",
      "text/plain": [
       "Figure(PyObject <Figure size 640x480 with 1 Axes>)"
      ]
     },
     "metadata": {},
     "output_type": "display_data"
    },
    {
     "data": {
      "text/plain": [
       "PyObject <matplotlib.collections.PathCollection object at 0x7ff3106e61f0>"
      ]
     },
     "execution_count": 274,
     "metadata": {},
     "output_type": "execute_result"
    }
   ],
   "source": [
    "L = 100\n",
    "R = 0.2\n",
    "C = 4 #Graph Connectivity\n",
    "J_scales = [1e-1*i for i in 1:20]\n",
    "T_theor = [J/atanh(1/(C-1)) for J in J_scales] #Critical temperature\n",
    "plt.scatter(J_scales, T_theor, s = 100)"
   ]
  },
  {
   "cell_type": "code",
   "execution_count": null,
   "id": "896c14e4-a12b-4641-80b8-54c288d2600a",
   "metadata": {},
   "outputs": [],
   "source": [
    "L = 800\n",
    "R = 0.2\n",
    "C = 3 #Graph Connectivity\n",
    "J_scales = [1e-1*i for i in 1:20] #coupling scale\n",
    "T_theor = [J/atanh(1/(C-1)) for J in J_scales] #Critical temperature\n",
    "\n",
    "\n",
    "x = []; y = []; z = [];\n",
    "\n",
    "start = time()\n",
    "for i in 1:length(J_scales) \n",
    "    Ts = [1e-1*n for n in 1:40]\n",
    "    for T in Ts\n",
    "        h,J = initialize_pars(L, C, R)\n",
    "        J .*= J_scales[i]\n",
    "        U, Δ, ev_u, avPert, maxPert = dATlineSearch(T,h,J)\n",
    "        push!(x, J_scales[i])\n",
    "        push!(y,T)\n",
    "        push!(z, avPert[end])\n",
    "    end\n",
    "end\n",
    "fine = time()\n",
    "println(fine-start)"
   ]
  },
  {
   "cell_type": "code",
   "execution_count": null,
   "id": "e723b7c3-0d21-4a11-9445-76b02bc59e71",
   "metadata": {},
   "outputs": [],
   "source": [
    "\n",
    "tresh = 10000\n",
    "plt.scatter(x, y, c=log.(z), s = 50, cmap=\"viridis\")\n",
    "#plt.scatter(x[z.>tresh], y[z.>tresh], color = \"blue\", s = 5)\n",
    "#plt.scatter(x[z.<tresh], y[z.<tresh], color = \"red\", s = 5)\n",
    "plt.plot(J_scales, T_theor, label = \"Theory\")\n",
    "plt.colorbar(label = \"Average Perturbation (log scale)\")  # Aggiunge una barra dei colori\n",
    "plt.ylabel(\"T\")\n",
    "plt.xlabel(\"J\")\n",
    "plt.legend()\n",
    "savefig(\"../phase_transition.png\")"
   ]
  },
  {
   "cell_type": "code",
   "execution_count": null,
   "id": "3e17097f-609e-4197-aebb-e92ae7525be0",
   "metadata": {},
   "outputs": [],
   "source": [
    "# Creiamo lo scatter plot\n",
    "tresh = 100\n",
    "plt.scatter(x[z.>tresh], y[z.>tresh], color = \"blue\", s = 5)\n",
    "plt.scatter(x[z.<tresh], y[z.<tresh], color = \"red\", s = 5)\n",
    "plt.plot(J_scales, T_theor, label = \"Theory\")\n",
    "plt.ylabel(\"T\")\n",
    "plt.xlabel(\"J\")\n",
    "plt.legend()\n",
    "#savefig(\"../phase_transition.png\")"
   ]
  },
  {
   "cell_type": "code",
   "execution_count": null,
   "id": "cc48d5fa-34e5-42bc-a95c-512ecbbec1ef",
   "metadata": {},
   "outputs": [],
   "source": []
  }
 ],
 "metadata": {
  "kernelspec": {
   "display_name": "Julia 1.10.0",
   "language": "julia",
   "name": "julia-1.10"
  },
  "language_info": {
   "file_extension": ".jl",
   "mimetype": "application/julia",
   "name": "julia",
   "version": "1.10.0"
  }
 },
 "nbformat": 4,
 "nbformat_minor": 5
}
