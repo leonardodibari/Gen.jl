{
 "cells": [
  {
   "cell_type": "code",
   "execution_count": 132,
   "id": "c33d514e-9c73-4a5a-a2a1-a53f35bd69de",
   "metadata": {},
   "outputs": [
    {
     "data": {
      "text/plain": [
       "simmetrize_J (generic function with 1 method)"
      ]
     },
     "execution_count": 132,
     "metadata": {},
     "output_type": "execute_result"
    }
   ],
   "source": [
    "using KitMSA, Tullio, BenchmarkTools\n",
    "include(\"../src/read_write.jl\")"
   ]
  },
  {
   "cell_type": "code",
   "execution_count": 133,
   "id": "8e0285b7-1aba-48fd-8e62-3cb9f141bf3e",
   "metadata": {},
   "outputs": [
    {
     "data": {
      "text/plain": [
       "tullioen (generic function with 3 methods)"
      ]
     },
     "execution_count": 133,
     "metadata": {},
     "output_type": "execute_result"
    }
   ],
   "source": [
    "function tullioen(h::Matrix{Float64}, J::Array{Float64, 4}, a::Vector{<:Integer})\n",
    "    @tullio en := J[i, a[i], j, a[j]]*(j>i)\n",
    "    @tullio enh := h[a[i], i]\n",
    "    return -en-enh\n",
    "end"
   ]
  },
  {
   "cell_type": "code",
   "execution_count": 143,
   "id": "1cbb1543-79e4-4c71-a3d7-21d0c94e5891",
   "metadata": {},
   "outputs": [],
   "source": [
    "L = 76\n",
    "seq = rand(1:21,L);\n",
    "aa = rand(21,21,L,L)\n",
    "Jb = 0.5 .* (aa .+ permutedims(aa, [2,1,4,3]))\n",
    "Jbp = permutedims(Jb, [3,1,4,2]);\n",
    "hb = rand(21, L)\n"
   ]
  },
  {
   "cell_type": "code",
   "execution_count": 144,
   "id": "3743e34c-6cf8-456a-9c65-4b7783469b2f",
   "metadata": {},
   "outputs": [
    {
     "name": "stdout",
     "output_type": "stream",
     "text": [
      "  9.382 μs (1 allocation: 16 bytes)\n"
     ]
    },
    {
     "data": {
      "text/plain": [
       "-1473.691440860509"
      ]
     },
     "execution_count": 144,
     "metadata": {},
     "output_type": "execute_result"
    }
   ],
   "source": [
    "@btime energy(hb,Jb,seq)"
   ]
  },
  {
   "cell_type": "code",
   "execution_count": 145,
   "id": "8ce3a0f1-f499-4a69-8549-29dde585fe02",
   "metadata": {},
   "outputs": [
    {
     "name": "stdout",
     "output_type": "stream",
     "text": [
      "  4.732 μs (3 allocations: 48 bytes)\n"
     ]
    },
    {
     "data": {
      "text/plain": [
       "-1473.6914408605096"
      ]
     },
     "execution_count": 145,
     "metadata": {},
     "output_type": "execute_result"
    }
   ],
   "source": [
    "@btime tullioen(hb,Jbp,seq)"
   ]
  },
  {
   "cell_type": "code",
   "execution_count": 259,
   "id": "4b55ae53-6dcc-46de-8c97-d0050a55de56",
   "metadata": {},
   "outputs": [
    {
     "data": {
      "text/plain": [
       "TullioDelta_energy (generic function with 1 method)"
      ]
     },
     "execution_count": 259,
     "metadata": {},
     "output_type": "execute_result"
    }
   ],
   "source": [
    "function Delta_energy(h::Array{Float64,2}, J::Array{Float64,4}, \n",
    "        S::Array{<:Integer,1}, ref::Array{<:Integer, 1})\n",
    "    q, N = size(h)\n",
    "    E = 0.0\n",
    "    \n",
    "    index_v = collect(1:N)\n",
    "    common = (S .== ref)\n",
    "    idx = findfirst(isequal(false), common)\n",
    "    common = index_v[common]\n",
    "    \n",
    "    E -= (h[S[idx],idx] - h[ref[idx],idx])\n",
    "    @fastmath for j = 1:N\n",
    "        if j > idx\n",
    "            @inbounds  E -= (J[S[j],S[idx],j,idx] - J[ref[j],ref[idx],j,idx] )\n",
    "        end\n",
    "    end\n",
    "\n",
    "    @fastmath for i in common\n",
    "        if idx > i\n",
    "            @inbounds  E -= (J[S[idx],S[i],idx,i] - J[ref[idx],ref[i],idx,i] )\n",
    "        end\n",
    "    end\n",
    "    \n",
    "    return E\n",
    "end\n",
    "\n",
    "function TullioDelta_energy(h::Array{Float64,2}, J::Array{Float64,4}, \n",
    "        S::Array{<:Integer,1}, ref::Array{<:Integer, 1})\n",
    "    q, N = size(h)\n",
    "    E = 0.0\n",
    "    \n",
    "    index_v = collect(1:N)\n",
    "    common = (S .== ref)\n",
    "    idx = findfirst(isequal(false), common)\n",
    "    common = index_v[common]\n",
    "    \n",
    "    E -= (h[S[idx],idx] - h[ref[idx],idx]) \n",
    "    @tullio E1 := (J[j, S[j], idx, S[idx]] - J[j, ref[j], idx, ref[idx]]) * (j > idx)\n",
    "    \n",
    "    return E-E1\n",
    "end"
   ]
  },
  {
   "cell_type": "code",
   "execution_count": 271,
   "id": "6c8eac42-4102-405b-a85c-9af8a66a8e89",
   "metadata": {},
   "outputs": [
    {
     "name": "stdout",
     "output_type": "stream",
     "text": [
      "  440.980 ns (5 allocations: 1.03 KiB)\n",
      "  3.815 μs (6 allocations: 1.05 KiB)\n"
     ]
    },
    {
     "data": {
      "text/plain": [
       "-2.0693994513910816"
      ]
     },
     "execution_count": 271,
     "metadata": {},
     "output_type": "execute_result"
    }
   ],
   "source": [
    "L = 50\n",
    "aa = rand(21,21,L,L);\n",
    "Jb = 0.5 .* (aa .+ permutedims(aa, [2,1,4,3]));\n",
    "Jbp = permutedims(Jb, [3,1,4,2]);\n",
    "hb = rand(21, L);\n",
    "seq1 = rand(1:21,L);\n",
    "seq2 = deepcopy(seq1);\n",
    "seq1[50] = 10;\n",
    "#@btime energy(hb, Jb, seq1) - energy(hb, Jb, seq2)\n",
    "@btime Delta_energy(hb, Jb, seq1, seq2)\n",
    "@btime TullioDelta_energy(hb, Jbp, seq1, seq2)\n"
   ]
  },
  {
   "cell_type": "code",
   "execution_count": 267,
   "id": "1c555aa1-137c-4355-b627-4b7012e389fa",
   "metadata": {},
   "outputs": [
    {
     "name": "stdout",
     "output_type": "stream",
     "text": [
      "  441.717 ns (5 allocations: 1.03 KiB)\n"
     ]
    },
    {
     "data": {
      "text/plain": [
       "0.18167003370398893"
      ]
     },
     "execution_count": 267,
     "metadata": {},
     "output_type": "execute_result"
    }
   ],
   "source": [
    "@btime Delta_energy(hb, Jb, seq1, seq2)"
   ]
  },
  {
   "cell_type": "code",
   "execution_count": 268,
   "id": "909c9ba0-00f3-4485-90b6-eb1e0ebaf90d",
   "metadata": {},
   "outputs": [
    {
     "name": "stdout",
     "output_type": "stream",
     "text": [
      "  3.825 μs (6 allocations: 1.05 KiB)\n"
     ]
    },
    {
     "data": {
      "text/plain": [
       "0.18167003370398932"
      ]
     },
     "execution_count": 268,
     "metadata": {},
     "output_type": "execute_result"
    }
   ],
   "source": [
    "@btime TullioDelta_energy(hb, Jbp, seq1, seq2)"
   ]
  },
  {
   "cell_type": "code",
   "execution_count": 280,
   "id": "6509e4cc-5dd2-480a-a7fc-5951615fce3e",
   "metadata": {},
   "outputs": [],
   "source": []
  },
  {
   "cell_type": "code",
   "execution_count": 291,
   "id": "4f1bbcfa-f1bf-4751-ac45-4d4e078eeac4",
   "metadata": {},
   "outputs": [
    {
     "data": {
      "text/plain": [
       "sum_couplings_inbounds (generic function with 1 method)"
      ]
     },
     "execution_count": 291,
     "metadata": {},
     "output_type": "execute_result"
    }
   ],
   "source": [
    "function sum_couplings_inbounds(mutated_seq, q_k, k, J::Array{Float64,4}, N)\n",
    "    result = 0\n",
    "    @inbounds for i in 1:N\n",
    "        result += J[mutated_seq[i], q_k ,i, k]\n",
    "    end\n",
    "    return result\n",
    "end \n"
   ]
  },
  {
   "cell_type": "code",
   "execution_count": 323,
   "id": "bae63313-6fcd-4a4c-99eb-fbe32fa83175",
   "metadata": {},
   "outputs": [
    {
     "name": "stdout",
     "output_type": "stream",
     "text": [
      "  721.358 ns (4 allocations: 112 bytes)\n"
     ]
    },
    {
     "data": {
      "text/plain": [
       "0-dimensional Array{Float64, 0}:\n",
       "24.501930351718613"
      ]
     },
     "execution_count": 323,
     "metadata": {},
     "output_type": "execute_result"
    }
   ],
   "source": [
    "L = 50\n",
    "aa = rand(21,21,L,L);\n",
    "Jb = 0.5 .* (aa .+ permutedims(aa, [2,1,4,3]));\n",
    "Jbp = permutedims(Jb, [3,1,4,2]);\n",
    "hb = rand(21, L);\n",
    "seq  = rand(1:21,L);\n",
    "qk = 1\n",
    "k = 35\n",
    "@btime [sum_couplings_inbounds(seq, q, k, Jb, L) for q in qk]"
   ]
  },
  {
   "cell_type": "code",
   "execution_count": 325,
   "id": "9b84e93f-28cf-45e6-96d4-0668bee2c1c7",
   "metadata": {},
   "outputs": [
    {
     "name": "stdout",
     "output_type": "stream",
     "text": [
      "  129.481 μs (3 allocations: 544 bytes)\n"
     ]
    },
    {
     "data": {
      "text/plain": [
       "50-element Vector{Float64}:\n",
       " 531.0734804952198\n",
       " 528.441559389181\n",
       " 529.0662264772487\n",
       " 535.6410430245211\n",
       " 517.988035598971\n",
       " 519.8781653850507\n",
       " 532.2026371478094\n",
       " 523.780108506767\n",
       " 518.6624125336991\n",
       " 512.0118685712073\n",
       " 520.0296745416114\n",
       " 521.7902090684373\n",
       " 533.49022406788\n",
       "   ⋮\n",
       " 525.5483386867445\n",
       " 521.756515317331\n",
       " 532.293665895287\n",
       " 530.3215680567012\n",
       " 533.3622512032358\n",
       " 529.6244266936934\n",
       " 532.9572240215565\n",
       " 521.3357907539263\n",
       " 526.2782766168751\n",
       " 523.2262867387105\n",
       " 534.8850232827912\n",
       " 523.5311813385417"
      ]
     },
     "execution_count": 325,
     "metadata": {},
     "output_type": "execute_result"
    }
   ],
   "source": [
    "#Jbp = permutedims(Jb, [1,4,2]);\n",
    "@btime @tullio res[i] := Jb[seq[i], qk, i, k]"
   ]
  },
  {
   "cell_type": "code",
   "execution_count": null,
   "id": "d68ad156-8b78-4076-bfcb-64790916f2af",
   "metadata": {},
   "outputs": [],
   "source": []
  }
 ],
 "metadata": {
  "kernelspec": {
   "display_name": "Julia 1.10.0",
   "language": "julia",
   "name": "julia-1.10"
  },
  "language_info": {
   "file_extension": ".jl",
   "mimetype": "application/julia",
   "name": "julia",
   "version": "1.10.0"
  }
 },
 "nbformat": 4,
 "nbformat_minor": 5
}
