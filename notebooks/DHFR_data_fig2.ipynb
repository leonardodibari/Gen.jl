{
 "cells": [
  {
   "cell_type": "code",
   "execution_count": 1,
   "id": "0845a38b-060f-404a-a7c3-b8f64d531402",
   "metadata": {},
   "outputs": [],
   "source": [
    "## Include packages\n",
    "\n",
    "using DelimitedFiles\n",
    "using DCAUtils\n",
    "using PyPlot\n",
    "using Statistics\n",
    "using KitMSA\n",
    "using FastaIO\n",
    "using LinearAlgebra\n",
    "using StatsBase\n",
    "\n",
    "include(\"../src/read_write.jl\")\n",
    "include(\"../src/energy.jl\")\n",
    "include(\"../src/msa_tools.jl\")\n",
    "include(\"../src/extra_tools.jl\")\n",
    "include(\"../src/mutability.jl\")\n",
    ";"
   ]
  },
  {
   "cell_type": "code",
   "execution_count": 1,
   "id": "b0eddfdd-c47b-4e8b-838a-453bb5821a1b",
   "metadata": {},
   "outputs": [
    {
     "data": {
      "text/plain": [
       "read_par_BM_save (generic function with 2 methods)"
      ]
     },
     "execution_count": 1,
     "metadata": {},
     "output_type": "execute_result"
    }
   ],
   "source": [
    "function write_cde_of_chains(folder, out_path, mask, h, J, n)\n",
    "    fasta_files = filter(file -> endswith(file, \".mixedDNA\"), readdir(folder))\n",
    "    res = []\n",
    "    for i in 1:n\n",
    "        chain = Int8.(fasta2matrix(joinpath(folder_path, fasta_files[i])))[mask,:]\n",
    "        cde_msa = hcat([cont_dep_entr_without_deg(chain[step,:], h, J) \n",
    "                for step in 1:length(chain[:,1])]...)'\n",
    "        push!(res, vec(cde_msa))\n",
    "        if i %10 == 0\n",
    "            println(i)\n",
    "        end\n",
    "    end\n",
    "    writedlm(out_path, hcat(res...))\n",
    "    #return hcat(res...)\n",
    "end\n",
    "\n",
    "\n",
    "function read_par_BM_standardorder(path::AbstractString, q::Integer = 21)\n",
    "    params = readdlm(path,' ', use_mmap = true)[:, 2:6]\n",
    "    l_file = size(params, 1)\n",
    "    N = Integer(((q - 2) + sqrt( (q-2)^2 + 8*l_file))/(2*q))\n",
    "    J = Array{Float64}(undef, q, q, N, N)\n",
    "    h = Array{Float64}(undef, q, N)\n",
    "    n_J = Int(q*q*N*(N-1)/2)\n",
    "    n_h = q*N\n",
    "    for k in 1:n_J\n",
    "        i, j, a, b, par_j = params[k, :]\n",
    "        i += 1\n",
    "        j += 1\n",
    "        a += 1\n",
    "        b += 1\n",
    "        J[a, b, i, j] = par_j\n",
    "    end\n",
    "    for l in (n_J + 1): n_h + n_J\n",
    "        i, a, par_h = params[l, :]\n",
    "        i += 1\n",
    "        a += 1\n",
    "        h[a, i] = par_h\n",
    "    end\n",
    "    return h, J\n",
    "end\n",
    "\n",
    "function read_par_BM_save(path::AbstractString, q::Integer = 21)    \n",
    "    params = readdlm(path,' ', use_mmap = true)[:, 2:6]\n",
    "    l_file = size(params, 1) \n",
    "    N = Integer(((q - 2) + sqrt( (q-2)^2 + 8*l_file))/(2*q))\n",
    "    J = Array{Float64}(undef, q, q, N, N)\n",
    "    h = Array{Float64}(undef, q, N)\n",
    "    n_J = Int(q*q*N*(N-1)/2)\n",
    "    n_h = q*N\n",
    "\n",
    "    for k in 1:n_J\n",
    "        i, j, a, b, par_j = params[k, :]\n",
    "        i += 1\n",
    "        j += 1\n",
    "        a == 0 && (a = 21)\n",
    "        b == 0 && (b = 21)\n",
    "        J[a, b, i, j] = par_j\n",
    "    end\n",
    "\n",
    "    for l in (n_J + 1): n_h + n_J\n",
    "        i, a, par_h = params[l, :]\n",
    "        i += 1\n",
    "        a == 0 && (a = 21)\n",
    "        h[a, i] = par_h\n",
    "    end\n",
    "\n",
    "    return h, J\n",
    "end"
   ]
  },
  {
   "cell_type": "code",
   "execution_count": 3,
   "id": "c923ecba-447c-4459-bae0-d4e643d7b7b5",
   "metadata": {},
   "outputs": [],
   "source": [
    "using DelimitedFiles\n",
    "\n",
    "PATH_PAR = \"../../DHFR_pars/Parameters_conv_DHFR.dat\"\n",
    "h_new, J_new = read_par_BM_save(PATH_PAR, 21);"
   ]
  },
  {
   "cell_type": "code",
   "execution_count": 5,
   "id": "e140051c-1dbf-4dab-9015-0f48382461cc",
   "metadata": {},
   "outputs": [
    {
     "name": "stdout",
     "output_type": "stream",
     "text": [
      "21109.06876327675\n",
      "2267.4241388247688\n"
     ]
    }
   ],
   "source": [
    "println(sum(abs2, h_new))\n",
    "println(sum(abs2, J_new))"
   ]
  },
  {
   "cell_type": "code",
   "execution_count": 11,
   "id": "d3a88392-0325-4510-a262-cbd7f3c3a083",
   "metadata": {},
   "outputs": [
    {
     "data": {
      "text/plain": [
       "(21, 21, 160, 160)"
      ]
     },
     "execution_count": 11,
     "metadata": {},
     "output_type": "execute_result"
    }
   ],
   "source": [
    "size(J_new)"
   ]
  },
  {
   "cell_type": "code",
   "execution_count": 10,
   "id": "fb7d86dd-4291-473b-8510-4cf87f0aaaee",
   "metadata": {},
   "outputs": [
    {
     "data": {
      "text/plain": [
       "4073.1049090129636"
      ]
     },
     "execution_count": 10,
     "metadata": {},
     "output_type": "execute_result"
    }
   ],
   "source": [
    "sum(abs2, J_new .- permutedims(J_new, [2,1,3,4]))"
   ]
  },
  {
   "cell_type": "code",
   "execution_count": 3,
   "id": "e657db90-a65e-42cf-b86d-0657d120fa11",
   "metadata": {},
   "outputs": [],
   "source": [
    "path_nat = \"../../DHFR_pars/PF00186_nogapped.fasta\"\n",
    "#path_nat = \"../../Serine_Prot/yaakov_short.faa\"\n",
    "nat_MSA = Int8.(fasta2matrix(path_nat))\n",
    ";"
   ]
  },
  {
   "cell_type": "code",
   "execution_count": 4,
   "id": "4ca303fa-f598-42ec-94c8-e596bddd4392",
   "metadata": {
    "tags": []
   },
   "outputs": [
    {
     "name": "stdout",
     "output_type": "stream",
     "text": [
      "(-1.212281, 1.744293)\n",
      "(-12.176782, 0.0)\n"
     ]
    }
   ],
   "source": [
    "PATH_PAR = \"../../DHFR_pars/Parameters_conv_DHFR.dat\"\n",
    "#PATH_PAR = \"../../Serine_Prot/2024.5.7.12.23-yaakov_short-bmDCA_params_0.980.dat\"\n",
    "htmp, Jtmp = read_par_BM_standardorder(PATH_PAR)\n",
    "h = KitMSA.set_max_field_to_0(htmp)\n",
    "J = KitMSA.symmetrize_J(Jtmp)\n",
    "println(extrema(J))\n",
    "println(extrema(h))\n",
    ";"
   ]
  },
  {
   "cell_type": "code",
   "execution_count": 5,
   "id": "be9d2866-b496-48ec-bbd3-b31f710284df",
   "metadata": {
    "tags": []
   },
   "outputs": [
    {
     "name": "stdout",
     "output_type": "stream",
     "text": [
      " 10.322120 seconds (182.73 k allocations: 31.134 MiB, 0.47% compilation time)\n"
     ]
    }
   ],
   "source": [
    "folder_path = \"../../scra_data_beta/sparse_amino_mixed_hdfr1_steps400000_seqs500_T1.0p0.5\"\n",
    "#folder_path = \"../../scra_data_beta/amino_mixed_serine_steps450000_seqs100_T1.0p0.5\"\n",
    "fasta_files = filter(file -> endswith(file, \".mixedDNA\"), readdir(folder_path))\n",
    "@time matrices = [Int8.(fasta2matrix(joinpath(folder_path, file))) \n",
    "    for file in fasta_files]\n",
    "step_matrices = build_seq_matrices(matrices)\n",
    ";"
   ]
  },
  {
   "cell_type": "markdown",
   "id": "6290390c-472a-4f2c-9f14-6bba01b624a4",
   "metadata": {},
   "source": [
    "## Data for 2B-C-D"
   ]
  },
  {
   "cell_type": "code",
   "execution_count": 229,
   "id": "3f2131b7-74ee-4503-89b0-4e05ab4e25de",
   "metadata": {},
   "outputs": [
    {
     "name": "stdout",
     "output_type": "stream",
     "text": [
      "145.07905316352844\n"
     ]
    }
   ],
   "source": [
    "start = time()\n",
    "cde_NAT = []\n",
    "for i in 1:length(nat_MSA[:,1])\n",
    "    seq = deepcopy(nat_MSA[i,:])\n",
    "    push!(cde_NAT, cont_dep_entr_without_deg(seq, h, J))\n",
    "end\n",
    "cde_NAT = hcat(cde_NAT...)'\n",
    "fine = time()\n",
    "println(fine-start)\n",
    "#writedlm(\"../data/figures/data_fig2/cde_NAT\", cde_NAT)"
   ]
  },
  {
   "cell_type": "code",
   "execution_count": 29,
   "id": "f18f9cff-bae1-4ce0-8b2c-1e473ba63505",
   "metadata": {},
   "outputs": [],
   "source": [
    "start_wt = Int.(fasta2matrix(\"../../DHFR_pars/wt_hinds.fasta\")[1,:]);\n",
    "cde_wt = cont_dep_entr_without_deg(start_wt, h_new, J_new);\n",
    "#writedlm(\"../data/figures/data_fig2/cde_PSE\", cde_pse)"
   ]
  },
  {
   "cell_type": "code",
   "execution_count": 30,
   "id": "acb55eac-37c0-4673-9223-4647d93cb309",
   "metadata": {},
   "outputs": [
    {
     "data": {
      "text/plain": [
       "160"
      ]
     },
     "execution_count": 30,
     "metadata": {},
     "output_type": "execute_result"
    }
   ],
   "source": [
    "sum(step_matrices[1][1,:] .== nat_MSA[1,:])"
   ]
  },
  {
   "cell_type": "code",
   "execution_count": 8,
   "id": "235ecca4-21fb-4ec1-b349-f37bcaeaa977",
   "metadata": {
    "tags": []
   },
   "outputs": [
    {
     "name": "stdout",
     "output_type": "stream",
     "text": [
      "θ = 0.2 threshold = 32.0\n",
      "M = 36612 N = 160 Meff = 8785.59817623452\n"
     ]
    }
   ],
   "source": [
    "L = length(step_matrices[1][1,:])\n",
    "freqs_nat = reshape(compute_weighted_frequencies(Int8.(nat_MSA'), 22, 0.2)[1], (21, L))\n",
    "entr_nat = get_entropy(freqs_nat);"
   ]
  },
  {
   "cell_type": "code",
   "execution_count": 9,
   "id": "ee6092d6-4e97-44a9-ac97-566b518ed0f4",
   "metadata": {
    "collapsed": true,
    "jupyter": {
     "outputs_hidden": true
    },
    "tags": []
   },
   "outputs": [
    {
     "name": "stdout",
     "output_type": "stream",
     "text": [
      "θ = 0.0 threshold = 0.0\n",
      "M = 500 N = 160 Meff = 500\n",
      "θ = 0.0 threshold = 0.0\n",
      "M = 500 N = 160 Meff = 500\n",
      "θ = 0.0 threshold = 0.0\n",
      "M = 500 N = 160 Meff = 500\n",
      "θ = 0.0 threshold = 0.0\n",
      "M = 500 N = 160 Meff = 500\n",
      "θ = 0.0 threshold = 0.0\n",
      "M = 500 N = 160 Meff = 500\n",
      "θ = 0.0 threshold = 0.0\n",
      "M = 500 N = 160 Meff = 500\n",
      "θ = 0.0 threshold = 0.0\n",
      "M = 500 N = 160 Meff = 500\n",
      "θ = 0.0 threshold = 0.0\n",
      "M = 500 N = 160 Meff = 500\n",
      "θ = 0.0 threshold = 0.0\n",
      "M = 500 N = 160 Meff = 500\n",
      "θ = 0.0 threshold = 0.0\n",
      "M = 500 N = 160 Meff = 500\n",
      "θ = 0.0 threshold = 0.0\n",
      "M = 500 N = 160 Meff = 500\n",
      "θ = 0.0 threshold = 0.0\n",
      "M = 500 N = 160 Meff = 500\n",
      "θ = 0.0 threshold = 0.0\n",
      "M = 500 N = 160 Meff = 500\n",
      "θ = 0.0 threshold = 0.0\n",
      "M = 500 N = 160 Meff = 500\n",
      "θ = 0.0 threshold = 0.0\n",
      "M = 500 N = 160 Meff = 500\n",
      "θ = 0.0 threshold = 0.0\n",
      "M = 500 N = 160 Meff = 500\n",
      "θ = 0.0 threshold = 0.0\n",
      "M = 500 N = 160 Meff = 500\n",
      "θ = 0.0 threshold = 0.0\n",
      "M = 500 N = 160 Meff = 500\n",
      "θ = 0.0 threshold = 0.0\n",
      "M = 500 N = 160 Meff = 500\n",
      "θ = 0.0 threshold = 0.0\n",
      "M = 500 N = 160 Meff = 500\n",
      "θ = 0.0 threshold = 0.0\n",
      "M = 500 N = 160 Meff = 500\n",
      "θ = 0.0 threshold = 0.0\n",
      "M = 500 N = 160 Meff = 500\n",
      "θ = 0.0 threshold = 0.0\n",
      "M = 500 N = 160 Meff = 500\n",
      "θ = 0.0 threshold = 0.0\n",
      "M = 500 N = 160 Meff = 500\n",
      "θ = 0.0 threshold = 0.0\n",
      "M = 500 N = 160 Meff = 500\n",
      "θ = 0.0 threshold = 0.0\n",
      "M = 500 N = 160 Meff = 500\n",
      "θ = 0.0 threshold = 0.0\n",
      "M = 500 N = 160 Meff = 500\n",
      "θ = 0.0 threshold = 0.0\n",
      "M = 500 N = 160 Meff = 500\n",
      "θ = 0.0 threshold = 0.0\n",
      "M = 500 N = 160 Meff = 500\n",
      "θ = 0.0 threshold = 0.0\n",
      "M = 500 N = 160 Meff = 500\n"
     ]
    }
   ],
   "source": [
    "freqs = [reshape(compute_weighted_frequencies(Int8.(MSA'),22,0.)[1],(21, L)) \n",
    "        for MSA in step_matrices]\n",
    "entr = [get_entropy(f) for f in freqs];\n",
    "entr = hcat(entr...)';\n",
    "#writedlm(\"../data/figures/data_fig2/evol_entr_betalac\", entr)"
   ]
  },
  {
   "cell_type": "code",
   "execution_count": 24,
   "id": "cc67771e-d98f-4559-8f34-07cbd13001ca",
   "metadata": {},
   "outputs": [],
   "source": [
    "cie = entr_nat\n",
    "epis= [x in sortperm(cie .- cde_wt, rev=true)[1:5] for x in 1:length(cie)]\n",
    "d_from_neg_bisec = (cde_wt .+ cie .- 2) ./ sqrt(2)\n",
    "varr = [x in sortperm(d_from_neg_bisec, rev=true)[1:5] for x in 1:length(cie)]\n",
    "cons = [x in sortperm(d_from_neg_bisec, rev=false)[1:5] for x in 1:length(cie)]\n",
    "X = [round(Int, n^(3.8)) for n in 1:size(entr,1)];"
   ]
  },
  {
   "cell_type": "code",
   "execution_count": 25,
   "id": "7dfb8a20-2e95-440a-820a-e342abffe402",
   "metadata": {},
   "outputs": [
    {
     "name": "stderr",
     "output_type": "stream",
     "text": [
      "No artists with labels found to put in legend.  Note that artists whose label start with an underscore are ignored when legend() is called with no argument.\n"
     ]
    },
    {
     "data": {
      "image/png": "[encoded data removed]",
      "text/plain": [
       "Figure(PyObject <Figure size 2000x500 with 2 Axes>)"
      ]
     },
     "metadata": {},
     "output_type": "display_data"
    },
    {
     "data": {
      "text/plain": [
       "PyObject <matplotlib.legend.Legend object at 0x7fd63018fd30>"
      ]
     },
     "execution_count": 25,
     "metadata": {},
     "output_type": "execute_result"
    }
   ],
   "source": [
    "\n",
    "pointsize = 80\n",
    "transp = 0.8\n",
    "transp2 = 1\n",
    "lab = [0,1,2,3,4]\n",
    "lab2 = [10^i for i in 2:7]\n",
    "axis_width = 2.\n",
    "\n",
    "ticks_font = 22\n",
    "axis_font = 26\n",
    "\n",
    "fig = plt.figure()\n",
    "fig.set_figheight(5)\n",
    "fig.set_figwidth(20)\n",
    " \n",
    "ax1 = plt.subplot2grid(shape=(1, 4), loc=(0, 0), colspan = 1)\n",
    "ax2 = plt.subplot2grid(shape=(1, 4), loc=(0, 1), colspan = 2)\n",
    "\n",
    "fig.subplots_adjust(wspace=0.2)\n",
    "\n",
    "ax1.plot([0, 4.0], [0, 4.0], linestyle=\"--\", alpha = 0.4, color = \"darkgrey\")\n",
    "ax1.scatter(cde_wt, cie, color = \"grey\", s = pointsize, alpha = transp)\n",
    "ax1.scatter(cde_wt[varr], cie[varr], color = \"red\", s = pointsize, alpha = transp2)\n",
    "ax1.scatter(cde_wt[epis], cie[epis], color = \"blue\",  s = pointsize, alpha = transp2)\n",
    "ax1.scatter(cde_wt[cons], cie[cons], color = \"green\",  s = pointsize, alpha = transp2)\n",
    "ax1.set_xlabel(\"\\$WT_{background}\\$\", fontsize=axis_font)\n",
    "ax1.set_ylabel(\"CIE\", fontsize=axis_font)\n",
    "ax1.grid(color = \"grey\", linestyle = \"--\", linewidth = 0.5, alpha = 0.4)\n",
    "ax1.set_xticks([0,1,2,3,4])\n",
    "ax1.set_yticks([0,1,2,3,4])\n",
    "ax1.set_xticklabels(lab, fontsize = ticks_font)\n",
    "ax1.set_yticklabels(lab, fontsize = ticks_font)\n",
    "ax1.spines[\"top\"].set_visible(false)\n",
    "ax1.spines[\"right\"].set_visible(false)\n",
    "ax1.spines[\"left\"].set_linewidth(axis_width)\n",
    "ax1.spines[\"bottom\"].set_linewidth(axis_width)\n",
    "ax1.set_aspect(\"equal\")\n",
    "ax1.set_title(\"wt background\", fontsize = axis_font)\n",
    "#=\n",
    "ax2.plot(X, entr, color = \"grey\", alpha = 0.35)\n",
    "ax2.plot(X, entr[:, varr], color = \"red\", alpha = 0.35)\n",
    "ax2.plot(X, entr[:, epis], color = \"blue\", alpha = 0.35)\n",
    "ax2.plot(X, entr[:, cons], color = \"green\", alpha = 0.35)\n",
    "ax2.plot(X, mean(entr[:, varr], dims = 2)[:], color = \"red\", linewidth=4.5, label = \"Variable\" )\n",
    "ax2.plot(X, mean(entr[:, epis], dims = 2)[:], color = \"blue\", linewidth = 4.5, label = \"Epistatic\")\n",
    "ax2.plot(X, mean(entr[:, cons], dims = 2)[:], color = \"green\", linewidth = 4.5, label = \"Conserved\")\n",
    "ax2.plot(X, mean(entr[:, varr], dims = 2)[:], color = \"darkred\", linewidth=4.5 )\n",
    "ax2.plot(X, mean(entr[:, epis], dims = 2)[:], color = \"midnightblue\", linewidth = 4.5)\n",
    "ax2.plot(X, mean(entr[:, cons], dims = 2)[:], color = \"darkgreen\", linewidth = 4.5)\n",
    "ax2.set_xlabel(\"Monte Carlo steps\", fontsize=axis_font)\n",
    "ax2.set_ylabel(\"Site Entropy\", fontsize=axis_font)\n",
    "ax2.grid(color = \"grey\", linestyle = \"--\", linewidth = 0.5, alpha = 0.4)\n",
    "ax2.set_yticks([0,1,2,3,4])\n",
    "ax2.set_xticks(lab2)\n",
    "ax2.set_xticklabels(lab2, fontsize = ticks_font)\n",
    "ax2.set_yticklabels(lab, fontsize = ticks_font)\n",
    "ax2.set_xlim(minimum(X),maximum(X))\n",
    "ax2.spines[\"top\"].set_visible(false)\n",
    "ax2.spines[\"right\"].set_visible(false)\n",
    "ax2.spines[\"left\"].set_linewidth(axis_width)\n",
    "ax2.spines[\"bottom\"].set_linewidth(axis_width)\n",
    "ax2.set_xscale(\"log\")\n",
    "=#\n",
    "tight_layout()\n",
    "fig.legend(loc=\"upper right\", fontsize = axis_font, frameon = false, ncol = 3, bbox_to_anchor=(0.6, 1.2))\n",
    "#savefig(\"../Serin_Prot_dynamics.png\")\n",
    "#savefig(\"../dhfr_dynamics.png\")"
   ]
  },
  {
   "cell_type": "code",
   "execution_count": 261,
   "id": "851f8d6d-8e46-4043-b546-44a2f638fa99",
   "metadata": {},
   "outputs": [
    {
     "name": "stdout",
     "output_type": "stream",
     "text": [
      "θ = 22.0 threshold = 5588.0\n",
      "M = 6740 N = 254 Meff = 1.0000000000000608\n"
     ]
    },
    {
     "data": {
      "image/png": "[encoded data removed]",
      "text/plain": [
       "Figure(PyObject <Figure size 1500x500 with 1 Axes>)"
      ]
     },
     "metadata": {},
     "output_type": "display_data"
    }
   ],
   "source": [
    "pointsize = 80\n",
    "transp = 0.8\n",
    "transp2 = 1\n",
    "lab = [0,1,2,3,4]\n",
    "lab2 = [10^i for i in 2:7]\n",
    "axis_width = 2.\n",
    "\n",
    "ticks_font = 22\n",
    "axis_font = 26\n",
    "\n",
    "fig = plt.figure()\n",
    "fig.set_figheight(5)\n",
    "fig.set_figwidth(15)\n",
    " \n",
    "ax1 = plt.subplot2grid(shape=(1, 4), loc=(0, 0), colspan = 1)\n",
    "\n",
    "fig.subplots_adjust(wspace=0.2)\n",
    "W = compute_weights(Int8.(nat_MSA'), 22)[1]\n",
    "ax1.plot([0, 4.0], [0, 4.0], linestyle=\"--\", alpha = 0.4, color = \"darkgrey\")\n",
    "ax1.scatter(mean(cde_NAT, weights(W), dims = 1)[:], cie, color = \"grey\", s = pointsize, alpha = transp)\n",
    "ax1.set_xlabel(\"\\$CDE_{nat}\\$\", fontsize=axis_font)\n",
    "ax1.set_ylabel(\"CIE\", fontsize=axis_font)\n",
    "ax1.grid(color = \"grey\", linestyle = \"--\", linewidth = 0.5, alpha = 0.4)\n",
    "ax1.set_xticks([0,1,2,3,4])\n",
    "ax1.set_yticks([0,1,2,3,4])\n",
    "ax1.set_xticklabels(lab, fontsize = ticks_font)\n",
    "ax1.set_yticklabels(lab, fontsize = ticks_font)\n",
    "ax1.spines[\"top\"].set_visible(false)\n",
    "ax1.spines[\"right\"].set_visible(false)\n",
    "ax1.spines[\"left\"].set_linewidth(axis_width)\n",
    "ax1.spines[\"bottom\"].set_linewidth(axis_width)\n",
    "ax1.set_aspect(\"equal\")\n",
    "#ax1.set_title(\"wt background\", fontsize = axis_font)\n",
    "savefig(\"../cde_cie_Serin_Prot_dynamics.png\")"
   ]
  },
  {
   "cell_type": "code",
   "execution_count": 26,
   "id": "7b171769-69f6-48b6-98c6-501157936ab3",
   "metadata": {},
   "outputs": [
    {
     "name": "stdout",
     "output_type": "stream",
     "text": [
      "CIE\n",
      "[1.119, 1.973, 3.012, 2.463, 1.229, 2.009, 0.426, 3.214, 2.249, 3.264, 1.725, 2.65, 2.363, 0.453, 0.109, 3.156, 2.567, 1.422, 3.344, 1.295, 1.281, 0.807, 2.334, 1.338, 1.388, 2.987, 0.4, 1.646, 2.238, 2.483, 0.28, 1.367, 3.089, 3.027, 0.163, 3.161, 1.364, 2.516, 2.608, 1.748, 1.472, 0.664, 0.014, 0.549, 1.573, 0.499, 2.096, 1.871, 0.811, 1.913, 1.795, 2.079, 1.522, 0.256, 1.135, 2.07, 0.201, 3.377, 1.38, 1.474, 0.808, 1.75, 1.018, 1.696, 2.772, 3.677, 3.481, 3.124, 3.871, 3.445, 2.854, 1.739, 2.477, 3.489, 2.546, 2.577, 3.345, 1.668, 2.438, 2.742, 2.654, 1.454, 2.277, 3.316, 3.579, 2.932, 3.64, 3.665, 4.016, 3.187, 3.26, 2.513, 2.581, 2.484, 1.375, 1.528, 0.01, 0.011, 2.142, 2.87, 1.563, 0.86, 3.002, 2.749, 2.676, 1.892, 2.432, 3.561, 1.987, 2.454, 2.703, 1.993, 2.335, 2.029, 0.151, 3.199, 1.298, 2.844, 3.503, 3.387, 2.792, 2.811, 1.407, 0.415, 1.861, 2.667, 1.222, 0.795, 3.327, 2.725, 2.58, 3.952, 3.645, 3.547, 1.069, 3.483, 2.942, 3.017, 3.542, 3.247, 3.144, 3.843, 3.581, 3.866, 3.21, 2.576, 2.948, 3.442, 2.932, 3.534, 3.148, 3.39, 2.113, 3.299, 1.49, 3.395, 3.172, 1.773, 3.202, 1.197]\n"
     ]
    }
   ],
   "source": [
    "println(\"CIE\")\n",
    "println(round.(entr_nat, digits = 3))"
   ]
  },
  {
   "cell_type": "code",
   "execution_count": 31,
   "id": "1a693def-744d-4f29-895d-18d91a4d1ad8",
   "metadata": {},
   "outputs": [
    {
     "name": "stdout",
     "output_type": "stream",
     "text": [
      "CDE seq 1\n",
      "[1.056, 2.078, 3.277, 2.338, 0.824, 1.828, 0.25, 2.969, 2.334, 3.27, 0.98, 2.723, 1.997, 0.194, 0.103, 3.358, 1.861, 1.368, 3.18, 0.802, 1.465, 0.516, 2.815, 1.465, 1.509, 3.246, 0.734, 1.413, 2.142, 2.383, 0.243, 2.241, 3.133, 2.911, 0.278, 3.245, 1.356, 2.133, 3.006, 2.101, 1.313, 0.925, 0.005, 0.553, 0.951, 0.982, 1.933, 2.248, 0.754, 1.635, 0.564, 1.729, 0.502, 0.073, 1.901, 1.676, 0.048, 2.748, 0.121, 1.534, 0.529, 0.991, 1.108, 2.182, 3.198, 3.636, 3.843, 3.815, 3.866, 3.639, 3.018, 0.929, 2.063, 3.222, 2.157, 2.742, 3.303, 2.061, 2.434, 2.585, 2.92, 0.852, 1.638, 3.617, 2.931, 3.133, 3.352, 3.479, 3.749, 2.337, 1.74, 3.652, 1.926, 0.712, 1.402, 0.428, 0.004, 0.003, 1.82, 1.711, 1.458, 0.116, 2.22, 1.789, 1.339, 1.45, 2.782, 3.814, 3.386, 3.372, 1.839, 1.901, 0.889, 1.275, 0.036, 1.791, 1.128, 2.825, 2.725, 3.358, 1.882, 1.582, 1.16, 0.182, 1.032, 0.88, 1.373, 0.335, 2.455, 0.441, 1.975, 3.154, 3.331, 2.955, 1.164, 2.599, 1.532, 1.071, 1.86, 1.609, 3.452, 1.956, 3.55, 2.962, 3.167, 0.576, 0.938, 1.168, 2.377, 0.605, 0.922, 1.79, 0.686, 1.188, 0.871, 0.239, 0.248, 0.177, 0.414, 0.949]\n"
     ]
    }
   ],
   "source": [
    "println(\"CDE seq 1\")\n",
    "println(round.(cde_wt, digits = 3))"
   ]
  },
  {
   "cell_type": "code",
   "execution_count": 34,
   "id": "36e1dd22-6828-4ac4-ac03-9756ad9deb39",
   "metadata": {},
   "outputs": [
    {
     "name": "stdout",
     "output_type": "stream",
     "text": [
      "[21, 10, 12, 2, 8, 18, 1, 18, 16, 14, 12, 11, 6, 8, 6, 9, 12, 6, 3, 10, 13, 19, 13, 10, 15, 12, 4, 5, 9, 20, 5, 14, 15, 11, 17, 17, 14, 12, 10, 18, 8, 11, 6, 15, 9, 17, 19, 5, 16, 8, 13, 15, 13, 10, 9, 3, 15, 8, 12, 8, 18, 10, 16, 15, 4, 10, 9, 4, 13, 13, 15, 6, 1, 7, 5, 1, 9, 16, 10, 3, 3, 1, 10, 15, 10, 8, 4, 14, 9, 18, 3, 11, 18, 19, 8, 18, 6, 6, 16, 16, 18, 20, 14, 4, 1, 11, 12, 14, 13, 6, 15, 10, 5, 18, 17, 15, 8, 11, 14, 4, 5, 4, 16, 3, 17, 5, 5, 13, 4, 8, 3, 10, 6, 9, 20, 9, 10, 10, 13, 4, 20, 13, 16, 4, 18, 14, 4, 4, 9, 6, 8, 9, 20, 9, 5, 4, 18, 20, 4, 9]\n"
     ]
    }
   ],
   "source": [
    "println(start_wt)"
   ]
  },
  {
   "cell_type": "code",
   "execution_count": 38,
   "id": "1187200b-5570-4f22-a432-e5d365b4c2aa",
   "metadata": {},
   "outputs": [
    {
     "data": {
      "text/plain": [
       "(21, 21, 160, 160)"
      ]
     },
     "execution_count": 38,
     "metadata": {},
     "output_type": "execute_result"
    }
   ],
   "source": [
    "size(J)"
   ]
  },
  {
   "cell_type": "code",
   "execution_count": 42,
   "id": "c51fc77a-7f9a-43af-b7aa-ecc8a38385a9",
   "metadata": {},
   "outputs": [
    {
     "data": {
      "text/plain": [
       "21×21 Matrix{Float64}:\n",
       " -1.4e-5     1.2e-5    -1.8e-5    …   1.3e-5     1.3e-5     1.3e-5\n",
       " -1.1e-5     1.2e-5    -1.4e-5        1.3e-5     1.2e-5     1.3e-5\n",
       " -4.0e-6     1.3e-5    -2.4e-5        1.3e-5     1.2e-5     1.3e-5\n",
       " -1.4e-5     1.2e-5    -1.2e-5        1.3e-5     1.2e-5     1.3e-5\n",
       " -1.1e-5     1.2e-5    -2.1e-5        1.3e-5     1.3e-5     1.2e-5\n",
       " -6.0e-6     1.3e-5    -1.1e-5    …   1.2e-5     1.2e-5     1.3e-5\n",
       " -1.1e-5     1.3e-5    -2.0e-5        1.3e-5     1.3e-5     1.3e-5\n",
       " -6.0e-6     1.3e-5    -2.0e-5        1.2e-5     1.3e-5     1.3e-5\n",
       " -0.004365  -0.003002  -0.009181     -0.001002  -0.002076  -0.001246\n",
       " -1.2e-5     1.2e-5    -1.4e-5        1.3e-5     1.2e-5     1.3e-5\n",
       " -0.072452  -0.009164   0.046482  …  -0.003117   0.006037   0.004627\n",
       " -1.1e-5     1.3e-5    -1.9e-5        1.3e-5     1.2e-5     1.3e-5\n",
       " -2.1e-5     1.2e-5    -2.0e-5        1.3e-5     1.3e-5     1.2e-5\n",
       " -1.8e-5     1.2e-5    -1.8e-5        1.3e-5     1.3e-5     1.3e-5\n",
       " -1.2e-5     1.3e-5    -1.8e-5        1.3e-5     1.3e-5     1.3e-5\n",
       " -1.6e-5     1.2e-5    -1.6e-5    …   1.3e-5     1.3e-5     1.2e-5\n",
       "  0.014031  -0.000681   0.007922     -0.000216  -0.000427  -0.000248\n",
       " -1.0e-5     1.3e-5    -2.2e-5        1.3e-5     1.2e-5     1.3e-5\n",
       " -9.0e-6     1.2e-5    -1.6e-5        1.3e-5     1.3e-5     1.3e-5\n",
       " -1.2e-5     1.2e-5    -2.9e-5        1.3e-5     1.3e-5     1.3e-5\n",
       "  0.030759   0.015729  -0.06153   …   0.004261  -0.000132  -0.001812"
      ]
     },
     "execution_count": 42,
     "metadata": {},
     "output_type": "execute_result"
    }
   ],
   "source": [
    "J_new[:,:,1,10]"
   ]
  },
  {
   "cell_type": "code",
   "execution_count": 52,
   "id": "0cd41e25-1957-430f-8058-c1b9cb51b739",
   "metadata": {},
   "outputs": [
    {
     "data": {
      "text/plain": [
       "2267.4241388247688"
      ]
     },
     "execution_count": 52,
     "metadata": {},
     "output_type": "execute_result"
    }
   ],
   "source": [
    "sum(abs2, J_new)#energy(h_new, J_new, nat_MSA)"
   ]
  },
  {
   "cell_type": "code",
   "execution_count": 53,
   "id": "0f38667f-630c-4d9d-b71a-5a35d342dbab",
   "metadata": {},
   "outputs": [
    {
     "data": {
      "text/plain": [
       "115699.38725802439"
      ]
     },
     "execution_count": 53,
     "metadata": {},
     "output_type": "execute_result"
    }
   ],
   "source": [
    "sum(abs2, h)"
   ]
  },
  {
   "cell_type": "code",
   "execution_count": 48,
   "id": "c38fbe97-f142-455d-a02b-7e05b2ff669e",
   "metadata": {},
   "outputs": [
    {
     "data": {
      "text/plain": [
       "compute_energy_single_sequence (generic function with 1 method)"
      ]
     },
     "execution_count": 48,
     "metadata": {},
     "output_type": "execute_result"
    }
   ],
   "source": [
    "function compute_energy_single_sequence(h::Array{Float64,2},\n",
    "                                        J::Array{Float64,4},\n",
    "                                        S::Vector)\n",
    "    N = size(h)[2]\n",
    "    q = size(h)[1]\n",
    "    E = 0.0\n",
    "    for i = 1:N\n",
    "        E -= h[S[i],i]\n",
    "        for j = (i+1):N\n",
    "            E -= J[S[i],S[j],i,j]\n",
    "        end\n",
    "    end\n",
    "return E\n",
    "end"
   ]
  },
  {
   "cell_type": "code",
   "execution_count": 49,
   "id": "9db19d2b-8cd9-4f36-be03-47ee3bc5875e",
   "metadata": {},
   "outputs": [
    {
     "data": {
      "text/plain": [
       "-811.5862109999962"
      ]
     },
     "execution_count": 49,
     "metadata": {},
     "output_type": "execute_result"
    }
   ],
   "source": [
    "compute_energy_single_sequence(h_new, J_new, start_wt)"
   ]
  },
  {
   "cell_type": "code",
   "execution_count": 54,
   "id": "7aa0bece-01f0-4baa-b9a2-d55544670a40",
   "metadata": {},
   "outputs": [
    {
     "data": {
      "text/plain": [
       "(-1.212281, 1.744293)"
      ]
     },
     "execution_count": 54,
     "metadata": {},
     "output_type": "execute_result"
    }
   ],
   "source": [
    "extrema(J_new)"
   ]
  },
  {
   "cell_type": "code",
   "execution_count": null,
   "id": "76d00d43-7568-4e85-8392-10403aa79920",
   "metadata": {},
   "outputs": [],
   "source": []
  }
 ],
 "metadata": {
  "kernelspec": {
   "display_name": "Julia 1.10.0",
   "language": "julia",
   "name": "julia-1.10"
  },
  "language_info": {
   "file_extension": ".jl",
   "mimetype": "application/julia",
   "name": "julia",
   "version": "1.10.0"
  }
 },
 "nbformat": 4,
 "nbformat_minor": 5
}
