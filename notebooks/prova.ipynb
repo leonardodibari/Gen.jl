{
 "cells": [
  {
   "cell_type": "code",
   "execution_count": 1,
   "id": "f3a98f1a-4a46-4fb0-929e-650bb5223688",
   "metadata": {},
   "outputs": [],
   "source": [
    "using DelimitedFiles"
   ]
  },
  {
   "cell_type": "code",
   "execution_count": 2,
   "id": "2d6d18ed-a2ec-4f3a-bb51-21b63ed800de",
   "metadata": {},
   "outputs": [
    {
     "data": {
      "text/plain": [
       "read_par_BM_0gap (generic function with 2 methods)"
      ]
     },
     "execution_count": 2,
     "metadata": {},
     "output_type": "execute_result"
    }
   ],
   "source": [
    "function read_par_BM_0gap(path::AbstractString, q::Integer = 21)    \n",
    "    params = readdlm(path,' ', use_mmap = true)[:, 2:6]\n",
    "    l_file = size(params, 1) \n",
    "    N = Integer(((q - 2) + sqrt( (q-2)^2 + 8*l_file))/(2*q))\n",
    "    J = Array{Float64}(undef, q, q, N, N)\n",
    "    h = Array{Float64}(undef, q, N)\n",
    "    n_J = Int(q*q*N*(N-1)/2)\n",
    "    n_h = q*N\n",
    "\n",
    "    for k in 1:n_J\n",
    "        i, j, a, b, par_j = params[k, :]\n",
    "        i += 1\n",
    "        j += 1\n",
    "        a == 0 && (a = 21)\n",
    "        b == 0 && (b = 21)\n",
    "        J[a, b, i, j] = par_j\n",
    "    end\n",
    "\n",
    "    for l in (n_J + 1): n_h + n_J\n",
    "        i, a, par_h = params[l, :]\n",
    "        i += 1\n",
    "        a == 0 && (a = 21)\n",
    "        h[a, i] = par_h\n",
    "    end\n",
    "\n",
    "    return h, J\n",
    "end"
   ]
  },
  {
   "cell_type": "code",
   "execution_count": 6,
   "id": "bba77ad0-31b5-400b-bd77-a1420afc95a4",
   "metadata": {},
   "outputs": [],
   "source": [
    "PATH_PAR = \"../../Parameters_conv_DHFR.dat\"\n",
    "h_new, J_new = read_par_BM_0gap(PATH_PAR);"
   ]
  },
  {
   "cell_type": "code",
   "execution_count": 7,
   "id": "97143a2a-b6d7-472c-a015-c3dfc032da1b",
   "metadata": {},
   "outputs": [
    {
     "name": "stdout",
     "output_type": "stream",
     "text": [
      "21109.06876327675\n",
      "2267.4241388247688\n"
     ]
    }
   ],
   "source": [
    "println(sum(abs2, h_new))\n",
    "println(sum(abs2, J_new))"
   ]
  },
  {
   "cell_type": "code",
   "execution_count": 8,
   "id": "d1e7a620-2a23-4b88-8f5f-e5764c7d82c0",
   "metadata": {},
   "outputs": [
    {
     "name": "stdout",
     "output_type": "stream",
     "text": [
      "21109.06876327675\n",
      "2267.424138824769\n"
     ]
    }
   ],
   "source": [
    "println(sum(h_new .^2))\n",
    "println(sum(J_new .^2))"
   ]
  },
  {
   "cell_type": "code",
   "execution_count": 10,
   "id": "3204b84e-7d80-43dc-80e3-a7c1bb234232",
   "metadata": {},
   "outputs": [
    {
     "name": "stdout",
     "output_type": "stream",
     "text": [
      "4534.848277649538\n"
     ]
    }
   ],
   "source": [
    "println(sum(abs2, J_new - permutedims(J_new, [2,1,4,3]))) "
   ]
  },
  {
   "cell_type": "code",
   "execution_count": 13,
   "id": "a639b63c-056b-49bf-912d-8cddcbb0975f",
   "metadata": {},
   "outputs": [
    {
     "ename": "LoadError",
     "evalue": "AssertionError: 1, 2",
     "output_type": "error",
     "traceback": [
      "AssertionError: 1, 2",
      "",
      "Stacktrace:",
      " [1] top-level scope",
      "   @ ./In[13]:4"
     ]
    }
   ],
   "source": [
    "L = size(J_new,3)\n",
    "for i in 1:L\n",
    "    for j in 1:L\n",
    "        @assert J_new[:,:,i,j] == J_new[:,:,j,i]' \"$i, $j\"\n",
    "    end\n",
    "end"
   ]
  },
  {
   "cell_type": "code",
   "execution_count": null,
   "id": "b6ceb50d-ebbb-4e33-8400-9567da0e21c1",
   "metadata": {},
   "outputs": [],
   "source": []
  }
 ],
 "metadata": {
  "kernelspec": {
   "display_name": "Julia 1.10.0",
   "language": "julia",
   "name": "julia-1.10"
  },
  "language_info": {
   "file_extension": ".jl",
   "mimetype": "application/julia",
   "name": "julia",
   "version": "1.10.0"
  }
 },
 "nbformat": 4,
 "nbformat_minor": 5
}
