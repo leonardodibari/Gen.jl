{
 "cells": [
  {
   "cell_type": "code",
   "execution_count": 1,
   "id": "f3a98f1a-4a46-4fb0-929e-650bb5223688",
   "metadata": {},
   "outputs": [],
   "source": [
    "using DelimitedFiles"
   ]
  },
  {
   "cell_type": "code",
   "execution_count": 2,
   "id": "2d6d18ed-a2ec-4f3a-bb51-21b63ed800de",
   "metadata": {},
   "outputs": [
    {
     "data": {
      "text/plain": [
       "read_par_BM_0gap (generic function with 2 methods)"
      ]
     },
     "execution_count": 2,
     "metadata": {},
     "output_type": "execute_result"
    }
   ],
   "source": [
    "function read_par_BM_0gap(path::AbstractString, q::Integer = 21)    \n",
    "    params = readdlm(path,' ', use_mmap = true)[:, 2:6]\n",
    "    l_file = size(params, 1) \n",
    "    N = Integer(((q - 2) + sqrt( (q-2)^2 + 8*l_file))/(2*q))\n",
    "    J = Array{Float64}(undef, q, q, N, N)\n",
    "    h = Array{Float64}(undef, q, N)\n",
    "    n_J = Int(q*q*N*(N-1)/2)\n",
    "    n_h = q*N\n",
    "\n",
    "    for k in 1:n_J\n",
    "        i, j, a, b, par_j = params[k, :]\n",
    "        i += 1\n",
    "        j += 1\n",
    "        a == 0 && (a = 21)\n",
    "        b == 0 && (b = 21)\n",
    "        J[a, b, i, j] = par_j\n",
    "    end\n",
    "\n",
    "    for l in (n_J + 1): n_h + n_J\n",
    "        i, a, par_h = params[l, :]\n",
    "        i += 1\n",
    "        a == 0 && (a = 21)\n",
    "        h[a, i] = par_h\n",
    "    end\n",
    "\n",
    "    return h, J\n",
    "end"
   ]
  },
  {
   "cell_type": "code",
   "execution_count": 11,
   "id": "48a27cdb-521c-45d3-9877-216a597f72d2",
   "metadata": {},
   "outputs": [
    {
     "name": "stdout",
     "output_type": "stream",
     "text": [
      "21109.06876327675\n",
      "4534.848277649538\n"
     ]
    }
   ],
   "source": [
    "# Function to determine L from the .dat file\n",
    "function determine_L(file_path::String)\n",
    "    max_i = 0\n",
    "    max_j = 0\n",
    "    \n",
    "    # Open the file and read lines\n",
    "    open(file_path, \"r\") do file\n",
    "        for line in eachline(file)\n",
    "            if startswith(line, \"J\")\n",
    "                # Parse the J line\n",
    "                _, i_str, j_str, _, _, _ = split(line)\n",
    "                i = parse(Int, i_str)\n",
    "                j = parse(Int, j_str)\n",
    "                \n",
    "                # Update max_i and max_j\n",
    "                max_i = max(max_i, i)\n",
    "                max_j = max(max_j, j)\n",
    "            elseif startswith(line, \"h\")\n",
    "                # Parse the h line\n",
    "                _, i_str, _ = split(line)\n",
    "                i = parse(Int, i_str)\n",
    "                \n",
    "                # Update max_i\n",
    "                max_i = max(max_i, i)\n",
    "            end\n",
    "        end\n",
    "    end\n",
    "    \n",
    "    # L is the maximum of max_i and max_j + 1 (to account for zero-based index)\n",
    "    return max(max_i, max_j) + 1\n",
    "end\n",
    "\n",
    "# Function to read and parse the .dat file\n",
    "function read_parameters(file_path::String)\n",
    "    # Determine L dynamically\n",
    "    L = determine_L(file_path)\n",
    "    \n",
    "    # Initialize arrays with zeros\n",
    "    h = zeros(Float64, 21, L)\n",
    "    J = zeros(Float64, 21, L, 21, L)\n",
    "    \n",
    "    # Open the file and read lines\n",
    "    open(file_path, \"r\") do file\n",
    "        for line in eachline(file)\n",
    "            if startswith(line, \"J\")\n",
    "                # Parse the J line\n",
    "                _, i_str, j_str, a_str, b_str, value_str = split(line)\n",
    "                i = parse(Int, i_str) + 1\n",
    "                j = parse(Int, j_str) + 1\n",
    "                a = parse(Int, a_str) + 1  # Convert to 1-based index\n",
    "                b = parse(Int, b_str) + 1  # Convert to 1-based index\n",
    "                value = parse(Float64, value_str)\n",
    "                \n",
    "                # Assign value to J only if i and j are different\n",
    "                if i != j\n",
    "                    J[a, i, b, j] = value\n",
    "                    J[b, j, a, i] = value\n",
    "                end\n",
    "            elseif startswith(line, \"h\")\n",
    "                # Parse the h line\n",
    "                _, i_str, a_str, value_str = split(line)\n",
    "                i = parse(Int, i_str) + 1\n",
    "                a = parse(Int, a_str) + 1  # Convert to 1-based index\n",
    "                value = parse(Float64, value_str)\n",
    "                \n",
    "                # Assign value to h\n",
    "                h[a, i] = value\n",
    "            end\n",
    "        end\n",
    "    end\n",
    "    \n",
    "    return h, permutedims(J, [1,3,2,4])\n",
    "end\n",
    "\n",
    "# Specify the file path (you need to replace \"path_to_file.dat\" with the actual file path)\n",
    "file_path = \"../../Parameters_conv_DHFR.dat\"\n",
    "\n",
    "# Read the parameters\n",
    "h, J = read_parameters(file_path);\n",
    "\n",
    "println(sum(abs2, h))\n",
    "println(sum(abs2, J))\n",
    "\n"
   ]
  },
  {
   "cell_type": "code",
   "execution_count": 12,
   "id": "5f626216-7446-49f5-a761-ea0a22dee45e",
   "metadata": {},
   "outputs": [],
   "source": [
    "using JLD2"
   ]
  },
  {
   "cell_type": "code",
   "execution_count": 13,
   "id": "99eebfe0-0636-4cb8-bf24-f838cadb2a62",
   "metadata": {},
   "outputs": [],
   "source": [
    "@save \"../../new_pars_DHFR.jld2\" h J"
   ]
  },
  {
   "cell_type": "code",
   "execution_count": 6,
   "id": "bba77ad0-31b5-400b-bd77-a1420afc95a4",
   "metadata": {},
   "outputs": [],
   "source": [
    "PATH_PAR = \"../../Parameters_conv_DHFR.dat\"\n",
    "h_new, J_new = read_par_BM_0gap(PATH_PAR);"
   ]
  },
  {
   "cell_type": "code",
   "execution_count": 7,
   "id": "97143a2a-b6d7-472c-a015-c3dfc032da1b",
   "metadata": {},
   "outputs": [
    {
     "name": "stdout",
     "output_type": "stream",
     "text": [
      "21109.06876327675\n",
      "2267.4241388247688\n"
     ]
    }
   ],
   "source": [
    "println(sum(abs2, h_new))\n",
    "println(sum(abs2, J_new))"
   ]
  },
  {
   "cell_type": "code",
   "execution_count": 8,
   "id": "d1e7a620-2a23-4b88-8f5f-e5764c7d82c0",
   "metadata": {},
   "outputs": [
    {
     "name": "stdout",
     "output_type": "stream",
     "text": [
      "21109.06876327675\n",
      "2267.424138824769\n"
     ]
    }
   ],
   "source": [
    "println(sum(h_new .^2))\n",
    "println(sum(J_new .^2))"
   ]
  },
  {
   "cell_type": "code",
   "execution_count": 10,
   "id": "3204b84e-7d80-43dc-80e3-a7c1bb234232",
   "metadata": {},
   "outputs": [
    {
     "name": "stdout",
     "output_type": "stream",
     "text": [
      "4534.848277649538\n"
     ]
    }
   ],
   "source": [
    "println(sum(abs2, J_new - permutedims(J_new, [2,1,4,3]))) "
   ]
  },
  {
   "cell_type": "code",
   "execution_count": 10,
   "id": "a639b63c-056b-49bf-912d-8cddcbb0975f",
   "metadata": {},
   "outputs": [],
   "source": [
    "L = size(J,3)\n",
    "for i in 1:L\n",
    "    for j in 1:L\n",
    "        @assert J[:,i,:,j] == J[:,j,:,i]' \"$i, $j\"\n",
    "    end\n",
    "end"
   ]
  },
  {
   "cell_type": "code",
   "execution_count": 18,
   "id": "b6ceb50d-ebbb-4e33-8400-9567da0e21c1",
   "metadata": {},
   "outputs": [
    {
     "name": "stdout",
     "output_type": "stream",
     "text": [
      "[1.3e-5, 1.3e-5, 1.3e-5, 1.3e-5, 1.3e-5, 1.3e-5, 1.3e-5, 1.3e-5, 0.0, 1.3e-5, -3.4e-5, 1.3e-5, 1.3e-5, 1.3e-5, 1.3e-5, 1.3e-5, 1.0e-5, 1.3e-5, 1.3e-5, 1.3e-5, -0.00023]\n"
     ]
    },
    {
     "ename": "LoadError",
     "evalue": "ParseError:\n\u001b[90m# Error @ \u001b[0;0m\u001b]8;;file:///home/disat/ldibari/Gen.jl/notebooks/In[18]#1:40\u001b\\\u001b[90mIn[18]:1:40\u001b[0;0m\u001b]8;;\u001b\\\nprintln(J_new[:,1,1,2] -J_new[1,:,2,1])\u001b[48;2;120;70;70m)\u001b[0;0m\n\u001b[90m#                                      ╙ ── \u001b[0;0m\u001b[91mextra tokens after end of expression\u001b[0;0m",
     "output_type": "error",
     "traceback": [
      "ParseError:\n\u001b[90m# Error @ \u001b[0;0m\u001b]8;;file:///home/disat/ldibari/Gen.jl/notebooks/In[18]#1:40\u001b\\\u001b[90mIn[18]:1:40\u001b[0;0m\u001b]8;;\u001b\\\nprintln(J_new[:,1,1,2] -J_new[1,:,2,1])\u001b[48;2;120;70;70m)\u001b[0;0m\n\u001b[90m#                                      ╙ ── \u001b[0;0m\u001b[91mextra tokens after end of expression\u001b[0;0m",
      "",
      "Stacktrace:",
      " [1] top-level scope",
      "   @ In[18]:1"
     ]
    }
   ],
   "source": [
    "println(J_new[:,1,1,2] -J_new[1,:,2,1]))"
   ]
  },
  {
   "cell_type": "code",
   "execution_count": 17,
   "id": "5b2cbae4-ceca-4274-b155-e4f82003b3dc",
   "metadata": {},
   "outputs": [
    {
     "ename": "LoadError",
     "evalue": "AssertionError: J_new[:, 1, 1, 2] == J_new[1, :, 2, 1]",
     "output_type": "error",
     "traceback": [
      "AssertionError: J_new[:, 1, 1, 2] == J_new[1, :, 2, 1]",
      "",
      "Stacktrace:",
      " [1] top-level scope",
      "   @ In[17]:1"
     ]
    }
   ],
   "source": [
    "@assert J_new[:,1,1,2] == J_new[1,:,2,1]\n"
   ]
  },
  {
   "cell_type": "code",
   "execution_count": 19,
   "id": "c526f75b-0a4e-4e5b-ab82-eac16d2addfa",
   "metadata": {},
   "outputs": [
    {
     "data": {
      "text/plain": [
       "21-element Vector{Float64}:\n",
       " 0.0\n",
       " 0.0\n",
       " 0.0\n",
       " 0.0\n",
       " 0.0\n",
       " 0.0\n",
       " 0.0\n",
       " 0.0\n",
       " 0.0\n",
       " 0.0\n",
       " 0.0\n",
       " 0.0\n",
       " 0.0\n",
       " 0.0\n",
       " 0.0\n",
       " 0.0\n",
       " 0.0\n",
       " 0.0\n",
       " 0.0\n",
       " 0.0\n",
       " 0.0"
      ]
     },
     "execution_count": 19,
     "metadata": {},
     "output_type": "execute_result"
    }
   ],
   "source": [
    "J_new[1,:,2,1]"
   ]
  },
  {
   "cell_type": "code",
   "execution_count": null,
   "id": "6dac97ec-c9bd-48ba-aaf8-4545aea29ea3",
   "metadata": {},
   "outputs": [],
   "source": []
  }
 ],
 "metadata": {
  "kernelspec": {
   "display_name": "Julia 1.10.0",
   "language": "julia",
   "name": "julia-1.10"
  },
  "language_info": {
   "file_extension": ".jl",
   "mimetype": "application/julia",
   "name": "julia",
   "version": "1.10.0"
  }
 },
 "nbformat": 4,
 "nbformat_minor": 5
}
