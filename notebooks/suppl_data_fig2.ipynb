{
 "cells": [
  {
   "cell_type": "code",
   "execution_count": 1,
   "id": "0845a38b-060f-404a-a7c3-b8f64d531402",
   "metadata": {},
   "outputs": [],
   "source": [
    "## Include packages\n",
    "\n",
    "using DelimitedFiles\n",
    "using DCAUtils\n",
    "using Plots\n",
    "using Statistics\n",
    "using KitMSA\n",
    "using FastaIO\n",
    "using LinearAlgebra\n",
    "using StatsBase\n",
    "\n",
    "include(\"../src/read_write.jl\")\n",
    "include(\"../src/energy.jl\")\n",
    "include(\"../src/msa_tools.jl\")\n",
    "include(\"../src/extra_tools.jl\")\n",
    ";"
   ]
  },
  {
   "cell_type": "code",
   "execution_count": 2,
   "id": "b0eddfdd-c47b-4e8b-838a-453bb5821a1b",
   "metadata": {},
   "outputs": [
    {
     "data": {
      "text/plain": [
       "write_cde_of_chains (generic function with 1 method)"
      ]
     },
     "execution_count": 2,
     "metadata": {},
     "output_type": "execute_result"
    }
   ],
   "source": [
    "function get_entropy(f; q =20)\n",
    "    N=length(f[1,:])\n",
    "    entr = zeros(Float64, N)\n",
    "    for i in 1:N\n",
    "        for a in 1:q\n",
    "            if(f[a,i]>0)\n",
    "                entr[i]-=f[a,i]*log(f[a,i])\n",
    "            end\n",
    "        end\n",
    "    end\n",
    "    \n",
    "    return entr\n",
    "end\n",
    "\n",
    "function proba_DNA_gibbs_without_deg(k, mutated_seq, h, J,N; q = 20, T = 1)\n",
    "\tprob = zeros(q)\n",
    "\tfor i in 1:q\n",
    "        q_k = i\n",
    "\t\tlog_proba = h[q_k, k]\n",
    " \t\tfor j in 1:N\n",
    "\t\t\tlog_proba += J[mutated_seq[j], q_k , j, k]\n",
    "        end#\n",
    "\t\tprob[i] = exp(log_proba/T)\n",
    "\tend\n",
    "\treturn normalize(prob,1)\n",
    "    \n",
    "end\n",
    "\n",
    "function cont_dep_entr_without_deg(background, h, J; q =20)\n",
    "    \n",
    "    T = 1.0\n",
    "    N = length(background)\n",
    "    \n",
    "    prob = hcat([ProbabilityWeights(proba_DNA_gibbs_without_deg(pos_mut, background, h, J, N,q=q,T=T)) for pos_mut in 1:N]...)\n",
    "    #println(size(prob))\n",
    "    return get_entropy(prob, q = q)[:]\n",
    "end\n",
    "\n",
    "function write_cde_of_chains(folder, out_path, mask, h, J, n)\n",
    "    fasta_files = filter(file -> endswith(file, \".mixedDNA\"), readdir(folder))\n",
    "    res = []\n",
    "    for i in 1:n\n",
    "        chain = Int8.(fasta2matrix(joinpath(folder_path, fasta_files[i])))[mask,:]\n",
    "        cde_msa = hcat([cont_dep_entr_without_deg(chain[step,:], h, J, q= 21) \n",
    "                for step in 1:length(chain[:,1])]...)'\n",
    "        push!(res, vec(cde_msa))\n",
    "        if i %10 == 0\n",
    "            println(i)\n",
    "        end\n",
    "    end\n",
    "    writedlm(out_path, hcat(res...))\n",
    "    return hcat(res...)\n",
    "end"
   ]
  },
  {
   "cell_type": "code",
   "execution_count": 8,
   "id": "750fa072-cd0c-4b9b-8f33-eb34edc034dd",
   "metadata": {},
   "outputs": [
    {
     "data": {
      "text/plain": [
       "40-element Vector{Float64}:\n",
       "      1.0\n",
       "     13.928809012737984\n",
       "     65.02206650257867\n",
       "    194.0117205133309\n",
       "    452.9872897985596\n",
       "    905.6799459279664\n",
       "   1626.9438030745541\n",
       "   2702.3522012628864\n",
       "   4227.869132265763\n",
       "   6309.57344480193\n",
       "   9063.42204273218\n",
       "  12615.042993497509\n",
       "  17099.55225712071\n",
       "      ⋮\n",
       " 360671.970030609\n",
       " 410261.5041308155\n",
       " 464701.88760151825\n",
       " 524287.99999999965\n",
       " 589322.4308034691\n",
       " 660115.4305885407\n",
       " 736984.8640093037\n",
       " 820256.1644560841\n",
       " 910262.290287913\n",
       "      1.0073436825413486e6\n",
       "      1.111848224026822e6\n",
       "      1.2241311997312466e6"
      ]
     },
     "execution_count": 8,
     "metadata": {},
     "output_type": "execute_result"
    }
   ],
   "source": [
    "[n^(3.8) for n in 1:40]"
   ]
  },
  {
   "cell_type": "code",
   "execution_count": 3,
   "id": "e657db90-a65e-42cf-b86d-0657d120fa11",
   "metadata": {},
   "outputs": [],
   "source": [
    "path_nat = \"../data/alignments/natural/DBD_alignment.uniref90.cov80.noclose.a2m\"\n",
    "nat_MSA = Int8.(fasta2matrix(path_nat))\n",
    ";"
   ]
  },
  {
   "cell_type": "code",
   "execution_count": 4,
   "id": "4ca303fa-f598-42ec-94c8-e596bddd4392",
   "metadata": {
    "tags": []
   },
   "outputs": [],
   "source": [
    "PATH_PAR_dbd = \"../data/model_parameters/Parameters_conv_denseDBDnc.dat\"\n",
    "htmp, Jtmp = KitMSA.read_par_BM(PATH_PAR_dbd)\n",
    "h = KitMSA.set_max_field_to_0(htmp)\n",
    "J = KitMSA.symmetrize_J(Jtmp)\n",
    "maximum(J)\n",
    ";"
   ]
  },
  {
   "cell_type": "code",
   "execution_count": 23,
   "id": "be9d2866-b496-48ec-bbd3-b31f710284df",
   "metadata": {
    "tags": []
   },
   "outputs": [
    {
     "name": "stdout",
     "output_type": "stream",
     "text": [
      "  0.064913 seconds (97.01 k allocations: 9.506 MiB, 86.64% compilation time)\n"
     ]
    }
   ],
   "source": [
    "#folder_path = \"../data/chains/amino_mixed_dbd_steps600000_seqs100_T1.0p0.5/\"\n",
    "folder_path = \"../../scra_data_beta/amino_mixed_dbd_thornton_steps1000002_seqs100_T1.0p0.5/\"\n",
    "fasta_files = filter(file -> endswith(file, \".mixedDNA\"), readdir(folder_path))\n",
    "@time matrices = [Int8.(fasta2matrix(joinpath(folder_path, file))) \n",
    "    for file in fasta_files]\n",
    "step_matrices = build_seq_matrices(matrices)\n",
    ";"
   ]
  },
  {
   "cell_type": "code",
   "execution_count": 12,
   "id": "a0e7c5d5-e473-41a1-a5e9-7059b97c5d38",
   "metadata": {},
   "outputs": [],
   "source": [
    "wt_amino_seq = [2, 10, 18, 2, 6, 3, 15, 1, 16, 6, 20, 7, 20, 6, 18, 10, 16, 2, 4, 6, 2, 9, 1, 5, 5, 9, 15, 16, 8, 14, 6, 16, 18, 4, 20, 17, 2, 13, 1, 17, 12, 4, 2, 9, 8, 3, 9, 7, 15, 15, 9, 16, 2, 14, 1, 2, 15, 10, 14, 9, 2, 5, 4, 18, 6, 11, 11, 9, 4, 6, 18, 15, 9, 3, 15, 12]\n",
    ";"
   ]
  },
  {
   "cell_type": "markdown",
   "id": "6290390c-472a-4f2c-9f14-6bba01b624a4",
   "metadata": {},
   "source": [
    "## Data for 2B-C-D"
   ]
  },
  {
   "cell_type": "code",
   "execution_count": 9,
   "id": "3f2131b7-74ee-4503-89b0-4e05ab4e25de",
   "metadata": {},
   "outputs": [
    {
     "name": "stdout",
     "output_type": "stream",
     "text": [
      "35.94149708747864\n"
     ]
    }
   ],
   "source": [
    "start = time()\n",
    "cde_NAT = []\n",
    "for i in 1:length(nat_MSA[:,1])\n",
    "    seq = deepcopy(nat_MSA[i,:])\n",
    "    push!(cde_NAT, cont_dep_entr_without_deg(seq, h, J, q =21))\n",
    "end\n",
    "fine = time()\n",
    "println(fine-start)\n",
    "writedlm(\"../data/figures/suppl_data_fig2/cde_dbd\", cde_NAT)"
   ]
  },
  {
   "cell_type": "code",
   "execution_count": 22,
   "id": "f18f9cff-bae1-4ce0-8b2c-1e473ba63505",
   "metadata": {
    "tags": []
   },
   "outputs": [],
   "source": [
    "cde_wt = cont_dep_entr_without_deg(wt_amino_seq, h, J, q = 21)\n",
    "\n",
    "writedlm(\"../data/figures/suppl_data_fig2/cde_wt\", cde_wt)"
   ]
  },
  {
   "cell_type": "code",
   "execution_count": 21,
   "id": "235ecca4-21fb-4ec1-b349-f37bcaeaa977",
   "metadata": {},
   "outputs": [
    {
     "name": "stdout",
     "output_type": "stream",
     "text": [
      "θ = 0.2 threshold = 15.0\n",
      "M = 23599 N = 76 Meff = 3133.8287015310534\n"
     ]
    }
   ],
   "source": [
    "L = length(wt_amino_seq)\n",
    "freqs_nat = reshape(compute_weighted_frequencies(Int8.(nat_MSA'), 0.2)[1], (20, L))\n",
    "gap_f = 1 .- [sum(freqs_nat[:,i]) for i in 1:76]\n",
    "freqs_nat_gap = rand(21,76)\n",
    "freqs_nat_gap[1:20,:] = freqs_nat\n",
    "freqs_nat_gap[21,:] = gap_f\n",
    "entr_nat = get_entropy(freqs_nat_gap, q =21)\n",
    "writedlm(\"../data/figures/suppl_data_fig2/cie_dbd\", entr_nat)"
   ]
  },
  {
   "cell_type": "code",
   "execution_count": 27,
   "id": "6b5d861e-1cc1-42d3-a7e8-55fce43c9e7b",
   "metadata": {
    "tags": []
   },
   "outputs": [],
   "source": [
    "x =  round.(Int,[n^(3.8) for n in 1:38])\n",
    "writedlm(\"../data/figures/suppl_data_fig2/x_steps\", x)\n",
    ";"
   ]
  },
  {
   "cell_type": "code",
   "execution_count": 45,
   "id": "ee6092d6-4e97-44a9-ac97-566b518ed0f4",
   "metadata": {
    "collapsed": true,
    "jupyter": {
     "outputs_hidden": true
    },
    "tags": []
   },
   "outputs": [
    {
     "name": "stdout",
     "output_type": "stream",
     "text": [
      "θ = 0.0 threshold = 0.0\n",
      "M = 100 N = 76 Meff = 100\n",
      "θ = 0.0 threshold = 0.0\n",
      "M = 100 N = 76 Meff = 100\n",
      "θ = 0.0 threshold = 0.0\n",
      "M = 100 N = 76 Meff = 100\n",
      "θ = 0.0 threshold = 0.0\n",
      "M = 100 N = 76 Meff = 100\n",
      "θ = 0.0 threshold = 0.0\n",
      "M = 100 N = 76 Meff = 100\n",
      "θ = 0.0 threshold = 0.0\n",
      "M = 100 N = 76 Meff = 100\n",
      "θ = 0.0 threshold = 0.0\n",
      "M = 100 N = 76 Meff = 100\n",
      "θ = 0.0 threshold = 0.0\n",
      "M = 100 N = 76 Meff = 100\n",
      "θ = 0.0 threshold = 0.0\n",
      "M = 100 N = 76 Meff = 100\n",
      "θ = 0.0 threshold = 0.0\n",
      "M = 100 N = 76 Meff = 100\n",
      "θ = 0.0 threshold = 0.0\n",
      "M = 100 N = 76 Meff = 100\n",
      "θ = 0.0 threshold = 0.0\n",
      "M = 100 N = 76 Meff = 100\n",
      "θ = 0.0 threshold = 0.0\n",
      "M = 100 N = 76 Meff = 100\n",
      "θ = 0.0 threshold = 0.0\n",
      "M = 100 N = 76 Meff = 100\n",
      "θ = 0.0 threshold = 0.0\n",
      "M = 100 N = 76 Meff = 100\n",
      "θ = 0.0 threshold = 0.0\n",
      "M = 100 N = 76 Meff = 100\n",
      "θ = 0.0 threshold = 0.0\n",
      "M = 100 N = 76 Meff = 100\n",
      "θ = 0.0 threshold = 0.0\n",
      "M = 100 N = 76 Meff = 100\n",
      "θ = 0.0 threshold = 0.0\n",
      "M = 100 N = 76 Meff = 100\n",
      "θ = 0.0 threshold = 0.0\n",
      "M = 100 N = 76 Meff = 100\n",
      "θ = 0.0 threshold = 0.0\n",
      "M = 100 N = 76 Meff = 100\n",
      "θ = 0.0 threshold = 0.0\n",
      "M = 100 N = 76 Meff = 100\n",
      "θ = 0.0 threshold = 0.0\n",
      "M = 100 N = 76 Meff = 100\n",
      "θ = 0.0 threshold = 0.0\n",
      "M = 100 N = 76 Meff = 100\n",
      "θ = 0.0 threshold = 0.0\n",
      "M = 100 N = 76 Meff = 100\n",
      "θ = 0.0 threshold = 0.0\n",
      "M = 100 N = 76 Meff = 100\n",
      "θ = 0.0 threshold = 0.0\n",
      "M = 100 N = 76 Meff = 100\n",
      "θ = 0.0 threshold = 0.0\n",
      "M = 100 N = 76 Meff = 100\n",
      "θ = 0.0 threshold = 0.0\n",
      "M = 100 N = 76 Meff = 100\n",
      "θ = 0.0 threshold = 0.0\n",
      "M = 100 N = 76 Meff = 100\n",
      "θ = 0.0 threshold = 0.0\n",
      "M = 100 N = 76 Meff = 100\n",
      "θ = 0.0 threshold = 0.0\n",
      "M = 100 N = 76 Meff = 100\n",
      "θ = 0.0 threshold = 0.0\n",
      "M = 100 N = 76 Meff = 100\n",
      "θ = 0.0 threshold = 0.0\n",
      "M = 100 N = 76 Meff = 100\n",
      "θ = 0.0 threshold = 0.0\n",
      "M = 100 N = 76 Meff = 100\n",
      "θ = 0.0 threshold = 0.0\n",
      "M = 100 N = 76 Meff = 100\n",
      "θ = 0.0 threshold = 0.0\n",
      "M = 100 N = 76 Meff = 100\n",
      "  0.702202 seconds (205.36 k allocations: 1.609 GiB, 6.46% gc time, 12.87% compilation time)\n"
     ]
    }
   ],
   "source": [
    "L = length(wt_amino_seq)\n",
    "@time freqs = [reshape(compute_weighted_frequencies(Int8.(MSA'),21,0)[1],(20, L)) \n",
    "    for MSA in step_matrices[2:end]]\n",
    "entr = [get_entropy(f) for f in freqs]\n",
    "writedlm(\"../data/figures/suppl_data_fig2/evol_entr_dbd\", entr)"
   ]
  },
  {
   "cell_type": "code",
   "execution_count": 46,
   "id": "92acf192-d05a-421e-9c14-0515d2b16e48",
   "metadata": {},
   "outputs": [
    {
     "name": "stdout",
     "output_type": "stream",
     "text": [
      "10\n",
      "20\n",
      "30\n",
      "40\n",
      "50\n",
      "60\n",
      "70\n",
      "80\n",
      "90\n",
      "100\n",
      "  8.561492 seconds (9.43 M allocations: 1.303 GiB, 1.76% gc time, 5.35% compilation time)\n"
     ]
    },
    {
     "data": {
      "text/plain": [
       "2888×100 Matrix{Float64}:\n",
       " 0.140968  0.140968   0.140968   0.140968   …  0.140968   0.140968  0.140968\n",
       " 0.22109   0.123962   0.139459   0.125925      0.126946   0.17547   0.208315\n",
       " 0.252176  0.119453   0.100324   0.173242      0.157699   0.200558  0.165232\n",
       " 0.202736  0.126402   0.104107   0.128776      0.110252   0.186663  0.158632\n",
       " 0.172707  0.111282   0.0964172  0.126935      0.119809   0.190531  0.133344\n",
       " 0.146947  0.134373   0.0854507  0.116377   …  0.109368   0.204448  0.163031\n",
       " 0.170802  0.123472   0.0854507  0.106729      0.105702   0.197324  0.247775\n",
       " 0.15596   0.140183   0.0898295  0.104887      0.126668   0.200023  0.253773\n",
       " 0.15596   0.104053   0.109566   0.107358      0.111729   0.147603  0.253006\n",
       " 0.134043  0.0767089  0.0985499  0.101814      0.0985268  0.114384  0.244284\n",
       " 0.172134  0.0814216  0.0922003  0.102559   …  0.0764265  0.109852  0.252922\n",
       " 0.21307   0.0667384  0.0757489  0.11419       0.0789027  0.101284  0.256535\n",
       " 0.176542  0.0585661  0.0591667  0.0981487     0.0735833  0.136959  0.243778\n",
       " ⋮                                          ⋱                       \n",
       " 0.86456   0.561075   0.84989    0.629467      0.59539    0.815324  0.265212\n",
       " 0.897352  0.441644   0.839923   0.557398      0.6537     0.782991  0.317958\n",
       " 0.87855   0.466055   0.928256   0.501609      0.626506   0.75428   0.30426\n",
       " 0.893801  0.365723   0.896148   0.532856      0.66579    0.73219   0.28104\n",
       " 0.835048  0.303859   0.896148   0.608871   …  0.706192   0.64421   0.311823\n",
       " 0.644726  0.35568    0.956496   0.76556       0.779046   0.661483  0.23022\n",
       " 0.730226  0.685828   0.982756   0.809727      0.896542   0.722022  0.288481\n",
       " 0.756661  0.66996    0.941765   0.793673      0.836174   0.747558  0.268196\n",
       " 0.628316  0.6568     0.953762   0.722879      0.847878   0.725672  0.295858\n",
       " 0.711646  0.653063   0.919603   0.695917   …  0.818252   0.675077  0.294245\n",
       " 0.7402    0.643743   0.831282   0.540358      0.82878    0.670924  0.282852\n",
       " 0.76073   0.682147   0.774281   0.621113      0.718118   0.470886  0.323388"
      ]
     },
     "execution_count": 46,
     "metadata": {},
     "output_type": "execute_result"
    }
   ],
   "source": [
    "mask = vcat([2*i for i in 1:8], [40*i for i in 1:40],\n",
    "    [200*i for i in 10:60]) \n",
    "mask = [i for i in 1:38]\n",
    "\n",
    "folder_path = \"../data/chains/amino_mixed_dbd_steps600000_seqs100_T1.0p0.5/\"\n",
    "@time cde_t = write_cde_of_chains(folder_path, \"../data/figures/suppl_data_fig2/cde_chains\", \n",
    "    mask, h, J, 100)\n"
   ]
  },
  {
   "cell_type": "code",
   "execution_count": null,
   "id": "9c6b35a7-bf87-49bd-a921-427121691c22",
   "metadata": {},
   "outputs": [],
   "source": []
  }
 ],
 "metadata": {
  "kernelspec": {
   "display_name": "Julia 1.10.0",
   "language": "julia",
   "name": "julia-1.10"
  },
  "language_info": {
   "file_extension": ".jl",
   "mimetype": "application/julia",
   "name": "julia",
   "version": "1.10.0"
  }
 },
 "nbformat": 4,
 "nbformat_minor": 5
}
