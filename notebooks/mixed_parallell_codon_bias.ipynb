{
 "cells": [
  {
   "cell_type": "code",
   "execution_count": 1,
   "id": "d4f1e5fd",
   "metadata": {
    "tags": []
   },
   "outputs": [],
   "source": [
    "using Distributed"
   ]
  },
  {
   "cell_type": "code",
   "execution_count": 2,
   "id": "708cdf01",
   "metadata": {
    "tags": []
   },
   "outputs": [
    {
     "data": {
      "text/plain": [
       "1-element Vector{Int64}:\n",
       " 1"
      ]
     },
     "execution_count": 2,
     "metadata": {},
     "output_type": "execute_result"
    }
   ],
   "source": [
    "workers()"
   ]
  },
  {
   "cell_type": "code",
   "execution_count": 3,
   "id": "d1a8bdb8",
   "metadata": {
    "tags": []
   },
   "outputs": [],
   "source": [
    "addprocs(30)\n",
    ";"
   ]
  },
  {
   "cell_type": "code",
   "execution_count": 4,
   "id": "8236f7c1",
   "metadata": {
    "tags": []
   },
   "outputs": [
    {
     "data": {
      "text/plain": [
       "30"
      ]
     },
     "execution_count": 4,
     "metadata": {},
     "output_type": "execute_result"
    }
   ],
   "source": [
    "nworkers()"
   ]
  },
  {
   "cell_type": "code",
   "execution_count": 5,
   "id": "1e49af85",
   "metadata": {
    "tags": []
   },
   "outputs": [],
   "source": [
    "@everywhere using FastaIO\n",
    "@everywhere using MultivariateStats\n",
    "@everywhere using LinearAlgebra\n",
    "@everywhere using DelimitedFiles\n",
    "@everywhere using StatsBase\n",
    "@everywhere using DCAUtils\n",
    "@everywhere using PyPlot\n",
    "@everywhere using Random\n",
    "@everywhere using Printf\n",
    "@everywhere using LinearAlgebra\n",
    "@everywhere using GLM\n",
    "@everywhere using Statistics\n",
    "@everywhere using KitMSA"
   ]
  },
  {
   "cell_type": "code",
   "execution_count": 6,
   "id": "c9356f9f",
   "metadata": {
    "tags": []
   },
   "outputs": [],
   "source": [
    "@everywhere include(\"../src/read_write.jl\")\n",
    "@everywhere include(\"../src/energy.jl\")\n",
    "@everywhere include(\"../src/msa_tools.jl\")\n",
    "@everywhere include(\"../src/extra_tools.jl\")"
   ]
  },
  {
   "cell_type": "code",
   "execution_count": 7,
   "id": "af852830",
   "metadata": {
    "tags": []
   },
   "outputs": [
    {
     "data": {
      "text/plain": [
       "plot_pca (generic function with 1 method)"
      ]
     },
     "execution_count": 7,
     "metadata": {},
     "output_type": "execute_result"
    }
   ],
   "source": [
    "\n",
    "\n",
    "function amino_seq2dna_seq(seq)\n",
    "    seq_dna=[]\n",
    "    for a in seq\n",
    "        push!(seq_dna, sample(amino2cod[a]))\n",
    "    end\n",
    "    return seq_dna\n",
    "end\n",
    "\n",
    "function dna_seq2amino_seq(seq_dna)\n",
    "    new = []\n",
    "    for a in seq_dna\n",
    "        push!(new, cod2amino[a])\n",
    "    end\n",
    "    return new\n",
    "end\n",
    "\n",
    "function pairwise_hamming(msa::Array{Int8,2})\n",
    "    num_seqs = size(msa, 1)\n",
    "    pairwise_distances = Array{Int,1}(undef, num_seqs*(num_seqs-1)÷2)\n",
    "    idx = 1\n",
    "    for i in 1:num_seqs-1\n",
    "        for j in i+1:num_seqs\n",
    "            dist = KitMSA.my_hamming(msa[i,:], msa[j,:])\n",
    "            pairwise_distances[idx] = dist\n",
    "            idx += 1\n",
    "        end\n",
    "    end\n",
    "    return pairwise_distances\n",
    "end\n",
    "\n",
    "\n",
    "function eliminate(msa, tresh, idx)\n",
    "    L = length(msa[idx,:])\n",
    "    trimmed_msa = []\n",
    "    for i in 1:length(msa[:,1])\n",
    "        d = KitMSA.my_hamming(msa[idx,:], msa[i,:])\n",
    "        if  d > L*tresh\n",
    "            push!(trimmed_msa, msa[i,:])\n",
    "        end\n",
    "    end\n",
    "    push!(trimmed_msa, msa[idx,:])\n",
    "    return hcat(trimmed_msa...)'\n",
    "end\n",
    "\n",
    "\n",
    "function reweighting(msa, tresh)\n",
    "    final_msa =[]\n",
    "    new_msa = deepcopy(msa)\n",
    "    a = 0\n",
    "    for i in 1:20000\n",
    "        new_msa = eliminate(new_msa, tresh, 1)\n",
    "    end    \n",
    "    println(length(new_msa[:,1]))\n",
    "    return new_msa\n",
    "end\n",
    "\n",
    "function project_pca(filename, label1, label2, eigenv, pc_ref, one_non_ref)\n",
    "    pc_proj = eigenv[:, [end, end-1]]'*one_non_ref'\n",
    "    scatter(pc_nat[1,:], pc_nat[2,:], alpha = 0.25, label= label1, legend=:topright)\n",
    "    scatter!(pc_proj[1,:], pc_proj[2,:], alpha = 0.25,color=:red, label= label2 )\n",
    "    savefig(filename)\n",
    "end\n",
    "\n",
    "function plot_pca(pc_ref, eigenv, matrices, filepath)\n",
    "    \n",
    "    for i in 1:length(matrices)\n",
    "        one_hot_proj = one_hot(matrices[i])\n",
    "        project_pca(joinpath(filepath, \"pca$(i).png\"), \"nat\", \"sil step $(i)\", eigenv, pc_ref, one_hot_proj)\n",
    "        println(i)\n",
    "    end\n",
    "end"
   ]
  },
  {
   "cell_type": "code",
   "execution_count": 8,
   "id": "80636e31",
   "metadata": {
    "tags": []
   },
   "outputs": [],
   "source": [
    "@everywhere function Delta_energy(h::Array{Float64,2}, J::Array{Float64,4}, \n",
    "        S::Array{<:Integer,1}, ref::Array{<:Integer, 1})\n",
    "    q, N = size(h)\n",
    "    E = 0.0\n",
    "    \n",
    "    index_v = collect(1:N)\n",
    "    common = (S .== ref)\n",
    "    idx = findfirst(isequal(false), common)\n",
    "    common = index_v[common]\n",
    "    #println(idx)\n",
    "    #println(common)\n",
    "    E -= (h[S[idx],idx] - h[ref[idx],idx])\n",
    "    @fastmath for j = 1:N\n",
    "        if j > idx\n",
    "            @inbounds  E -= (J[S[j],S[idx],j,idx] - J[ref[j],ref[idx],j,idx] )\n",
    "        end\n",
    "    end\n",
    "    \n",
    "    @fastmath for i in common\n",
    "        if idx > i\n",
    "            @inbounds  E -= (J[S[idx],S[i],idx,i] - J[ref[idx],ref[i],idx,i] )\n",
    "        end\n",
    "    end\n",
    "    \n",
    "    return E\n",
    "end\n"
   ]
  },
  {
   "cell_type": "code",
   "execution_count": 9,
   "id": "47455f52",
   "metadata": {
    "tags": []
   },
   "outputs": [],
   "source": [
    "@everywhere function get_accessible_nucleo_muts_metro_DNA_det_bal(old_cod)\n",
    "    if old_cod .== \"---\"\n",
    "        amino_list = [i for i in 1:21]\n",
    "        codon_list = reduce(vcat,[amino2cod[a] for a in amino_list])\n",
    "        codon_list = filter!(aa->aa != old_cod, codon_list)\n",
    "        push!(codon_list, \"TAG\")\n",
    "        push!(codon_list, \"TAA\")\n",
    "        push!(codon_list, \"TGA\")\n",
    "        return amino_list, codon_list\n",
    "    end\n",
    "    \n",
    "    old_codon = [string(old_cod[i]) for i in 1:3 ]\n",
    "\tcodon_list = Vector{AbstractString}(undef, 12)\n",
    "    \n",
    "    for i in 1:3\n",
    "        new_codon = deepcopy(old_codon)\n",
    "        for (j, nucl) in enumerate([\"A\", \"C\", \"G\", \"T\"]) \n",
    "            new_codon[i] = nucl\n",
    "            codon_list[(i-1)*4 + j] = join(new_codon)\n",
    "        end\n",
    "    end\n",
    "    \n",
    "    push!(codon_list, \"---\")\n",
    "\tamino_list = get.(Ref(cod2amino), codon_list, 0)\n",
    "\tamino_list = unique!(filter!(aa->aa != 21, amino_list))\n",
    "\n",
    "    #codon_list = filter!(aa->aa != \"TAA\", codon_list)\n",
    "    #codon_list = filter!(aa->aa != \"TAG\", codon_list)\n",
    "    #codon_list = filter!(aa->aa != \"TGA\", codon_list)\n",
    "    codon_list = filter!(aa->aa != old_cod, codon_list)\n",
    "    \n",
    "\tamino_list = get.(Ref(cod2amino), codon_list, 0)\n",
    "\t#amino_list = filter!(aa->aa != 21, amino_list)\n",
    "\n",
    "\treturn amino_list, codon_list\n",
    "end\n",
    "\n",
    "\n",
    "@everywhere function get_accessible_nucleo_for_del_ins(old_cod)\n",
    "\n",
    "    if old_cod .== \"---\"\n",
    "        amino_list = [i for i in 0:20]\n",
    "        amino_list[1] = 21\n",
    "        codon_list = reduce(vcat,[amino2cod[a] for a in amino_list])\n",
    "        #push!(codon_list, old_cod )\n",
    "        push!(codon_list, \"TAG\")\n",
    "        push!(codon_list, \"TAA\")\n",
    "        push!(codon_list, \"TGA\")\n",
    "        return amino_list, codon_list\n",
    "    else\n",
    "        codon_list = [\"---\"]\n",
    "        push!(codon_list, old_cod)\n",
    "        amino_list = get.(Ref(cod2amino), codon_list, 0)\n",
    "        #println(amino_list)\n",
    "        return amino_list, codon_list\n",
    "    end\n",
    "end\n",
    "   "
   ]
  },
  {
   "cell_type": "code",
   "execution_count": 33,
   "id": "7761be33",
   "metadata": {
    "tags": []
   },
   "outputs": [],
   "source": [
    "@everywhere mutable struct SeqToEvolve\n",
    "    Amino   :: Array{Int64}\n",
    "    DNA :: Array{AbstractString}\n",
    "end\n",
    "\n",
    "@everywhere function get_accessible_nucleo_muts_DNA_det_bal(old_codon, nucleo_pos::Integer)\n",
    "    old_codon = [string(old_codon[i]) for i in 1:3 ]\n",
    "\tcodon_list = Vector{AbstractString}(undef, 4)\n",
    "\tnew_codon = deepcopy(old_codon)\n",
    "\tfor (j, nucl) in enumerate([\"A\", \"C\", \"G\", \"T\"]) \n",
    "\t\tnew_codon[nucleo_pos] = nucl\n",
    "\t\tcodon_list[j] = join(new_codon)\n",
    "\tend\n",
    "    \n",
    "    codon_list = filter!(aa->aa != \"TAA\", codon_list)\n",
    "    codon_list = filter!(aa->aa != \"TAG\", codon_list)\n",
    "    codon_list = filter!(aa->aa != \"TGA\", codon_list)\n",
    "    \n",
    "\tamino_list = get.(Ref(cod2amino), codon_list, 0)\n",
    "\t#amino_list = filter!(aa->aa != 21, amino_list)\n",
    "\n",
    "\treturn amino_list, codon_list\n",
    "end\n",
    "\n",
    "@everywhere function sum_couplings_inbounds(mutated_seq, q_k, k, J::Array{Float64,4}, N)\n",
    "    result = 0\n",
    "    @inbounds for i in 1:N\n",
    "        result += J[mutated_seq[i], q_k ,i, k]\n",
    "    end\n",
    "    return result\n",
    "end \n",
    "\n",
    "@everywhere function nucleo_cond_proba_DNA_gibbs(k, q, codon_list, mutated_seq, h::Array{Float64,2}, J::Array{Float64,4}, N::Integer,  T = 1)\n",
    "\tprob = zeros(length(codon_list))\n",
    "    #println(q)\n",
    "    #println(codon_list)\n",
    "\t@inbounds for (index, codon_k) in enumerate(codon_list)\n",
    "        #println(index)\n",
    "        q_k = q[index]\n",
    "        #println(q_k)\n",
    "        log_proba = h[q_k, k]-T*log(length(amino2cod[q_k]))\n",
    "        log_proba += sum_couplings_inbounds(mutated_seq, q_k, k, J, N)\n",
    "\t\tprob[index] = exp(log_proba/T)\n",
    "\tend\n",
    "\treturn normalize(prob,1)\n",
    "end\n",
    "\n",
    "\n",
    "\n",
    "@everywhere function log_p(mutated_seq, q_k, k, J::Array{Float64,4}, N::Integer,codon_usage::Dict{String, Float64},T = 1)\n",
    "    \n",
    "    log_proba = h[q_k, k]-T*log(length(amino2cod[q_k]))\n",
    "    log_proba += sum_couplings_inbounds(mutated_seq, q_k, k, J, N)\n",
    "    return log_proba  \n",
    "end\n",
    "\n",
    "\n",
    "@everywhere function square_array(arr)\n",
    "    squares = Dict()\n",
    "    result = similar(arr)\n",
    "    for i in 1:length(arr)\n",
    "        if haskey(squares, arr[i])\n",
    "            result[i] = squares[arr[i]]\n",
    "            println(\"not computed\")\n",
    "        else\n",
    "            square = arr[i]^2\n",
    "            squares[arr[i]] = square\n",
    "            result[i] = square\n",
    "            println(\"computed\")\n",
    "        end\n",
    "    end\n",
    "    return result\n",
    "end\n",
    "\n",
    "\n",
    "\n",
    "@everywhere function nucleo_cond_proba_DNA_gibbs_new(k, q, codon_list, mutated_seq, h::Array{Float64,2}, J::Array{Float64,4}, N::Integer, codon_usage::Dict{String, Float64}, T = 1)\n",
    "\tprob = zeros(length(codon_list))\n",
    "        \n",
    "    d = Dict{Int64, Float64}()\n",
    "    \n",
    "\t@inbounds for (index, q_k) in enumerate(q)\n",
    "            \n",
    "        if haskey(d, q_k)\n",
    "            log_proba = d[q_k]\n",
    "            #println(\"not computed\")\n",
    "        else\n",
    "            log_proba = log_p(mutated_seq, q_k, k, J, N, codon_usage, T)\n",
    "            d[q_k] = log_proba\n",
    "            #println(\"computed\")\n",
    "        end\n",
    "\t\tprob[index] = exp(log_proba/T)\n",
    "\tend\n",
    "        \n",
    "\treturn normalize(prob,1)\n",
    "end"
   ]
  },
  {
   "cell_type": "code",
   "execution_count": 11,
   "id": "0fe50d69-011c-4816-a8c9-406dc353dd90",
   "metadata": {},
   "outputs": [],
   "source": [
    "# Manually create the dictionary with codon frequencies for e coli\n",
    "@everywhere codon_usage = Dict(\n",
    "    \"TTT\" => 0.58, \"TTC\" => 0.42,\n",
    "    \"TTA\" => 0.14, \"TTG\" => 0.13,\n",
    "    \"TCT\" => 0.17, \"TCC\" => 0.15, \"TCA\" => 0.14, \"TCG\" => 0.14,\n",
    "    \"TAT\" => 0.59, \"TAC\" => 0.41,\n",
    "    \"TGT\" => 0.46, \"TGC\" => 0.54, \"TGG\" => 1.00,\n",
    "    \"CTT\" => 0.12, \"CTC\" => 0.10, \"CTA\" => 0.04, \"CTG\" => 0.47,\n",
    "    \"CCT\" => 0.18, \"CCC\" => 0.13, \"CCA\" => 0.20, \"CCG\" => 0.49,\n",
    "    \"CAT\" => 0.57, \"CAC\" => 0.43,\n",
    "    \"CAA\" => 0.34, \"CAG\" => 0.66,\n",
    "    \"CGT\" => 0.36, \"CGC\" => 0.36, \"CGA\" => 0.07, \"CGG\" => 0.1,\n",
    "    \"ATT\" => 0.50, \"ATC\" => 0.39, \"ATA\" => 0.11,\n",
    "    \"ACT\" => 0.19, \"ACC\" => 0.40, \"ACA\" => 0.16, \"ACG\" => 0.25,\n",
    "    \"AAT\" => 0.49, \"AAC\" => 0.51,\n",
    "    \"AAA\" => 0.74, \"AAG\" => 0.26,\n",
    "    \"AGT\" => 0.16, \"AGC\" => 0.24, \"AGA\" => 0.07, \"AGG\" => 0.04,\n",
    "    \"GTT\" => 0.28, \"GTC\" => 0.20, \"GTA\" => 0.17, \"GTG\" => 0.35,\n",
    "    \"GCT\" => 0.18, \"GCC\" => 0.26, \"GCA\" => 0.23, \"GCG\" => 0.33,\n",
    "    \"GAT\" => 0.63, \"GAC\" => 0.37,\n",
    "    \"GAA\" => 0.68, \"GAG\" => 0.32, \"ATG\" => 1.00,\n",
    "    \"GGT\" => 0.35, \"GGC\" => 0.37, \"GGA\" => 0.13, \"GGG\" => 0.15, \"---\" => 1.\n",
    ")\n",
    "\n",
    ";"
   ]
  },
  {
   "cell_type": "code",
   "execution_count": 12,
   "id": "40d8f870-085c-43b1-aff6-ce73e9b05069",
   "metadata": {},
   "outputs": [],
   "source": [
    "@everywhere function log_p_codbias(mutated_seq, q_k, k, cod_k, J::Array{Float64,4}, N::Integer,codon_usage::Dict{String, Float64}, T = 1)\n",
    "    log_proba = h[q_k, k]+T*log(codon_usage[cod_k])\n",
    "    log_proba += sum_couplings_inbounds(mutated_seq.Amino, q_k, k, J, N)\n",
    "    return log_proba  \n",
    "end\n",
    "\n",
    "\n",
    "@everywhere function nucleo_cond_proba_DNA_gibbs_codbias(k, q, codon_list, mutated_seq, h::Array{Float64,2}, J::Array{Float64,4}, N::Integer, codon_usage::Dict{String, Float64}, T = 1)\n",
    "\tprob = zeros(length(codon_list))\n",
    "        \n",
    "    \n",
    "\t@inbounds for (index, q_k) in enumerate(q)\n",
    "        log_proba = log_p_codbias(mutated_seq, q_k, k, codon_list[index], J, N, codon_usage, T)\n",
    "        prob[index] = exp(log_proba/T)\n",
    "\tend\n",
    "        \n",
    "\treturn normalize(prob,1)\n",
    "end\n",
    "\n",
    "\n",
    "@everywhere function gibbs_step_cod_bias(mutated_seq, non_gapped_pos, h, J, N, T, codon_usage::Dict{String, Float64})\n",
    "\n",
    "    pos_mut = rand(non_gapped_pos)\n",
    "\n",
    "\told_codon = mutated_seq.DNA[pos_mut]\n",
    "    #println(\"chain $chain_num mutating codon $(old_codon) at site $(pos_mut) \")\n",
    "        \n",
    "    nucleo_pos = rand(1:3)\n",
    "        \n",
    "    amino_list, codon_list = get_accessible_nucleo_muts_DNA_det_bal(old_codon, nucleo_pos)\n",
    "        \n",
    "    new_codon = sample(codon_list, ProbabilityWeights(nucleo_cond_proba_DNA_gibbs_codbias(pos_mut, amino_list, codon_list, mutated_seq, h, J, N,codon_usage, T)))\n",
    "            \n",
    "    aa = cod2amino[new_codon]\n",
    "        \n",
    "\tmutated_seq.DNA[pos_mut] = new_codon\t\n",
    "\tmutated_seq.Amino[pos_mut] = aa\n",
    "    \n",
    "    return mutated_seq\n",
    "end     "
   ]
  },
  {
   "cell_type": "code",
   "execution_count": 30,
   "id": "dde0da1e",
   "metadata": {
    "tags": []
   },
   "outputs": [],
   "source": [
    "@everywhere function del_ins_codon_sampling(arr)\n",
    "    n = length(arr)\n",
    "    beta = 1/64\n",
    "    alpha = 1-64*beta\n",
    "    gamma = 1-beta\n",
    "    if n==2\n",
    "        probabilities = [beta, gamma]\n",
    "        index = sample(1:n, Weights(probabilities))\n",
    "        return arr[index]\n",
    "    else \n",
    "        probabilities = fill(beta, n)\n",
    "        probabilities[1] = alpha\n",
    "        index = sample(1:n, Weights(probabilities))\n",
    "        return arr[index]\n",
    "    end\n",
    "end\n",
    "    \n",
    "#arr = [5,10]\n",
    "#sampled_elements = [del_ins_codon_sampling(arr) for i in 1:6400]\n",
    "#histogram(sampled_elements)\n",
    "    \n",
    "@everywhere function gibbs_step(mutated_seq, non_gapped_pos, h, J, N, T, codon_usage::Dict{String, Float64})\n",
    "    #println(\"doing gibbs step\")\n",
    "    pos_mut = rand(non_gapped_pos)\n",
    "\n",
    "\told_codon = mutated_seq.DNA[pos_mut]\n",
    "    #println(\"chain $chain_num mutating codon $(old_codon) at site $(pos_mut) \")\n",
    "        \n",
    "    nucleo_pos = rand(1:3)\n",
    "        \n",
    "    amino_list, codon_list = get_accessible_nucleo_muts_DNA_det_bal(old_codon, nucleo_pos)\n",
    "        \n",
    "    if length(unique(amino_list)) == 1\n",
    "        new_codon = rand(codon_list)\n",
    "    else\n",
    "        new_codon = sample(codon_list, ProbabilityWeights(nucleo_cond_proba_DNA_gibbs_new(pos_mut, amino_list, codon_list, mutated_seq.Amino, h, J, N, codon_usage, T)))\n",
    "    end\n",
    "            \n",
    "    aa = cod2amino[new_codon]\n",
    "        \n",
    "\tmutated_seq.DNA[pos_mut] = new_codon\t\n",
    "\tmutated_seq.Amino[pos_mut] = aa\n",
    "    \n",
    "    return mutated_seq\n",
    "end     \n",
    "\n",
    "\n",
    "@everywhere function metro_del_ins_step(mutated_seq, non_gapped_pos, h, J, N, T)\n",
    "    #println(\"doing metropolis insertion/deletion step\")\n",
    "        \n",
    "    pos_mut = rand(1:length(mutated_seq.Amino))\n",
    "\n",
    "\told_codon = mutated_seq.DNA[pos_mut]\n",
    "    old_amino = mutated_seq.Amino[pos_mut]\n",
    "    #println(\"chain $chain_num mutating codon $(old_codon) at site $(pos_mut) \")\n",
    "    amino_list, codon_list = get_accessible_nucleo_for_del_ins(old_codon)\n",
    "    #println(\"Accessible codons (step $steps ) : $(codon_list)\")\n",
    "        \n",
    "    new_codon = del_ins_codon_sampling(codon_list)\n",
    "    \n",
    "    #println(\"Proposed codon (step $steps ) : $(new_codon)\")\n",
    "    \n",
    "    if new_codon == \"TAA\"  ||  new_codon == \"TAG\"   || new_codon == \"TGA\"  || new_codon == old_codon\n",
    "        \n",
    "    else\n",
    "        new_amino = cod2amino[new_codon]  \n",
    "        new_sequence = deepcopy(mutated_seq.Amino)\n",
    "        new_sequence[pos_mut] = new_amino\n",
    "        deltaE = Delta_energy(h, J, new_sequence, mutated_seq.Amino)\n",
    "        accept_proba = (length(amino2cod[old_amino])/length(amino2cod[new_amino]))*exp(-(1/T)*deltaE)\n",
    "        if rand() < accept_proba\n",
    "            aa = cod2amino[new_codon]\n",
    "            mutated_seq.DNA[pos_mut] = new_codon\t\n",
    "            mutated_seq.Amino[pos_mut] = aa\n",
    "            #acceptance += 1\n",
    "        end\n",
    "    end\n",
    "    return mutated_seq\n",
    "end\n",
    "\n",
    "\n",
    "@everywhere function parallel_evol_seq_fix_steps_DNA_mixed_nucleo(p, dir_amino::AbstractString, dir_dna::AbstractString, \n",
    "                        sampler_type::AbstractString, wt_name::AbstractString, ref_seq, MC_steps::Integer, h::Array{Float64,2}, \n",
    "                        J::Array{Float64,4}, N::Integer, chain_num::Integer, each_step,codon_usage::Dict{String, Float64},\n",
    "                        codon_bias = true, T = 1.)\n",
    "    #log_steps = round.(Int, [n^(3.8) for n in 1:450])\n",
    "    \n",
    "    file_path_amino = joinpath(dir_amino, \"equil_det_bal_$(wt_name)_silico_chain_num_$(chain_num)_T_$(T).$(sampler_type)DNA\")\n",
    "    file_path_dna = joinpath(dir_dna, \"equil_det_bal_$(wt_name)_silico_chain_num_$(chain_num)_T_$(T).$(sampler_type)DNA\")\n",
    "            \n",
    "    \n",
    "    mutated_seq = deepcopy(ref_seq[chain_num])\n",
    "    if chain_num %40000 == 0\n",
    "        println(\"p = $(p)\")\n",
    "    end\n",
    "    #println(\"chain $chain_num number of gaps in non_gapped pos: $(sum(21 .== mutated_seq.Amino[non_gapped_pos])),$(sum(21 .== mutated_seq.Amino[non_gapped_pos]))\")\n",
    "    #println(\"chain $(chain_num), good positions: $(non_gapped_pos)\")\n",
    "    #println(\"chain $(chain_num), aminos in good positions $(mutated_seq.Amino[non_gapped_pos])\")\n",
    "    #println(\"chain $(chain_num), codons in good positions $(mutated_seq.DNA[non_gapped_pos])\")\n",
    "     \n",
    "    FastaWriter(file_path_amino, \"a\") do file\n",
    "        writeentry(file, \"sampler: $sampler_type | original wt: $wt_name | 0 MC steps | T = $(T)\", vec2string(mutated_seq.Amino))   \n",
    "    end\n",
    "    \n",
    "    FastaWriter(file_path_dna, \"a\") do file\n",
    "        writeentry(file, \"sampler: $sampler_type | original wt: $wt_name | 0 MC steps | T = $(T)\", join(mutated_seq.DNA))   \n",
    "    end     \n",
    "    \n",
    "    if codon_bias == true\n",
    "        func = gibbs_step_cod_bias\n",
    "    else \n",
    "        func = gibbs_step\n",
    "    end\n",
    "        \n",
    "    \n",
    "    @inbounds for steps in 1: MC_steps\n",
    "        non_gapped_pos = [pos for (pos, amino) in enumerate(mutated_seq.Amino) if amino != 21]\n",
    "        if rand()<(1-p)\n",
    "            mutated_seq = func(mutated_seq, non_gapped_pos, h, J, N, T, codon_usage)\n",
    "        else\n",
    "            mutated_seq = metro_del_ins_step(mutated_seq, non_gapped_pos, h, J, N, T)\n",
    "        end  \n",
    "        \n",
    "        if steps % each_step == 0\n",
    "        #if steps > -100\n",
    "            #println(\"chain $(chain_num) writing\")\n",
    "            FastaWriter(file_path_amino, \"a\") do file\n",
    "                writeentry(file, \"sampler: $sampler_type | original wt: $wt_name | $steps MC steps | T = $(T)\", vec2string(mutated_seq.Amino))   \n",
    "            end\n",
    "            \n",
    "            FastaWriter(file_path_dna, \"a\") do file\n",
    "                writeentry(file, \"sampler: $sampler_type | original wt: $wt_name | $steps MC steps | T = $(T)\", join(mutated_seq.DNA))   \n",
    "            end\n",
    "        end \n",
    "\tend\n",
    "                    \n",
    "end"
   ]
  },
  {
   "cell_type": "code",
   "execution_count": 14,
   "id": "590b7ea2",
   "metadata": {
    "tags": []
   },
   "outputs": [],
   "source": [
    "@everywhere function sample_codons(arr)\n",
    "    n = length(arr)\n",
    "    probabilities = fill(7/64, n)\n",
    "    probabilities[end] = 1/64\n",
    "    index = sample(1:n, Weights(probabilities))\n",
    "    return arr[index]\n",
    "end\n",
    "\n",
    "#arr = [1, 2, 3, 4,5,6,7,8,9,10]\n",
    "\n",
    "#sampled_elements = [sample_codons(arr) for i in 1:640000]\n",
    "\n",
    "#histogram(sampled_elements, bins = 10)\n"
   ]
  },
  {
   "cell_type": "code",
   "execution_count": 15,
   "id": "b3a47ebd",
   "metadata": {
    "tags": []
   },
   "outputs": [
    {
     "data": {
      "text/plain": [
       "\"../../scra_data_beta/Parameters_conv_decDBD0.98.dat\""
      ]
     },
     "execution_count": 15,
     "metadata": {},
     "output_type": "execute_result"
    }
   ],
   "source": [
    "PATH_PAR_beta = \"../../scra_data_beta/Parameters_conv_Matteo_pc.dat\"\n",
    "PATH_PAR_dbd = \"../data/model_parameters/Parameters_conv_Thr-PCD40.dat\"\n",
    "PATH_PAR_dbd_dec = \"../../scra_data_beta/Parameters_conv_decDBD0.98.dat\""
   ]
  },
  {
   "cell_type": "code",
   "execution_count": 17,
   "id": "adcad812",
   "metadata": {
    "tags": []
   },
   "outputs": [
    {
     "data": {
      "text/plain": [
       "1.199017"
      ]
     },
     "execution_count": 17,
     "metadata": {},
     "output_type": "execute_result"
    }
   ],
   "source": [
    "#load fields\n",
    "h, J = KitMSA.extract_params(PATH_PAR_beta;q=21)\n",
    "maximum(J)"
   ]
  },
  {
   "cell_type": "code",
   "execution_count": 16,
   "id": "b9d983ac",
   "metadata": {
    "tags": []
   },
   "outputs": [
    {
     "data": {
      "text/plain": [
       "1.959042"
      ]
     },
     "execution_count": 16,
     "metadata": {},
     "output_type": "execute_result"
    }
   ],
   "source": [
    "htmp, Jtmp = KitMSA.read_par_BM(PATH_PAR_dbd)\n",
    "h = KitMSA.set_max_field_to_0(htmp)\n",
    "J = KitMSA.symmetrize_J(Jtmp)\n",
    "maximum(J)"
   ]
  },
  {
   "cell_type": "code",
   "execution_count": 19,
   "id": "f4ea64b1",
   "metadata": {
    "tags": []
   },
   "outputs": [],
   "source": [
    "\n",
    "#define paths\n",
    "path_wt_tem = \"../data/alignments/refs/TEM1_pfam_DNA.fasta\"\n",
    "path_wt_pse = \"../data/alignments/refs/PSE1_pfam_DNA.fasta\"\n",
    "\n",
    "#load wt\n",
    "wt_tem = join(readdlm(path_wt_tem, skipstart = 1))\n",
    "wt_pse = join(readdlm(path_wt_pse, skipstart = 1))\n",
    "\n",
    "\n",
    "#transform wt_dna in amino\n",
    "L_tem = Int64(length(wt_tem)/3)\n",
    "tem_DNA_seq = [wt_tem[((i-1)*3 +1):(i*3)] for i in 1:L_tem]\n",
    "tem_amino_seq = [cod2amino[codon] for codon in tem_DNA_seq]\n",
    "seed_seq_tem = SeqToEvolve(tem_amino_seq, tem_DNA_seq)\n",
    "\n",
    "L_pse = Int64(length(wt_pse)/3)\n",
    "pse_DNA_seq = [wt_pse[((i-1)*3 +1):(i*3)] for i in 1:L_pse]\n",
    "pse_amino_seq = [cod2amino[codon] for codon in pse_DNA_seq]\n",
    "seed_seq_pse = SeqToEvolve(pse_amino_seq, pse_DNA_seq)\n",
    ";"
   ]
  },
  {
   "cell_type": "markdown",
   "id": "598d08d6",
   "metadata": {},
   "source": [
    "## Parallel Run"
   ]
  },
  {
   "cell_type": "code",
   "execution_count": 17,
   "id": "228ed939",
   "metadata": {
    "tags": []
   },
   "outputs": [],
   "source": [
    "#nat_MSA = Int8.(fasta2matrix(\"../data/alignments/natural/PF13354_noinsert_max19gaps_nodupl_noclose.faa\"))\n",
    "nat_MSA = Int8.(fasta2matrix(\"../data/alignments/natural/DBD_alignment.uniref90.cov80.a2m\"))\n",
    ";"
   ]
  },
  {
   "cell_type": "code",
   "execution_count": 39,
   "id": "3317626d",
   "metadata": {
    "tags": []
   },
   "outputs": [],
   "source": [
    "#steps = 256 #pse\n",
    "#steps = 220 #tem\n",
    "steps = 1+10^6\n",
    "#steps = 6*10^7\n",
    "\n",
    "each_step = 10^4\n",
    "\n",
    "codon_bias = false\n",
    "#T = 1.4 #pse experiment\n",
    "#T = 1.14 #tem experiment\n",
    "T = 1.0 #natural\n",
    "#sampler_type = \"gibbs\"\n",
    "#sampler_type = \"metro\"\n",
    "sampler_type = \"mixed\"\n",
    "#nseq = 1:34431 #tem\n",
    "#nseq = 1:456871 #pse\n",
    "nseq = 1:1000\n",
    "#wt_name = \"dbd\"\n",
    "#wt_name = \"pse\"\n",
    "wt_name = \"dbd_random\"\n",
    "#wt_name = \"pse_global\"\n",
    "#wt_name = \"tem\"\n",
    "N = length(nat_MSA[1,:])\n",
    "#c = filter_alignment(nseq[end], nat_MSA)\n",
    "#seed_seq = [SeqToEvolve(c[i,:], amino_seq2dna_seq(c[i,:])) for i in 1:length(c[:,1])]\n",
    "#seed_seq = [SeqToEvolve(nat_MSA[100,:] , amino_seq2dna_seq(nat_MSA[100,:])) for i in 1:nseq[end]] #dbd\n",
    "#seed_seq = [seed_seq_pse for i in 1:nseq[end]]\n",
    "#seed_seq = [seed_seq_tem for i in 1:nseq[end]]\n",
    "\n",
    "#dbd thornton anc\n",
    "dbd_sample_AA = [2, 10, 18, 2, 6, 3, 15, 1, 16, 6, 20, 7, 20, 6, 18, 10, 16, 2, 4, 6, 2, 9, 1, 5, 5, 9, 15, 16, 8, 14, 6, 16, 18, 4, 20, 17, 2, 13, 1, 17, 12, 4, 2, 9, 8, 3, 9, 7, 15, 15, 9, 16, 2, 14, 1, 2, 15, 10, 14, 9, 2, 5, 4, 18, 6, 11, 11, 9, 4, 6, 18, 15, 9, 3, 15, 12]\n",
    "\n",
    "\n",
    "start_wt = dbd_sample_AA\n",
    "seed_seq = [SeqToEvolve(start_wt , amino_seq2dna_seq(start_wt)) for i in 1:nseq[end]] #beta\n",
    "\n",
    "p=0.5\n",
    ";"
   ]
  },
  {
   "cell_type": "code",
   "execution_count": 40,
   "id": "aeaf7617-dfa6-4189-960f-4e88b5957f36",
   "metadata": {
    "tags": []
   },
   "outputs": [
    {
     "data": {
      "text/plain": [
       "\"../../scra_data_beta/cod_biasfalse_dna_mixed_dbd_random_steps1000001_seqs1000_T1.0p0.5\""
      ]
     },
     "execution_count": 40,
     "metadata": {},
     "output_type": "execute_result"
    }
   ],
   "source": [
    "dir_amino = \"../../scra_data_beta/cod_bias$(codon_bias)_amino_$(sampler_type)_$(wt_name)_steps$(steps)_seqs$(nseq[end])_T$(T)p$(p)\"\n",
    "dir_dna = \"../../scra_data_beta/cod_bias$(codon_bias)_dna_$(sampler_type)_$(wt_name)_steps$(steps)_seqs$(nseq[end])_T$(T)p$(p)\"\n",
    "mkdir(dir_amino)\n",
    "mkdir(dir_dna)\n"
   ]
  },
  {
   "cell_type": "code",
   "execution_count": 34,
   "id": "c8fb1cc0",
   "metadata": {
    "tags": []
   },
   "outputs": [],
   "source": [
    "@everywhere function parallelo_evol_run(i) \n",
    "    if sampler_type == \"mixed\"\n",
    "        parallel_evol_seq_fix_steps_DNA_mixed_nucleo(p, dir_amino, dir_dna, \n",
    "            sampler_type, wt_name, seed_seq, steps, h, J, N, i, each_step, codon_usage, codon_bias, T)\n",
    "        if i%100 == 0\n",
    "            println(i)\n",
    "        end\n",
    "    else\n",
    "        throw(ArgumentError(\"Invalid sampler type: $sampler_type\"))\n",
    "    end\n",
    "end"
   ]
  },
  {
   "cell_type": "code",
   "execution_count": 21,
   "id": "7985d2dc",
   "metadata": {
    "tags": []
   },
   "outputs": [],
   "source": [
    "for ww in workers()\n",
    "    fetch(@spawnat ww p, each_step, dir_amino, dir_dna, sampler_type, \n",
    "        wt_name, seed_seq, steps, h, J, T, amino2cod, cod2amino, codon_usage, codon_bias, N)\n",
    "    #println(\"fetched\")\n",
    "end\n",
    ";"
   ]
  },
  {
   "cell_type": "code",
   "execution_count": 42,
   "id": "c83ce378",
   "metadata": {
    "tags": []
   },
   "outputs": [],
   "source": [
    "for ww in workers()\n",
    "    fetch(@spawnat ww p, each_step, dir_amino, dir_dna, sampler_type,codon_usage, codon_bias, T, N, seed_seq, steps)\n",
    "    #println(\"fetched\")\n",
    "end\n",
    ";\n"
   ]
  },
  {
   "cell_type": "code",
   "execution_count": 43,
   "id": "41630014",
   "metadata": {
    "tags": []
   },
   "outputs": [
    {
     "name": "stdout",
     "output_type": "stream",
     "text": [
      "      From worker 13:\t100\n",
      "      From worker 8:\t200\n",
      "      From worker 7:\t300\n",
      "      From worker 13:\t400\n",
      "      From worker 25:\t500\n",
      "      From worker 2:\t600\n",
      "      From worker 6:\t700\n",
      "      From worker 25:\t800\n",
      "      From worker 28:\t900\n",
      "      From worker 21:\t1000\n",
      "350.22678804397583\n",
      "MSAs GENERATED!!\n"
     ]
    }
   ],
   "source": [
    "start=time()\n",
    "pmap(parallelo_evol_run, nseq)\n",
    "fine=time()\n",
    "println(fine-start)\n",
    "println(\"MSAs GENERATED!!\")"
   ]
  },
  {
   "cell_type": "markdown",
   "id": "d9e5a973-a47c-451e-989b-fc5983c8b8d4",
   "metadata": {},
   "source": [
    "## CODON BIAS ANALYSIS"
   ]
  },
  {
   "cell_type": "code",
   "execution_count": 24,
   "id": "e1c271a8-51e6-4599-a43b-e4b12d16d9a6",
   "metadata": {},
   "outputs": [
    {
     "data": {
      "text/plain": [
       "get_codon_bias (generic function with 1 method)"
      ]
     },
     "execution_count": 24,
     "metadata": {},
     "output_type": "execute_result"
    }
   ],
   "source": [
    "function codon_frequency_msa(msa, cod2amino)\n",
    "    # Create a dictionary to store the frequencies\n",
    "    codon_freqs = Dict{String, Float64}(key => 0. for key in keys(cod2amino))\n",
    "    M,L = size(msa)\n",
    "    for m in 1:M \n",
    "        for i in 1:L\n",
    "            codon_freqs[msa[m,i]] += 1\n",
    "        end\n",
    "    end\n",
    "        \n",
    "    return codon_freqs\n",
    "end\n",
    "\n",
    "function get_codon_bias(msa, cod2amino)\n",
    "    cod_f = codon_frequency_msa(msa, cod2amino);\n",
    "    res = zeros(21)\n",
    "    for i in 1:21\n",
    "        list = amino2cod[i]\n",
    "        deg = length(list)\n",
    "        f = zeros(deg)\n",
    "        count = sum([cod_f[x] for x in amino2cod[i]])\n",
    "        idx = 1\n",
    "        for x in list\n",
    "            cod_f[x] /= count\n",
    "            f[idx] = cod_f[x] \n",
    "            idx += 1\n",
    "        end\n",
    "        eff_cod = 2^(entropy(f,2))\n",
    "        res[i] = (eff_cod - deg)/deg\n",
    "    end\n",
    "    return res, cod_f\n",
    "end\n",
    "        "
   ]
  },
  {
   "cell_type": "code",
   "execution_count": 47,
   "id": "a472f595-96e0-4e7b-8e19-3b8edfe0a5bd",
   "metadata": {
    "tags": []
   },
   "outputs": [
    {
     "name": "stdout",
     "output_type": "stream",
     "text": [
      "  1.899702 seconds (8.83 M allocations: 403.972 MiB, 64.97% gc time, 1.19% compilation time)\n",
      "  0.177455 seconds (101.21 k allocations: 123.298 MiB)\n"
     ]
    }
   ],
   "source": [
    "folder_path = \"../../scra_data_beta/cod_biasfalse_dna_mixed_dbd_random_steps1000001_seqs1000_T1.0p0.5\"\n",
    "\n",
    "fasta_files = filter(file -> endswith(file, \".mixedDNA\"), readdir(folder_path))\n",
    "@time matr_dna = [read_DNA(joinpath(folder_path, file))\n",
    "    for file in fasta_files[1:1000]]\n",
    "@time step_matrices = build_dna_seq_steps(matr_dna);"
   ]
  },
  {
   "cell_type": "code",
   "execution_count": 27,
   "id": "63b245cc-f304-4ae8-a665-26a1bbdeb148",
   "metadata": {
    "collapsed": true,
    "jupyter": {
     "outputs_hidden": true
    },
    "tags": []
   },
   "outputs": [
    {
     "name": "stdout",
     "output_type": "stream",
     "text": [
      "(-0.16861777241190207, 0.15878708096623065)\n",
      "(-0.1322883818741047, 0.12013890261714448)\n",
      "(-0.10944128940846179, 0.09962837064213723)\n",
      "(-0.09042803891750692, 0.08170101732747546)\n",
      "(-0.07520088167249638, 0.06880895978561727)\n",
      "(-0.06349400428792358, 0.059066250478716095)\n",
      "(-0.053564072374900164, 0.04961366387523451)\n",
      "(-0.04530125900985051, 0.04149910865121737)\n",
      "(-0.038071546385092005, 0.03503605570782329)\n",
      "(-0.0320669020675829, 0.029919498434843612)\n",
      "(-0.027278469495391994, 0.025394440787442057)\n",
      "(-0.023069343121560844, 0.02170114049817492)\n",
      "(-0.01978602881186357, 0.018802686781945844)\n",
      "(-0.01687329607763934, 0.016126922380134027)\n",
      "(-0.01435362697416497, 0.013633636152255785)\n",
      "(-0.012088187780853642, 0.011719381247570356)\n",
      "(-0.010512357821466681, 0.01017139139221392)\n",
      "(-0.008670017966854713, 0.008659863771722766)\n",
      "(-0.007577326693272811, 0.007805267421329183)\n",
      "(-0.006464669067699703, 0.006893096538167154)\n",
      "(-0.005436288761172874, 0.0059864364716215165)\n",
      "(-0.004987963422302607, 0.005393333283027078)\n",
      "(-0.004649739423705691, 0.005146066103847456)\n",
      "(-0.004033532413253817, 0.00461337359980796)\n",
      "(-0.0035083871907710725, 0.004238296243021455)\n",
      "(-0.002900012927250747, 0.003907175432235468)\n",
      "(-0.0025044988064685213, 0.003520323978646451)\n",
      "(-0.0022850622735898726, 0.0033066933300127267)\n",
      "(-0.001952407381978167, 0.002981763338800171)\n",
      "(-0.001799929711522502, 0.0029478615813369217)\n",
      "(-0.0016901086572377831, 0.0028124126969492082)\n",
      "(-0.0016051777196597835, 0.0026829848807336013)\n",
      "(-0.0014958570815636128, 0.0026513070082477518)\n",
      "(-0.0013941155215631048, 0.002596873991335016)\n",
      "(-0.001349854938357335, 0.0024032887585259005)\n",
      "(-0.0012508618265867901, 0.0023323515531457743)\n",
      "(-0.0010840186760239885, 0.0021564009788169747)\n",
      "(-0.001011522713984155, 0.0020449212866993417)\n",
      "(-0.0009162058233508916, 0.0020104078221408147)\n",
      "(-0.0008776281374129504, 0.0018528238522229313)\n",
      "(-0.0008452866970801843, 0.0018739738817978681)\n",
      "(-0.0008110784808075873, 0.0017711935130994435)\n",
      "(-0.0006934897098447336, 0.001758695766941423)\n",
      "(-0.0007182888075676389, 0.001752613443008731)\n",
      "(-0.0006611677109063563, 0.0016498218598127018)\n",
      "(-0.0006484171479892072, 0.0016684652232447084)\n",
      "(-0.000604499399194324, 0.001744112719468221)\n",
      "(-0.0005992704039921484, 0.0016916524506628311)\n",
      "(-0.0005503800216175069, 0.0017270714316428115)\n",
      "(-0.0005674553173156216, 0.0017105223798187523)\n",
      "(-0.0005556575868462352, 0.0017242044166709775)\n",
      "(-0.0005402011547496622, 0.001626009768227584)\n",
      "(-0.0005651433372097723, 0.001669808970911218)\n",
      "(-0.0005681602273795112, 0.001643797764660682)\n",
      "(-0.0005746247690236875, 0.0017710620022783241)\n",
      "(-0.0005639402970560182, 0.0016665927928805262)\n",
      "(-0.0004987203639150552, 0.0015655679933574479)\n",
      "(-0.0005042527118209615, 0.001554794706010853)\n",
      "(-0.0004965944293559345, 0.0016157928559627317)\n",
      "(-0.0004671825093973892, 0.0016413610728620662)\n",
      "(-0.0004637876989449842, 0.0016109610914284845)\n",
      "(-0.00044891045796778003, 0.0015799797101251145)\n",
      "(-0.000468840966159813, 0.0016427728141882427)\n",
      "(-0.00046821793845232116, 0.0016768597823326177)\n",
      "(-0.00048473921892780306, 0.0016564763467318984)\n",
      "(-0.0004965786472630304, 0.0016587958657358396)\n",
      "(-0.0005526587881607135, 0.0016860502073743082)\n",
      "(-0.000530160180718864, 0.0016580047327121328)\n",
      "(-0.0004834372717961148, 0.0014750984076468561)\n",
      "(-0.0004625955775544077, 0.0013889854169805119)\n",
      "(-0.00045552205122471943, 0.0014187493323594182)\n",
      "(-0.00042874059781555166, 0.0013838147235216696)\n",
      "(-0.0004172207649754263, 0.0014287209525051744)\n",
      "(-0.0003921711133261194, 0.0013770506718609645)\n",
      "(-0.0003841264772196867, 0.001388619410989693)\n",
      "(-0.00040551618849628995, 0.0014657719848080908)\n",
      "(-0.00041783546468251775, 0.0014277343336676338)\n",
      "(-0.0004823933571913398, 0.0015339476566600594)\n",
      "(-0.0004468110568049207, 0.0014893626232452203)\n",
      "(-0.0004850510576516921, 0.0015205677295167489)\n",
      "(-0.00044644839575461214, 0.0014492961211263168)\n",
      "(-0.0004656853215019156, 0.0015518125000790804)\n",
      "(-0.0003861371792235088, 0.0014010146222484317)\n",
      "(-0.0003603584149110577, 0.0013826399755047876)\n",
      "(-0.0003602485582135005, 0.0014096916157931329)\n",
      "(-0.0003695653175848097, 0.0014469905517329107)\n",
      "(-0.0003733866439751407, 0.001428405467700013)\n",
      "(-0.00040484243281180987, 0.0015672345992754928)\n",
      "(-0.00039690485253056243, 0.0016033282927816832)\n",
      "(-0.000417279615352557, 0.0015299776335726011)\n",
      "(-0.00044803523697082133, 0.0015611261646269136)\n",
      "(-0.0004750335043509177, 0.001482130643858477)\n",
      "(-0.0005315918180535558, 0.0014727076280688417)\n",
      "(-0.0005587033798036241, 0.0014868796503661088)\n",
      "(-0.00045850532323549626, 0.0014253555533009896)\n",
      "(-0.00043941707901974685, 0.001499677809431644)\n",
      "(-0.0004523761151672888, 0.0015890069502842552)\n",
      "(-0.00046746965907111065, 0.0015090573649438922)\n",
      "(-0.00041639148858207964, 0.0014023670373986704)\n",
      "(-0.00042056315934037156, 0.0014344048497132663)\n",
      "(-0.0003990918729109944, 0.0014535468176506432)\n"
     ]
    }
   ],
   "source": [
    "for i in 1:101\n",
    "    res, cod_f = get_codon_bias(step_matrices[i], cod2amino);\n",
    "    println((mean(res), std(res)))\n",
    "end\n"
   ]
  },
  {
   "cell_type": "code",
   "execution_count": 25,
   "id": "c02a8c59-5811-4c92-8888-d7c744b72877",
   "metadata": {},
   "outputs": [
    {
     "name": "stdout",
     "output_type": "stream",
     "text": [
      " 13.904007 seconds (8.96 M allocations: 412.700 MiB, 0.82% compilation time)\n",
      "  0.169674 seconds (101.21 k allocations: 123.298 MiB)\n"
     ]
    }
   ],
   "source": [
    "folder_path_cb = \"../../scra_data_beta/cod_bias_dna_mixed_dbd_random_steps1000000_seqs1000_T1.0p0.5/\"\n",
    "\n",
    "fasta_files_cb = filter(file -> endswith(file, \".mixedDNA\"), readdir(folder_path_cb));\n",
    "@time matr_dna_cb = [read_DNA(joinpath(folder_path_cb, file))\n",
    "    for file in fasta_files_cb]\n",
    "@time step_matrices_cb = build_dna_seq_steps(matr_dna_cb);"
   ]
  },
  {
   "cell_type": "code",
   "execution_count": 29,
   "id": "b8934f71-e083-497a-96ec-ced915a80868",
   "metadata": {
    "collapsed": true,
    "jupyter": {
     "outputs_hidden": true
    },
    "tags": []
   },
   "outputs": [
    {
     "name": "stdout",
     "output_type": "stream",
     "text": [
      "(-0.16861777241190207, 0.15878708096623065)\n",
      "(-0.136414289053363, 0.1244716012576553)\n",
      "(-0.11504015609109124, 0.1020014246628419)\n",
      "(-0.09937181936319743, 0.08568978705013526)\n",
      "(-0.08774964586537633, 0.07435461647524512)\n",
      "(-0.07995759114380803, 0.06691487788840558)\n",
      "(-0.07290539543886372, 0.05997919260561447)\n",
      "(-0.06795212106110508, 0.055797665446715126)\n",
      "(-0.06394185716743753, 0.052925114002626866)\n",
      "(-0.06151809262086342, 0.0524744740279721)\n",
      "(-0.06024458742909164, 0.05297513458618851)\n",
      "(-0.058767389416637936, 0.053497797509165654)\n",
      "(-0.05684932006859009, 0.05352092153562191)\n",
      "(-0.05655584523923373, 0.054338654027528556)\n",
      "(-0.05602106617421151, 0.055299179900902024)\n",
      "(-0.05528315785292039, 0.05614638813706493)\n",
      "(-0.05551755641373127, 0.05735298656625068)\n",
      "(-0.05544392036311839, 0.058493566649462723)\n",
      "(-0.05509155014658152, 0.05987024322985852)\n",
      "(-0.05476157070046303, 0.06024728799152432)\n",
      "(-0.054546502487486104, 0.061456859799261535)\n",
      "(-0.05509805778506051, 0.062296957359368466)\n",
      "(-0.05449560789985482, 0.06254108788579266)\n",
      "(-0.054895706581847954, 0.06335123011484452)\n",
      "(-0.0549522805898116, 0.06384501006605024)\n",
      "(-0.055410858369654856, 0.0644925762583636)\n",
      "(-0.05590330933205356, 0.06567169757898803)\n",
      "(-0.05737488519730646, 0.06695047594998191)\n",
      "(-0.05768223438296281, 0.06799106314225789)\n",
      "(-0.05745453177188072, 0.06874506280888358)\n",
      "(-0.05794152636922611, 0.06888651096337517)\n",
      "(-0.057946662593462386, 0.06916404292609488)\n",
      "(-0.058190440205769356, 0.06999081596476235)\n",
      "(-0.05876488659706691, 0.07063568091860957)\n",
      "(-0.05906454624738922, 0.07043519669403749)\n",
      "(-0.059001247726079994, 0.07170505917615926)\n",
      "(-0.05971473935860697, 0.07248343496600729)\n",
      "(-0.05959124969104854, 0.07276000026496371)\n",
      "(-0.05961879982628515, 0.07252897837205269)\n",
      "(-0.059695044981322866, 0.07258780264059735)\n",
      "(-0.060467300081987876, 0.07301112849894059)\n",
      "(-0.060915874924110734, 0.07314570755189684)\n",
      "(-0.060625522518443574, 0.07423441123763662)\n",
      "(-0.06104304001086479, 0.07443131106596539)\n",
      "(-0.061447683751661486, 0.07480746329398053)\n",
      "(-0.06123277355639732, 0.0744402392273579)\n",
      "(-0.06084747322200575, 0.07431249711218549)\n",
      "(-0.060482160706496826, 0.07364055313743599)\n",
      "(-0.06058003390013841, 0.07301721726235819)\n",
      "(-0.061035395374052684, 0.07284125050289207)\n",
      "(-0.06136081003589956, 0.07326098488659757)\n",
      "(-0.06173625976742038, 0.07433545271852211)\n",
      "(-0.062368283800900814, 0.07480358764926517)\n",
      "(-0.06248929475206916, 0.07518214894949907)\n",
      "(-0.06274179507600904, 0.0756095894051392)\n",
      "(-0.06255182404240198, 0.07512551022990362)\n",
      "(-0.06245994389082167, 0.07617280359357825)\n",
      "(-0.062162901685583256, 0.07616084010631327)\n",
      "(-0.062362186019194986, 0.07661877936127016)\n",
      "(-0.062499484886408496, 0.07725635809020007)\n",
      "(-0.062817279610315, 0.07689209974624919)\n",
      "(-0.0622203163864243, 0.07701618015056785)\n",
      "(-0.06251509236037264, 0.07685456365467416)\n",
      "(-0.06295956002962551, 0.0765773272846951)\n",
      "(-0.06325743145045608, 0.07756183038680406)\n",
      "(-0.06266361754915183, 0.07753609479904067)\n",
      "(-0.06270014319222537, 0.07781573732831137)\n",
      "(-0.06303753460972464, 0.07718132833532702)\n",
      "(-0.0631060088770391, 0.07670409508881831)\n",
      "(-0.06318594529041449, 0.07672849150157138)\n",
      "(-0.06287807017540736, 0.07595908798123394)\n",
      "(-0.06262072524246325, 0.07597893216113175)\n",
      "(-0.062432477203500876, 0.0760219203471289)\n",
      "(-0.062254803072510946, 0.07553666639246498)\n",
      "(-0.06268579604845581, 0.07500896559776359)\n",
      "(-0.06277359661822228, 0.07536372689049481)\n",
      "(-0.06321402147604756, 0.07450425941296418)\n",
      "(-0.06320766330284162, 0.07453982592089452)\n",
      "(-0.0636491546712374, 0.07488450389290487)\n",
      "(-0.06369771445030346, 0.07478786499824479)\n",
      "(-0.06306188340091644, 0.07448694906369865)\n",
      "(-0.0632205835252024, 0.07530118655335866)\n",
      "(-0.06260425249676102, 0.07462435922487198)\n",
      "(-0.06272307870982824, 0.07455916112138616)\n",
      "(-0.06300368644941817, 0.07490054542122564)\n",
      "(-0.06313060085552091, 0.07547094376524592)\n",
      "(-0.06311400360343511, 0.07559426854284945)\n",
      "(-0.06302187748218976, 0.07602596067993925)\n",
      "(-0.06363765345839464, 0.07647607414621635)\n",
      "(-0.06306230503859186, 0.07603418838776818)\n",
      "(-0.06315953644437038, 0.07568707179073214)\n",
      "(-0.06270699153018451, 0.07489553801056521)\n",
      "(-0.06284243240301077, 0.0754000633908966)\n",
      "(-0.06276823953486431, 0.07518343137750862)\n",
      "(-0.06296399482383709, 0.07541809093377767)\n",
      "(-0.06266848278164189, 0.07581985603216428)\n",
      "(-0.06272596097443865, 0.07642289851245193)\n",
      "(-0.06209157674676436, 0.07589259797275573)\n",
      "(-0.06227950447234181, 0.07540232388530044)\n",
      "(-0.06218071686205386, 0.07561766209831854)\n",
      "(-0.06147498278391274, 0.07536430579364244)\n"
     ]
    }
   ],
   "source": [
    "for i in 1:101\n",
    "    res, cod_f = get_codon_bias(step_matrices_cb[i], cod2amino);\n",
    "    #println((mean(res), std(res)))\n",
    "end\n"
   ]
  },
  {
   "cell_type": "code",
   "execution_count": 26,
   "id": "3400013d-f2ed-4c6d-b41f-8010c7db42c0",
   "metadata": {},
   "outputs": [],
   "source": [
    "res_cb, cod_f_cb = get_codon_bias(step_matrices_cb[end], cod2amino);"
   ]
  },
  {
   "cell_type": "code",
   "execution_count": 48,
   "id": "897f0f14-04b7-45aa-b31d-939dbe372781",
   "metadata": {},
   "outputs": [],
   "source": [
    "res, cod_f = get_codon_bias(step_matrices[end], cod2amino);"
   ]
  },
  {
   "cell_type": "code",
   "execution_count": 49,
   "id": "ff1b2b80-f45d-4861-93b8-54ef9c370833",
   "metadata": {},
   "outputs": [
    {
     "data": {
      "image/png": "[encoded data removed]",
      "text/plain": [
       "Figure(PyObject <Figure size 640x480 with 1 Axes>)"
      ]
     },
     "metadata": {},
     "output_type": "display_data"
    },
    {
     "data": {
      "text/plain": [
       "PyObject <matplotlib.legend.Legend object at 0x7f344ad1f670>"
      ]
     },
     "execution_count": 49,
     "metadata": {},
     "output_type": "execute_result"
    }
   ],
   "source": [
    "x = []\n",
    "y1 = []\n",
    "y2 = []\n",
    "for a in keys(codon_usage)\n",
    "    push!(x, codon_usage[a])\n",
    "    push!(y1, cod_f[a])\n",
    "    push!(y2, cod_f_cb[a])\n",
    "end\n",
    "\n",
    "plt.scatter(x, y1, label = \"no codon bias\")\n",
    "plt.plot(x\n",
    "plt.scatter(x, y2, label = \"codon bias\")\n",
    "plt.xlabel(\"E.coli codon usage\")\n",
    "plt.ylabel(\"Final in silico codon usage\")\n",
    "plt.legend()\n",
    "\n",
    "#plt.savefig(\"../codon_bias.png\")"
   ]
  },
  {
   "cell_type": "code",
   "execution_count": 51,
   "id": "c6504628-a51d-4325-b70f-c03967f4b25e",
   "metadata": {},
   "outputs": [],
   "source": [
    "using JLD2\n",
    "@save \"../../data_codbias.jld2\" x y1 y2"
   ]
  },
  {
   "cell_type": "code",
   "execution_count": null,
   "id": "21386654-645b-4281-aeb5-416afa92efa7",
   "metadata": {},
   "outputs": [],
   "source": []
  }
 ],
 "metadata": {
  "kernelspec": {
   "display_name": "Julia 1.10.0",
   "language": "julia",
   "name": "julia-1.10"
  },
  "language_info": {
   "file_extension": ".jl",
   "mimetype": "application/julia",
   "name": "julia",
   "version": "1.10.0"
  }
 },
 "nbformat": 4,
 "nbformat_minor": 5
}
