{
 "cells": [
  {
   "cell_type": "code",
   "execution_count": 1,
   "id": "0845a38b-060f-404a-a7c3-b8f64d531402",
   "metadata": {},
   "outputs": [],
   "source": [
    "## Include packages\n",
    "\n",
    "using DelimitedFiles\n",
    "using DCAUtils\n",
    "using Plots\n",
    "using Statistics\n",
    "using KitMSA\n",
    "using FastaIO\n",
    "using LinearAlgebra\n",
    "using StatsBase\n",
    "\n",
    "include(\"../src/read_write.jl\")\n",
    "include(\"../src/energy.jl\")\n",
    "include(\"../src/msa_tools.jl\")\n",
    "include(\"../src/extra_tools.jl\")\n",
    ";"
   ]
  },
  {
   "cell_type": "code",
   "execution_count": 6,
   "id": "b0eddfdd-c47b-4e8b-838a-453bb5821a1b",
   "metadata": {},
   "outputs": [
    {
     "data": {
      "text/plain": [
       "write_cde_of_chains (generic function with 1 method)"
      ]
     },
     "execution_count": 6,
     "metadata": {},
     "output_type": "execute_result"
    }
   ],
   "source": [
    "function get_entropy(f)\n",
    "    N=length(f[1,:])\n",
    "    entr = zeros(Float64, N)\n",
    "    for i in 1:N\n",
    "        for a in 1:20\n",
    "            if(f[a,i]>0)\n",
    "                entr[i]-=f[a,i]*log(f[a,i])\n",
    "            end\n",
    "        end\n",
    "    end\n",
    "    return entr\n",
    "end\n",
    "\n",
    "function proba_DNA_gibbs_without_deg(k, mutated_seq, h, J,N,  T = 1)\n",
    "\tprob = zeros(20)\n",
    "\tfor i in 1:20\n",
    "        q_k = i\n",
    "\t\tlog_proba = h[q_k, k]\n",
    " \t\tfor j in 1:N\n",
    "\t\t\tlog_proba += J[mutated_seq[j], q_k , j, k]\n",
    "\t\tend\n",
    "\t\tprob[i] = exp(log_proba/T)\n",
    "\tend\n",
    "\treturn normalize(prob,1)\n",
    "    \n",
    "end\n",
    "\n",
    "function cont_dep_entr_without_deg(background, h, J)\n",
    "    \n",
    "    T = 1.0\n",
    "    N = length(background)\n",
    "    \n",
    "    prob = hcat([ProbabilityWeights(proba_DNA_gibbs_without_deg(pos_mut, background, h, J, N, T)) for pos_mut in 1:N]...)\n",
    "    #println(size(prob))\n",
    "    return get_entropy(prob)[:]\n",
    "end\n",
    "\n",
    "function write_cde_of_chains(folder, out_path, mask, h, J, n)\n",
    "    fasta_files = filter(file -> endswith(file, \".mixedDNA\"), readdir(folder))\n",
    "    res = []\n",
    "    for i in 1:n\n",
    "        chain = Int8.(fasta2matrix(joinpath(folder_path, fasta_files[i])))[mask,:]\n",
    "        cde_msa = hcat([cont_dep_entr_without_deg(chain[step,:], h, J) \n",
    "                for step in 1:length(chain[:,1])]...)'\n",
    "        push!(res, vec(cde_msa))\n",
    "        if i %10 == 0\n",
    "            println(i)\n",
    "        end\n",
    "    end\n",
    "    writedlm(out_path, hcat(res...))\n",
    "    #return hcat(res...)\n",
    "end"
   ]
  },
  {
   "cell_type": "code",
   "execution_count": 4,
   "id": "e657db90-a65e-42cf-b86d-0657d120fa11",
   "metadata": {},
   "outputs": [
    {
     "ename": "LoadError",
     "evalue": "SystemError: Genie.jl/data/alignments/natural/PF13354_noinsert_max19gaps_nodupl_noclose.faa: No such file or directory",
     "output_type": "error",
     "traceback": [
      "SystemError: Genie.jl/data/alignments/natural/PF13354_noinsert_max19gaps_nodupl_noclose.faa: No such file or directory",
      "",
      "Stacktrace:",
      " [1] gzopen(fname::String, gzmode::String, gz_buf_size::Int64)",
      "   @ GZip ~/.julia/packages/GZip/vS3gf/src/gz.jl:193",
      " [2] gzopen(fname::String, gzmode::String, gz_buf_size::Int64)",
      "   @ GZip ~/.julia/packages/GZip/vS3gf/src/gz.jl:206 [inlined]",
      " [3] FastaReader",
      "   @ ~/.julia/packages/FastaIO/9VgiR/src/FastaIO.jl:44 [inlined]",
      " [4] FastaReader",
      "   @ ~/.julia/packages/FastaIO/9VgiR/src/FastaIO.jl:84 [inlined]",
      " [5] fasta2matrix(filename::String; max_gap_fraction::Int64)",
      "   @ Main ~/Genie.jl/src/read_write.jl:16",
      " [6] fasta2matrix(filename::String)",
      "   @ Main ~/Genie.jl/src/read_write.jl:15",
      " [7] top-level scope",
      "   @ In[4]:2"
     ]
    }
   ],
   "source": [
    "path_nat = \"../data/alignments/natural/PF13354_noinsert_max19gaps_nodupl_noclose.faa\"\n",
    "nat_MSA = Int8.(fasta2matrix(path_nat))\n",
    ";"
   ]
  },
  {
   "cell_type": "code",
   "execution_count": 5,
   "id": "4ca303fa-f598-42ec-94c8-e596bddd4392",
   "metadata": {
    "tags": []
   },
   "outputs": [],
   "source": [
    "PATH_PAR = \"../data/model_parameters/Parameters_conv_Matteo_pc.zip\"\n",
    "h, J = KitMSA.extract_params(PATH_PAR;q=21)\n",
    ";"
   ]
  },
  {
   "cell_type": "code",
   "execution_count": 19,
   "id": "be9d2866-b496-48ec-bbd3-b31f710284df",
   "metadata": {
    "tags": []
   },
   "outputs": [
    {
     "name": "stdout",
     "output_type": "stream",
     "text": [
      "  0.090508 seconds (141.81 k allocations: 22.000 MiB, 53.06% compilation time)\n"
     ]
    }
   ],
   "source": [
    "folder_path = \"../data/chains/files_amino_mixed_pse_steps60000000_seqs1000_T1.0p0.5\"\n",
    "fasta_files = filter(file -> endswith(file, \".mixedDNA\"), readdir(folder_path))\n",
    "@time matrices = [Int8.(fasta2matrix(joinpath(folder_path, file))) \n",
    "    for file in fasta_files[1:100]]\n",
    "step_matrices = build_seq_matrices(matrices)\n",
    ";"
   ]
  },
  {
   "cell_type": "code",
   "execution_count": 21,
   "id": "a0e7c5d5-e473-41a1-a5e9-7059b97c5d38",
   "metadata": {},
   "outputs": [],
   "source": [
    "path_wt_pse = \"../data/alignments/refs/PSE1_pfam_DNA.fasta\"\n",
    "\n",
    "#load wt\n",
    "wt_pse = join(readdlm(path_wt_pse, skipstart = 1))\n",
    "L_pse = Int64(length(wt_pse)/3)\n",
    "pse_DNA_seq = [wt_pse[((i-1)*3 +1):(i*3)] for i in 1:L_pse]\n",
    "pse_amino_seq = [cod2amino[codon] for codon in pse_DNA_seq]\n",
    ";"
   ]
  },
  {
   "cell_type": "markdown",
   "id": "62efad34-5941-4a79-9f6e-c054239500a1",
   "metadata": {},
   "source": [
    "## Data for 2A"
   ]
  },
  {
   "cell_type": "code",
   "execution_count": 22,
   "id": "b08f12d6-cdbf-4940-8ab0-9246691cf873",
   "metadata": {},
   "outputs": [
    {
     "name": "stdout",
     "output_type": "stream",
     "text": [
      "[\"T\", \"S\", \"E\", \"I\", \"F\", \"L\", \"G\", \"A\"]\n",
      "[\"M\", \"S\", \"R\", \"I\", \"F\", \"L\", \"G\", \"A\"]\n",
      "[\"A\", \"S\", \"L\", \"V\", \"F\", \"I\", \"G\", \"A\"]\n",
      "[\"L\", \"S\", \"E\", \"V\", \"F\", \"M\", \"G\", \"A\"]\n",
      "[\"A\", \"S\", \"K\", \"Y\", \"T\", \"F\", \"G\", \"D\"]\n",
      "[\"A\", \"S\", \"I\", \"A\", \"K\", \"A\", \"G\", \"F\"]\n",
      "[\"A\", \"S\", \"R\", \"L\", \"V\", \"L\", \"G\", \"G\"]\n"
     ]
    }
   ],
   "source": [
    "# 18 vc\n",
    "# 45 v\n",
    "# 77 cv\n",
    "#179 c\n",
    "dd = count_muts_msa(nat_MSA, pse_amino_seq)\n",
    "sites = [18,19,45,46,99,100,179,180]\n",
    "pse = pse_amino_seq[sites]\n",
    "println([num2letter(a) for a in pse])\n",
    "close_pse = nat_MSA[dd.<92,sites]\n",
    "for i in [1,10,14]\n",
    "    println([num2letter(a) for a in close_pse[i,:]])\n",
    "end\n",
    "nat = nat_MSA[dd.>140,sites]\n",
    "for i in [2,7,11]\n",
    "    println([num2letter(a) for a in nat[i,:]])\n",
    "end"
   ]
  },
  {
   "cell_type": "markdown",
   "id": "6290390c-472a-4f2c-9f14-6bba01b624a4",
   "metadata": {},
   "source": [
    "## Data for 2B-C-D"
   ]
  },
  {
   "cell_type": "code",
   "execution_count": 9,
   "id": "657c87b5-e4c4-461e-ac4a-2e198e5c8702",
   "metadata": {
    "tags": []
   },
   "outputs": [],
   "source": [
    "#cde_NAT = readdlm(\"../cde_NAT\", '\\t') #if ypu have already created it\n",
    ";"
   ]
  },
  {
   "cell_type": "code",
   "execution_count": 37,
   "id": "3f2131b7-74ee-4503-89b0-4e05ab4e25de",
   "metadata": {},
   "outputs": [
    {
     "name": "stdout",
     "output_type": "stream",
     "text": [
      "558.7889490127563\n"
     ]
    }
   ],
   "source": [
    "start = time()\n",
    "cde_NAT = []\n",
    "for i in 1:length(nat_MSA[:,1])\n",
    "    seq = deepcopy(nat_MSA[i,:])\n",
    "    push!(cde_NAT, cont_dep_entr_without_deg(seq, h, J))\n",
    "end\n",
    "fine = time()\n",
    "println(fine-start)\n",
    "writedlm(\"../data/figures/data_fig2/cde_NAT\", cde_NAT)"
   ]
  },
  {
   "cell_type": "code",
   "execution_count": 21,
   "id": "f18f9cff-bae1-4ce0-8b2c-1e473ba63505",
   "metadata": {},
   "outputs": [],
   "source": [
    "cde_pse = cont_dep_entr_without_deg(pse_amino_seq, h, J)\n",
    "writedlm(\"../data/figures/data_fig2/cde_PSE\", cde_pse)"
   ]
  },
  {
   "cell_type": "code",
   "execution_count": 17,
   "id": "235ecca4-21fb-4ec1-b349-f37bcaeaa977",
   "metadata": {},
   "outputs": [
    {
     "name": "stdout",
     "output_type": "stream",
     "text": [
      "θ = 0.2 threshold = 40.0\n",
      "M = 18334 N = 202 Meff = 6875.804074759526\n"
     ]
    }
   ],
   "source": [
    "L = length(pse_amino_seq)\n",
    "freqs_nat = reshape(compute_weighted_frequencies(Int8.(nat_MSA'), 0.2)[1], (20, L))\n",
    "entr_nat = get_entropy(freqs_nat)\n",
    "writedlm(\"../data/figures/data_fig2/cie_betalac\", entr_nat)"
   ]
  },
  {
   "cell_type": "code",
   "execution_count": 23,
   "id": "ca6f268f-b3bb-46ab-9842-f2ba6648a259",
   "metadata": {
    "tags": []
   },
   "outputs": [
    {
     "name": "stdout",
     "output_type": "stream",
     "text": [
      "  0.521247 seconds (765.51 k allocations: 175.079 MiB, 6.93% gc time, 9.50% compilation time)\n"
     ]
    }
   ],
   "source": [
    "folder_path = \"../data/chains/files_amino_mixed_pse_steps60000000_seqs1000_T1.0p0.5/\"\n",
    "fasta_files = filter(file -> endswith(file, \".mixedDNA\"), readdir(folder_path))\n",
    "@time matrices = [Int8.(fasta2matrix(joinpath(folder_path, file))) \n",
    "    for file in fasta_files]\n",
    "step_matrices = build_seq_matrices(matrices)\n",
    ";"
   ]
  },
  {
   "cell_type": "code",
   "execution_count": 14,
   "id": "ee6092d6-4e97-44a9-ac97-566b518ed0f4",
   "metadata": {
    "collapsed": true,
    "jupyter": {
     "outputs_hidden": true
    },
    "tags": []
   },
   "outputs": [
    {
     "name": "stdout",
     "output_type": "stream",
     "text": [
      "θ = 0.0 threshold = 0.0\n",
      "M = 1000 N = 202 Meff = 1000\n",
      "θ = 0.0 threshold = 0.0\n",
      "M = 1000 N = 202 Meff = 1000\n",
      "θ = 0.0 threshold = 0.0\n",
      "M = 1000 N = 202 Meff = 1000\n",
      "θ = 0.0 threshold = 0.0\n",
      "M = 1000 N = 202 Meff = 1000\n",
      "θ = 0.0 threshold = 0.0\n",
      "M = 1000 N = 202 Meff = 1000\n",
      "θ = 0.0 threshold = 0.0\n",
      "M = 1000 N = 202 Meff = 1000\n",
      "θ = 0.0 threshold = 0.0\n",
      "M = 1000 N = 202 Meff = 1000\n",
      "θ = 0.0 threshold = 0.0\n",
      "M = 1000 N = 202 Meff = 1000\n",
      "θ = 0.0 threshold = 0.0\n",
      "M = 1000 N = 202 Meff = 1000\n",
      "θ = 0.0 threshold = 0.0\n",
      "M = 1000 N = 202 Meff = 1000\n",
      "θ = 0.0 threshold = 0.0\n",
      "M = 1000 N = 202 Meff = 1000\n",
      "θ = 0.0 threshold = 0.0\n",
      "M = 1000 N = 202 Meff = 1000\n",
      "θ = 0.0 threshold = 0.0\n",
      "M = 1000 N = 202 Meff = 1000\n",
      "θ = 0.0 threshold = 0.0\n",
      "M = 1000 N = 202 Meff = 1000\n",
      "θ = 0.0 threshold = 0.0\n",
      "M = 1000 N = 202 Meff = 1000\n",
      "θ = 0.0 threshold = 0.0\n",
      "M = 1000 N = 202 Meff = 1000\n",
      "θ = 0.0 threshold = 0.0\n",
      "M = 1000 N = 202 Meff = 1000\n",
      "θ = 0.0 threshold = 0.0\n",
      "M = 1000 N = 202 Meff = 1000\n",
      "θ = 0.0 threshold = 0.0\n",
      "M = 1000 N = 202 Meff = 1000\n",
      "θ = 0.0 threshold = 0.0\n",
      "M = 1000 N = 202 Meff = 1000\n",
      "θ = 0.0 threshold = 0.0\n",
      "M = 1000 N = 202 Meff = 1000\n",
      "θ = 0.0 threshold = 0.0\n",
      "M = 1000 N = 202 Meff = 1000\n",
      "θ = 0.0 threshold = 0.0\n",
      "M = 1000 N = 202 Meff = 1000\n",
      "θ = 0.0 threshold = 0.0\n",
      "M = 1000 N = 202 Meff = 1000\n",
      "θ = 0.0 threshold = 0.0\n",
      "M = 1000 N = 202 Meff = 1000\n",
      "θ = 0.0 threshold = 0.0\n",
      "M = 1000 N = 202 Meff = 1000\n",
      "θ = 0.0 threshold = 0.0\n",
      "M = 1000 N = 202 Meff = 1000\n",
      "θ = 0.0 threshold = 0.0\n",
      "M = 1000 N = 202 Meff = 1000\n",
      "θ = 0.0 threshold = 0.0\n",
      "M = 1000 N = 202 Meff = 1000\n",
      "θ = 0.0 threshold = 0.0\n",
      "M = 1000 N = 202 Meff = 1000\n",
      "θ = 0.0 threshold = 0.0\n",
      "M = 1000 N = 202 Meff = 1000\n",
      "θ = 0.0 threshold = 0.0\n",
      "M = 1000 N = 202 Meff = 1000\n",
      "θ = 0.0 threshold = 0.0\n",
      "M = 1000 N = 202 Meff = 1000\n",
      "θ = 0.0 threshold = 0.0\n",
      "M = 1000 N = 202 Meff = 1000\n",
      "θ = 0.0 threshold = 0.0\n",
      "M = 1000 N = 202 Meff = 1000\n",
      "θ = 0.0 threshold = 0.0\n",
      "M = 1000 N = 202 Meff = 1000\n",
      "θ = 0.0 threshold = 0.0\n",
      "M = 1000 N = 202 Meff = 1000\n",
      "θ = 0.0 threshold = 0.0\n",
      "M = 1000 N = 202 Meff = 1000\n",
      "θ = 0.0 threshold = 0.0\n",
      "M = 1000 N = 202 Meff = 1000\n",
      "θ = 0.0 threshold = 0.0\n",
      "M = 1000 N = 202 Meff = 1000\n",
      "θ = 0.0 threshold = 0.0\n",
      "M = 1000 N = 202 Meff = 1000\n",
      "θ = 0.0 threshold = 0.0\n",
      "M = 1000 N = 202 Meff = 1000\n",
      "θ = 0.0 threshold = 0.0\n",
      "M = 1000 N = 202 Meff = 1000\n",
      "θ = 0.0 threshold = 0.0\n",
      "M = 1000 N = 202 Meff = 1000\n",
      "θ = 0.0 threshold = 0.0\n",
      "M = 1000 N = 202 Meff = 1000\n",
      "θ = 0.0 threshold = 0.0\n",
      "M = 1000 N = 202 Meff = 1000\n",
      "θ = 0.0 threshold = 0.0\n",
      "M = 1000 N = 202 Meff = 1000\n",
      "θ = 0.0 threshold = 0.0\n",
      "M = 1000 N = 202 Meff = 1000\n",
      "θ = 0.0 threshold = 0.0\n",
      "M = 1000 N = 202 Meff = 1000\n",
      "θ = 0.0 threshold = 0.0\n",
      "M = 1000 N = 202 Meff = 1000\n",
      "θ = 0.0 threshold = 0.0\n",
      "M = 1000 N = 202 Meff = 1000\n",
      "θ = 0.0 threshold = 0.0\n",
      "M = 1000 N = 202 Meff = 1000\n",
      "θ = 0.0 threshold = 0.0\n",
      "M = 1000 N = 202 Meff = 1000\n",
      "θ = 0.0 threshold = 0.0\n",
      "M = 1000 N = 202 Meff = 1000\n",
      "θ = 0.0 threshold = 0.0\n",
      "M = 1000 N = 202 Meff = 1000\n",
      "θ = 0.0 threshold = 0.0\n",
      "M = 1000 N = 202 Meff = 1000\n",
      "θ = 0.0 threshold = 0.0\n",
      "M = 1000 N = 202 Meff = 1000\n",
      "θ = 0.0 threshold = 0.0\n",
      "M = 1000 N = 202 Meff = 1000\n",
      "θ = 0.0 threshold = 0.0\n",
      "M = 1000 N = 202 Meff = 1000\n",
      "θ = 0.0 threshold = 0.0\n",
      "M = 1000 N = 202 Meff = 1000\n",
      "θ = 0.0 threshold = 0.0\n",
      "M = 1000 N = 202 Meff = 1000\n",
      "θ = 0.0 threshold = 0.0\n",
      "M = 1000 N = 202 Meff = 1000\n",
      "θ = 0.0 threshold = 0.0\n",
      "M = 1000 N = 202 Meff = 1000\n",
      "θ = 0.0 threshold = 0.0\n",
      "M = 1000 N = 202 Meff = 1000\n",
      "θ = 0.0 threshold = 0.0\n",
      "M = 1000 N = 202 Meff = 1000\n",
      "θ = 0.0 threshold = 0.0\n",
      "M = 1000 N = 202 Meff = 1000\n",
      "θ = 0.0 threshold = 0.0\n",
      "M = 1000 N = 202 Meff = 1000\n",
      "θ = 0.0 threshold = 0.0\n",
      "M = 1000 N = 202 Meff = 1000\n",
      "θ = 0.0 threshold = 0.0\n",
      "M = 1000 N = 202 Meff = 1000\n",
      "θ = 0.0 threshold = 0.0\n",
      "M = 1000 N = 202 Meff = 1000\n",
      "θ = 0.0 threshold = 0.0\n",
      "M = 1000 N = 202 Meff = 1000\n",
      "θ = 0.0 threshold = 0.0\n",
      "M = 1000 N = 202 Meff = 1000\n",
      "θ = 0.0 threshold = 0.0\n",
      "M = 1000 N = 202 Meff = 1000\n",
      "θ = 0.0 threshold = 0.0\n",
      "M = 1000 N = 202 Meff = 1000\n",
      "θ = 0.0 threshold = 0.0\n",
      "M = 1000 N = 202 Meff = 1000\n",
      "θ = 0.0 threshold = 0.0\n",
      "M = 1000 N = 202 Meff = 1000\n",
      "θ = 0.0 threshold = 0.0\n",
      "M = 1000 N = 202 Meff = 1000\n",
      "θ = 0.0 threshold = 0.0\n",
      "M = 1000 N = 202 Meff = 1000\n",
      "θ = 0.0 threshold = 0.0\n",
      "M = 1000 N = 202 Meff = 1000\n",
      "θ = 0.0 threshold = 0.0\n",
      "M = 1000 N = 202 Meff = 1000\n",
      "θ = 0.0 threshold = 0.0\n",
      "M = 1000 N = 202 Meff = 1000\n",
      "θ = 0.0 threshold = 0.0\n",
      "M = 1000 N = 202 Meff = 1000\n",
      "θ = 0.0 threshold = 0.0\n",
      "M = 1000 N = 202 Meff = 1000\n",
      "θ = 0.0 threshold = 0.0\n",
      "M = 1000 N = 202 Meff = 1000\n",
      "θ = 0.0 threshold = 0.0\n",
      "M = 1000 N = 202 Meff = 1000\n",
      "θ = 0.0 threshold = 0.0\n",
      "M = 1000 N = 202 Meff = 1000\n",
      "θ = 0.0 threshold = 0.0\n",
      "M = 1000 N = 202 Meff = 1000\n",
      "θ = 0.0 threshold = 0.0\n",
      "M = 1000 N = 202 Meff = 1000\n",
      "θ = 0.0 threshold = 0.0\n",
      "M = 1000 N = 202 Meff = 1000\n",
      "θ = 0.0 threshold = 0.0\n",
      "M = 1000 N = 202 Meff = 1000\n",
      "θ = 0.0 threshold = 0.0\n",
      "M = 1000 N = 202 Meff = 1000\n",
      "θ = 0.0 threshold = 0.0\n",
      "M = 1000 N = 202 Meff = 1000\n",
      "θ = 0.0 threshold = 0.0\n",
      "M = 1000 N = 202 Meff = 1000\n",
      "θ = 0.0 threshold = 0.0\n",
      "M = 1000 N = 202 Meff = 1000\n",
      "θ = 0.0 threshold = 0.0\n",
      "M = 1000 N = 202 Meff = 1000\n",
      "θ = 0.0 threshold = 0.0\n",
      "M = 1000 N = 202 Meff = 1000\n",
      "θ = 0.0 threshold = 0.0\n",
      "M = 1000 N = 202 Meff = 1000\n",
      "θ = 0.0 threshold = 0.0\n",
      "M = 1000 N = 202 Meff = 1000\n",
      "θ = 0.0 threshold = 0.0\n",
      "M = 1000 N = 202 Meff = 1000\n",
      "θ = 0.0 threshold = 0.0\n",
      "M = 1000 N = 202 Meff = 1000\n",
      "θ = 0.0 threshold = 0.0\n",
      "M = 1000 N = 202 Meff = 1000\n",
      "θ = 0.0 threshold = 0.0\n",
      "M = 1000 N = 202 Meff = 1000\n",
      "θ = 0.0 threshold = 0.0\n",
      "M = 1000 N = 202 Meff = 1000\n",
      "θ = 0.0 threshold = 0.0\n",
      "M = 1000 N = 202 Meff = 1000\n",
      "θ = 0.0 threshold = 0.0\n",
      "M = 1000 N = 202 Meff = 1000\n",
      "θ = 0.0 threshold = 0.0\n",
      "M = 1000 N = 202 Meff = 1000\n",
      "θ = 0.0 threshold = 0.0\n",
      "M = 1000 N = 202 Meff = 1000\n",
      "θ = 0.0 threshold = 0.0\n",
      "M = 1000 N = 202 Meff = 1000\n",
      "θ = 0.0 threshold = 0.0\n",
      "M = 1000 N = 202 Meff = 1000\n",
      "θ = 0.0 threshold = 0.0\n",
      "M = 1000 N = 202 Meff = 1000\n",
      "θ = 0.0 threshold = 0.0\n",
      "M = 1000 N = 202 Meff = 1000\n",
      "θ = 0.0 threshold = 0.0\n",
      "M = 1000 N = 202 Meff = 1000\n"
     ]
    }
   ],
   "source": [
    "L = length(pse_amino_seq)\n",
    "freqs = [reshape(compute_weighted_frequencies(Int8.(MSA'),0)[1],(20, L)) \n",
    "        for MSA in step_matrices]\n",
    "entr = [get_entropy(f) for f in freqs]\n",
    "writedlm(\"../data/figures/data_fig2/evol_entr_betalac\", entr)"
   ]
  },
  {
   "cell_type": "code",
   "execution_count": 15,
   "id": "92acf192-d05a-421e-9c14-0515d2b16e48",
   "metadata": {},
   "outputs": [
    {
     "name": "stdout",
     "output_type": "stream",
     "text": [
      "10\n",
      "20\n",
      "30\n",
      "40\n",
      "50\n",
      "60\n",
      "70\n",
      "80\n",
      "90\n",
      "100\n",
      " 95.942394 seconds (3.93 M allocations: 739.275 MiB, 0.52% gc time, 2.72% compilation time)\n"
     ]
    }
   ],
   "source": [
    "mask = zeros(112)\n",
    "for i in 1:112\n",
    "    if i < 8\n",
    "        mask[i] = 1\n",
    "    end\n",
    "    if i < 20 && i > 8\n",
    "        if i % 3 == 0\n",
    "            mask[i] = 1\n",
    "        end\n",
    "    else\n",
    "        if i % 5 == 0\n",
    "            mask[i] = 1\n",
    "        end\n",
    "    end\n",
    "end\n",
    "\n",
    "\n",
    "mask = mask .== 1\n",
    "\n",
    "\n",
    "n = 100\n",
    "folder_path = \"../data/chains/files_amino_mixed_pse_steps60000000_seqs1000_T1.0p0.5\"\n",
    "@time write_cde_of_chains(folder_path, \"../data/figures/data_fig2/cde_chains\", mask, h, J, 100)"
   ]
  },
  {
   "cell_type": "code",
   "execution_count": 16,
   "id": "0c5775c2-447f-4897-a7b6-f520f6b3e807",
   "metadata": {},
   "outputs": [],
   "source": [
    "X = [n^(3.8) for n in 1:112]\n",
    "writedlm(\"../data/figures/data_fig2/mcmc_steps_betalac\", X)"
   ]
  },
  {
   "cell_type": "code",
   "execution_count": null,
   "id": "cc67771e-d98f-4559-8f34-07cbd13001ca",
   "metadata": {},
   "outputs": [],
   "source": []
  }
 ],
 "metadata": {
  "kernelspec": {
   "display_name": "Julia 1.10.0",
   "language": "julia",
   "name": "julia-1.10"
  },
  "language_info": {
   "file_extension": ".jl",
   "mimetype": "application/julia",
   "name": "julia",
   "version": "1.10.0"
  }
 },
 "nbformat": 4,
 "nbformat_minor": 5
}
