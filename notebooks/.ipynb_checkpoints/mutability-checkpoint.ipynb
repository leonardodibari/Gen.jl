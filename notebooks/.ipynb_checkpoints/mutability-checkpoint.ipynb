{
 "cells": [
  {
   "cell_type": "code",
   "execution_count": 1,
   "id": "a91796ab-4266-42a6-8983-64b1a9dddc47",
   "metadata": {
    "tags": []
   },
   "outputs": [],
   "source": [
    "## Include packages\n",
    "\n",
    "using DelimitedFiles\n",
    "using DCAUtils\n",
    "using Statistics\n",
    "using KitMSA\n",
    "using FastaIO\n",
    "using LinearAlgebra\n",
    "using StatsBase\n",
    "\n",
    "include(\"../src/read_write.jl\")\n",
    "include(\"../src/energy.jl\")\n",
    "include(\"../src/msa_tools.jl\")\n",
    "include(\"../src/extra_tools.jl\")\n",
    ";"
   ]
  },
  {
   "cell_type": "code",
   "execution_count": 7,
   "id": "26ec9b7a-d293-46ca-ad47-5bca1501abbb",
   "metadata": {},
   "outputs": [],
   "source": [
    "PATH_PAR_dbd = \"../data/model_parameters/Parameters_conv_Thr-PCD40.dat\"\n",
    "htmp, Jtmp = KitMSA.read_par_BM(PATH_PAR_dbd)\n",
    "h = KitMSA.set_max_field_to_0(htmp)\n",
    "J = KitMSA.symmetrize_J(Jtmp)\n",
    "maximum(J)\n",
    ";"
   ]
  },
  {
   "cell_type": "code",
   "execution_count": 8,
   "id": "e8e6014f-d48d-4392-9247-f24a5c5d7995",
   "metadata": {},
   "outputs": [
    {
     "data": {
      "text/plain": [
       "cde_chain (generic function with 1 method)"
      ]
     },
     "execution_count": 8,
     "metadata": {},
     "output_type": "execute_result"
    }
   ],
   "source": [
    "function compare_seq(a::Array{Int8,1}, b::Array{Int8,1})\n",
    "    if a == b\n",
    "        return 0\n",
    "    else\n",
    "        return findall(a .!= b)[1]\n",
    "    end\n",
    "end\n",
    "\n",
    "function find_positions(msa)\n",
    "    \n",
    "    return [compare_seq(msa[j-1,:], msa[j,:]) for j in 2:length(msa[:,1])]\n",
    "        \n",
    "end\n",
    "\n",
    "\n",
    "function mut_effect_WTtoB_one_seq(h::Array{Float64,2}, J::Array{Float64,4}, \n",
    "        seq, mut_s, b)\n",
    "    \n",
    "    seq_pre = deepcopy(seq)\n",
    "    seq_post = deepcopy(seq)\n",
    "    \n",
    "    seq_post[mut_s] = b\n",
    "    \n",
    "    return delta_energy(h,J, seq_post, seq_pre)\n",
    "    \n",
    "end\n",
    "\n",
    "\n",
    "function mut_effect_WTtoA_one_seq(h::Array{Float64,2}, J::Array{Float64,4}, \n",
    "        seq, mut_s, a)\n",
    "    \n",
    "    seq_pre = deepcopy(seq)\n",
    "    seq_post = deepcopy(seq)\n",
    "    \n",
    "    seq_post[mut_s] = a\n",
    "    \n",
    "    return delta_energy(h,J, seq_post, seq_pre)\n",
    "    \n",
    "end\n",
    "\n",
    "   \n",
    "function cont_entr_over_time(h::Array{Float64,2}, J::Array{Float64,4}, \n",
    "        seq_chain::Array{Int8,2}, mut_t, mut_s, a, b, window)\n",
    "    \n",
    "    res = Array{Float64}(undef,2*window+1)\n",
    "    idx = 0\n",
    "    for i in mut_t-window:mut_t\n",
    "        idx+=1\n",
    "        \n",
    "        if seq_chain[i,:] == seq_chain[i-1,:] \n",
    "            #println(\"no mut\")\n",
    "            if idx !=1\n",
    "                res[idx] = res[idx-1]\n",
    "            end\n",
    "        else        \n",
    "            res[idx] = mut_effect_WTtoB_one_seq(h, J, seq_chain[i,:], mut_s, b)\n",
    "        end\n",
    "    end\n",
    "\n",
    "    for i in mut_t+1:mut_t+window\n",
    "        idx+=1\n",
    "        \n",
    "        if seq_chain[i,:] == seq_chain[i-1,:] \n",
    "            #println(\"no mut\")\n",
    "            if idx !=1\n",
    "                res[idx] = res[idx-1]\n",
    "            end\n",
    "        else        \n",
    "            res[idx] = mut_effect_WTtoA_one_seq(h, J, seq_chain[i,:], mut_s, a)\n",
    "        end\n",
    "    end\n",
    "\n",
    "    return res\n",
    "end\n",
    "\n",
    "function cont_entr_setofmuts(h::Array{Float64,2}, J::Array{Float64,4}, \n",
    "        seq_chain::Array{Int8,2}, mut_times::Array{Int64,1}, \n",
    "        mut_sites::Array{Int64,1}, a, b, n_muts, start_t,window)\n",
    "    res = Array{Float64}(undef, n_muts, 2*window+1)\n",
    "    for i in 1:n_muts\n",
    "        res[i,:] = cont_entr_over_time(h, J, \n",
    "            seq_chain, mut_times[start_t+i], mut_sites[start_t+i], \n",
    "            a[start_t+i], b[start_t+i], window)\n",
    "    end\n",
    "    return res\n",
    "end\n",
    "\n",
    "function cont_entr_setofmuts_eachstep(h::Array{Float64,2}, J::Array{Float64,4}, \n",
    "        seq_chain::Array{Int8,2}, mut_times::Array{Int64,1}, \n",
    "        mut_sites::Array{Int64,1}, a, b, window, mut_range)\n",
    "    res = Array{Float64}(undef, length(mut_range), 2*window+1)\n",
    "    idx = 0\n",
    "    for i in mut_range\n",
    "        idx +=1\n",
    "        res[idx,:] = cont_entr_over_time(h, J, seq_chain, mut_times[i], mut_sites[i], \n",
    "            a[i], b[i], window)\n",
    "    end\n",
    "    return res\n",
    "end\n",
    "\n",
    "function get_entropy(f; q =21)\n",
    "    N=length(f[1,:])\n",
    "    entr = zeros(Float64, N)\n",
    "    for i in 1:N\n",
    "        for a in 1:q\n",
    "            if(f[a,i]>0)\n",
    "                entr[i]-=f[a,i]*log(f[a,i])\n",
    "            end\n",
    "        end\n",
    "    end\n",
    "    \n",
    "    return entr\n",
    "end\n",
    "\n",
    "function proba_DNA_gibbs_without_deg(k, mutated_seq, h, J, N; q = 21, T = 1)\n",
    "\tprob = zeros(q)\n",
    "\tfor i in 1:q\n",
    "        q_k = i\n",
    "\t\tlog_proba = h[q_k, k]\n",
    " \t\tfor j in 1:N\n",
    "\t\t\tlog_proba += J[mutated_seq[j], q_k , j, k]\n",
    "        end#\n",
    "\t\tprob[i] = exp(log_proba/T)\n",
    "\tend\n",
    "\treturn normalize(prob,1)\n",
    "    \n",
    "end\n",
    "\n",
    "function cont_dep_entr_without_deg(background, h, J; q =21, T =1)\n",
    "    \n",
    "    N = length(background)\n",
    "    \n",
    "    prob = hcat([ProbabilityWeights(proba_DNA_gibbs_without_deg(pos_mut, background, h, J, N, T=T, q=q)) for pos_mut in 1:N]...)\n",
    "\n",
    "    return get_entropy(prob, q = q)[:]\n",
    "end\n",
    "\n",
    "function write_cde_of_chains(folder, out_path, mask, h, J, n)\n",
    "    fasta_files = filter(file -> endswith(file, \".mixedDNA\"), readdir(folder))\n",
    "    res = []\n",
    "    for i in 1:n\n",
    "        chain = Int8.(fasta2matrix(joinpath(folder_path, fasta_files[i])))[mask,:]\n",
    "        cde_msa = hcat([cont_dep_entr_without_deg(chain[step,:], h, J, q= 21) \n",
    "                for step in 1:length(chain[:,1])]...)'\n",
    "        push!(res, vec(cde_msa))\n",
    "        if i %10 == 0\n",
    "            println(i)\n",
    "        end\n",
    "    end\n",
    "    writedlm(out_path, hcat(res...))\n",
    "    return hcat(res...)\n",
    "end\n",
    "\n",
    "function cde_1site(site, background, h, J; q = 21,  T = 1)\n",
    "  \n",
    "    N = length(background)\n",
    "    prob = ProbabilityWeights(proba_DNA_gibbs_without_deg(site, \n",
    "            background, h, J, N, T = T, q = q))\n",
    "    return get_entropy(prob, q = q)\n",
    "end\n",
    "\n",
    "\n",
    "function cde_chain(chain, h, J)\n",
    "    \n",
    "    res = zeros(size(chain))\n",
    "    \n",
    "    res[1,:] = cont_dep_entr_without_deg(chain[1,:], h, J, q= 21)[:] \n",
    "    \n",
    "    for i in 2:size(chain, 1)\n",
    "        if matrices[i,:] == matrices\n",
    "            res[i,:] = res[i-1, :]\n",
    "        else \n",
    "            res[i,:] = cont_dep_entr_without_deg(chain[i,:], h, J, q= 21)[:]\n",
    "        end\n",
    "    end\n",
    "    \n",
    "    return res\n",
    "end"
   ]
  },
  {
   "cell_type": "code",
   "execution_count": 9,
   "id": "343d2f5e-5aa4-4d72-a46a-b02384625c1f",
   "metadata": {},
   "outputs": [],
   "source": [
    "path_wt_pse = \"../data/alignments/refs/PSE1_pfam_DNA.fasta\"\n",
    "\n",
    "#load wt\n",
    "wt_pse = join(readdlm(path_wt_pse, skipstart = 1))\n",
    "L_pse = Int64(length(wt_pse)/3)\n",
    "pse_DNA_seq = [wt_pse[((i-1)*3 +1):(i*3)] for i in 1:L_pse]\n",
    "pse_amino_seq = [cod2amino[codon] for codon in pse_DNA_seq]\n",
    "path_beta = \"../data/alignments/natural/PF13354_noinsert_max19gaps_nodupl_noclose.faa\"\n",
    "nat_beta = Int8.(fasta2matrix(path_beta))\n",
    "path_nat = \"../data/alignments/natural/PF13354_noinsert_max19gaps_nodupl_noclose.faa\"\n",
    "nat_MSA = Int8.(fasta2matrix(path_nat))\n",
    "path_dbd = \"../data/alignments/natural/DBD_alignment.uniref90.cov80.a2m\"\n",
    "nat_dbd = Int8.(fasta2matrix(path_dbd))\n",
    ";"
   ]
  },
  {
   "cell_type": "code",
   "execution_count": 274,
   "id": "8a8fe45e-9862-410e-b631-d9f470451cac",
   "metadata": {},
   "outputs": [
    {
     "name": "stdout",
     "output_type": "stream",
     "text": [
      " 13.315914 seconds (30.00 M allocations: 3.766 GiB, 4.46% gc time)\n",
      "  0.024764 seconds (116.99 k allocations: 13.587 MiB)\n"
     ]
    }
   ],
   "source": [
    "folder_path2 = \"../../scra_data_beta/amino_mixed_dbd_steps5000000_seqs2_T1.0p0.5/equil_det_bal_dbd_silico_chain_num_1_T_1.0.mixedDNA\"\n",
    "@time matrices = Int8.(fasta2matrix(folder_path2))[1:50001, :]\n",
    "@time pos = find_positions(matrices)\n",
    "mut_times = [i for (i, val) in enumerate(pos) if val != 0]\n",
    "mut_sites = [val for val in pos if val != 0]\n",
    "mut_ab = [sum(mut_sites .== i) ./length(mut_sites) for i in 1:size(matrices,2)];\n",
    ";"
   ]
  },
  {
   "cell_type": "code",
   "execution_count": 284,
   "id": "39e57839-fc89-4dff-8da4-a394b85316b8",
   "metadata": {},
   "outputs": [
    {
     "name": "stdout",
     "output_type": "stream",
     "text": [
      "  0.045682 seconds (254.48 k allocations: 28.320 MiB)\n"
     ]
    }
   ],
   "source": [
    "folder_path2 = \"../../scra_data_beta/seqs_ev_wtThornton_100000steps_100000stored\"\n",
    "\n",
    "function read_sequences(filename::AbstractString)\n",
    "    sequences = Vector{Vector{Char}}()  # Vector of Vector{Char}\n",
    "    \n",
    "    # Open the file\n",
    "    open(filename) do file\n",
    "        for line in eachline(file)\n",
    "            # Check if the line contains a sequence\n",
    "            if !startswith(line, \"step\") && !isempty(strip(line))\n",
    "                push!(sequences, collect(line))\n",
    "            end\n",
    "        end\n",
    "    end\n",
    "    \n",
    "    return sequences\n",
    "end\n",
    "\n",
    "# Usage example\n",
    "sequences = read_sequences(folder_path2)\n",
    "\n",
    "matrices = Int8.(hcat([Int8.(letter2num.(seq)) for seq in sequences]...)')\n",
    "@time pos = find_positions(matrices)\n",
    "mut_times = [i for (i, val) in enumerate(pos) if val != 0]\n",
    "mut_sites = [val for val in pos if val != 0]\n",
    "mut_ab = [sum(mut_sites .== i) ./length(mut_sites) for i in 1:size(matrices,2)];\n",
    ";"
   ]
  },
  {
   "cell_type": "code",
   "execution_count": 39,
   "id": "dec2dbea-17e4-4082-917b-5ab6cfed152c",
   "metadata": {
    "tags": []
   },
   "outputs": [],
   "source": [
    "cde_nat = readdlm(\"../data/figures/suppl_data_fig2/cde_dbd\", '\\t') ./ log(2)\n",
    ";"
   ]
  },
  {
   "cell_type": "code",
   "execution_count": 12,
   "id": "b7917c6d-20a6-4c6a-a5fa-a703d0251701",
   "metadata": {
    "tags": []
   },
   "outputs": [
    {
     "name": "stdout",
     "output_type": "stream",
     "text": [
      "θ = 0.2 threshold = 15.0\n",
      "M = 24944 N = 76 Meff = 3129.1468140631705\n",
      "  5.218927 seconds (251.86 k allocations: 66.062 MiB, 5.29% compilation time)\n"
     ]
    }
   ],
   "source": [
    "L = 76\n",
    "@time freqs_nat = reshape(compute_weighted_frequencies(Int8.(nat_dbd'), 0.2)[1], (20, L))\n",
    "gap_f = 1 .- [sum(freqs_nat[:,i]) for i in 1:76]\n",
    "freqs_nat_gap = rand(21,76)\n",
    "freqs_nat_gap[1:20,:] = freqs_nat\n",
    "freqs_nat_gap[21,:] = gap_f\n",
    "entr_nat = get_entropy(freqs_nat_gap) ./log(2)\n",
    ";"
   ]
  },
  {
   "cell_type": "code",
   "execution_count": 255,
   "id": "da5f04ff-9083-410d-aae6-4f53c5e11e52",
   "metadata": {},
   "outputs": [
    {
     "data": {
      "text/plain": [
       "find_ones (generic function with 1 method)"
      ]
     },
     "execution_count": 255,
     "metadata": {},
     "output_type": "execute_result"
    }
   ],
   "source": [
    "find_ones(arr) = [i for (i, val) in enumerate(arr) if val == 1]"
   ]
  },
  {
   "cell_type": "code",
   "execution_count": 275,
   "id": "80083716-3039-4729-8850-cd4b5fe80a3d",
   "metadata": {},
   "outputs": [],
   "source": [
    "cde_mut = []\n",
    "cie_mut = []\n",
    "for i in 1:length(mut_sites)\n",
    "    push!(cie_mut, entr_nat[mut_sites[i]])\n",
    "    push!(cde_mut, cde_1site(mut_sites[i], matrices[mut_times[i],:], h, J, q = 21)[1] / log(2))\n",
    "end\n"
   ]
  },
  {
   "cell_type": "code",
   "execution_count": 276,
   "id": "44c1ab7c-d262-4ffe-bc5a-bd16cd30420a",
   "metadata": {},
   "outputs": [],
   "source": [
    "cde_t = cde_chain(matrices, h, J) ./log(2);"
   ]
  },
  {
   "cell_type": "code",
   "execution_count": 263,
   "id": "498d9abd-616b-4447-ac15-8840b3977d28",
   "metadata": {},
   "outputs": [
    {
     "data": {
      "text/plain": [
       "60"
      ]
     },
     "execution_count": 263,
     "metadata": {},
     "output_type": "execute_result"
    }
   ],
   "source": [
    "ep = findmax(entr_nat .- cde_t[1,:])[2]\n",
    "var = findmax(entr_nat)[2]\n",
    "cons = findmin(entr_nat)[2]\n",
    "cas = 60"
   ]
  },
  {
   "cell_type": "code",
   "execution_count": 286,
   "id": "e2f883e1-475c-4710-9d5e-8f10ffc8d627",
   "metadata": {},
   "outputs": [
    {
     "data": {
      "image/png": "[encoded data removed]",
      "text/plain": [
       "Figure(PyObject <Figure size 640x480 with 1 Axes>)"
      ]
     },
     "metadata": {},
     "output_type": "display_data"
    }
   ],
   "source": [
    "plt.scatter(cde_t[1,:], entr_nat)\n",
    "plt.scatter(cde_t[1, ep], entr_nat[ep], label =\"Site $(ep)\")\n",
    "plt.scatter(cde_t[1, var], entr_nat[var],  label =\"Site $(var)\")\n",
    "plt.scatter(cde_t[1, cas], entr_nat[cas],  label =\"Site $(cas)\")\n",
    "plt.scatter(cde_t[1, mut_ab .< 0.002], entr_nat[mut_ab .< 0.002],  label =\"Sites mutating <10 times\")\n",
    "plt.xlabel(\"CDE wt\")\n",
    "plt.ylabel(\"CIE\")\n",
    "plt.legend()\n",
    "savefig(\"../start.png\")"
   ]
  },
  {
   "cell_type": "code",
   "execution_count": 278,
   "id": "2b614f2a-ef9c-4ff2-bc48-74a461edefc4",
   "metadata": {},
   "outputs": [
    {
     "data": {
      "image/png": "[encoded data removed]",
      "text/plain": [
       "Figure(PyObject <Figure size 640x480 with 1 Axes>)"
      ]
     },
     "metadata": {},
     "output_type": "display_data"
    }
   ],
   "source": [
    "site = ep\n",
    "plt.hist(cde_nat[:,site], alpha = 0.5, weights = ones(size(cde_nat[:,site])) ./ size(cde_nat[:,site]), histtype= \"step\", linewidth = 3, label = \"Nat\")\n",
    "plt.hist(cde_t[:,site], alpha = 0.5,  weights = ones(size(cde_t[:,site])) ./ size(cde_t[:,site]),  histtype= \"step\", linewidth = 3, label = \"Evol\")\n",
    "plt.hist(cde_mut[mut_sites .== site], alpha = 0.5, weights = ones(size(cde_mut[mut_sites .== site])) ./ size(cde_mut[mut_sites .== site]),  histtype= \"step\", linewidth = 3, label = \"Mut\")\n",
    "plt.title(\"Most epistatic (site $(ep))\")\n",
    "plt.legend()\n",
    "savefig(\"../ep_nucl.png\")"
   ]
  },
  {
   "cell_type": "code",
   "execution_count": 279,
   "id": "fdf7c6ab-6528-4dbe-826e-e840f81b6f36",
   "metadata": {},
   "outputs": [
    {
     "data": {
      "image/png": "[encoded data removed]",
      "text/plain": [
       "Figure(PyObject <Figure size 640x480 with 1 Axes>)"
      ]
     },
     "metadata": {},
     "output_type": "display_data"
    }
   ],
   "source": [
    "site = var\n",
    "plt.hist(cde_nat[:,site], alpha = 0.5, weights = ones(size(cde_nat[:,site])) ./ size(cde_nat[:,site]), histtype= \"step\", linewidth = 3, label = \"Nat\")\n",
    "plt.hist(cde_t[:,site], alpha = 0.5,  weights = ones(size(cde_t[:,site])) ./ size(cde_t[:,site]),  histtype= \"step\", linewidth = 3, label = \"Evol\")\n",
    "plt.hist(cde_mut[mut_sites .== site], alpha = 0.5, weights = ones(size(cde_mut[mut_sites .== site])) ./ size(cde_mut[mut_sites .== site]),  histtype= \"step\", linewidth = 3, label = \"Mut\")\n",
    "plt.title(\"Most variable (site $(var))\")\n",
    "plt.legend()\n",
    "savefig(\"../var_nucl.png\")"
   ]
  },
  {
   "cell_type": "code",
   "execution_count": 280,
   "id": "98858ba5-01e7-4b7a-a06d-d1e75388dda0",
   "metadata": {},
   "outputs": [
    {
     "data": {
      "image/png": "[encoded data removed]",
      "text/plain": [
       "Figure(PyObject <Figure size 640x480 with 1 Axes>)"
      ]
     },
     "metadata": {},
     "output_type": "display_data"
    }
   ],
   "source": [
    "site = cas\n",
    "plt.hist(cde_nat[:,site], alpha = 0.5, weights = ones(size(cde_nat[:,site])) ./ size(cde_nat[:,site]), histtype= \"step\", linewidth = 3, label = \"Nat\")\n",
    "plt.hist(cde_t[:,site], alpha = 0.5,  weights = ones(size(cde_t[:,site])) ./ size(cde_t[:,site]),  histtype= \"step\", linewidth = 3, label = \"Evol\")\n",
    "plt.hist(cde_mut[mut_sites .== site], alpha = 0.5, weights = ones(size(cde_mut[mut_sites .== site])) ./ size(cde_mut[mut_sites .== site]),  histtype= \"step\", linewidth = 3, label = \"Mut\")\n",
    "plt.title(\"Casual (site $(cas))\")\n",
    "plt.legend()\n",
    "savefig(\"../cas_nucl.png\")"
   ]
  },
  {
   "cell_type": "code",
   "execution_count": null,
   "id": "d3957a70-ac8c-466b-a245-59b9ccf1e42b",
   "metadata": {},
   "outputs": [],
   "source": []
  }
 ],
 "metadata": {
  "kernelspec": {
   "display_name": "Julia 1.10.0",
   "language": "julia",
   "name": "julia-1.10"
  },
  "language_info": {
   "file_extension": ".jl",
   "mimetype": "application/julia",
   "name": "julia",
   "version": "1.10.0"
  }
 },
 "nbformat": 4,
 "nbformat_minor": 5
}
