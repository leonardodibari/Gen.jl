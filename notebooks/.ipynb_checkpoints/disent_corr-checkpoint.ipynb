{
 "cells": [
  {
   "cell_type": "code",
   "execution_count": 1,
   "id": "79b7cdb3-ec80-449e-85ed-46bfe5c0947b",
   "metadata": {},
   "outputs": [],
   "source": [
    "## Include packages\n",
    "\n",
    "using DelimitedFiles\n",
    "using DCAUtils\n",
    "using Statistics\n",
    "using KitMSA\n",
    "using FastaIO\n",
    "using LinearAlgebra\n",
    "using StatsBase\n",
    "using PyPlot\n",
    "using Random\n",
    ";"
   ]
  },
  {
   "cell_type": "code",
   "execution_count": 2,
   "id": "9e2f5816-1c9c-4451-9361-8a2a5224ad1f",
   "metadata": {},
   "outputs": [],
   "source": [
    "include(\"../src/read_write.jl\")\n",
    "include(\"../src/energy.jl\")\n",
    "include(\"../src/msa_tools.jl\")\n",
    "include(\"../src/extra_tools.jl\")\n",
    "include(\"../src/mutability.jl\")\n",
    ";"
   ]
  },
  {
   "cell_type": "code",
   "execution_count": 3,
   "id": "ca86cb92-90d5-4054-a31d-a960df48383e",
   "metadata": {},
   "outputs": [],
   "source": [
    "PATH_PAR_dbd = \"../data/model_parameters/Parameters_conv_Thr-PCD40.dat\"\n",
    "htmp, Jtmp = KitMSA.read_par_BM(PATH_PAR_dbd)\n",
    "h = KitMSA.set_max_field_to_0(htmp)\n",
    "J = KitMSA.symmetrize_J(Jtmp)\n",
    "maximum(J)\n",
    ";"
   ]
  },
  {
   "cell_type": "code",
   "execution_count": 18,
   "id": "ac7097a0-8760-4dfd-9c9e-bb2fada98435",
   "metadata": {},
   "outputs": [
    {
     "name": "stdout",
     "output_type": "stream",
     "text": [
      "θ = 0.2 threshold = 15.0\n",
      "M = 24944 N = 76 Meff = 3129.1468140631705\n",
      "θ = 0.2 threshold = 15.0\n",
      "M = 24944 N = 76 Meff = 3129.1468140631705\n"
     ]
    }
   ],
   "source": [
    "path_nat = \"../data/alignments/natural/DBD_alignment.uniref90.cov80.a2m\"\n",
    "nat_msa = Int8.(fasta2matrix(path_nat))\n",
    "w_nat = DCAUtils.compute_weights(Int8.(nat_msa'), 0.2)[1]\n",
    "M, L = size(nat_msa)\n",
    "f1_e, f2_e = DCAUtils.compute_weighted_frequencies(Int8.(nat_msa'), 22, 0.2)\n",
    "f1_rs_e = reshape(f1_e, (21,L))\n",
    "f2_rs_e = reshape(f2_e, (21,L,21,L))\n",
    "c_e = triu(f2_e - f1_e*f1_e', 21)\n",
    ";"
   ]
  },
  {
   "cell_type": "code",
   "execution_count": 19,
   "id": "fd056b86-e90a-49a6-a8b8-aa75a14f493b",
   "metadata": {},
   "outputs": [
    {
     "name": "stdout",
     "output_type": "stream",
     "text": [
      "θ = 0.2 threshold = 15.0\n",
      "M = 24944 N = 76 Meff = 3129.1468140631705\n"
     ]
    }
   ],
   "source": [
    "entr_nat = CIE(nat_msa); \n",
    "cde_nat = zeros(size(nat_msa))\n",
    "for s in 1:size(cde_nat,1)\n",
    "    cde_nat[s,:] = cont_dep_entr_without_deg(nat_msa[s,:], h, J, q = 21) \n",
    "end\n",
    "m_cde_nat = mean(cde_nat, weights(w_nat), dims = 1)[:];\n",
    "var_cde_nat = [var(cde_nat[:,i], weights(w_nat)) for i in 1:76];"
   ]
  },
  {
   "cell_type": "code",
   "execution_count": 20,
   "id": "9006b98c-1e8e-4762-a0f3-6e706985c137",
   "metadata": {},
   "outputs": [
    {
     "data": {
      "text/plain": [
       "recursivefind (generic function with 1 method)"
      ]
     },
     "execution_count": 20,
     "metadata": {},
     "output_type": "execute_result"
    }
   ],
   "source": [
    "function proba_1_point(seq, h, J, N; q = 21, T = 1)\n",
    "\tprob = zeros(q,N)\n",
    "    for site in 1:N\n",
    "        norm = 0 \n",
    "        for a in 1:q\n",
    "            log_proba = h[a, site]\n",
    "            for j in 1:N\n",
    "                log_proba += J[a, seq[j], site, j]\n",
    "            end\n",
    "            prob[a,site] = exp(log_proba/T)\n",
    "            norm += prob[a,site]\n",
    "        end\n",
    "        \n",
    "        for a in 1:q\n",
    "            prob[a,site] /= norm\n",
    "        end\n",
    "    end\n",
    "    return prob\n",
    "end\n",
    "\n",
    "function single_proba_2_point(a, b, i, j, seq, h, J, N, T)\n",
    "    log_proba = h[a, i] + h[b, j] + J[a, b, i, j]\n",
    "    for k in 1:N\n",
    "        if k !== j\n",
    "            log_proba += J[a,seq[k], i, k]\n",
    "        end\n",
    "    end\n",
    "    \n",
    "    for l in 1:N\n",
    "        if l !== i\n",
    "            log_proba += J[seq[l], b, l, j]\n",
    "        end\n",
    "    end\n",
    "    return exp(log_proba/T)\n",
    "end\n",
    "\n",
    "\n",
    "function dist_proba_2_point(i, j, seq, h, J, N, q, T) \n",
    "    res = zeros(q,q)\n",
    "    norm = 0.\n",
    "    for a in 1:q\n",
    "        for b in 1:q\n",
    "            res[a,b] = single_proba_2_point(a, b, i, j, seq, h, J, N, T)\n",
    "            norm += res[a,b]\n",
    "        end\n",
    "    end\n",
    "    return res/norm\n",
    "end\n",
    "\n",
    "\n",
    "function proba_2_point(seq, h, J, N; q = 21, T = 1) \n",
    "    res = zeros(q,L,q,L)\n",
    "    for i in 1:L\n",
    "        for j in 1:L\n",
    "            res[:,i,:,j] = dist_proba_2_point(i, j, seq, h, J, N, q, T) \n",
    "        end\n",
    "    end\n",
    "    return res\n",
    "end\n",
    "\n",
    "function recursivefind!(metric::Array{Float64,4},threshold::Float64, value::Int,site::Int,L::Int,q::Int)\n",
    "    \n",
    "    \n",
    "    cand = [(i,ai) for i in 1:L for ai in 1:q if metric[value,site, ai, i] > threshold]\n",
    "    new_cand = [couple for couple in cand if !(couple in coup_set)]\n",
    "    if length(new_cand) == 0\n",
    "        return coup_set\n",
    "    else\n",
    "        coup_set = vcat(coup_set, new_cand)\n",
    "        for couple in new_cand\n",
    "            coup_set = recursivefind!(metric,threshold,coup_set,couple[2],couple[1],L,q)\n",
    "        end\n",
    "    end\n",
    "    return coup_set\n",
    "end"
   ]
  },
  {
   "cell_type": "code",
   "execution_count": 24,
   "id": "58ee8190-1b5f-4eef-9a72-8145706a0ad2",
   "metadata": {},
   "outputs": [
    {
     "data": {
      "text/plain": [
       "clusterize (generic function with 1 method)"
      ]
     },
     "execution_count": 24,
     "metadata": {},
     "output_type": "execute_result"
    }
   ],
   "source": [
    "function clusterize(msa::Array{Int8,2}, cde_msa::Array{Float64,2}; \n",
    "        aa::Int=1, \n",
    "        site::Int=1,\n",
    "        acc = 1e-4,\n",
    "        n_points = 100)\n",
    "    \n",
    "    sub_msa = msa[(cde_msa[:, site] .< 1.) .&& (msa[:,site] .== aa), :]\n",
    "    seq = msa[1,:]#sub_msa[rand(1:size(sub_msa,1)),:]\n",
    "    \n",
    "    q = Int(maximum(nat_msa))\n",
    "    L = size(msa,2)\n",
    "    p1_rs = proba_1_point(seq, h, J, L);\n",
    "    p1 = reshape(p1_rs, L*21);\n",
    "    p2_rs = proba_2_point(seq, h, J, L);\n",
    "    p2 = reshape(p2_rs, (L*21, L*21));\n",
    "    c_m = triu(p2 - p1*p1', 21)\n",
    "    metric = reshape(c_m, (21, L, 21, L));\n",
    "    \n",
    "    n_points = round(Int, maximum(metric/acc))\n",
    "    treshs = [acc*(i) for i in 1:n_points]\n",
    "    cluster_length = zeros(n_points)\n",
    "    clusters = []\n",
    "    for i in 1:n_points\n",
    "        coup_set = Tuple{Int, Int}[]\n",
    "        push!(clusters, recursivefind!(metric, treshs[i], coup_set, aa, site, L, q))\n",
    "        cluster_length[i] = length(clusters[end])\n",
    "    end\n",
    "    plt.plot(treshs, cluster_length)\n",
    "    plt.xlabel(\"treshold\")\n",
    "    plt.ylabel(\"Cluster size\")\n",
    "    plt.title(\"aa_$(site)=$(aa)\")\n",
    "    savefig(\"../../cluster_a$(site)=$(aa).png\")\n",
    "    return seq, treshs, cluster_length, clusters, metric\n",
    "end\n",
    "        "
   ]
  },
  {
   "cell_type": "code",
   "execution_count": 26,
   "id": "1322efe4-bad2-468b-9897-6a5c91529aa8",
   "metadata": {},
   "outputs": [
    {
     "ename": "LoadError",
     "evalue": "UndefVarError: `recursivefind!` not defined",
     "output_type": "error",
     "traceback": [
      "UndefVarError: `recursivefind!` not defined",
      "",
      "Stacktrace:",
      " [1] recursivefind(metric::Array{Float64, 4}, threshold::Float64, value::Int64, site::Int64, L::Int64, q::Int64)",
      "   @ Main ./In[20]:71",
      " [2] clusterize(msa::Matrix{Int8}, cde_msa::Matrix{Float64}; aa::Int64, site::Int64, acc::Float64, n_points::Int64)",
      "   @ Main ./In[24]:24",
      " [3] clusterize",
      "   @ ./In[24]:1 [inlined]",
      " [4] macro expansion",
      "   @ ./timing.jl:279 [inlined]",
      " [5] top-level scope",
      "   @ ./In[26]:1"
     ]
    }
   ],
   "source": [
    "@time seq, treshs, cluster_length, clusters, metric = clusterize(nat_msa, cde_nat, \n",
    "    aa = 4, \n",
    "    site = 19, \n",
    "    acc = 1e-4, \n",
    "    n_points = 1000);"
   ]
  },
  {
   "cell_type": "code",
   "execution_count": 23,
   "id": "ea9330dd-4bf7-4f55-bdad-5ded54e991da",
   "metadata": {},
   "outputs": [
    {
     "ename": "LoadError",
     "evalue": "UndefVarError: `treshs` not defined",
     "output_type": "error",
     "traceback": [
      "UndefVarError: `treshs` not defined",
      "",
      "Stacktrace:",
      " [1] top-level scope",
      "   @ In[23]:1"
     ]
    }
   ],
   "source": [
    "plt.plot(treshs[100:300], cluster_length[100:300])"
   ]
  },
  {
   "cell_type": "code",
   "execution_count": null,
   "id": "1ed46f97-a235-4a19-8d73-7c8599916635",
   "metadata": {},
   "outputs": [],
   "source": []
  },
  {
   "cell_type": "code",
   "execution_count": null,
   "id": "8fab9aa4-033a-4837-9777-dda1e3004138",
   "metadata": {},
   "outputs": [],
   "source": []
  }
 ],
 "metadata": {
  "kernelspec": {
   "display_name": "Julia 1.10.0",
   "language": "julia",
   "name": "julia-1.10"
  },
  "language_info": {
   "file_extension": ".jl",
   "mimetype": "application/julia",
   "name": "julia",
   "version": "1.10.0"
  }
 },
 "nbformat": 4,
 "nbformat_minor": 5
}
