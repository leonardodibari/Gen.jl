{
 "cells": [
  {
   "cell_type": "code",
   "execution_count": 1,
   "id": "d4f1e5fd",
   "metadata": {
    "tags": []
   },
   "outputs": [],
   "source": [
    "using Distributed"
   ]
  },
  {
   "cell_type": "code",
   "execution_count": 2,
   "id": "708cdf01",
   "metadata": {
    "tags": []
   },
   "outputs": [
    {
     "data": {
      "text/plain": [
       "1-element Vector{Int64}:\n",
       " 1"
      ]
     },
     "execution_count": 2,
     "metadata": {},
     "output_type": "execute_result"
    }
   ],
   "source": [
    "workers()"
   ]
  },
  {
   "cell_type": "code",
   "execution_count": 3,
   "id": "d1a8bdb8",
   "metadata": {
    "tags": []
   },
   "outputs": [],
   "source": [
    "addprocs(30)\n",
    ";"
   ]
  },
  {
   "cell_type": "code",
   "execution_count": 4,
   "id": "8236f7c1",
   "metadata": {
    "tags": []
   },
   "outputs": [
    {
     "data": {
      "text/plain": [
       "30"
      ]
     },
     "execution_count": 4,
     "metadata": {},
     "output_type": "execute_result"
    }
   ],
   "source": [
    "nworkers()"
   ]
  },
  {
   "cell_type": "code",
   "execution_count": 5,
   "id": "1e49af85",
   "metadata": {
    "tags": []
   },
   "outputs": [
    {
     "name": "stderr",
     "output_type": "stream",
     "text": [
      "\u001b[32m\u001b[1mPrecompiling\u001b[22m\u001b[39m GLM\n",
      "\u001b[32m  ✓ \u001b[39m\u001b[90mOpenSpecFun_jll\u001b[39m\n",
      "\u001b[32m  ✓ \u001b[39m\u001b[90mSpecialFunctions\u001b[39m\n",
      "\u001b[32m  ✓ \u001b[39m\u001b[90mDualNumbers\u001b[39m\n",
      "\u001b[32m  ✓ \u001b[39m\u001b[90mHypergeometricFunctions\u001b[39m\n",
      "\u001b[32m  ✓ \u001b[39m\u001b[90mStatsFuns\u001b[39m\n",
      "\u001b[32m  ✓ \u001b[39m\u001b[90mStatsModels\u001b[39m\n",
      "\u001b[32m  ✓ \u001b[39m\u001b[90mDistributions\u001b[39m\n",
      "\u001b[32m  ✓ \u001b[39m\u001b[90mDistributions → DistributionsTestExt\u001b[39m\n",
      "\u001b[32m  ✓ \u001b[39mGLM\n",
      "  9 dependencies successfully precompiled in 26 seconds. 37 already precompiled.\n",
      "\u001b[32m\u001b[1mPrecompiling\u001b[22m\u001b[39m SpecialFunctionsExt\n",
      "\u001b[32m  ✓ \u001b[39m\u001b[90mColorVectorSpace → SpecialFunctionsExt\u001b[39m\n",
      "  1 dependency successfully precompiled in 3 seconds. 17 already precompiled.\n"
     ]
    }
   ],
   "source": [
    "@everywhere using FastaIO\n",
    "@everywhere using MultivariateStats\n",
    "@everywhere using LinearAlgebra\n",
    "@everywhere using DelimitedFiles\n",
    "@everywhere using StatsBase\n",
    "@everywhere using DCAUtils\n",
    "@everywhere using Plots\n",
    "@everywhere using Random\n",
    "@everywhere using Printf\n",
    "@everywhere using LinearAlgebra\n",
    "@everywhere using GLM\n",
    "@everywhere using Statistics\n",
    "@everywhere using KitMSA"
   ]
  },
  {
   "cell_type": "code",
   "execution_count": 6,
   "id": "c9356f9f",
   "metadata": {
    "tags": []
   },
   "outputs": [],
   "source": [
    "@everywhere include(\"../src/read_write.jl\")\n",
    "@everywhere include(\"../src/energy.jl\")\n",
    "@everywhere include(\"../src/msa_tools.jl\")\n",
    "@everywhere include(\"../src/extra_tools.jl\")"
   ]
  },
  {
   "cell_type": "code",
   "execution_count": 7,
   "id": "af852830",
   "metadata": {
    "tags": []
   },
   "outputs": [
    {
     "data": {
      "text/plain": [
       "plot_pca (generic function with 1 method)"
      ]
     },
     "execution_count": 7,
     "metadata": {},
     "output_type": "execute_result"
    }
   ],
   "source": [
    "\n",
    "\n",
    "function amino_seq2dna_seq(seq)\n",
    "    seq_dna=[]\n",
    "    for a in seq\n",
    "        push!(seq_dna, sample(amino2cod[a]))\n",
    "    end\n",
    "    return seq_dna\n",
    "end\n",
    "\n",
    "function dna_seq2amino_seq(seq_dna)\n",
    "    new = []\n",
    "    for a in seq_dna\n",
    "        push!(new, cod2amino[a])\n",
    "    end\n",
    "    return new\n",
    "end\n",
    "\n",
    "function pairwise_hamming(msa::Array{Int8,2})\n",
    "    num_seqs = size(msa, 1)\n",
    "    pairwise_distances = Array{Int,1}(undef, num_seqs*(num_seqs-1)÷2)\n",
    "    idx = 1\n",
    "    for i in 1:num_seqs-1\n",
    "        for j in i+1:num_seqs\n",
    "            dist = KitMSA.my_hamming(msa[i,:], msa[j,:])\n",
    "            pairwise_distances[idx] = dist\n",
    "            idx += 1\n",
    "        end\n",
    "    end\n",
    "    return pairwise_distances\n",
    "end\n",
    "\n",
    "\n",
    "function eliminate(msa, tresh, idx)\n",
    "    L = length(msa[idx,:])\n",
    "    trimmed_msa = []\n",
    "    for i in 1:length(msa[:,1])\n",
    "        d = KitMSA.my_hamming(msa[idx,:], msa[i,:])\n",
    "        if  d > L*tresh\n",
    "            push!(trimmed_msa, msa[i,:])\n",
    "        end\n",
    "    end\n",
    "    push!(trimmed_msa, msa[idx,:])\n",
    "    return hcat(trimmed_msa...)'\n",
    "end\n",
    "\n",
    "\n",
    "function reweighting(msa, tresh)\n",
    "    final_msa =[]\n",
    "    new_msa = deepcopy(msa)\n",
    "    a = 0\n",
    "    for i in 1:20000\n",
    "        new_msa = eliminate(new_msa, tresh, 1)\n",
    "    end    \n",
    "    println(length(new_msa[:,1]))\n",
    "    return new_msa\n",
    "end\n",
    "\n",
    "function project_pca(filename, label1, label2, eigenv, pc_ref, one_non_ref)\n",
    "    pc_proj = eigenv[:, [end, end-1]]'*one_non_ref'\n",
    "    scatter(pc_nat[1,:], pc_nat[2,:], alpha = 0.25, label= label1, legend=:topright)\n",
    "    scatter!(pc_proj[1,:], pc_proj[2,:], alpha = 0.25,color=:red, label= label2 )\n",
    "    savefig(filename)\n",
    "end\n",
    "\n",
    "function plot_pca(pc_ref, eigenv, matrices, filepath)\n",
    "    \n",
    "    for i in 1:length(matrices)\n",
    "        one_hot_proj = one_hot(matrices[i])\n",
    "        project_pca(joinpath(filepath, \"pca$(i).png\"), \"nat\", \"sil step $(i)\", eigenv, pc_ref, one_hot_proj)\n",
    "        println(i)\n",
    "    end\n",
    "end"
   ]
  },
  {
   "cell_type": "code",
   "execution_count": 8,
   "id": "80636e31",
   "metadata": {
    "tags": []
   },
   "outputs": [],
   "source": [
    "@everywhere function Delta_energy(h::Array{Float64,2}, J::Array{Float64,4}, \n",
    "        S::Array{<:Integer,1}, ref::Array{<:Integer, 1})\n",
    "    q, N = size(h)\n",
    "    E = 0.0\n",
    "    \n",
    "    index_v = collect(1:N)\n",
    "    common = (S .== ref)\n",
    "    idx = findfirst(isequal(false), common)\n",
    "    common = index_v[common]\n",
    "    #println(idx)\n",
    "    #println(common)\n",
    "    E -= (h[S[idx],idx] - h[ref[idx],idx])\n",
    "    @fastmath for j = 1:N\n",
    "        if j > idx\n",
    "            @inbounds  E -= (J[S[j],S[idx],j,idx] - J[ref[j],ref[idx],j,idx] )\n",
    "        end\n",
    "    end\n",
    "    \n",
    "    @fastmath for i in common\n",
    "        if idx > i\n",
    "            @inbounds  E -= (J[S[idx],S[i],idx,i] - J[ref[idx],ref[i],idx,i] )\n",
    "        end\n",
    "    end\n",
    "    \n",
    "    return E\n",
    "end\n"
   ]
  },
  {
   "cell_type": "code",
   "execution_count": 9,
   "id": "47455f52",
   "metadata": {
    "tags": []
   },
   "outputs": [],
   "source": [
    "@everywhere function get_accessible_nucleo_muts_metro_DNA_det_bal(old_cod)\n",
    "    if old_cod .== \"---\"\n",
    "        amino_list = [i for i in 1:21]\n",
    "        codon_list = reduce(vcat,[amino2cod[a] for a in amino_list])\n",
    "        codon_list = filter!(aa->aa != old_cod, codon_list)\n",
    "        push!(codon_list, \"TAG\")\n",
    "        push!(codon_list, \"TAA\")\n",
    "        push!(codon_list, \"TGA\")\n",
    "        return amino_list, codon_list\n",
    "    end\n",
    "    \n",
    "    old_codon = [string(old_cod[i]) for i in 1:3 ]\n",
    "\tcodon_list = Vector{AbstractString}(undef, 12)\n",
    "    \n",
    "    for i in 1:3\n",
    "        new_codon = deepcopy(old_codon)\n",
    "        for (j, nucl) in enumerate([\"A\", \"C\", \"G\", \"T\"]) \n",
    "            new_codon[i] = nucl\n",
    "            codon_list[(i-1)*4 + j] = join(new_codon)\n",
    "        end\n",
    "    end\n",
    "    \n",
    "    push!(codon_list, \"---\")\n",
    "\tamino_list = get.(Ref(cod2amino), codon_list, 0)\n",
    "\tamino_list = unique!(filter!(aa->aa != 21, amino_list))\n",
    "\n",
    "    #codon_list = filter!(aa->aa != \"TAA\", codon_list)\n",
    "    #codon_list = filter!(aa->aa != \"TAG\", codon_list)\n",
    "    #codon_list = filter!(aa->aa != \"TGA\", codon_list)\n",
    "    codon_list = filter!(aa->aa != old_cod, codon_list)\n",
    "    \n",
    "\tamino_list = get.(Ref(cod2amino), codon_list, 0)\n",
    "\t#amino_list = filter!(aa->aa != 21, amino_list)\n",
    "\n",
    "\treturn amino_list, codon_list\n",
    "end\n",
    "\n",
    "\n",
    "@everywhere function get_accessible_nucleo_for_del_ins(old_cod)\n",
    "\n",
    "    if old_cod .== \"---\"\n",
    "        amino_list = [i for i in 0:20]\n",
    "        amino_list[1] = 21\n",
    "        codon_list = reduce(vcat,[amino2cod[a] for a in amino_list])\n",
    "        #push!(codon_list, old_cod )\n",
    "        push!(codon_list, \"TAG\")\n",
    "        push!(codon_list, \"TAA\")\n",
    "        push!(codon_list, \"TGA\")\n",
    "        return amino_list, codon_list\n",
    "    else\n",
    "        codon_list = [\"---\"]\n",
    "        push!(codon_list, old_cod)\n",
    "        amino_list = get.(Ref(cod2amino), codon_list, 0)\n",
    "        #println(amino_list)\n",
    "        return amino_list, codon_list\n",
    "    end\n",
    "end\n",
    "   "
   ]
  },
  {
   "cell_type": "code",
   "execution_count": 10,
   "id": "7761be33",
   "metadata": {
    "tags": []
   },
   "outputs": [],
   "source": [
    "@everywhere mutable struct SeqToEvolve\n",
    "    Amino   :: Array{Int64}\n",
    "    DNA :: Array{AbstractString}\n",
    "end\n",
    "\n",
    "@everywhere function get_accessible_nucleo_muts_DNA_det_bal(old_codon, nucleo_pos::Integer)\n",
    "    old_codon = [string(old_codon[i]) for i in 1:3 ]\n",
    "\tcodon_list = Vector{AbstractString}(undef, 4)\n",
    "\tnew_codon = deepcopy(old_codon)\n",
    "\tfor (j, nucl) in enumerate([\"A\", \"C\", \"G\", \"T\"]) \n",
    "\t\tnew_codon[nucleo_pos] = nucl\n",
    "\t\tcodon_list[j] = join(new_codon)\n",
    "\tend\n",
    "    \n",
    "    codon_list = filter!(aa->aa != \"TAA\", codon_list)\n",
    "    codon_list = filter!(aa->aa != \"TAG\", codon_list)\n",
    "    codon_list = filter!(aa->aa != \"TGA\", codon_list)\n",
    "    \n",
    "\tamino_list = get.(Ref(cod2amino), codon_list, 0)\n",
    "\t#amino_list = filter!(aa->aa != 21, amino_list)\n",
    "\n",
    "\treturn amino_list, codon_list\n",
    "end\n",
    "\n",
    "@everywhere function sum_couplings_inbounds(mutated_seq, q_k, k, J::Array{Float64,4}, N)\n",
    "    result = 0\n",
    "    @inbounds for i in 1:N\n",
    "        result += J[mutated_seq[i], q_k ,i, k]\n",
    "    end\n",
    "    return result\n",
    "end \n",
    "\n",
    "@everywhere function nucleo_cond_proba_DNA_gibbs(k, q, codon_list, mutated_seq, h::Array{Float64,2}, J::Array{Float64,4}, N::Integer,  T = 1)\n",
    "\tprob = zeros(length(codon_list))\n",
    "    #println(q)\n",
    "    #println(codon_list)\n",
    "\t@inbounds for (index, codon_k) in enumerate(codon_list)\n",
    "        #println(index)\n",
    "        q_k = q[index]\n",
    "        #println(q_k)\n",
    "        log_proba = h[q_k, k]-T*log(length(amino2cod[q_k]))\n",
    "        log_proba += sum_couplings_inbounds(mutated_seq, q_k, k, J, N)\n",
    "\t\tprob[index] = exp(log_proba/T)\n",
    "\tend\n",
    "\treturn normalize(prob,1)\n",
    "end\n",
    "\n",
    "\n",
    "\n",
    "@everywhere function log_p(mutated_seq, q_k, k, J::Array{Float64,4}, N::Integer,T=1)\n",
    "    \n",
    "    log_proba = h[q_k, k]-T*log(length(amino2cod[q_k]))\n",
    "    log_proba += sum_couplings_inbounds(mutated_seq, q_k, k, J, N)\n",
    "    return log_proba  \n",
    "end\n",
    "\n",
    "\n",
    "@everywhere function square_array(arr)\n",
    "    squares = Dict()\n",
    "    result = similar(arr)\n",
    "    for i in 1:length(arr)\n",
    "        if haskey(squares, arr[i])\n",
    "            result[i] = squares[arr[i]]\n",
    "            println(\"not computed\")\n",
    "        else\n",
    "            square = arr[i]^2\n",
    "            squares[arr[i]] = square\n",
    "            result[i] = square\n",
    "            println(\"computed\")\n",
    "        end\n",
    "    end\n",
    "    return result\n",
    "end\n",
    "\n",
    "\n",
    "@everywhere function nucleo_cond_proba_DNA_gibbs_new(k, q, codon_list, mutated_seq, h::Array{Float64,2}, J::Array{Float64,4}, N::Integer,  T = 1)\n",
    "\tprob = zeros(length(codon_list))\n",
    "        \n",
    "    d = Dict{Int64, Float64}()\n",
    "    \n",
    "\t@inbounds for (index, q_k) in enumerate(q)\n",
    "            \n",
    "        if haskey(d, q_k)\n",
    "            log_proba = d[q_k]\n",
    "            #println(\"not computed\")\n",
    "        else\n",
    "            log_proba = log_p(mutated_seq, q_k, k, J, N, T)\n",
    "            d[q_k] = log_proba\n",
    "            #println(\"computed\")\n",
    "        end\n",
    "\t\tprob[index] = exp(log_proba/T)\n",
    "\tend\n",
    "        \n",
    "\treturn normalize(prob,1)\n",
    "end"
   ]
  },
  {
   "cell_type": "code",
   "execution_count": 11,
   "id": "dde0da1e",
   "metadata": {
    "tags": []
   },
   "outputs": [],
   "source": [
    "@everywhere function del_ins_codon_sampling(arr)\n",
    "    n = length(arr)\n",
    "    beta = 1/64\n",
    "    alpha = 1-64*beta\n",
    "    gamma = 1-beta\n",
    "    if n==2\n",
    "        probabilities = [beta, gamma]\n",
    "        index = sample(1:n, Weights(probabilities))\n",
    "        return arr[index]\n",
    "    else \n",
    "        probabilities = fill(beta, n)\n",
    "        probabilities[1] = alpha\n",
    "        index = sample(1:n, Weights(probabilities))\n",
    "        return arr[index]\n",
    "    end\n",
    "end\n",
    "    \n",
    "#arr = [5,10]\n",
    "#sampled_elements = [del_ins_codon_sampling(arr) for i in 1:6400]\n",
    "#histogram(sampled_elements)\n",
    "    \n",
    "@everywhere function gibbs_step(mutated_seq, non_gapped_pos, h, J, N, T)\n",
    "    #println(\"doing gibbs step\")\n",
    "    pos_mut = rand(non_gapped_pos)\n",
    "\n",
    "\told_codon = mutated_seq.DNA[pos_mut]\n",
    "    #println(\"chain $chain_num mutating codon $(old_codon) at site $(pos_mut) \")\n",
    "        \n",
    "    nucleo_pos = rand(1:3)\n",
    "        \n",
    "    amino_list, codon_list = get_accessible_nucleo_muts_DNA_det_bal(old_codon, nucleo_pos)\n",
    "        \n",
    "    if length(unique(amino_list)) == 1\n",
    "        new_codon = rand(codon_list)\n",
    "    else\n",
    "        new_codon = sample(codon_list, ProbabilityWeights(nucleo_cond_proba_DNA_gibbs_new(pos_mut, amino_list, codon_list, mutated_seq.Amino, h, J, N, T)))\n",
    "    end\n",
    "            \n",
    "    aa = cod2amino[new_codon]\n",
    "        \n",
    "\tmutated_seq.DNA[pos_mut] = new_codon\t\n",
    "\tmutated_seq.Amino[pos_mut] = aa\n",
    "    \n",
    "    return mutated_seq\n",
    "end     \n",
    "\n",
    "\n",
    "@everywhere function metro_del_ins_step(mutated_seq, non_gapped_pos, h, J, N, T)\n",
    "    #println(\"doing metropolis insertion/deletion step\")\n",
    "        \n",
    "    pos_mut = rand(1:length(mutated_seq.Amino))\n",
    "\n",
    "\told_codon = mutated_seq.DNA[pos_mut]\n",
    "    old_amino = mutated_seq.Amino[pos_mut]\n",
    "    #println(\"chain $chain_num mutating codon $(old_codon) at site $(pos_mut) \")\n",
    "    amino_list, codon_list = get_accessible_nucleo_for_del_ins(old_codon)\n",
    "    #println(\"Accessible codons (step $steps ) : $(codon_list)\")\n",
    "        \n",
    "    new_codon = del_ins_codon_sampling(codon_list)\n",
    "    \n",
    "    #println(\"Proposed codon (step $steps ) : $(new_codon)\")\n",
    "    \n",
    "    if new_codon == \"TAA\"  ||  new_codon == \"TAG\"   || new_codon == \"TGA\"  || new_codon == old_codon\n",
    "        \n",
    "    else\n",
    "        new_amino = cod2amino[new_codon]  \n",
    "        new_sequence = deepcopy(mutated_seq.Amino)\n",
    "        new_sequence[pos_mut] = new_amino\n",
    "        deltaE = Delta_energy(h, J, new_sequence, mutated_seq.Amino)\n",
    "        accept_proba = (length(amino2cod[old_amino])/length(amino2cod[new_amino]))*exp(-(1/T)*deltaE)\n",
    "        if rand() < accept_proba\n",
    "            aa = cod2amino[new_codon]\n",
    "            mutated_seq.DNA[pos_mut] = new_codon\t\n",
    "            mutated_seq.Amino[pos_mut] = aa\n",
    "            #acceptance += 1\n",
    "        end\n",
    "    end\n",
    "    return mutated_seq\n",
    "end\n",
    "\n",
    "\n",
    "@everywhere function parallel_evol_seq_fix_steps_DNA_mixed_nucleo(p, dir_amino::AbstractString, dir_dna::AbstractString, \n",
    "                        sampler_type::AbstractString, wt_name::AbstractString, ref_seq, MC_steps::Integer, h::Array{Float64,2}, \n",
    "                        J::Array{Float64,4}, N::Integer, chain_num::Integer, each_step,T = 1)\n",
    "    #log_steps = round.(Int, [n^(3.8) for n in 1:450])\n",
    "    \n",
    "    file_path_amino = joinpath(dir_amino, \"equil_det_bal_$(wt_name)_silico_chain_num_$(chain_num)_T_$(T).$(sampler_type)DNA\")\n",
    "    file_path_dna = joinpath(dir_dna, \"equil_det_bal_$(wt_name)_silico_chain_num_$(chain_num)_T_$(T).$(sampler_type)DNA\")\n",
    "            \n",
    "    \n",
    "    mutated_seq = deepcopy(ref_seq[chain_num])\n",
    "    if chain_num %40000 == 0\n",
    "        println(\"p = $(p)\")\n",
    "    end\n",
    "    #println(\"chain $chain_num number of gaps in non_gapped pos: $(sum(21 .== mutated_seq.Amino[non_gapped_pos])),$(sum(21 .== mutated_seq.Amino[non_gapped_pos]))\")\n",
    "    #println(\"chain $(chain_num), good positions: $(non_gapped_pos)\")\n",
    "    #println(\"chain $(chain_num), aminos in good positions $(mutated_seq.Amino[non_gapped_pos])\")\n",
    "    #println(\"chain $(chain_num), codons in good positions $(mutated_seq.DNA[non_gapped_pos])\")\n",
    "     \n",
    "    FastaWriter(file_path_amino, \"a\") do file\n",
    "        writeentry(file, \"sampler: $sampler_type | original wt: $wt_name | 0 MC steps | T = $(T)\", vec2string(mutated_seq.Amino))   \n",
    "    end\n",
    "    \n",
    "    FastaWriter(file_path_dna, \"a\") do file\n",
    "        writeentry(file, \"sampler: $sampler_type | original wt: $wt_name | 0 MC steps | T = $(T)\", join(mutated_seq.DNA))   \n",
    "    end     \n",
    "    @inbounds for steps in 1: MC_steps\n",
    "        non_gapped_pos = [pos for (pos, amino) in enumerate(mutated_seq.Amino) if amino != 21]\n",
    "        if rand()<(1-p)\n",
    "            mutated_seq = gibbs_step(mutated_seq, non_gapped_pos, h, J, N, T)\n",
    "        else\n",
    "            mutated_seq = metro_del_ins_step(mutated_seq, non_gapped_pos, h, J, N, T)\n",
    "        end  \n",
    "        \n",
    "        if steps % each_step == 0\n",
    "        #if steps > -100\n",
    "            #println(\"chain $(chain_num) writing\")\n",
    "            FastaWriter(file_path_amino, \"a\") do file\n",
    "                writeentry(file, \"sampler: $sampler_type | original wt: $wt_name | $steps MC steps | T = $(T)\", vec2string(mutated_seq.Amino))   \n",
    "            end\n",
    "            \n",
    "            FastaWriter(file_path_dna, \"a\") do file\n",
    "                writeentry(file, \"sampler: $sampler_type | original wt: $wt_name | $steps MC steps | T = $(T)\", join(mutated_seq.DNA))   \n",
    "            end\n",
    "        end \n",
    "\tend\n",
    "                    \n",
    "end"
   ]
  },
  {
   "cell_type": "code",
   "execution_count": 12,
   "id": "590b7ea2",
   "metadata": {
    "tags": []
   },
   "outputs": [],
   "source": [
    "@everywhere function sample_codons(arr)\n",
    "    n = length(arr)\n",
    "    probabilities = fill(7/64, n)\n",
    "    probabilities[end] = 1/64\n",
    "    index = sample(1:n, Weights(probabilities))\n",
    "    return arr[index]\n",
    "end\n",
    "\n",
    "#arr = [1, 2, 3, 4,5,6,7,8,9,10]\n",
    "\n",
    "#sampled_elements = [sample_codons(arr) for i in 1:640000]\n",
    "\n",
    "#histogram(sampled_elements, bins = 10)\n"
   ]
  },
  {
   "cell_type": "code",
   "execution_count": 13,
   "id": "11a571fc",
   "metadata": {
    "tags": []
   },
   "outputs": [],
   "source": [
    "@everywhere function parallel_evol_seq_fix_steps_DNA_metropolis_nucleo(dir_amino::AbstractString, \n",
    "        dir_dna::AbstractString, sampler_type::AbstractString, wt_name::AbstractString, ref_seq, \n",
    "        MC_steps::Integer, h::Array{Float64,2}, J::Array{Float64,4}, N::Integer, chain_num::Integer, T = 1)\n",
    "    #log_steps = round.(Int, [n^(3.8) for n in 1:450])\n",
    "    log_steps = [1000*i for i in 1:1000]\n",
    "    \n",
    "    \n",
    "    file_path_amino = joinpath(dir_amino, \"equil_det_bal_$(wt_name)_silico_chain_num_$(chain_num)_T_$(T).$(sampler_type)DNA\")\n",
    "    file_path_dna = joinpath(dir_dna, \"equil_det_bal_$(wt_name)_silico_chain_num_$(chain_num)_T_$(T).$(sampler_type)DNA\")\n",
    "            \n",
    "    #println(ref_seq[chain_num])\n",
    "    mutated_seq = deepcopy(ref_seq[chain_num])\n",
    "    sites = 1:length(mutated_seq.Amino)\n",
    "    #println(\"chain $chain_num number of gaps in non_gapped pos: $(sum(21 .== mutated_seq.Amino[non_gapped_pos])),$(sum(21 .== mutated_seq.Amino[non_gapped_pos]))\")\n",
    "    #println(\"chain $(chain_num), good positions: $(non_gapped_pos)\")\n",
    "    #println(\"chain $(chain_num), aminos in good positions $(mutated_seq.Amino[non_gapped_pos])\")\n",
    "    #println(\"chain $(chain_num), codons in good positions $(mutated_seq.DNA[non_gapped_pos])\")\n",
    "    \n",
    "    FastaWriter(file_path_amino, \"a\") do file\n",
    "        writeentry(file, \"sampler: $sampler_type | original wt: $wt_name | 0 MC steps | T = $(T)\", vec2string(mutated_seq.Amino))   \n",
    "    end\n",
    "    \n",
    "    FastaWriter(file_path_dna, \"a\") do file\n",
    "        writeentry(file, \"sampler: $sampler_type | original wt: $wt_name | 0 MC steps | T = $(T)\", join(mutated_seq.DNA))   \n",
    "    end\n",
    "\t\n",
    "    #acceptance = 0\n",
    "    @inbounds for steps in 1: MC_steps\n",
    "        \n",
    "        pos_mut = rand(1:length(mutated_seq.Amino))\n",
    "\n",
    "\t\told_codon = mutated_seq.DNA[pos_mut]\n",
    "        old_amino = mutated_seq.Amino[pos_mut]\n",
    "        #println(\"chain $chain_num mutating codon $(old_codon) at site $(pos_mut) \")\n",
    "        \n",
    "        amino_list, codon_list = get_accessible_nucleo_muts_metro_DNA_det_bal(old_codon)\n",
    "        \n",
    "        #println(\"Accessible codons (step $steps ) : $(codon_list)\")\n",
    "        \n",
    "        if old_codon == \"---\"\n",
    "            new_codon = rand(codon_list)\n",
    "        else\n",
    "            new_codon = sample_codons(codon_list)\n",
    "        end\n",
    "        \n",
    "        #println(\"Proposed codon (step $steps ) : $(new_codon)\")\n",
    "        \n",
    "      \n",
    "        \n",
    "        if new_codon == \"TAA\"  ||  new_codon == \"TAG\"   || new_codon == \"TGA\"\n",
    "            \n",
    "            #println(\"There is a stop codon\")\n",
    "        #elseif new_codon == \"---\"\n",
    "            \n",
    "        elseif cod2amino[new_codon] == old_amino\n",
    "            new_amino = cod2amino[new_codon]\n",
    "            mutated_seq.DNA[pos_mut] = new_codon\t\n",
    "            mutated_seq.Amino[pos_mut] = new_amino\n",
    "            #acceptance += 1\n",
    "        else\n",
    "            new_amino = cod2amino[new_codon]  \n",
    "            new_sequence = deepcopy(mutated_seq.Amino)\n",
    "            new_sequence[pos_mut] = new_amino\n",
    "            deltaE = Delta_energy(h, J, new_sequence, mutated_seq.Amino)\n",
    "            accept_proba = (length(amino2cod[old_amino])/length(amino2cod[new_amino]))*exp(-(1/T)*deltaE)\n",
    "            if rand() < accept_proba\n",
    "                aa = cod2amino[new_codon]\n",
    "                mutated_seq.DNA[pos_mut] = new_codon\t\n",
    "                mutated_seq.Amino[pos_mut] = aa\n",
    "                #acceptance += 1\n",
    "            end\n",
    "        end\n",
    "        \n",
    "        if steps in log_steps\n",
    "        #if steps > -100\n",
    "            println(steps)\n",
    "            #println(\"saving sequence at step $steps\")\n",
    "            #println(\"saving in $file_path_amino\")\n",
    "            FastaWriter(file_path_amino, \"a\") do file\n",
    "                writeentry(file, \"sampler: $sampler_type | original wt: $wt_name | $steps MC steps | T = $(T)\", vec2string(mutated_seq.Amino))   \n",
    "            end\n",
    "            \n",
    "            FastaWriter(file_path_dna, \"a\") do file\n",
    "                writeentry(file, \"sampler: $sampler_type | original wt: $wt_name | $steps MC steps | T = $(T)\", join(mutated_seq.DNA))   \n",
    "            end\n",
    "        end \n",
    "\tend\n",
    "    #println(\"Acceptance ratio (chain $chain_num ) : $(acceptance/MC_steps)\")\n",
    "end"
   ]
  },
  {
   "cell_type": "code",
   "execution_count": 14,
   "id": "f2fdc941-ace2-4be7-a1d3-4269bfece9e6",
   "metadata": {},
   "outputs": [
    {
     "ename": "LoadError",
     "evalue": "UndefVarError: `pse_amino_seq` not defined",
     "output_type": "error",
     "traceback": [
      "UndefVarError: `pse_amino_seq` not defined",
      "",
      "Stacktrace:",
      " [1] top-level scope",
      "   @ In[14]:17"
     ]
    }
   ],
   "source": [
    "using JLD2\n",
    "\n",
    "function proba_DNA_gibbs_without_deg(k, mutated_seq, h, J,N;  T = 1)\n",
    "\tprob = zeros(21)\n",
    "\tfor i in 1:21\n",
    "        q_k = i\n",
    "\t\tlog_proba = h[q_k, k]\n",
    " \t\tfor j in 1:N\n",
    "\t\t\tlog_proba += J[mutated_seq[j], q_k , j, k]\n",
    "\t\tend\n",
    "\t\tprob[i] = exp(log_proba/T)\n",
    "\tend\n",
    "\treturn normalize(prob,1)\n",
    "    \n",
    "end\n",
    "\n",
    "h_lp = zeros(21, length(pse_amino_seq))\n",
    "for i in 1:length(pse_amino_seq)\n",
    "    h_lp[:,i] = log.( proba_DNA_gibbs_without_deg(i, pse_amino_seq,\n",
    "        h, J, length(pse_amino_seq)))\n",
    "end\n",
    "\n",
    "freqs_nat = reshape(compute_weighted_frequencies(Int8.(nat_MSA'), 0.2)[1], (20, 202))\n",
    "gap_f = [1 - sum(freqs_nat[:,i]) for i in 1:202]\n",
    "\n",
    "h_gp = zeros(21, length(pse_amino_seq))\n",
    "for i in 1:202\n",
    "    ff = zeros(21)\n",
    "    if gap_f[i] < 0\n",
    "        gap_f[i] = 10^-6 \n",
    "    end\n",
    "    ff[1:20] = freqs_nat[:,i]\n",
    "    ff[21] = gap_f[i]\n",
    "    f = pseudocount(ff, 10^-6)\n",
    "    h_gp[:,i] = log.(f)\n",
    "end\n",
    "\n",
    "@save \"../../scra_data_beta/local_global_beta_profile.jld2\" h_lp h_gp"
   ]
  },
  {
   "cell_type": "code",
   "execution_count": 15,
   "id": "b3a47ebd",
   "metadata": {
    "tags": []
   },
   "outputs": [
    {
     "data": {
      "text/plain": [
       "\"../data/model_parameters/Parameters_conv_Thr-PCD40.dat\""
      ]
     },
     "execution_count": 15,
     "metadata": {},
     "output_type": "execute_result"
    }
   ],
   "source": [
    "PATH_PAR_beta = \"../../scra_data_beta/Parameters_conv_Matteo_pc.dat\"\n",
    "PATH_PAR_dbd = \"../data/model_parameters/Parameters_conv_Thr-PCD40.dat\""
   ]
  },
  {
   "cell_type": "code",
   "execution_count": 29,
   "id": "adcad812",
   "metadata": {
    "tags": []
   },
   "outputs": [
    {
     "data": {
      "text/plain": [
       "1.199017"
      ]
     },
     "execution_count": 29,
     "metadata": {},
     "output_type": "execute_result"
    }
   ],
   "source": [
    "#load fields\n",
    "h, J = KitMSA.extract_params(PATH_PAR_beta;q=21)\n",
    "maximum(J)"
   ]
  },
  {
   "cell_type": "code",
   "execution_count": 25,
   "id": "b9d983ac",
   "metadata": {
    "tags": []
   },
   "outputs": [
    {
     "data": {
      "text/plain": [
       "1.959042"
      ]
     },
     "execution_count": 25,
     "metadata": {},
     "output_type": "execute_result"
    }
   ],
   "source": [
    "htmp, Jtmp = KitMSA.read_par_BM(PATH_PAR_dbd)\n",
    "h = KitMSA.set_max_field_to_0(htmp)\n",
    "J = KitMSA.symmetrize_J(Jtmp)\n",
    "maximum(J)"
   ]
  },
  {
   "cell_type": "code",
   "execution_count": 114,
   "id": "f8f511bb-9128-463e-b8f9-9f2e37ff725c",
   "metadata": {},
   "outputs": [],
   "source": [
    "@load \"../../scra_data_beta/local_global_beta_profile.jld2\"\n",
    "h = h_gp\n",
    "J = zeros(21,21,202,202);"
   ]
  },
  {
   "cell_type": "code",
   "execution_count": 17,
   "id": "f4ea64b1",
   "metadata": {
    "tags": []
   },
   "outputs": [],
   "source": [
    "\n",
    "#define paths\n",
    "path_wt_tem = \"../data/alignments/refs/TEM1_pfam_DNA.fasta\"\n",
    "path_wt_pse = \"../data/alignments/refs/PSE1_pfam_DNA.fasta\"\n",
    "\n",
    "#load wt\n",
    "wt_tem = join(readdlm(path_wt_tem, skipstart = 1))\n",
    "wt_pse = join(readdlm(path_wt_pse, skipstart = 1))\n",
    "\n",
    "\n",
    "#transform wt_dna in amino\n",
    "L_tem = Int64(length(wt_tem)/3)\n",
    "tem_DNA_seq = [wt_tem[((i-1)*3 +1):(i*3)] for i in 1:L_tem]\n",
    "tem_amino_seq = [cod2amino[codon] for codon in tem_DNA_seq]\n",
    "seed_seq_tem = SeqToEvolve(tem_amino_seq, tem_DNA_seq)\n",
    "\n",
    "L_pse = Int64(length(wt_pse)/3)\n",
    "pse_DNA_seq = [wt_pse[((i-1)*3 +1):(i*3)] for i in 1:L_pse]\n",
    "pse_amino_seq = [cod2amino[codon] for codon in pse_DNA_seq]\n",
    "seed_seq_pse = SeqToEvolve(pse_amino_seq, pse_DNA_seq)\n",
    ";"
   ]
  },
  {
   "cell_type": "markdown",
   "id": "598d08d6",
   "metadata": {},
   "source": [
    "## Parallel Run"
   ]
  },
  {
   "cell_type": "code",
   "execution_count": 26,
   "id": "228ed939",
   "metadata": {
    "tags": []
   },
   "outputs": [],
   "source": [
    "#nat_MSA = Int8.(fasta2matrix(\"../data/alignments/natural/PF13354_noinsert_max19gaps_nodupl_noclose.faa\"))\n",
    "nat_MSA = Int8.(fasta2matrix(\"../data/alignments/natural/DBD_alignment.uniref90.cov80.a2m\"))\n",
    ";"
   ]
  },
  {
   "cell_type": "code",
   "execution_count": 42,
   "id": "3317626d",
   "metadata": {
    "tags": []
   },
   "outputs": [],
   "source": [
    "#steps = 256 #pse\n",
    "#steps = 220 #tem\n",
    "steps = 5*10^6\n",
    "#steps = 6*10^7\n",
    "\n",
    "each_step = 1\n",
    "\n",
    "#T = 1.33 #pse experiment\n",
    "#T = 1.14 #tem experiment\n",
    "T = 1.0 #natural\n",
    "#sampler_type = \"gibbs\"\n",
    "#sampler_type = \"metro\"\n",
    "sampler_type = \"mixed\"\n",
    "#nseq = 1:34431 #tem\n",
    "#nseq = 1:456871 #pse\n",
    "nseq = 1:2\n",
    "wt_name = \"dbd\"\n",
    "#wt_name = \"pse\"\n",
    "#wt_name = \"dbd_random\"\n",
    "#wt_name = \"pse_global\"\n",
    "#wt_name = \"tem\"\n",
    "N = length(nat_MSA[1,:])\n",
    "#c = filter_alignment(nseq[end], nat_MSA)\n",
    "#seed_seq = [SeqToEvolve(c[i,:], amino_seq2dna_seq(c[i,:])) for i in 1:length(c[:,1])]\n",
    "#seed_seq = [SeqToEvolve(nat_MSA[100,:] , amino_seq2dna_seq(nat_MSA[100,:])) for i in 1:nseq[end]] #dbd\n",
    "seed_seq = [seed_seq_pse for i in 1:nseq[end]]\n",
    "#seed_seq = [seed_seq_tem for i in 1:nseq[end]]\n",
    "\n",
    "#dbd thornton anc\n",
    "dbd_sample_AA = [2, 10, 18, 2, 6, 3, 15, 1, 16, 6, 20, 7, 20, 6, 18, 10, 16, 2, 4, 6, 2, 9, 1, 5, 5, 9, 15, 16, 8, 14, 6, 16, 18, 4, 20, 17, 2, 13, 1, 17, 12, 4, 2, 9, 8, 3, 9, 7, 15, 15, 9, 16, 2, 14, 1, 2, 15, 10, 14, 9, 2, 5, 4, 18, 6, 11, 11, 9, 4, 6, 18, 15, 9, 3, 15, 12]\n",
    "\n",
    "\n",
    "start_wt = dbd_sample_AA\n",
    "seed_seq = [SeqToEvolve(start_wt , amino_seq2dna_seq(start_wt)) \n",
    "   for i in 1:nseq[end]] #beta\n",
    "p=0.5\n",
    ";"
   ]
  },
  {
   "cell_type": "code",
   "execution_count": 34,
   "id": "aeaf7617-dfa6-4189-960f-4e88b5957f36",
   "metadata": {
    "tags": []
   },
   "outputs": [
    {
     "ename": "LoadError",
     "evalue": "IOError: mkdir(\"../../scra_data_beta/amino_mixed_dbd_steps50_seqs2_T1.0p0.5\"; mode=0o777): file already exists (EEXIST)",
     "output_type": "error",
     "traceback": [
      "IOError: mkdir(\"../../scra_data_beta/amino_mixed_dbd_steps50_seqs2_T1.0p0.5\"; mode=0o777): file already exists (EEXIST)",
      "",
      "Stacktrace:",
      " [1] uv_error",
      "   @ Base ./libuv.jl:100 [inlined]",
      " [2] mkdir(path::String; mode::UInt16)",
      "   @ Base.Filesystem ./file.jl:185",
      " [3] mkdir(path::String)",
      "   @ Base.Filesystem ./file.jl:177",
      " [4] top-level scope",
      "   @ In[34]:3"
     ]
    }
   ],
   "source": [
    "dir_amino = \"../../scra_data_beta/amino_$(sampler_type)_$(wt_name)_steps$(steps)_seqs$(nseq[end])_T$(T)p$(p)\"\n",
    "dir_dna = \"../../scra_data_beta/dna_$(sampler_type)_$(wt_name)_steps$(steps)_seqs$(nseq[end])_T$(T)p$(p)\"\n",
    "mkdir(dir_amino)\n",
    "mkdir(dir_dna)"
   ]
  },
  {
   "cell_type": "code",
   "execution_count": 35,
   "id": "c8fb1cc0",
   "metadata": {
    "tags": []
   },
   "outputs": [],
   "source": [
    "@everywhere function parallelo_evol_run(i) \n",
    "    if sampler_type == \"mixed\"\n",
    "        parallel_evol_seq_fix_steps_DNA_mixed_nucleo(p, dir_amino, dir_dna, \n",
    "            sampler_type, wt_name, seed_seq, steps, h, J, N, i, each_step, T)\n",
    "        if i%2 == 0\n",
    "            println(i)\n",
    "        end\n",
    "    else\n",
    "        throw(ArgumentError(\"Invalid sampler type: $sampler_type\"))\n",
    "    end\n",
    "end"
   ]
  },
  {
   "cell_type": "code",
   "execution_count": 36,
   "id": "7985d2dc",
   "metadata": {
    "tags": []
   },
   "outputs": [],
   "source": [
    "for ww in workers()\n",
    "    fetch(@spawnat ww p, each_step, dir_amino, dir_dna, sampler_type, \n",
    "        wt_name, seed_seq, steps, h, J, T, amino2cod, cod2amino, N)\n",
    "    #println(\"fetched\")\n",
    "end\n",
    ";"
   ]
  },
  {
   "cell_type": "code",
   "execution_count": 43,
   "id": "c83ce378",
   "metadata": {
    "tags": []
   },
   "outputs": [],
   "source": [
    "for ww in workers()\n",
    "    fetch(@spawnat ww p, each_step, dir_amino, dir_dna, sampler_type, T, N, seed_seq, steps)\n",
    "    #println(\"fetched\")\n",
    "end\n",
    ";\n"
   ]
  },
  {
   "cell_type": "code",
   "execution_count": 44,
   "id": "41630014",
   "metadata": {
    "tags": []
   },
   "outputs": [
    {
     "name": "stdout",
     "output_type": "stream",
     "text": [
      "      From worker 11:\t2\n",
      "44.64172387123108\n",
      "MSAs GENERATED!!\n"
     ]
    }
   ],
   "source": [
    "start=time()\n",
    "pmap(parallelo_evol_run, nseq)\n",
    "fine=time()\n",
    "println(fine-start)\n",
    "println(\"MSAs GENERATED!!\")"
   ]
  },
  {
   "cell_type": "code",
   "execution_count": null,
   "id": "a472f595-96e0-4e7b-8e19-3b8edfe0a5bd",
   "metadata": {},
   "outputs": [],
   "source": []
  }
 ],
 "metadata": {
  "kernelspec": {
   "display_name": "Julia 1.10.0",
   "language": "julia",
   "name": "julia-1.10"
  },
  "language_info": {
   "file_extension": ".jl",
   "mimetype": "application/julia",
   "name": "julia",
   "version": "1.10.0"
  }
 },
 "nbformat": 4,
 "nbformat_minor": 5
}
