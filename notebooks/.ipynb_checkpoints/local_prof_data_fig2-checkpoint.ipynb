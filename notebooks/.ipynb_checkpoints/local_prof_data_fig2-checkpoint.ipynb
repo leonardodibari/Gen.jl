{
 "cells": [
  {
   "cell_type": "code",
   "execution_count": 6,
   "id": "0845a38b-060f-404a-a7c3-b8f64d531402",
   "metadata": {},
   "outputs": [],
   "source": [
    "## Include packages\n",
    "\n",
    "using DelimitedFiles\n",
    "using DCAUtils\n",
    "using Plots\n",
    "using Statistics\n",
    "using KitMSA\n",
    "using FastaIO\n",
    "using LinearAlgebra\n",
    "using StatsBase\n",
    "using JLD2\n",
    "\n",
    "include(\"../src/read_write.jl\")\n",
    "include(\"../src/energy.jl\")\n",
    "include(\"../src/msa_tools.jl\")\n",
    "include(\"../src/extra_tools.jl\")\n",
    ";"
   ]
  },
  {
   "cell_type": "code",
   "execution_count": 2,
   "id": "b0eddfdd-c47b-4e8b-838a-453bb5821a1b",
   "metadata": {},
   "outputs": [
    {
     "data": {
      "text/plain": [
       "write_cde_of_chains (generic function with 1 method)"
      ]
     },
     "execution_count": 2,
     "metadata": {},
     "output_type": "execute_result"
    }
   ],
   "source": [
    "function get_entropy(f)\n",
    "    N=length(f[1,:])\n",
    "    entr = zeros(Float64, N)\n",
    "    for i in 1:N\n",
    "        for a in 1:20\n",
    "            if(f[a,i]>0)\n",
    "                entr[i]-=f[a,i]*log(f[a,i])\n",
    "            end\n",
    "        end\n",
    "    end\n",
    "    return entr\n",
    "end\n",
    "\n",
    "function proba_DNA_gibbs_without_deg(k, mutated_seq, h, J,N,  T = 1)\n",
    "\tprob = zeros(20)\n",
    "\tfor i in 1:20\n",
    "        q_k = i\n",
    "\t\tlog_proba = h[q_k, k]\n",
    " \t\tfor j in 1:N\n",
    "\t\t\tlog_proba += J[mutated_seq[j], q_k , j, k]\n",
    "\t\tend\n",
    "\t\tprob[i] = exp(log_proba/T)\n",
    "\tend\n",
    "\treturn normalize(prob,1)\n",
    "    \n",
    "end\n",
    "\n",
    "function cont_dep_entr_without_deg(background, h, J)\n",
    "    \n",
    "    T = 1.0\n",
    "    N = length(background)\n",
    "    \n",
    "    prob = hcat([ProbabilityWeights(proba_DNA_gibbs_without_deg(pos_mut, background, h, J, N, T)) for pos_mut in 1:N]...)\n",
    "    #println(size(prob))\n",
    "    return get_entropy(prob)[:]\n",
    "end\n",
    "\n",
    "function write_cde_of_chains(folder, out_path, mask, h, J, n)\n",
    "    fasta_files = filter(file -> endswith(file, \".mixedDNA\"), readdir(folder))\n",
    "    res = []\n",
    "    for i in 1:n\n",
    "        chain = Int8.(fasta2matrix(joinpath(folder_path, fasta_files[i])))[mask,:]\n",
    "        cde_msa = hcat([cont_dep_entr_without_deg(chain[step,:], h, J) \n",
    "                for step in 1:length(chain[:,1])]...)'\n",
    "        push!(res, vec(cde_msa))\n",
    "        if i %10 == 0\n",
    "            println(i)\n",
    "        end\n",
    "    end\n",
    "    writedlm(out_path, hcat(res...))\n",
    "    #return hcat(res...)\n",
    "end"
   ]
  },
  {
   "cell_type": "code",
   "execution_count": 3,
   "id": "e657db90-a65e-42cf-b86d-0657d120fa11",
   "metadata": {},
   "outputs": [],
   "source": [
    "path_nat = \"../data/alignments/natural/PF13354_noinsert_max19gaps_nodupl_noclose.faa\"\n",
    "nat_MSA = Int8.(fasta2matrix(path_nat))\n",
    ";"
   ]
  },
  {
   "cell_type": "code",
   "execution_count": 4,
   "id": "4ca303fa-f598-42ec-94c8-e596bddd4392",
   "metadata": {
    "collapsed": true,
    "jupyter": {
     "outputs_hidden": true
    },
    "tags": []
   },
   "outputs": [
    {
     "ename": "LoadError",
     "evalue": "at row 8878971, column 6 : InterruptException()",
     "output_type": "error",
     "traceback": [
      "at row 8878971, column 6 : InterruptException()",
      "",
      "Stacktrace:",
      "  [1] error(s::String)",
      "    @ Base ./error.jl:35",
      "  [2] dlm_fill(T::DataType, offarr::Vector{Vector{Int64}}, dims::Tuple{Int64, Int64}, has_header::Bool, sbuff::String, auto::Bool, eol::Char)",
      "    @ DelimitedFiles ~/.julia/packages/DelimitedFiles/aGcsu/src/DelimitedFiles.jl:520",
      "  [3] dlm_fill(T::DataType, offarr::Vector{Vector{Int64}}, dims::Tuple{Int64, Int64}, has_header::Bool, sbuff::String, auto::Bool, eol::Char)",
      "    @ DelimitedFiles ~/.julia/packages/DelimitedFiles/aGcsu/src/DelimitedFiles.jl:519",
      "  [4] readdlm_string(sbuff::String, dlm::Char, T::Type, eol::Char, auto::Bool, optsd::Dict{Symbol, Union{Char, Integer, Tuple{Integer, Integer}}})",
      "    @ DelimitedFiles ~/.julia/packages/DelimitedFiles/aGcsu/src/DelimitedFiles.jl:476",
      "  [5] readdlm_auto",
      "    @ ~/.julia/packages/DelimitedFiles/aGcsu/src/DelimitedFiles.jl:231 [inlined]",
      "  [6] readdlm",
      "    @ ~/.julia/packages/DelimitedFiles/aGcsu/src/DelimitedFiles.jl:170 [inlined]",
      "  [7] readdlm",
      "    @ ~/.julia/packages/DelimitedFiles/aGcsu/src/DelimitedFiles.jl:162 [inlined]",
      "  [8] read_par_BM(path::GZip.GZipStream, q::Int64)",
      "    @ KitMSA ~/.julia/packages/KitMSA/htXvW/src/BM_utils.jl:55",
      "  [9] extract_params(path_par::String; q::Int64)",
      "    @ KitMSA ~/.julia/packages/KitMSA/htXvW/src/BM_utils.jl:110",
      " [10] top-level scope",
      "    @ In[4]:2"
     ]
    }
   ],
   "source": [
    "PATH_PAR = \"../../scra_data_beta/Parameters_conv_Matteo_pc.dat\"\n",
    "h, J = KitMSA.extract_params(PATH_PAR;q=21)\n",
    ";"
   ]
  },
  {
   "cell_type": "code",
   "execution_count": 7,
   "id": "b3477f74-f5c4-4d81-9baf-fc1e8353f34f",
   "metadata": {},
   "outputs": [],
   "source": [
    "@load \"../../scra_data_beta/local_global_beta_profile.jld2\"\n",
    "h = h_lp\n",
    "J = zeros(21,21,202,202);"
   ]
  },
  {
   "cell_type": "code",
   "execution_count": 10,
   "id": "be9d2866-b496-48ec-bbd3-b31f710284df",
   "metadata": {
    "tags": []
   },
   "outputs": [
    {
     "name": "stdout",
     "output_type": "stream",
     "text": [
      " 79.862881 seconds (72.07 M allocations: 16.784 GiB, 3.62% gc time, 0.06% compilation time)\n"
     ]
    }
   ],
   "source": [
    "folder_path = \"../../scra_data_beta/amino_mixed_pse_local_steps60000000_seqs100_T1.0p0.5/\"\n",
    "fasta_files = filter(file -> endswith(file, \".mixedDNA\"), readdir(folder_path))\n",
    "@time matrices = [Int8.(fasta2matrix(joinpath(folder_path, file))) \n",
    "    for file in fasta_files[1:10]]\n",
    "step_matrices = build_seq_matrices(matrices)\n",
    ";"
   ]
  },
  {
   "cell_type": "code",
   "execution_count": 17,
   "id": "a0e7c5d5-e473-41a1-a5e9-7059b97c5d38",
   "metadata": {},
   "outputs": [],
   "source": [
    "path_wt_pse = \"../data/alignments/refs/PSE1_pfam_DNA.fasta\"\n",
    "\n",
    "#load wt\n",
    "wt_pse = join(readdlm(path_wt_pse, skipstart = 1))\n",
    "L_pse = Int64(length(wt_pse)/3)\n",
    "pse_DNA_seq = [wt_pse[((i-1)*3 +1):(i*3)] for i in 1:L_pse]\n",
    "pse_amino_seq = [cod2amino[codon] for codon in pse_DNA_seq]\n",
    ";"
   ]
  },
  {
   "cell_type": "markdown",
   "id": "6290390c-472a-4f2c-9f14-6bba01b624a4",
   "metadata": {},
   "source": [
    "## Data for 2B-C-D"
   ]
  },
  {
   "cell_type": "code",
   "execution_count": 53,
   "id": "47eb8754-be25-4ba2-ad0d-0df90cd0024a",
   "metadata": {},
   "outputs": [],
   "source": [
    "mask = zeros(1200001) \n",
    "idxs = round.(Int,[n^(3.8) for n in 1:112])\n",
    "for i in 1:1200001\n",
    "    if i in idxs\n",
    "        mask[i] = 1\n",
    "    end\n",
    "end"
   ]
  },
  {
   "cell_type": "code",
   "execution_count": 58,
   "id": "e6b7adf9-9709-4465-b82e-74aec16629bf",
   "metadata": {},
   "outputs": [
    {
     "data": {
      "text/plain": [
       "10-element Vector{Int64}:\n",
       "    1\n",
       "   14\n",
       "   65\n",
       "  194\n",
       "  453\n",
       "  906\n",
       " 1627\n",
       " 2702\n",
       " 4228\n",
       " 6310"
      ]
     },
     "execution_count": 58,
     "metadata": {},
     "output_type": "execute_result"
    }
   ],
   "source": [
    "idxs[1:10]"
   ]
  },
  {
   "cell_type": "code",
   "execution_count": 62,
   "id": "7a3f5381-c3db-49cf-9cae-72603d52f3c6",
   "metadata": {},
   "outputs": [],
   "source": [
    "new_step_m = [Int8.(zeros(10,202)) for i in 1:39]\n",
    "a=0\n",
    "for i in idxs[1:39]\n",
    "    a+=1\n",
    "    new_step_m[a] = step_matrices[idxs[a]]\n",
    "end"
   ]
  },
  {
   "cell_type": "code",
   "execution_count": 64,
   "id": "ee6092d6-4e97-44a9-ac97-566b518ed0f4",
   "metadata": {
    "collapsed": true,
    "jupyter": {
     "outputs_hidden": true
    },
    "tags": []
   },
   "outputs": [
    {
     "name": "stdout",
     "output_type": "stream",
     "text": [
      "θ = 0.0 threshold = 0.0\n",
      "M = 10 N = 202 Meff = 10\n",
      "θ = 0.0 threshold = 0.0\n",
      "M = 10 N = 202 Meff = 10\n",
      "θ = 0.0 threshold = 0.0\n",
      "M = 10 N = 202 Meff = 10\n",
      "θ = 0.0 threshold = 0.0\n",
      "M = 10 N = 202 Meff = 10\n",
      "θ = 0.0 threshold = 0.0\n",
      "M = 10 N = 202 Meff = 10\n",
      "θ = 0.0 threshold = 0.0\n",
      "M = 10 N = 202 Meff = 10\n",
      "θ = 0.0 threshold = 0.0\n",
      "M = 10 N = 202 Meff = 10\n",
      "θ = 0.0 threshold = 0.0\n",
      "M = 10 N = 202 Meff = 10\n",
      "θ = 0.0 threshold = 0.0\n",
      "M = 10 N = 202 Meff = 10\n",
      "θ = 0.0 threshold = 0.0\n",
      "M = 10 N = 202 Meff = 10\n",
      "θ = 0.0 threshold = 0.0\n",
      "M = 10 N = 202 Meff = 10\n",
      "θ = 0.0 threshold = 0.0\n",
      "M = 10 N = 202 Meff = 10\n",
      "θ = 0.0 threshold = 0.0\n",
      "M = 10 N = 202 Meff = 10\n",
      "θ = 0.0 threshold = 0.0\n",
      "M = 10 N = 202 Meff = 10\n",
      "θ = 0.0 threshold = 0.0\n",
      "M = 10 N = 202 Meff = 10\n",
      "θ = 0.0 threshold = 0.0\n",
      "M = 10 N = 202 Meff = 10\n",
      "θ = 0.0 threshold = 0.0\n",
      "M = 10 N = 202 Meff = 10\n",
      "θ = 0.0 threshold = 0.0\n",
      "M = 10 N = 202 Meff = 10\n",
      "θ = 0.0 threshold = 0.0\n",
      "M = 10 N = 202 Meff = 10\n",
      "θ = 0.0 threshold = 0.0\n",
      "M = 10 N = 202 Meff = 10\n",
      "θ = 0.0 threshold = 0.0\n",
      "M = 10 N = 202 Meff = 10\n",
      "θ = 0.0 threshold = 0.0\n",
      "M = 10 N = 202 Meff = 10\n",
      "θ = 0.0 threshold = 0.0\n",
      "M = 10 N = 202 Meff = 10\n",
      "θ = 0.0 threshold = 0.0\n",
      "M = 10 N = 202 Meff = 10\n",
      "θ = 0.0 threshold = 0.0\n",
      "M = 10 N = 202 Meff = 10\n",
      "θ = 0.0 threshold = 0.0\n",
      "M = 10 N = 202 Meff = 10\n",
      "θ = 0.0 threshold = 0.0\n",
      "M = 10 N = 202 Meff = 10\n",
      "θ = 0.0 threshold = 0.0\n",
      "M = 10 N = 202 Meff = 10\n",
      "θ = 0.0 threshold = 0.0\n",
      "M = 10 N = 202 Meff = 10\n",
      "θ = 0.0 threshold = 0.0\n",
      "M = 10 N = 202 Meff = 10\n",
      "θ = 0.0 threshold = 0.0\n",
      "M = 10 N = 202 Meff = 10\n",
      "θ = 0.0 threshold = 0.0\n",
      "M = 10 N = 202 Meff = 10\n",
      "θ = 0.0 threshold = 0.0\n",
      "M = 10 N = 202 Meff = 10\n",
      "θ = 0.0 threshold = 0.0\n",
      "M = 10 N = 202 Meff = 10\n",
      "θ = 0.0 threshold = 0.0\n",
      "M = 10 N = 202 Meff = 10\n",
      "θ = 0.0 threshold = 0.0\n",
      "M = 10 N = 202 Meff = 10\n",
      "θ = 0.0 threshold = 0.0\n",
      "M = 10 N = 202 Meff = 10\n",
      "θ = 0.0 threshold = 0.0\n",
      "M = 10 N = 202 Meff = 10\n",
      "θ = 0.0 threshold = 0.0\n",
      "M = 10 N = 202 Meff = 10\n"
     ]
    }
   ],
   "source": [
    "L = length(pse_amino_seq)\n",
    "freqs = [reshape(compute_weighted_frequencies(Int8.(MSA'),0)[1],(20, L)) \n",
    "        for MSA in new_step_m]\n",
    "entr = [get_entropy(f) for f in freqs]\n",
    "writedlm(\"../data/figures/local_data_fig2/evol_entr_betalac\", entr)"
   ]
  },
  {
   "cell_type": "code",
   "execution_count": 65,
   "id": "0c5775c2-447f-4897-a7b6-f520f6b3e807",
   "metadata": {},
   "outputs": [],
   "source": [
    "X = 50 .* [n^(3.8) for n in 1:39]\n",
    "writedlm(\"../data/figures/local_data_fig2/mcmc_steps_betalac\", X)"
   ]
  },
  {
   "cell_type": "code",
   "execution_count": null,
   "id": "cc67771e-d98f-4559-8f34-07cbd13001ca",
   "metadata": {},
   "outputs": [],
   "source": []
  }
 ],
 "metadata": {
  "kernelspec": {
   "display_name": "Julia 1.10.0",
   "language": "julia",
   "name": "julia-1.10"
  },
  "language_info": {
   "file_extension": ".jl",
   "mimetype": "application/julia",
   "name": "julia",
   "version": "1.10.0"
  }
 },
 "nbformat": 4,
 "nbformat_minor": 5
}
