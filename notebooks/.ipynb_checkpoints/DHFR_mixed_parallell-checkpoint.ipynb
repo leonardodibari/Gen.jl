{
 "cells": [
  {
   "cell_type": "code",
   "execution_count": 1,
   "id": "d4f1e5fd",
   "metadata": {
    "tags": []
   },
   "outputs": [],
   "source": [
    "using Distributed"
   ]
  },
  {
   "cell_type": "code",
   "execution_count": 2,
   "id": "708cdf01",
   "metadata": {
    "tags": []
   },
   "outputs": [
    {
     "data": {
      "text/plain": [
       "1-element Vector{Int64}:\n",
       " 1"
      ]
     },
     "execution_count": 2,
     "metadata": {},
     "output_type": "execute_result"
    }
   ],
   "source": [
    "workers()"
   ]
  },
  {
   "cell_type": "code",
   "execution_count": 3,
   "id": "d1a8bdb8",
   "metadata": {
    "tags": []
   },
   "outputs": [],
   "source": [
    "addprocs(30)\n",
    ";"
   ]
  },
  {
   "cell_type": "code",
   "execution_count": 4,
   "id": "8236f7c1",
   "metadata": {
    "tags": []
   },
   "outputs": [
    {
     "data": {
      "text/plain": [
       "30"
      ]
     },
     "execution_count": 4,
     "metadata": {},
     "output_type": "execute_result"
    }
   ],
   "source": [
    "nworkers()"
   ]
  },
  {
   "cell_type": "code",
   "execution_count": 5,
   "id": "1e49af85",
   "metadata": {
    "tags": []
   },
   "outputs": [],
   "source": [
    "@everywhere using FastaIO\n",
    "@everywhere using MultivariateStats\n",
    "@everywhere using LinearAlgebra\n",
    "@everywhere using DelimitedFiles\n",
    "@everywhere using StatsBase\n",
    "@everywhere using DCAUtils\n",
    "@everywhere using Plots\n",
    "@everywhere using Random\n",
    "@everywhere using Printf\n",
    "@everywhere using LinearAlgebra\n",
    "@everywhere using GLM\n",
    "@everywhere using Statistics\n",
    "@everywhere using KitMSA"
   ]
  },
  {
   "cell_type": "code",
   "execution_count": 6,
   "id": "c9356f9f",
   "metadata": {
    "tags": []
   },
   "outputs": [],
   "source": [
    "@everywhere include(\"../src/read_write.jl\")\n",
    "@everywhere include(\"../src/energy.jl\")\n",
    "@everywhere include(\"../src/msa_tools.jl\")\n",
    "@everywhere include(\"../src/extra_tools.jl\")"
   ]
  },
  {
   "cell_type": "code",
   "execution_count": 7,
   "id": "af852830",
   "metadata": {
    "tags": []
   },
   "outputs": [
    {
     "data": {
      "text/plain": [
       "plot_pca (generic function with 1 method)"
      ]
     },
     "execution_count": 7,
     "metadata": {},
     "output_type": "execute_result"
    }
   ],
   "source": [
    "\n",
    "\n",
    "function amino_seq2dna_seq(seq)\n",
    "    seq_dna=[]\n",
    "    for a in seq\n",
    "        push!(seq_dna, sample(amino2cod[a]))\n",
    "    end\n",
    "    return seq_dna\n",
    "end\n",
    "\n",
    "function dna_seq2amino_seq(seq_dna)\n",
    "    new = []\n",
    "    for a in seq_dna\n",
    "        push!(new, cod2amino[a])\n",
    "    end\n",
    "    return new\n",
    "end\n",
    "\n",
    "function pairwise_hamming(msa::Array{Int8,2})\n",
    "    num_seqs = size(msa, 1)\n",
    "    pairwise_distances = Array{Int,1}(undef, num_seqs*(num_seqs-1)÷2)\n",
    "    idx = 1\n",
    "    for i in 1:num_seqs-1\n",
    "        for j in i+1:num_seqs\n",
    "            dist = KitMSA.my_hamming(msa[i,:], msa[j,:])\n",
    "            pairwise_distances[idx] = dist\n",
    "            idx += 1\n",
    "        end\n",
    "    end\n",
    "    return pairwise_distances\n",
    "end\n",
    "\n",
    "\n",
    "function eliminate(msa, tresh, idx)\n",
    "    L = length(msa[idx,:])\n",
    "    trimmed_msa = []\n",
    "    for i in 1:length(msa[:,1])\n",
    "        d = KitMSA.my_hamming(msa[idx,:], msa[i,:])\n",
    "        if  d > L*tresh\n",
    "            push!(trimmed_msa, msa[i,:])\n",
    "        end\n",
    "    end\n",
    "    push!(trimmed_msa, msa[idx,:])\n",
    "    return hcat(trimmed_msa...)'\n",
    "end\n",
    "\n",
    "\n",
    "function reweighting(msa, tresh)\n",
    "    final_msa =[]\n",
    "    new_msa = deepcopy(msa)\n",
    "    a = 0\n",
    "    for i in 1:20000\n",
    "        new_msa = eliminate(new_msa, tresh, 1)\n",
    "    end    \n",
    "    println(length(new_msa[:,1]))\n",
    "    return new_msa\n",
    "end\n",
    "\n",
    "function project_pca(filename, label1, label2, eigenv, pc_ref, one_non_ref)\n",
    "    pc_proj = eigenv[:, [end, end-1]]'*one_non_ref'\n",
    "    scatter(pc_nat[1,:], pc_nat[2,:], alpha = 0.25, label= label1, legend=:topright)\n",
    "    scatter!(pc_proj[1,:], pc_proj[2,:], alpha = 0.25,color=:red, label= label2 )\n",
    "    savefig(filename)\n",
    "end\n",
    "\n",
    "function plot_pca(pc_ref, eigenv, matrices, filepath)\n",
    "    \n",
    "    for i in 1:length(matrices)\n",
    "        one_hot_proj = one_hot(matrices[i])\n",
    "        project_pca(joinpath(filepath, \"pca$(i).png\"), \"nat\", \"sil step $(i)\", eigenv, pc_ref, one_hot_proj)\n",
    "        println(i)\n",
    "    end\n",
    "end"
   ]
  },
  {
   "cell_type": "code",
   "execution_count": 8,
   "id": "80636e31",
   "metadata": {
    "tags": []
   },
   "outputs": [],
   "source": [
    "@everywhere function Delta_energy(h::Array{Float64,2}, J::Array{Float64,4}, \n",
    "        S::Array{<:Integer,1}, ref::Array{<:Integer, 1})\n",
    "    q, N = size(h)\n",
    "    E = 0.0\n",
    "    \n",
    "    index_v = collect(1:N)\n",
    "    common = (S .== ref)\n",
    "    idx = findfirst(isequal(false), common)\n",
    "    common = index_v[common]\n",
    "    #println(idx)\n",
    "    #println(common)\n",
    "    E -= (h[S[idx],idx] - h[ref[idx],idx])\n",
    "    @fastmath for j = 1:N\n",
    "        if j > idx\n",
    "            @inbounds  E -= (J[S[j],S[idx],j,idx] - J[ref[j],ref[idx],j,idx] )\n",
    "        end\n",
    "    end\n",
    "    \n",
    "    @fastmath for i in common\n",
    "        if idx > i\n",
    "            @inbounds  E -= (J[S[idx],S[i],idx,i] - J[ref[idx],ref[i],idx,i] )\n",
    "        end\n",
    "    end\n",
    "    \n",
    "    return E\n",
    "end\n"
   ]
  },
  {
   "cell_type": "code",
   "execution_count": 9,
   "id": "47455f52",
   "metadata": {
    "tags": []
   },
   "outputs": [],
   "source": [
    "@everywhere function get_accessible_nucleo_muts_metro_DNA_det_bal(old_cod)\n",
    "    if old_cod .== \"---\"\n",
    "        amino_list = [i for i in 1:21]\n",
    "        codon_list = reduce(vcat,[amino2cod[a] for a in amino_list])\n",
    "        codon_list = filter!(aa->aa != old_cod, codon_list)\n",
    "        push!(codon_list, \"TAG\")\n",
    "        push!(codon_list, \"TAA\")\n",
    "        push!(codon_list, \"TGA\")\n",
    "        return amino_list, codon_list\n",
    "    end\n",
    "    \n",
    "    old_codon = [string(old_cod[i]) for i in 1:3 ]\n",
    "\tcodon_list = Vector{AbstractString}(undef, 12)\n",
    "    \n",
    "    for i in 1:3\n",
    "        new_codon = deepcopy(old_codon)\n",
    "        for (j, nucl) in enumerate([\"A\", \"C\", \"G\", \"T\"]) \n",
    "            new_codon[i] = nucl\n",
    "            codon_list[(i-1)*4 + j] = join(new_codon)\n",
    "        end\n",
    "    end\n",
    "    \n",
    "    push!(codon_list, \"---\")\n",
    "\tamino_list = get.(Ref(cod2amino), codon_list, 0)\n",
    "\tamino_list = unique!(filter!(aa->aa != 21, amino_list))\n",
    "\n",
    "    #codon_list = filter!(aa->aa != \"TAA\", codon_list)\n",
    "    #codon_list = filter!(aa->aa != \"TAG\", codon_list)\n",
    "    #codon_list = filter!(aa->aa != \"TGA\", codon_list)\n",
    "    codon_list = filter!(aa->aa != old_cod, codon_list)\n",
    "    \n",
    "\tamino_list = get.(Ref(cod2amino), codon_list, 0)\n",
    "\t#amino_list = filter!(aa->aa != 21, amino_list)\n",
    "\n",
    "\treturn amino_list, codon_list\n",
    "end\n",
    "\n",
    "\n",
    "@everywhere function get_accessible_nucleo_for_del_ins(old_cod)\n",
    "\n",
    "    if old_cod .== \"---\"\n",
    "        amino_list = [i for i in 0:20]\n",
    "        amino_list[1] = 21\n",
    "        codon_list = reduce(vcat,[amino2cod[a] for a in amino_list])\n",
    "        #push!(codon_list, old_cod )\n",
    "        push!(codon_list, \"TAG\")\n",
    "        push!(codon_list, \"TAA\")\n",
    "        push!(codon_list, \"TGA\")\n",
    "        return amino_list, codon_list\n",
    "    else\n",
    "        codon_list = [\"---\"]\n",
    "        push!(codon_list, old_cod)\n",
    "        amino_list = get.(Ref(cod2amino), codon_list, 0)\n",
    "        #println(amino_list)\n",
    "        return amino_list, codon_list\n",
    "    end\n",
    "end\n",
    "   "
   ]
  },
  {
   "cell_type": "code",
   "execution_count": 10,
   "id": "7761be33",
   "metadata": {
    "tags": []
   },
   "outputs": [],
   "source": [
    "@everywhere mutable struct SeqToEvolve\n",
    "    Amino   :: Array{Int64}\n",
    "    DNA :: Array{AbstractString}\n",
    "end\n",
    "\n",
    "@everywhere function get_accessible_nucleo_muts_DNA_det_bal(old_codon, nucleo_pos::Integer)\n",
    "    old_codon = [string(old_codon[i]) for i in 1:3 ]\n",
    "\tcodon_list = Vector{AbstractString}(undef, 4)\n",
    "\tnew_codon = deepcopy(old_codon)\n",
    "\tfor (j, nucl) in enumerate([\"A\", \"C\", \"G\", \"T\"]) \n",
    "\t\tnew_codon[nucleo_pos] = nucl\n",
    "\t\tcodon_list[j] = join(new_codon)\n",
    "\tend\n",
    "    \n",
    "    codon_list = filter!(aa->aa != \"TAA\", codon_list)\n",
    "    codon_list = filter!(aa->aa != \"TAG\", codon_list)\n",
    "    codon_list = filter!(aa->aa != \"TGA\", codon_list)\n",
    "    \n",
    "\tamino_list = get.(Ref(cod2amino), codon_list, 0)\n",
    "\t#amino_list = filter!(aa->aa != 21, amino_list)\n",
    "\n",
    "\treturn amino_list, codon_list\n",
    "end\n",
    "\n",
    "@everywhere function sum_couplings_inbounds(mutated_seq, q_k, k, J::Array{Float64,4}, N)\n",
    "    result = 0\n",
    "    @inbounds for i in 1:N\n",
    "        result += J[mutated_seq[i], q_k ,i, k]\n",
    "    end\n",
    "    return result\n",
    "end \n",
    "\n",
    "@everywhere function nucleo_cond_proba_DNA_gibbs(k, q, codon_list, mutated_seq, h::Array{Float64,2}, J::Array{Float64,4}, N::Integer,  T = 1)\n",
    "\tprob = zeros(length(codon_list))\n",
    "    #println(q)\n",
    "    #println(codon_list)\n",
    "\t@inbounds for (index, codon_k) in enumerate(codon_list)\n",
    "        #println(index)\n",
    "        q_k = q[index]\n",
    "        #println(q_k)\n",
    "        log_proba = h[q_k, k]-T*log(length(amino2cod[q_k]))\n",
    "        log_proba += sum_couplings_inbounds(mutated_seq, q_k, k, J, N)\n",
    "\t\tprob[index] = exp(log_proba/T)\n",
    "\tend\n",
    "\treturn normalize(prob,1)\n",
    "end\n",
    "\n",
    "\n",
    "\n",
    "@everywhere function log_p(mutated_seq, q_k, k, J::Array{Float64,4}, N::Integer,T=1)\n",
    "    \n",
    "    log_proba = h[q_k, k]-T*log(length(amino2cod[q_k]))\n",
    "    log_proba += sum_couplings_inbounds(mutated_seq, q_k, k, J, N)\n",
    "    return log_proba  \n",
    "end\n",
    "\n",
    "\n",
    "@everywhere function square_array(arr)\n",
    "    squares = Dict()\n",
    "    result = similar(arr)\n",
    "    for i in 1:length(arr)\n",
    "        if haskey(squares, arr[i])\n",
    "            result[i] = squares[arr[i]]\n",
    "            println(\"not computed\")\n",
    "        else\n",
    "            square = arr[i]^2\n",
    "            squares[arr[i]] = square\n",
    "            result[i] = square\n",
    "            println(\"computed\")\n",
    "        end\n",
    "    end\n",
    "    return result\n",
    "end\n",
    "\n",
    "\n",
    "@everywhere function nucleo_cond_proba_DNA_gibbs_new(k, q, codon_list, mutated_seq, h::Array{Float64,2}, J::Array{Float64,4}, N::Integer,  T = 1)\n",
    "\tprob = zeros(length(codon_list))\n",
    "        \n",
    "    d = Dict{Int64, Float64}()\n",
    "    \n",
    "\t@inbounds for (index, q_k) in enumerate(q)\n",
    "            \n",
    "        if haskey(d, q_k)\n",
    "            log_proba = d[q_k]\n",
    "            #println(\"not computed\")\n",
    "        else\n",
    "            log_proba = log_p(mutated_seq, q_k, k, J, N, T)\n",
    "            d[q_k] = log_proba\n",
    "            #println(\"computed\")\n",
    "        end\n",
    "\t\tprob[index] = exp(log_proba/T)\n",
    "\tend\n",
    "        \n",
    "\treturn normalize(prob,1)\n",
    "end"
   ]
  },
  {
   "cell_type": "code",
   "execution_count": 11,
   "id": "dde0da1e",
   "metadata": {
    "tags": []
   },
   "outputs": [],
   "source": [
    "@everywhere function del_ins_codon_sampling(arr)\n",
    "    n = length(arr)\n",
    "    beta = 1/64\n",
    "    alpha = 1-64*beta\n",
    "    gamma = 1-beta\n",
    "    if n==2\n",
    "        probabilities = [beta, gamma]\n",
    "        index = sample(1:n, Weights(probabilities))\n",
    "        return arr[index]\n",
    "    else \n",
    "        probabilities = fill(beta, n)\n",
    "        probabilities[1] = alpha\n",
    "        index = sample(1:n, Weights(probabilities))\n",
    "        return arr[index]\n",
    "    end\n",
    "end\n",
    "    \n",
    "#arr = [5,10]\n",
    "#sampled_elements = [del_ins_codon_sampling(arr) for i in 1:6400]\n",
    "#histogram(sampled_elements)\n",
    "    \n",
    "@everywhere function gibbs_step(mutated_seq, non_gapped_pos, h, J, N, T)\n",
    "    #println(\"doing gibbs step\")\n",
    "    pos_mut = rand(non_gapped_pos)\n",
    "\n",
    "\told_codon = mutated_seq.DNA[pos_mut]\n",
    "    #println(\"chain $chain_num mutating codon $(old_codon) at site $(pos_mut) \")\n",
    "        \n",
    "    nucleo_pos = rand(1:3)\n",
    "        \n",
    "    amino_list, codon_list = get_accessible_nucleo_muts_DNA_det_bal(old_codon, nucleo_pos)\n",
    "        \n",
    "    if length(unique(amino_list)) == 1\n",
    "        new_codon = rand(codon_list)\n",
    "    else\n",
    "        new_codon = sample(codon_list, ProbabilityWeights(nucleo_cond_proba_DNA_gibbs_new(pos_mut, amino_list, codon_list, mutated_seq.Amino, h, J, N, T)))\n",
    "    end\n",
    "            \n",
    "    aa = cod2amino[new_codon]\n",
    "        \n",
    "\tmutated_seq.DNA[pos_mut] = new_codon\t\n",
    "\tmutated_seq.Amino[pos_mut] = aa\n",
    "    \n",
    "    return mutated_seq\n",
    "end     \n",
    "\n",
    "\n",
    "@everywhere function metro_del_ins_step(mutated_seq, non_gapped_pos, h, J, N, T)\n",
    "    #println(\"doing metropolis insertion/deletion step\")\n",
    "        \n",
    "    pos_mut = rand(1:length(mutated_seq.Amino))\n",
    "\n",
    "\told_codon = mutated_seq.DNA[pos_mut]\n",
    "    old_amino = mutated_seq.Amino[pos_mut]\n",
    "    #println(\"chain $chain_num mutating codon $(old_codon) at site $(pos_mut) \")\n",
    "    amino_list, codon_list = get_accessible_nucleo_for_del_ins(old_codon)\n",
    "    #println(\"Accessible codons (step $steps ) : $(codon_list)\")\n",
    "        \n",
    "    new_codon = del_ins_codon_sampling(codon_list)\n",
    "    \n",
    "    #println(\"Proposed codon (step $steps ) : $(new_codon)\")\n",
    "    \n",
    "    if new_codon == \"TAA\"  ||  new_codon == \"TAG\"   || new_codon == \"TGA\"  || new_codon == old_codon\n",
    "        \n",
    "    else\n",
    "        new_amino = cod2amino[new_codon]  \n",
    "        new_sequence = deepcopy(mutated_seq.Amino)\n",
    "        new_sequence[pos_mut] = new_amino\n",
    "        deltaE = Delta_energy(h, J, new_sequence, mutated_seq.Amino)\n",
    "        accept_proba = (length(amino2cod[old_amino])/length(amino2cod[new_amino]))*exp(-(1/T)*deltaE)\n",
    "        if rand() < accept_proba\n",
    "            aa = cod2amino[new_codon]\n",
    "            mutated_seq.DNA[pos_mut] = new_codon\t\n",
    "            mutated_seq.Amino[pos_mut] = aa\n",
    "            #acceptance += 1\n",
    "        end\n",
    "    end\n",
    "    return mutated_seq\n",
    "end\n",
    "\n",
    "\n",
    "@everywhere function parallel_evol_seq_fix_steps_DNA_mixed_nucleo(p, dir_amino::AbstractString, dir_dna::AbstractString, \n",
    "                        sampler_type::AbstractString, wt_name::AbstractString, ref_seq, MC_steps::Integer, h::Array{Float64,2}, \n",
    "                        J::Array{Float64,4}, N::Integer, chain_num::Integer, each_step,T = 1)\n",
    "    log_steps = round.(Int, [n^(3.8) for n in 1:450])\n",
    "    \n",
    "    file_path_amino = joinpath(dir_amino, \"equil_det_bal_$(wt_name)_silico_chain_num_$(chain_num)_T_$(T).$(sampler_type)DNA\")\n",
    "    file_path_dna = joinpath(dir_dna, \"equil_det_bal_$(wt_name)_silico_chain_num_$(chain_num)_T_$(T).$(sampler_type)DNA\")\n",
    "            \n",
    "    \n",
    "    mutated_seq = deepcopy(ref_seq[chain_num])\n",
    "    if chain_num %40000 == 0\n",
    "        println(\"p = $(p)\")\n",
    "    end\n",
    "    #println(\"chain $chain_num number of gaps in non_gapped pos: $(sum(21 .== mutated_seq.Amino[non_gapped_pos])),$(sum(21 .== mutated_seq.Amino[non_gapped_pos]))\")\n",
    "    #println(\"chain $(chain_num), good positions: $(non_gapped_pos)\")\n",
    "    #println(\"chain $(chain_num), aminos in good positions $(mutated_seq.Amino[non_gapped_pos])\")\n",
    "    #println(\"chain $(chain_num), codons in good positions $(mutated_seq.DNA[non_gapped_pos])\")\n",
    "     \n",
    "    FastaWriter(file_path_amino, \"a\") do file\n",
    "        writeentry(file, \"sampler: $sampler_type | original wt: $wt_name | 0 MC steps | T = $(T)\", vec2string(mutated_seq.Amino))   \n",
    "    end\n",
    "    \n",
    "    FastaWriter(file_path_dna, \"a\") do file\n",
    "        writeentry(file, \"sampler: $sampler_type | original wt: $wt_name | 0 MC steps | T = $(T)\", join(mutated_seq.DNA))   \n",
    "    end     \n",
    "    @inbounds for steps in 1: MC_steps\n",
    "        non_gapped_pos = [pos for (pos, amino) in enumerate(mutated_seq.Amino) if amino != 21]\n",
    "        if rand()<(1-p)\n",
    "            mutated_seq = gibbs_step(mutated_seq, non_gapped_pos, h, J, N, T)\n",
    "        else\n",
    "            mutated_seq = metro_del_ins_step(mutated_seq, non_gapped_pos, h, J, N, T)\n",
    "        end  \n",
    "        \n",
    "        #if steps % each_step == 0\n",
    "        if steps in log_steps#> -100\n",
    "            #println(\"chain $(chain_num) writing\")\n",
    "            FastaWriter(file_path_amino, \"a\") do file\n",
    "                writeentry(file, \"sampler: $sampler_type | original wt: $wt_name | $steps MC steps | T = $(T)\", vec2string(mutated_seq.Amino))   \n",
    "            end\n",
    "            \n",
    "            FastaWriter(file_path_dna, \"a\") do file\n",
    "                writeentry(file, \"sampler: $sampler_type | original wt: $wt_name | $steps MC steps | T = $(T)\", join(mutated_seq.DNA))   \n",
    "            end\n",
    "        end \n",
    "\tend\n",
    "                    \n",
    "end"
   ]
  },
  {
   "cell_type": "code",
   "execution_count": 61,
   "id": "e4a4c927-c808-41a8-b971-4cd9e35ca735",
   "metadata": {},
   "outputs": [
    {
     "data": {
      "text/plain": [
       "read_par_BM_standardorder (generic function with 2 methods)"
      ]
     },
     "execution_count": 61,
     "metadata": {},
     "output_type": "execute_result"
    }
   ],
   "source": [
    "function read_par_BM_standardorder(path::AbstractString, q::Integer = 21)\n",
    "    params = readdlm(path,' ', use_mmap = true)[:, 2:6]\n",
    "    l_file = size(params, 1)\n",
    "    N = Integer(((q - 2) + sqrt( (q-2)^2 + 8*l_file))/(2*q))\n",
    "    J = Array{Float64}(undef, q, q, N, N)\n",
    "    h = Array{Float64}(undef, q, N)\n",
    "    n_J = Int(q*q*N*(N-1)/2)\n",
    "    n_h = q*N\n",
    "    for k in 1:n_J\n",
    "        i, j, a, b, par_j = params[k, :]\n",
    "        i += 1\n",
    "        j += 1\n",
    "        a += 1\n",
    "        b += 1\n",
    "        J[a, b, i, j] = par_j\n",
    "    end\n",
    "    for l in (n_J + 1): n_h + n_J\n",
    "        i, a, par_h = params[l, :]\n",
    "        i += 1\n",
    "        a += 1\n",
    "        h[a, i] = par_h\n",
    "    end\n",
    "    return h, J\n",
    "end"
   ]
  },
  {
   "cell_type": "code",
   "execution_count": 12,
   "id": "590b7ea2",
   "metadata": {
    "tags": []
   },
   "outputs": [],
   "source": [
    "@everywhere function sample_codons(arr)\n",
    "    n = length(arr)\n",
    "    probabilities = fill(7/64, n)\n",
    "    probabilities[end] = 1/64\n",
    "    index = sample(1:n, Weights(probabilities))\n",
    "    return arr[index]\n",
    "end\n",
    "\n",
    "#arr = [1, 2, 3, 4,5,6,7,8,9,10]\n",
    "\n",
    "#sampled_elements = [sample_codons(arr) for i in 1:640000]\n",
    "\n",
    "#histogram(sampled_elements, bins = 10)\n"
   ]
  },
  {
   "cell_type": "code",
   "execution_count": 13,
   "id": "b3a47ebd",
   "metadata": {
    "tags": []
   },
   "outputs": [
    {
     "data": {
      "text/plain": [
       "\"../../Serine_Prot/2024.5.7.12.23-yaakov_short-bmDCA_params_0.980.dat\""
      ]
     },
     "execution_count": 13,
     "metadata": {},
     "output_type": "execute_result"
    }
   ],
   "source": [
    "PATH_PAR_beta = \"../../scra_data_beta/Parameters_conv_Matteo_pc.dat\"\n",
    "PATH_PAR_dbd = \"../data/model_parameters/Parameters_conv_Thr-PCD40.dat\"\n",
    "PATH_PAR_dbd_dec = \"../../scra_data_beta/Parameters_conv_decDBD0.98.dat\"\n",
    "PATH_PAR_hdfr = \"../../DHFR_pars/Parameters_conv_DHFR.dat\"\n",
    "PATH_PAR_serine = \"../../Serine_Prot/2024.5.7.12.23-yaakov_short-bmDCA_params_0.980.dat\""
   ]
  },
  {
   "cell_type": "code",
   "execution_count": 115,
   "id": "adcad812",
   "metadata": {
    "tags": []
   },
   "outputs": [
    {
     "data": {
      "text/plain": [
       "(-1.21234, 1.959042)"
      ]
     },
     "execution_count": 115,
     "metadata": {},
     "output_type": "execute_result"
    }
   ],
   "source": [
    "#load fields\n",
    "h, J = KitMSA.extract_params(PATH_PAR_dbd;q=21)\n",
    "extrema(J)"
   ]
  },
  {
   "cell_type": "code",
   "execution_count": 62,
   "id": "b9d983ac",
   "metadata": {
    "tags": []
   },
   "outputs": [
    {
     "name": "stdout",
     "output_type": "stream",
     "text": [
      "(-0.6161509, 1.2891436)\n",
      "(-10.093724412, 0.0)\n"
     ]
    }
   ],
   "source": [
    "htmp, Jtmp = read_par_BM_standardorder(PATH_PAR_serine)\n",
    "h = KitMSA.set_max_field_to_0(htmp)\n",
    "J = KitMSA.symmetrize_J(Jtmp)\n",
    "println(extrema(J))\n",
    "println(extrema(h))"
   ]
  },
  {
   "cell_type": "markdown",
   "id": "598d08d6",
   "metadata": {},
   "source": [
    "## Parallel Run"
   ]
  },
  {
   "cell_type": "code",
   "execution_count": 110,
   "id": "228ed939",
   "metadata": {
    "tags": []
   },
   "outputs": [],
   "source": [
    "#nat_MSA = Int8.(fasta2matrix(\"../data/alignments/natural/PF13354_noinsert_max19gaps_nodupl_noclose.faa\"))\n",
    "#nat_MSA = Int8.(fasta2matrix(\"../data/alignments/natural/DBD_alignment.uniref90.cov80.a2m\"))\n",
    "#nat_MSA = Int8.(fasta2matrix(\"../../DHFR_pars/PF00186_nogapped.fasta\"))\n",
    "nat_MSA = Int8.(fasta2matrix(\"../../Serine_Prot/yaakov_short.faa\"))\n",
    ";"
   ]
  },
  {
   "cell_type": "code",
   "execution_count": 138,
   "id": "3317626d",
   "metadata": {
    "tags": []
   },
   "outputs": [],
   "source": [
    "#steps = 256 #pse\n",
    "#steps = 220 #tem\n",
    "steps = Int(4..5*10^5)\n",
    "#steps = 6*10^7\n",
    "\n",
    "each_step = 1000\n",
    "\n",
    "#T = 1.33 #pse experiment\n",
    "#T = 1.14 #tem experiment\n",
    "T = 1.0 #natural\n",
    "#sampler_type = \"gibbs\"\n",
    "#sampler_type = \"metro\"\n",
    "sampler_type = \"mixed\"\n",
    "#nseq = 1:34431 #tem\n",
    "#nseq = 1:456871 #pse\n",
    "nseq = 1:100\n",
    "#wt_name = \"hdfr1\"\n",
    "wt_name = \"serine\" \n",
    "#wt_name = \"pse\"\n",
    "#wt_name = \"dbd_random\"\n",
    "#wt_name = \"pse_global\"\n",
    "#wt_name = \"tem\"\n",
    "N = length(nat_MSA[1,:])\n",
    "#c = filter_alignment(nseq[end], nat_MSA)\n",
    "#seed_seq = [SeqToEvolve(c[i,:], amino_seq2dna_seq(c[i,:])) for i in 1:length(c[:,1])]\n",
    "#seed_seq = [SeqToEvolve(nat_MSA[100,:] , amino_seq2dna_seq(nat_MSA[100,:])) for i in 1:nseq[end]] #dbd\n",
    "#seed_seq = [seed_seq_pse for i in 1:nseq[end]]\n",
    "#seed_seq = [seed_seq_tem for i in 1:nseq[end]]\n",
    "\n",
    "#dbd thornton anc\n",
    "#dbd_sample_AA = [2, 10, 18, 2, 6, 3, 15, 1, 16, 6, 20, 7, 20, 6, 18, 10, 16, 2, 4, 6, 2, 9, 1, 5, 5, 9, 15, 16, 8, 14, 6, 16, 18, 4, 20, 17, 2, 13, 1, 17, 12, 4, 2, 9, 8, 3, 9, 7, 15, 15, 9, 16, 2, 14, 1, 2, 15, 10, 14, 9, 2, 5, 4, 18, 6, 11, 11, 9, 4, 6, 18, 15, 9, 3, 15, 12]\n",
    "\n",
    "\n",
    "start_wt = nat_MSA[1,:]\n",
    "seed_seq = [SeqToEvolve(nat_MSA[1,:] , amino_seq2dna_seq(start_wt)) \n",
    "for i in 1:nseq[end]] \n",
    "p=0.5\n",
    ";"
   ]
  },
  {
   "cell_type": "code",
   "execution_count": 139,
   "id": "aeaf7617-dfa6-4189-960f-4e88b5957f36",
   "metadata": {
    "tags": []
   },
   "outputs": [
    {
     "data": {
      "text/plain": [
       "\"../../scra_data_beta/dna_mixed_serine_steps850000_seqs100_T1.0p0.5\""
      ]
     },
     "execution_count": 139,
     "metadata": {},
     "output_type": "execute_result"
    }
   ],
   "source": [
    "dir_amino = \"../../scra_data_beta/amino_$(sampler_type)_$(wt_name)_steps$(steps)_seqs$(nseq[end])_T$(T)p$(p)\"\n",
    "dir_dna = \"../../scra_data_beta/dna_$(sampler_type)_$(wt_name)_steps$(steps)_seqs$(nseq[end])_T$(T)p$(p)\"\n",
    "mkdir(dir_amino)\n",
    "mkdir(dir_dna)"
   ]
  },
  {
   "cell_type": "code",
   "execution_count": 128,
   "id": "c8fb1cc0",
   "metadata": {
    "tags": []
   },
   "outputs": [],
   "source": [
    "@everywhere function parallelo_evol_run(i) \n",
    "    if sampler_type == \"mixed\"\n",
    "        parallel_evol_seq_fix_steps_DNA_mixed_nucleo(p, dir_amino, dir_dna, \n",
    "            sampler_type, wt_name, seed_seq, steps, h, J, N, i, each_step, T)\n",
    "        if i%100 == 0\n",
    "            println(i)\n",
    "        end\n",
    "    else\n",
    "        throw(ArgumentError(\"Invalid sampler type: $sampler_type\"))\n",
    "    end\n",
    "end"
   ]
  },
  {
   "cell_type": "code",
   "execution_count": 129,
   "id": "7985d2dc",
   "metadata": {
    "tags": []
   },
   "outputs": [],
   "source": [
    "for ww in workers()\n",
    "    fetch(@spawnat ww p, each_step, dir_amino, dir_dna, sampler_type, \n",
    "        wt_name, seed_seq, steps, h, J, T, amino2cod, cod2amino, N)\n",
    "    #println(\"fetched\")\n",
    "end\n",
    ";"
   ]
  },
  {
   "cell_type": "code",
   "execution_count": 130,
   "id": "c83ce378",
   "metadata": {
    "tags": []
   },
   "outputs": [],
   "source": [
    "for ww in workers()\n",
    "    fetch(@spawnat ww p, each_step, dir_amino, dir_dna, sampler_type, T, N, seed_seq, steps)\n",
    "    #println(\"fetched\")\n",
    "end\n",
    ";\n"
   ]
  },
  {
   "cell_type": "code",
   "execution_count": 131,
   "id": "41630014",
   "metadata": {
    "tags": []
   },
   "outputs": [
    {
     "ename": "LoadError",
     "evalue": "On worker 10:\nMethodError: no method matching parallel_evol_seq_fix_steps_DNA_mixed_nucleo(::Float64, ::String, ::String, ::String, ::String, ::Vector{SeqToEvolve}, ::Float64, ::Matrix{Float64}, ::Array{Float64, 4}, ::Int64, ::Int64, ::Int64, ::Float64)\n\n\u001b[0mClosest candidates are:\n\u001b[0m  parallel_evol_seq_fix_steps_DNA_mixed_nucleo(::Any, ::AbstractString, ::AbstractString, ::AbstractString, ::AbstractString, ::Any, \u001b[91m::Integer\u001b[39m, ::Matrix{Float64}, ::Array{Float64, 4}, ::Integer, ::Integer, ::Any, ::Any)\n\u001b[0m\u001b[90m   @\u001b[39m \u001b[36mMain\u001b[39m \u001b[90m\u001b[4mIn[11]:82\u001b[24m\u001b[39m\n\u001b[0m  parallel_evol_seq_fix_steps_DNA_mixed_nucleo(::Any, ::AbstractString, ::AbstractString, ::AbstractString, ::AbstractString, ::Any, \u001b[91m::Integer\u001b[39m, ::Matrix{Float64}, ::Array{Float64, 4}, ::Integer, ::Integer, ::Any)\n\u001b[0m\u001b[90m   @\u001b[39m \u001b[36mMain\u001b[39m \u001b[90m\u001b[4mIn[11]:82\u001b[24m\u001b[39m\n\nStacktrace:\n [1] \u001b[0m\u001b[1mparallelo_evol_run\u001b[22m\n\u001b[90m   @\u001b[39m \u001b[90m./\u001b[39m\u001b[90m\u001b[4mIn[128]:3\u001b[24m\u001b[39m\n [2] \u001b[0m\u001b[1m#invokelatest#2\u001b[22m\n\u001b[90m   @\u001b[39m \u001b[90m./\u001b[39m\u001b[90m\u001b[4messentials.jl:887\u001b[24m\u001b[39m\n [3] \u001b[0m\u001b[1minvokelatest\u001b[22m\n\u001b[90m   @\u001b[39m \u001b[90m./\u001b[39m\u001b[90m\u001b[4messentials.jl:884\u001b[24m\u001b[39m\n [4] \u001b[0m\u001b[1m#110\u001b[22m\n\u001b[90m   @\u001b[39m \u001b[90m~/julia-1.10.0/share/julia/stdlib/v1.10/Distributed/src/\u001b[39m\u001b[90m\u001b[4mprocess_messages.jl:286\u001b[24m\u001b[39m\n [5] \u001b[0m\u001b[1mrun_work_thunk\u001b[22m\n\u001b[90m   @\u001b[39m \u001b[90m~/julia-1.10.0/share/julia/stdlib/v1.10/Distributed/src/\u001b[39m\u001b[90m\u001b[4mprocess_messages.jl:70\u001b[24m\u001b[39m\n [6] \u001b[0m\u001b[1m#109\u001b[22m\n\u001b[90m   @\u001b[39m \u001b[90m~/julia-1.10.0/share/julia/stdlib/v1.10/Distributed/src/\u001b[39m\u001b[90m\u001b[4mprocess_messages.jl:286\u001b[24m\u001b[39m",
     "output_type": "error",
     "traceback": [
      "On worker 10:\nMethodError: no method matching parallel_evol_seq_fix_steps_DNA_mixed_nucleo(::Float64, ::String, ::String, ::String, ::String, ::Vector{SeqToEvolve}, ::Float64, ::Matrix{Float64}, ::Array{Float64, 4}, ::Int64, ::Int64, ::Int64, ::Float64)\n\n\u001b[0mClosest candidates are:\n\u001b[0m  parallel_evol_seq_fix_steps_DNA_mixed_nucleo(::Any, ::AbstractString, ::AbstractString, ::AbstractString, ::AbstractString, ::Any, \u001b[91m::Integer\u001b[39m, ::Matrix{Float64}, ::Array{Float64, 4}, ::Integer, ::Integer, ::Any, ::Any)\n\u001b[0m\u001b[90m   @\u001b[39m \u001b[36mMain\u001b[39m \u001b[90m\u001b[4mIn[11]:82\u001b[24m\u001b[39m\n\u001b[0m  parallel_evol_seq_fix_steps_DNA_mixed_nucleo(::Any, ::AbstractString, ::AbstractString, ::AbstractString, ::AbstractString, ::Any, \u001b[91m::Integer\u001b[39m, ::Matrix{Float64}, ::Array{Float64, 4}, ::Integer, ::Integer, ::Any)\n\u001b[0m\u001b[90m   @\u001b[39m \u001b[36mMain\u001b[39m \u001b[90m\u001b[4mIn[11]:82\u001b[24m\u001b[39m\n\nStacktrace:\n [1] \u001b[0m\u001b[1mparallelo_evol_run\u001b[22m\n\u001b[90m   @\u001b[39m \u001b[90m./\u001b[39m\u001b[90m\u001b[4mIn[128]:3\u001b[24m\u001b[39m\n [2] \u001b[0m\u001b[1m#invokelatest#2\u001b[22m\n\u001b[90m   @\u001b[39m \u001b[90m./\u001b[39m\u001b[90m\u001b[4messentials.jl:887\u001b[24m\u001b[39m\n [3] \u001b[0m\u001b[1minvokelatest\u001b[22m\n\u001b[90m   @\u001b[39m \u001b[90m./\u001b[39m\u001b[90m\u001b[4messentials.jl:884\u001b[24m\u001b[39m\n [4] \u001b[0m\u001b[1m#110\u001b[22m\n\u001b[90m   @\u001b[39m \u001b[90m~/julia-1.10.0/share/julia/stdlib/v1.10/Distributed/src/\u001b[39m\u001b[90m\u001b[4mprocess_messages.jl:286\u001b[24m\u001b[39m\n [5] \u001b[0m\u001b[1mrun_work_thunk\u001b[22m\n\u001b[90m   @\u001b[39m \u001b[90m~/julia-1.10.0/share/julia/stdlib/v1.10/Distributed/src/\u001b[39m\u001b[90m\u001b[4mprocess_messages.jl:70\u001b[24m\u001b[39m\n [6] \u001b[0m\u001b[1m#109\u001b[22m\n\u001b[90m   @\u001b[39m \u001b[90m~/julia-1.10.0/share/julia/stdlib/v1.10/Distributed/src/\u001b[39m\u001b[90m\u001b[4mprocess_messages.jl:286\u001b[24m\u001b[39m",
      "",
      "Stacktrace:",
      "  [1] (::Base.var\"#1033#1035\")(x::Task)",
      "    @ Base ./asyncmap.jl:171",
      "  [2] foreach(f::Base.var\"#1033#1035\", itr::Vector{Any})",
      "    @ Base ./abstractarray.jl:3094",
      "  [3] maptwice(wrapped_f::Function, chnl::Channel{Any}, worker_tasks::Vector{Any}, c::UnitRange{Int64})",
      "    @ Base ./asyncmap.jl:171",
      "  [4] wrap_n_exec_twice",
      "    @ ./asyncmap.jl:147 [inlined]",
      "  [5] #async_usemap#1018",
      "    @ ./asyncmap.jl:97 [inlined]",
      "  [6] kwcall(::NamedTuple, ::typeof(Base.async_usemap), f::Any, c::Vararg{Any})",
      "    @ Base ./asyncmap.jl:78 [inlined]",
      "  [7] #asyncmap#1017",
      "    @ ./asyncmap.jl:75 [inlined]",
      "  [8] asyncmap",
      "    @ ./asyncmap.jl:74 [inlined]",
      "  [9] pmap(f::Function, p::WorkerPool, c::UnitRange{Int64}; distributed::Bool, batch_size::Int64, on_error::Nothing, retry_delays::Vector{Any}, retry_check::Nothing)",
      "    @ Distributed ~/julia-1.10.0/share/julia/stdlib/v1.10/Distributed/src/pmap.jl:126",
      " [10] pmap(f::Function, p::WorkerPool, c::UnitRange{Int64})",
      "    @ Distributed ~/julia-1.10.0/share/julia/stdlib/v1.10/Distributed/src/pmap.jl:99",
      " [11] pmap(f::Function, c::UnitRange{Int64}; kwargs::@Kwargs{})",
      "    @ Distributed ~/julia-1.10.0/share/julia/stdlib/v1.10/Distributed/src/pmap.jl:156",
      " [12] top-level scope",
      "    @ In[131]:2"
     ]
    }
   ],
   "source": [
    "start=time()\n",
    "pmap(parallelo_evol_run, nseq)\n",
    "fine=time()\n",
    "println(fine-start)\n",
    "println(\"MSAs GENERATED!!\")"
   ]
  },
  {
   "cell_type": "code",
   "execution_count": 132,
   "id": "a472f595-96e0-4e7b-8e19-3b8edfe0a5bd",
   "metadata": {
    "tags": []
   },
   "outputs": [
    {
     "name": "stdout",
     "output_type": "stream",
     "text": [
      "  0.057460 seconds (72.51 k allocations: 4.990 MiB, 99.80% compilation time)\n"
     ]
    },
    {
     "ename": "LoadError",
     "evalue": "BoundsError: attempt to access 0-element Vector{Matrix{Int8}} at index [1]",
     "output_type": "error",
     "traceback": [
      "BoundsError: attempt to access 0-element Vector{Matrix{Int8}} at index [1]",
      "",
      "Stacktrace:",
      " [1] getindex",
      "   @ ./essentials.jl:13 [inlined]",
      " [2] build_seq_matrices(step_matrices::Vector{Matrix{Int8}})",
      "   @ Main ~/Gen.jl/src/extra_tools.jl:84",
      " [3] top-level scope",
      "   @ In[132]:5"
     ]
    }
   ],
   "source": [
    "folder_path = dir_amino\n",
    "\n",
    "fasta_files = filter(file -> endswith(file, \".mixedDNA\"), readdir(folder_path))\n",
    "@time matrices = [Int8.(fasta2matrix(joinpath(folder_path, file))) \n",
    "    for file in fasta_files]\n",
    "step_matrices = build_seq_matrices(matrices);\n",
    "#@time f_sil = [DCAUtils.compute_weighted_frequencies(Int8.(m'),22,0)[1] for m in step_matrices];"
   ]
  },
  {
   "cell_type": "code",
   "execution_count": 133,
   "id": "66155d2b-74ec-427d-b6ae-5be92cfb4e23",
   "metadata": {},
   "outputs": [
    {
     "name": "stdout",
     "output_type": "stream",
     "text": [
      "θ = 0.2 threshold = 50.0\n",
      "M = 6740 N = 254 Meff = 1207.6800734644432\n",
      "θ = 0.2 threshold = 50.0\n",
      "M = 500 N = 254 Meff = 239.85654349167436\n",
      "θ = 0.0 threshold = 0.0\n",
      "M = 100 N = 254 Meff = 100\n"
     ]
    }
   ],
   "source": [
    "f,f2 = DCAUtils.compute_weighted_frequencies(Int8.(nat_MSA'), 22, 0.2)\n",
    "frs_nat = reshape(f, (21, N));\n",
    "idx = rand(1:size(nat_MSA,1), 500);\n",
    "f_small,f_small2 = DCAUtils.compute_weighted_frequencies(Int8.(nat_MSA[idx,:]'), 22, 0.2);\n",
    "f1end, f2end = DCAUtils.compute_weighted_frequencies(Int8.(step_matrices[end]'), 22, 0.);"
   ]
  },
  {
   "cell_type": "code",
   "execution_count": 134,
   "id": "7bda8a92-ac6a-4e8f-901d-764409b6f7d3",
   "metadata": {},
   "outputs": [
    {
     "name": "stdout",
     "output_type": "stream",
     "text": [
      "Data autocorrelation\n",
      "0.9474887800890055\n",
      "0.6997322192225451\n"
     ]
    }
   ],
   "source": [
    "println(\"Data autocorrelation\")\n",
    "println(corspearman(f[:], f_small[:]))\n",
    "println(corspearman(f2[:], f_small2[:]))"
   ]
  },
  {
   "cell_type": "code",
   "execution_count": 135,
   "id": "4c140a2e-0570-40b1-8bab-d69b4056abce",
   "metadata": {
    "tags": []
   },
   "outputs": [
    {
     "name": "stdout",
     "output_type": "stream",
     "text": [
      "Resample correlation\n",
      "0.7089022689623553\n"
     ]
    },
    {
     "ename": "LoadError",
     "evalue": "InterruptException:",
     "output_type": "error",
     "traceback": [
      "InterruptException:",
      "",
      "Stacktrace:",
      "  [1] mapreduce_impl(f::Statistics.var\"#4#6\"{typeof(identity), Float64}, op::typeof(Base.add_sum), A::Vector{Float64}, ifirst::Int64, ilast::Int64, blksize::Int64)",
      "    @ Base ./reduce.jl:253",
      "  [2] mapreduce_impl(f::Statistics.var\"#4#6\"{typeof(identity), Float64}, op::typeof(Base.add_sum), A::Vector{Float64}, ifirst::Int64, ilast::Int64, blksize::Int64)",
      "    @ Base ./reduce.jl:272",
      "  [3] mapreduce_impl(f::Statistics.var\"#4#6\"{typeof(identity), Float64}, op::typeof(Base.add_sum), A::Vector{Float64}, ifirst::Int64, ilast::Int64, blksize::Int64) (repeats 3 times)",
      "    @ Base ./reduce.jl:271",
      "  [4] mapreduce_impl(f::Statistics.var\"#4#6\"{typeof(identity), Float64}, op::typeof(Base.add_sum), A::Vector{Float64}, ifirst::Int64, ilast::Int64, blksize::Int64)",
      "    @ Base ./reduce.jl:272",
      "  [5] mapreduce_impl(f::Statistics.var\"#4#6\"{typeof(identity), Float64}, op::typeof(Base.add_sum), A::Vector{Float64}, ifirst::Int64, ilast::Int64, blksize::Int64)",
      "    @ Base ./reduce.jl:271",
      "  [6] mapreduce_impl(f::Statistics.var\"#4#6\"{typeof(identity), Float64}, op::typeof(Base.add_sum), A::Vector{Float64}, ifirst::Int64, ilast::Int64, blksize::Int64) (repeats 3 times)",
      "    @ Base ./reduce.jl:272",
      "  [7] mapreduce_impl(f::Statistics.var\"#4#6\"{typeof(identity), Float64}, op::typeof(Base.add_sum), A::Vector{Float64}, ifirst::Int64, ilast::Int64, blksize::Int64)",
      "    @ Base ./reduce.jl:271",
      "  [8] mapreduce_impl(f::Statistics.var\"#4#6\"{typeof(identity), Float64}, op::typeof(Base.add_sum), A::Vector{Float64}, ifirst::Int64, ilast::Int64, blksize::Int64)",
      "    @ Base ./reduce.jl:272",
      "  [9] mapreduce_impl(f::Statistics.var\"#4#6\"{typeof(identity), Float64}, op::typeof(Base.add_sum), A::Vector{Float64}, ifirst::Int64, ilast::Int64, blksize::Int64)",
      "    @ Base ./reduce.jl:271",
      " [10] mapreduce_impl(f::Statistics.var\"#4#6\"{typeof(identity), Float64}, op::typeof(Base.add_sum), A::Vector{Float64}, ifirst::Int64, ilast::Int64, blksize::Int64)",
      "    @ Base ./reduce.jl:272",
      " [11] mapreduce_impl(f::Statistics.var\"#4#6\"{typeof(identity), Float64}, op::typeof(Base.add_sum), A::Vector{Float64}, ifirst::Int64, ilast::Int64, blksize::Int64)",
      "    @ Base ./reduce.jl:271",
      " [12] mapreduce_impl(f::Statistics.var\"#4#6\"{typeof(identity), Float64}, op::typeof(Base.add_sum), A::Vector{Float64}, ifirst::Int64, ilast::Int64, blksize::Int64)",
      "    @ Base ./reduce.jl:272",
      " [13] mapreduce_impl",
      "    @ Base ./reduce.jl:277 [inlined]",
      " [14] _mapreduce",
      "    @ Base ./reduce.jl:447 [inlined]",
      " [15] _mapreduce_dim",
      "    @ Base ./reducedim.jl:365 [inlined]",
      " [16] mapreduce",
      "    @ Base ./reducedim.jl:357 [inlined]",
      " [17] _sum",
      "    @ Base ./reducedim.jl:1015 [inlined]",
      " [18] sum",
      "    @ Base ./reducedim.jl:1011 [inlined]",
      " [19] _mean(f::typeof(identity), A::Vector{Float64}, dims::Colon)",
      "    @ Statistics ~/julia-1.10.0/share/julia/stdlib/v1.10/Statistics/src/Statistics.jl:187",
      " [20] mean",
      "    @ ~/julia-1.10.0/share/julia/stdlib/v1.10/Statistics/src/Statistics.jl:174 [inlined]",
      " [21] cor",
      "    @ ~/julia-1.10.0/share/julia/stdlib/v1.10/Statistics/src/Statistics.jl:747 [inlined]",
      " [22] corspearman(x::Vector{Float64}, y::Vector{Float64})",
      "    @ StatsBase ~/.julia/packages/StatsBase/WLz8A/src/rankcorr.jl:24",
      " [23] top-level scope",
      "    @ In[135]:3"
     ]
    }
   ],
   "source": [
    "println(\"Resample correlation\")\n",
    "println(corspearman(f[:],f1end[:]))\n",
    "println(corspearman(f2[:],f2end[:]))"
   ]
  },
  {
   "cell_type": "code",
   "execution_count": 136,
   "id": "2b5bc0aa-0076-466a-ae22-a6446d35bf03",
   "metadata": {},
   "outputs": [
    {
     "data": {
      "image/png": "[encoded data removed]",
      "image/svg+xml": [
       "<?xml version=\"1.0\" encoding=\"utf-8\"?>\n",
       "<svg xmlns=\"http://www.w3.org/2000/svg\" xmlns:xlink=\"http://www.w3.org/1999/xlink\" width=\"600\" height=\"400\" viewBox=\"0 0 2400 1600\">\n",
       "<defs>\n",
       "  <clipPath id=\"clip100\">\n",
       "    <rect x=\"0\" y=\"0\" width=\"2400\" height=\"1600\"/>\n",
       "  </clipPath>\n",
       "</defs>\n",
       "<path clip-path=\"url(#clip100)\" d=\"M0 1600 L2400 1600 L2400 0 L0 0  Z\" fill=\"#ffffff\" fill-rule=\"evenodd\" fill-opacity=\"1\"/>\n",
       "<defs>\n",
       "  <clipPath id=\"clip101\">\n",
       "    <rect x=\"480\" y=\"0\" width=\"1681\" height=\"1600\"/>\n",
       "  </clipPath>\n",
       "</defs>\n",
       "<path clip-path=\"url(#clip100)\" d=\"M169.283 1486.45 L2352.76 1486.45 L2352.76 47.2441 L169.283 47.2441  Z\" fill=\"#ffffff\" fill-rule=\"evenodd\" fill-opacity=\"1\"/>\n",
       "<defs>\n",
       "  <clipPath id=\"clip102\">\n",
       "    <rect x=\"169\" y=\"47\" width=\"2184\" height=\"1440\"/>\n",
       "  </clipPath>\n",
       "</defs>\n",
       "<polyline clip-path=\"url(#clip102)\" style=\"stroke:#000000; stroke-linecap:round; stroke-linejoin:round; stroke-width:2; stroke-opacity:0.1; fill:none\" points=\"536.247,1486.45 536.247,47.2441 \"/>\n",
       "<polyline clip-path=\"url(#clip102)\" style=\"stroke:#000000; stroke-linecap:round; stroke-linejoin:round; stroke-width:2; stroke-opacity:0.1; fill:none\" points=\"917.706,1486.45 917.706,47.2441 \"/>\n",
       "<polyline clip-path=\"url(#clip102)\" style=\"stroke:#000000; stroke-linecap:round; stroke-linejoin:round; stroke-width:2; stroke-opacity:0.1; fill:none\" points=\"1299.17,1486.45 1299.17,47.2441 \"/>\n",
       "<polyline clip-path=\"url(#clip102)\" style=\"stroke:#000000; stroke-linecap:round; stroke-linejoin:round; stroke-width:2; stroke-opacity:0.1; fill:none\" points=\"1680.62,1486.45 1680.62,47.2441 \"/>\n",
       "<polyline clip-path=\"url(#clip102)\" style=\"stroke:#000000; stroke-linecap:round; stroke-linejoin:round; stroke-width:2; stroke-opacity:0.1; fill:none\" points=\"2062.08,1486.45 2062.08,47.2441 \"/>\n",
       "<polyline clip-path=\"url(#clip100)\" style=\"stroke:#000000; stroke-linecap:round; stroke-linejoin:round; stroke-width:4; stroke-opacity:1; fill:none\" points=\"169.283,1486.45 2352.76,1486.45 \"/>\n",
       "<polyline clip-path=\"url(#clip100)\" style=\"stroke:#000000; stroke-linecap:round; stroke-linejoin:round; stroke-width:4; stroke-opacity:1; fill:none\" points=\"536.247,1486.45 536.247,1467.55 \"/>\n",
       "<polyline clip-path=\"url(#clip100)\" style=\"stroke:#000000; stroke-linecap:round; stroke-linejoin:round; stroke-width:4; stroke-opacity:1; fill:none\" points=\"917.706,1486.45 917.706,1467.55 \"/>\n",
       "<polyline clip-path=\"url(#clip100)\" style=\"stroke:#000000; stroke-linecap:round; stroke-linejoin:round; stroke-width:4; stroke-opacity:1; fill:none\" points=\"1299.17,1486.45 1299.17,1467.55 \"/>\n",
       "<polyline clip-path=\"url(#clip100)\" style=\"stroke:#000000; stroke-linecap:round; stroke-linejoin:round; stroke-width:4; stroke-opacity:1; fill:none\" points=\"1680.62,1486.45 1680.62,1467.55 \"/>\n",
       "<polyline clip-path=\"url(#clip100)\" style=\"stroke:#000000; stroke-linecap:round; stroke-linejoin:round; stroke-width:4; stroke-opacity:1; fill:none\" points=\"2062.08,1486.45 2062.08,1467.55 \"/>\n",
       "<path clip-path=\"url(#clip100)\" d=\"M526.525 1514.29 L544.881 1514.29 L544.881 1518.22 L530.807 1518.22 L530.807 1526.7 Q531.826 1526.35 532.844 1526.19 Q533.863 1526 534.881 1526 Q540.668 1526 544.048 1529.17 Q547.428 1532.34 547.428 1537.76 Q547.428 1543.34 543.955 1546.44 Q540.483 1549.52 534.164 1549.52 Q531.988 1549.52 529.719 1549.15 Q527.474 1548.78 525.067 1548.04 L525.067 1543.34 Q527.15 1544.47 529.372 1545.03 Q531.594 1545.58 534.071 1545.58 Q538.076 1545.58 540.414 1543.48 Q542.752 1541.37 542.752 1537.76 Q542.752 1534.15 540.414 1532.04 Q538.076 1529.94 534.071 1529.94 Q532.196 1529.94 530.321 1530.35 Q528.469 1530.77 526.525 1531.65 L526.525 1514.29 Z\" fill=\"#000000\" fill-rule=\"nonzero\" fill-opacity=\"1\" /><path clip-path=\"url(#clip100)\" d=\"M892.394 1544.91 L900.033 1544.91 L900.033 1518.55 L891.723 1520.21 L891.723 1515.95 L899.987 1514.29 L904.662 1514.29 L904.662 1544.91 L912.301 1544.91 L912.301 1548.85 L892.394 1548.85 L892.394 1544.91 Z\" fill=\"#000000\" fill-rule=\"nonzero\" fill-opacity=\"1\" /><path clip-path=\"url(#clip100)\" d=\"M931.746 1517.37 Q928.135 1517.37 926.306 1520.93 Q924.5 1524.47 924.5 1531.6 Q924.5 1538.71 926.306 1542.27 Q928.135 1545.82 931.746 1545.82 Q935.38 1545.82 937.185 1542.27 Q939.014 1538.71 939.014 1531.6 Q939.014 1524.47 937.185 1520.93 Q935.38 1517.37 931.746 1517.37 M931.746 1513.66 Q937.556 1513.66 940.611 1518.27 Q943.69 1522.85 943.69 1531.6 Q943.69 1540.33 940.611 1544.94 Q937.556 1549.52 931.746 1549.52 Q925.935 1549.52 922.857 1544.94 Q919.801 1540.33 919.801 1531.6 Q919.801 1522.85 922.857 1518.27 Q925.935 1513.66 931.746 1513.66 Z\" fill=\"#000000\" fill-rule=\"nonzero\" fill-opacity=\"1\" /><path clip-path=\"url(#clip100)\" d=\"M1274.35 1544.91 L1281.99 1544.91 L1281.99 1518.55 L1273.68 1520.21 L1273.68 1515.95 L1281.94 1514.29 L1286.62 1514.29 L1286.62 1544.91 L1294.26 1544.91 L1294.26 1548.85 L1274.35 1548.85 L1274.35 1544.91 Z\" fill=\"#000000\" fill-rule=\"nonzero\" fill-opacity=\"1\" /><path clip-path=\"url(#clip100)\" d=\"M1303.75 1514.29 L1322.11 1514.29 L1322.11 1518.22 L1308.03 1518.22 L1308.03 1526.7 Q1309.05 1526.35 1310.07 1526.19 Q1311.09 1526 1312.11 1526 Q1317.89 1526 1321.27 1529.17 Q1324.65 1532.34 1324.65 1537.76 Q1324.65 1543.34 1321.18 1546.44 Q1317.71 1549.52 1311.39 1549.52 Q1309.21 1549.52 1306.94 1549.15 Q1304.7 1548.78 1302.29 1548.04 L1302.29 1543.34 Q1304.37 1544.47 1306.6 1545.03 Q1308.82 1545.58 1311.3 1545.58 Q1315.3 1545.58 1317.64 1543.48 Q1319.98 1541.37 1319.98 1537.76 Q1319.98 1534.15 1317.64 1532.04 Q1315.3 1529.94 1311.3 1529.94 Q1309.42 1529.94 1307.55 1530.35 Q1305.69 1530.77 1303.75 1531.65 L1303.75 1514.29 Z\" fill=\"#000000\" fill-rule=\"nonzero\" fill-opacity=\"1\" /><path clip-path=\"url(#clip100)\" d=\"M1659.4 1544.91 L1675.72 1544.91 L1675.72 1548.85 L1653.77 1548.85 L1653.77 1544.91 Q1656.44 1542.16 1661.02 1537.53 Q1665.62 1532.88 1666.81 1531.53 Q1669.05 1529.01 1669.93 1527.27 Q1670.83 1525.51 1670.83 1523.82 Q1670.83 1521.07 1668.89 1519.33 Q1666.97 1517.6 1663.87 1517.6 Q1661.67 1517.6 1659.21 1518.36 Q1656.78 1519.13 1654 1520.68 L1654 1515.95 Q1656.83 1514.82 1659.28 1514.24 Q1661.74 1513.66 1663.77 1513.66 Q1669.14 1513.66 1672.34 1516.35 Q1675.53 1519.03 1675.53 1523.52 Q1675.53 1525.65 1674.72 1527.57 Q1673.93 1529.47 1671.83 1532.07 Q1671.25 1532.74 1668.15 1535.95 Q1665.05 1539.15 1659.4 1544.91 Z\" fill=\"#000000\" fill-rule=\"nonzero\" fill-opacity=\"1\" /><path clip-path=\"url(#clip100)\" d=\"M1695.53 1517.37 Q1691.92 1517.37 1690.09 1520.93 Q1688.29 1524.47 1688.29 1531.6 Q1688.29 1538.71 1690.09 1542.27 Q1691.92 1545.82 1695.53 1545.82 Q1699.17 1545.82 1700.97 1542.27 Q1702.8 1538.71 1702.8 1531.6 Q1702.8 1524.47 1700.97 1520.93 Q1699.17 1517.37 1695.53 1517.37 M1695.53 1513.66 Q1701.34 1513.66 1704.4 1518.27 Q1707.48 1522.85 1707.48 1531.6 Q1707.48 1540.33 1704.4 1544.94 Q1701.34 1549.52 1695.53 1549.52 Q1689.72 1549.52 1686.64 1544.94 Q1683.59 1540.33 1683.59 1531.6 Q1683.59 1522.85 1686.64 1518.27 Q1689.72 1513.66 1695.53 1513.66 Z\" fill=\"#000000\" fill-rule=\"nonzero\" fill-opacity=\"1\" /><path clip-path=\"url(#clip100)\" d=\"M2041.35 1544.91 L2057.67 1544.91 L2057.67 1548.85 L2035.73 1548.85 L2035.73 1544.91 Q2038.39 1542.16 2042.98 1537.53 Q2047.58 1532.88 2048.76 1531.53 Q2051.01 1529.01 2051.89 1527.27 Q2052.79 1525.51 2052.79 1523.82 Q2052.79 1521.07 2050.85 1519.33 Q2048.92 1517.6 2045.82 1517.6 Q2043.62 1517.6 2041.17 1518.36 Q2038.74 1519.13 2035.96 1520.68 L2035.96 1515.95 Q2038.79 1514.82 2041.24 1514.24 Q2043.69 1513.66 2045.73 1513.66 Q2051.1 1513.66 2054.29 1516.35 Q2057.49 1519.03 2057.49 1523.52 Q2057.49 1525.65 2056.68 1527.57 Q2055.89 1529.47 2053.79 1532.07 Q2053.21 1532.74 2050.1 1535.95 Q2047 1539.15 2041.35 1544.91 Z\" fill=\"#000000\" fill-rule=\"nonzero\" fill-opacity=\"1\" /><path clip-path=\"url(#clip100)\" d=\"M2067.54 1514.29 L2085.89 1514.29 L2085.89 1518.22 L2071.82 1518.22 L2071.82 1526.7 Q2072.84 1526.35 2073.85 1526.19 Q2074.87 1526 2075.89 1526 Q2081.68 1526 2085.06 1529.17 Q2088.44 1532.34 2088.44 1537.76 Q2088.44 1543.34 2084.97 1546.44 Q2081.49 1549.52 2075.17 1549.52 Q2073 1549.52 2070.73 1549.15 Q2068.48 1548.78 2066.08 1548.04 L2066.08 1543.34 Q2068.16 1544.47 2070.38 1545.03 Q2072.6 1545.58 2075.08 1545.58 Q2079.09 1545.58 2081.42 1543.48 Q2083.76 1541.37 2083.76 1537.76 Q2083.76 1534.15 2081.42 1532.04 Q2079.09 1529.94 2075.08 1529.94 Q2073.21 1529.94 2071.33 1530.35 Q2069.48 1530.77 2067.54 1531.65 L2067.54 1514.29 Z\" fill=\"#000000\" fill-rule=\"nonzero\" fill-opacity=\"1\" /><polyline clip-path=\"url(#clip102)\" style=\"stroke:#000000; stroke-linecap:round; stroke-linejoin:round; stroke-width:2; stroke-opacity:0.1; fill:none\" points=\"169.283,1445.72 2352.76,1445.72 \"/>\n",
       "<polyline clip-path=\"url(#clip102)\" style=\"stroke:#000000; stroke-linecap:round; stroke-linejoin:round; stroke-width:2; stroke-opacity:0.1; fill:none\" points=\"169.283,1130.69 2352.76,1130.69 \"/>\n",
       "<polyline clip-path=\"url(#clip102)\" style=\"stroke:#000000; stroke-linecap:round; stroke-linejoin:round; stroke-width:2; stroke-opacity:0.1; fill:none\" points=\"169.283,815.674 2352.76,815.674 \"/>\n",
       "<polyline clip-path=\"url(#clip102)\" style=\"stroke:#000000; stroke-linecap:round; stroke-linejoin:round; stroke-width:2; stroke-opacity:0.1; fill:none\" points=\"169.283,500.653 2352.76,500.653 \"/>\n",
       "<polyline clip-path=\"url(#clip102)\" style=\"stroke:#000000; stroke-linecap:round; stroke-linejoin:round; stroke-width:2; stroke-opacity:0.1; fill:none\" points=\"169.283,185.633 2352.76,185.633 \"/>\n",
       "<polyline clip-path=\"url(#clip100)\" style=\"stroke:#000000; stroke-linecap:round; stroke-linejoin:round; stroke-width:4; stroke-opacity:1; fill:none\" points=\"169.283,1486.45 169.283,47.2441 \"/>\n",
       "<polyline clip-path=\"url(#clip100)\" style=\"stroke:#000000; stroke-linecap:round; stroke-linejoin:round; stroke-width:4; stroke-opacity:1; fill:none\" points=\"169.283,1445.72 188.181,1445.72 \"/>\n",
       "<polyline clip-path=\"url(#clip100)\" style=\"stroke:#000000; stroke-linecap:round; stroke-linejoin:round; stroke-width:4; stroke-opacity:1; fill:none\" points=\"169.283,1130.69 188.181,1130.69 \"/>\n",
       "<polyline clip-path=\"url(#clip100)\" style=\"stroke:#000000; stroke-linecap:round; stroke-linejoin:round; stroke-width:4; stroke-opacity:1; fill:none\" points=\"169.283,815.674 188.181,815.674 \"/>\n",
       "<polyline clip-path=\"url(#clip100)\" style=\"stroke:#000000; stroke-linecap:round; stroke-linejoin:round; stroke-width:4; stroke-opacity:1; fill:none\" points=\"169.283,500.653 188.181,500.653 \"/>\n",
       "<polyline clip-path=\"url(#clip100)\" style=\"stroke:#000000; stroke-linecap:round; stroke-linejoin:round; stroke-width:4; stroke-opacity:1; fill:none\" points=\"169.283,185.633 188.181,185.633 \"/>\n",
       "<path clip-path=\"url(#clip100)\" d=\"M52.8208 1459.06 L60.4597 1459.06 L60.4597 1432.69 L52.1495 1434.36 L52.1495 1430.1 L60.4134 1428.44 L65.0893 1428.44 L65.0893 1459.06 L72.7281 1459.06 L72.7281 1463 L52.8208 1463 L52.8208 1459.06 Z\" fill=\"#000000\" fill-rule=\"nonzero\" fill-opacity=\"1\" /><path clip-path=\"url(#clip100)\" d=\"M82.2188 1428.44 L100.575 1428.44 L100.575 1432.37 L86.5012 1432.37 L86.5012 1440.84 Q87.5197 1440.5 88.5382 1440.33 Q89.5567 1440.15 90.5752 1440.15 Q96.3623 1440.15 99.7419 1443.32 Q103.121 1446.49 103.121 1451.91 Q103.121 1457.49 99.6493 1460.59 Q96.1771 1463.67 89.8577 1463.67 Q87.6817 1463.67 85.4132 1463.3 Q83.1679 1462.93 80.7605 1462.19 L80.7605 1457.49 Q82.8438 1458.62 85.066 1459.18 Q87.2882 1459.73 89.7651 1459.73 Q93.7697 1459.73 96.1076 1457.63 Q98.4456 1455.52 98.4456 1451.91 Q98.4456 1448.3 96.1076 1446.19 Q93.7697 1444.08 89.7651 1444.08 Q87.8901 1444.08 86.0151 1444.5 Q84.1632 1444.92 82.2188 1445.8 L82.2188 1428.44 Z\" fill=\"#000000\" fill-rule=\"nonzero\" fill-opacity=\"1\" /><path clip-path=\"url(#clip100)\" d=\"M112.381 1428.44 L130.737 1428.44 L130.737 1432.37 L116.663 1432.37 L116.663 1440.84 Q117.682 1440.5 118.7 1440.33 Q119.719 1440.15 120.737 1440.15 Q126.524 1440.15 129.904 1443.32 Q133.283 1446.49 133.283 1451.91 Q133.283 1457.49 129.811 1460.59 Q126.339 1463.67 120.02 1463.67 Q117.844 1463.67 115.575 1463.3 Q113.33 1462.93 110.922 1462.19 L110.922 1457.49 Q113.006 1458.62 115.228 1459.18 Q117.45 1459.73 119.927 1459.73 Q123.932 1459.73 126.27 1457.63 Q128.607 1455.52 128.607 1451.91 Q128.607 1448.3 126.27 1446.19 Q123.932 1444.08 119.927 1444.08 Q118.052 1444.08 116.177 1444.5 Q114.325 1444.92 112.381 1445.8 L112.381 1428.44 Z\" fill=\"#000000\" fill-rule=\"nonzero\" fill-opacity=\"1\" /><path clip-path=\"url(#clip100)\" d=\"M51.6634 1144.04 L59.3023 1144.04 L59.3023 1117.67 L50.9921 1119.34 L50.9921 1115.08 L59.256 1113.41 L63.9319 1113.41 L63.9319 1144.04 L71.5707 1144.04 L71.5707 1147.97 L51.6634 1147.97 L51.6634 1144.04 Z\" fill=\"#000000\" fill-rule=\"nonzero\" fill-opacity=\"1\" /><path clip-path=\"url(#clip100)\" d=\"M81.0614 1113.41 L99.4178 1113.41 L99.4178 1117.35 L85.3438 1117.35 L85.3438 1125.82 Q86.3623 1125.48 87.3808 1125.31 Q88.3993 1125.13 89.4178 1125.13 Q95.2049 1125.13 98.5845 1128.3 Q101.964 1131.47 101.964 1136.89 Q101.964 1142.47 98.4919 1145.57 Q95.0197 1148.65 88.7003 1148.65 Q86.5243 1148.65 84.2558 1148.28 Q82.0105 1147.91 79.6031 1147.16 L79.6031 1142.47 Q81.6864 1143.6 83.9086 1144.16 Q86.1308 1144.71 88.6077 1144.71 Q92.6123 1144.71 94.9502 1142.6 Q97.2882 1140.5 97.2882 1136.89 Q97.2882 1133.28 94.9502 1131.17 Q92.6123 1129.06 88.6077 1129.06 Q86.7327 1129.06 84.8577 1129.48 Q83.0058 1129.9 81.0614 1130.78 L81.0614 1113.41 Z\" fill=\"#000000\" fill-rule=\"nonzero\" fill-opacity=\"1\" /><path clip-path=\"url(#clip100)\" d=\"M121.756 1128.83 Q118.608 1128.83 116.756 1130.98 Q114.927 1133.14 114.927 1136.89 Q114.927 1140.61 116.756 1142.79 Q118.608 1144.94 121.756 1144.94 Q124.904 1144.94 126.732 1142.79 Q128.584 1140.61 128.584 1136.89 Q128.584 1133.14 126.732 1130.98 Q124.904 1128.83 121.756 1128.83 M131.038 1114.18 L131.038 1118.44 Q129.279 1117.6 127.473 1117.16 Q125.691 1116.73 123.932 1116.73 Q119.302 1116.73 116.848 1119.85 Q114.418 1122.98 114.07 1129.29 Q115.436 1127.28 117.496 1126.22 Q119.557 1125.13 122.033 1125.13 Q127.242 1125.13 130.251 1128.3 Q133.283 1131.45 133.283 1136.89 Q133.283 1142.21 130.135 1145.43 Q126.987 1148.65 121.756 1148.65 Q115.76 1148.65 112.589 1144.06 Q109.418 1139.46 109.418 1130.73 Q109.418 1122.54 113.307 1117.67 Q117.195 1112.79 123.746 1112.79 Q125.506 1112.79 127.288 1113.14 Q129.094 1113.48 131.038 1114.18 Z\" fill=\"#000000\" fill-rule=\"nonzero\" fill-opacity=\"1\" /><path clip-path=\"url(#clip100)\" d=\"M52.7282 829.019 L60.3671 829.019 L60.3671 802.653 L52.0569 804.32 L52.0569 800.061 L60.3208 798.394 L64.9967 798.394 L64.9967 829.019 L72.6355 829.019 L72.6355 832.954 L52.7282 832.954 L52.7282 829.019 Z\" fill=\"#000000\" fill-rule=\"nonzero\" fill-opacity=\"1\" /><path clip-path=\"url(#clip100)\" d=\"M82.1262 798.394 L100.483 798.394 L100.483 802.329 L86.4086 802.329 L86.4086 810.802 Q87.4271 810.454 88.4456 810.292 Q89.4641 810.107 90.4827 810.107 Q96.2697 810.107 99.6493 813.278 Q103.029 816.45 103.029 821.866 Q103.029 827.445 99.5567 830.547 Q96.0845 833.625 89.7651 833.625 Q87.5892 833.625 85.3206 833.255 Q83.0753 832.885 80.6679 832.144 L80.6679 827.445 Q82.7512 828.579 84.9734 829.135 Q87.1956 829.69 89.6725 829.69 Q93.6771 829.69 96.015 827.584 Q98.353 825.477 98.353 821.866 Q98.353 818.255 96.015 816.149 Q93.6771 814.042 89.6725 814.042 Q87.7975 814.042 85.9225 814.459 Q84.0707 814.876 82.1262 815.755 L82.1262 798.394 Z\" fill=\"#000000\" fill-rule=\"nonzero\" fill-opacity=\"1\" /><path clip-path=\"url(#clip100)\" d=\"M111.061 798.394 L133.283 798.394 L133.283 800.385 L120.737 832.954 L115.853 832.954 L127.658 802.329 L111.061 802.329 L111.061 798.394 Z\" fill=\"#000000\" fill-rule=\"nonzero\" fill-opacity=\"1\" /><path clip-path=\"url(#clip100)\" d=\"M51.918 513.998 L59.5569 513.998 L59.5569 487.633 L51.2468 489.299 L51.2468 485.04 L59.5106 483.373 L64.1865 483.373 L64.1865 513.998 L71.8253 513.998 L71.8253 517.933 L51.918 517.933 L51.918 513.998 Z\" fill=\"#000000\" fill-rule=\"nonzero\" fill-opacity=\"1\" /><path clip-path=\"url(#clip100)\" d=\"M81.316 483.373 L99.6724 483.373 L99.6724 487.309 L85.5984 487.309 L85.5984 495.781 Q86.6169 495.434 87.6354 495.272 Q88.654 495.086 89.6725 495.086 Q95.4595 495.086 98.8391 498.258 Q102.219 501.429 102.219 506.846 Q102.219 512.424 98.7465 515.526 Q95.2743 518.605 88.9549 518.605 Q86.779 518.605 84.5105 518.234 Q82.2651 517.864 79.8577 517.123 L79.8577 512.424 Q81.941 513.558 84.1632 514.114 Q86.3855 514.67 88.8623 514.67 Q92.8669 514.67 95.2049 512.563 Q97.5428 510.457 97.5428 506.846 Q97.5428 503.234 95.2049 501.128 Q92.8669 499.022 88.8623 499.022 Q86.9873 499.022 85.1123 499.438 Q83.2605 499.855 81.316 500.734 L81.316 483.373 Z\" fill=\"#000000\" fill-rule=\"nonzero\" fill-opacity=\"1\" /><path clip-path=\"url(#clip100)\" d=\"M121.432 501.522 Q118.098 501.522 116.177 503.304 Q114.279 505.086 114.279 508.211 Q114.279 511.336 116.177 513.119 Q118.098 514.901 121.432 514.901 Q124.765 514.901 126.686 513.119 Q128.607 511.313 128.607 508.211 Q128.607 505.086 126.686 503.304 Q124.788 501.522 121.432 501.522 M116.756 499.531 Q113.746 498.79 112.057 496.73 Q110.39 494.67 110.39 491.707 Q110.39 487.563 113.33 485.156 Q116.293 482.748 121.432 482.748 Q126.594 482.748 129.533 485.156 Q132.473 487.563 132.473 491.707 Q132.473 494.67 130.783 496.73 Q129.117 498.79 126.131 499.531 Q129.51 500.318 131.385 502.609 Q133.283 504.901 133.283 508.211 Q133.283 513.234 130.205 515.92 Q127.149 518.605 121.432 518.605 Q115.714 518.605 112.635 515.92 Q109.58 513.234 109.58 508.211 Q109.58 504.901 111.478 502.609 Q113.376 500.318 116.756 499.531 M115.043 492.147 Q115.043 494.832 116.709 496.336 Q118.399 497.841 121.432 497.841 Q124.441 497.841 126.131 496.336 Q127.844 494.832 127.844 492.147 Q127.844 489.461 126.131 487.957 Q124.441 486.452 121.432 486.452 Q118.399 486.452 116.709 487.957 Q115.043 489.461 115.043 492.147 Z\" fill=\"#000000\" fill-rule=\"nonzero\" fill-opacity=\"1\" /><path clip-path=\"url(#clip100)\" d=\"M52.0106 198.978 L59.6495 198.978 L59.6495 172.612 L51.3393 174.279 L51.3393 170.019 L59.6032 168.353 L64.2791 168.353 L64.2791 198.978 L71.9179 198.978 L71.9179 202.913 L52.0106 202.913 L52.0106 198.978 Z\" fill=\"#000000\" fill-rule=\"nonzero\" fill-opacity=\"1\" /><path clip-path=\"url(#clip100)\" d=\"M81.4086 168.353 L99.765 168.353 L99.765 172.288 L85.691 172.288 L85.691 180.76 Q86.7095 180.413 87.728 180.251 Q88.7466 180.066 89.7651 180.066 Q95.5521 180.066 98.9317 183.237 Q102.311 186.408 102.311 191.825 Q102.311 197.403 98.8391 200.505 Q95.3669 203.584 89.0475 203.584 Q86.8716 203.584 84.6031 203.214 Q82.3577 202.843 79.9503 202.103 L79.9503 197.403 Q82.0336 198.538 84.2558 199.093 Q86.478 199.649 88.9549 199.649 Q92.9595 199.649 95.2974 197.542 Q97.6354 195.436 97.6354 191.825 Q97.6354 188.214 95.2974 186.107 Q92.9595 184.001 88.9549 184.001 Q87.0799 184.001 85.2049 184.417 Q83.3531 184.834 81.4086 185.714 L81.4086 168.353 Z\" fill=\"#000000\" fill-rule=\"nonzero\" fill-opacity=\"1\" /><path clip-path=\"url(#clip100)\" d=\"M111.663 202.195 L111.663 197.936 Q113.422 198.769 115.228 199.209 Q117.033 199.649 118.77 199.649 Q123.399 199.649 125.83 196.547 Q128.283 193.422 128.631 187.079 Q127.288 189.07 125.228 190.135 Q123.168 191.2 120.668 191.2 Q115.483 191.2 112.45 188.075 Q109.441 184.927 109.441 179.487 Q109.441 174.163 112.589 170.945 Q115.737 167.728 120.969 167.728 Q126.964 167.728 130.112 172.334 Q133.283 176.917 133.283 185.667 Q133.283 193.839 129.394 198.723 Q125.529 203.584 118.978 203.584 Q117.219 203.584 115.413 203.237 Q113.608 202.89 111.663 202.195 M120.969 187.542 Q124.117 187.542 125.945 185.39 Q127.797 183.237 127.797 179.487 Q127.797 175.76 125.945 173.607 Q124.117 171.431 120.969 171.431 Q117.82 171.431 115.969 173.607 Q114.14 175.76 114.14 179.487 Q114.14 183.237 115.969 185.39 Q117.82 187.542 120.969 187.542 Z\" fill=\"#000000\" fill-rule=\"nonzero\" fill-opacity=\"1\" /><polyline clip-path=\"url(#clip102)\" style=\"stroke:#009af9; stroke-linecap:round; stroke-linejoin:round; stroke-width:4; stroke-opacity:1; fill:none\" points=\"231.08,1445.72 307.372,1445.72 383.663,1439.42 459.955,1439.42 536.247,1395.31 612.539,1300.81 688.831,1174.8 765.123,1174.8 841.414,1020.44 917.706,815.674 993.998,667.614 1070.29,418.748 1146.58,658.164 1222.87,642.413 1299.17,884.979 1375.46,289.59 1451.75,604.61 1528.04,276.989 1604.33,254.937 1680.62,236.036 1756.92,103.727 1833.21,380.946 1909.5,349.443 1985.79,339.993 2062.08,87.9763 2138.38,236.036 2214.67,491.203 2290.96,569.958 \"/>\n",
       "<path clip-path=\"url(#clip100)\" d=\"M242.066 198.898 L512.843 198.898 L512.843 95.2176 L242.066 95.2176  Z\" fill=\"#ffffff\" fill-rule=\"evenodd\" fill-opacity=\"1\"/>\n",
       "<polyline clip-path=\"url(#clip100)\" style=\"stroke:#000000; stroke-linecap:round; stroke-linejoin:round; stroke-width:4; stroke-opacity:1; fill:none\" points=\"242.066,198.898 512.843,198.898 512.843,95.2176 242.066,95.2176 242.066,198.898 \"/>\n",
       "<polyline clip-path=\"url(#clip100)\" style=\"stroke:#009af9; stroke-linecap:round; stroke-linejoin:round; stroke-width:4; stroke-opacity:1; fill:none\" points=\"266.327,147.058 411.891,147.058 \"/>\n",
       "<path clip-path=\"url(#clip100)\" d=\"M449.995 166.745 Q448.189 171.375 446.476 172.787 Q444.763 174.199 441.893 174.199 L438.49 174.199 L438.49 170.634 L440.99 170.634 Q442.749 170.634 443.722 169.8 Q444.694 168.967 445.874 165.865 L446.638 163.921 L436.152 138.412 L440.666 138.412 L448.768 158.689 L456.87 138.412 L461.384 138.412 L449.995 166.745 Z\" fill=\"#000000\" fill-rule=\"nonzero\" fill-opacity=\"1\" /><path clip-path=\"url(#clip100)\" d=\"M468.675 160.402 L476.314 160.402 L476.314 134.037 L468.004 135.703 L468.004 131.444 L476.268 129.778 L480.944 129.778 L480.944 160.402 L488.582 160.402 L488.582 164.338 L468.675 164.338 L468.675 160.402 Z\" fill=\"#000000\" fill-rule=\"nonzero\" fill-opacity=\"1\" /></svg>\n"
      ],
      "text/html": [
       "<?xml version=\"1.0\" encoding=\"utf-8\"?>\n",
       "<svg xmlns=\"http://www.w3.org/2000/svg\" xmlns:xlink=\"http://www.w3.org/1999/xlink\" width=\"600\" height=\"400\" viewBox=\"0 0 2400 1600\">\n",
       "<defs>\n",
       "  <clipPath id=\"clip150\">\n",
       "    <rect x=\"0\" y=\"0\" width=\"2400\" height=\"1600\"/>\n",
       "  </clipPath>\n",
       "</defs>\n",
       "<path clip-path=\"url(#clip150)\" d=\"M0 1600 L2400 1600 L2400 0 L0 0  Z\" fill=\"#ffffff\" fill-rule=\"evenodd\" fill-opacity=\"1\"/>\n",
       "<defs>\n",
       "  <clipPath id=\"clip151\">\n",
       "    <rect x=\"480\" y=\"0\" width=\"1681\" height=\"1600\"/>\n",
       "  </clipPath>\n",
       "</defs>\n",
       "<path clip-path=\"url(#clip150)\" d=\"M169.283 1486.45 L2352.76 1486.45 L2352.76 47.2441 L169.283 47.2441  Z\" fill=\"#ffffff\" fill-rule=\"evenodd\" fill-opacity=\"1\"/>\n",
       "<defs>\n",
       "  <clipPath id=\"clip152\">\n",
       "    <rect x=\"169\" y=\"47\" width=\"2184\" height=\"1440\"/>\n",
       "  </clipPath>\n",
       "</defs>\n",
       "<polyline clip-path=\"url(#clip152)\" style=\"stroke:#000000; stroke-linecap:round; stroke-linejoin:round; stroke-width:2; stroke-opacity:0.1; fill:none\" points=\"536.247,1486.45 536.247,47.2441 \"/>\n",
       "<polyline clip-path=\"url(#clip152)\" style=\"stroke:#000000; stroke-linecap:round; stroke-linejoin:round; stroke-width:2; stroke-opacity:0.1; fill:none\" points=\"917.706,1486.45 917.706,47.2441 \"/>\n",
       "<polyline clip-path=\"url(#clip152)\" style=\"stroke:#000000; stroke-linecap:round; stroke-linejoin:round; stroke-width:2; stroke-opacity:0.1; fill:none\" points=\"1299.17,1486.45 1299.17,47.2441 \"/>\n",
       "<polyline clip-path=\"url(#clip152)\" style=\"stroke:#000000; stroke-linecap:round; stroke-linejoin:round; stroke-width:2; stroke-opacity:0.1; fill:none\" points=\"1680.62,1486.45 1680.62,47.2441 \"/>\n",
       "<polyline clip-path=\"url(#clip152)\" style=\"stroke:#000000; stroke-linecap:round; stroke-linejoin:round; stroke-width:2; stroke-opacity:0.1; fill:none\" points=\"2062.08,1486.45 2062.08,47.2441 \"/>\n",
       "<polyline clip-path=\"url(#clip150)\" style=\"stroke:#000000; stroke-linecap:round; stroke-linejoin:round; stroke-width:4; stroke-opacity:1; fill:none\" points=\"169.283,1486.45 2352.76,1486.45 \"/>\n",
       "<polyline clip-path=\"url(#clip150)\" style=\"stroke:#000000; stroke-linecap:round; stroke-linejoin:round; stroke-width:4; stroke-opacity:1; fill:none\" points=\"536.247,1486.45 536.247,1467.55 \"/>\n",
       "<polyline clip-path=\"url(#clip150)\" style=\"stroke:#000000; stroke-linecap:round; stroke-linejoin:round; stroke-width:4; stroke-opacity:1; fill:none\" points=\"917.706,1486.45 917.706,1467.55 \"/>\n",
       "<polyline clip-path=\"url(#clip150)\" style=\"stroke:#000000; stroke-linecap:round; stroke-linejoin:round; stroke-width:4; stroke-opacity:1; fill:none\" points=\"1299.17,1486.45 1299.17,1467.55 \"/>\n",
       "<polyline clip-path=\"url(#clip150)\" style=\"stroke:#000000; stroke-linecap:round; stroke-linejoin:round; stroke-width:4; stroke-opacity:1; fill:none\" points=\"1680.62,1486.45 1680.62,1467.55 \"/>\n",
       "<polyline clip-path=\"url(#clip150)\" style=\"stroke:#000000; stroke-linecap:round; stroke-linejoin:round; stroke-width:4; stroke-opacity:1; fill:none\" points=\"2062.08,1486.45 2062.08,1467.55 \"/>\n",
       "<path clip-path=\"url(#clip150)\" d=\"M526.525 1514.29 L544.881 1514.29 L544.881 1518.22 L530.807 1518.22 L530.807 1526.7 Q531.826 1526.35 532.844 1526.19 Q533.863 1526 534.881 1526 Q540.668 1526 544.048 1529.17 Q547.428 1532.34 547.428 1537.76 Q547.428 1543.34 543.955 1546.44 Q540.483 1549.52 534.164 1549.52 Q531.988 1549.52 529.719 1549.15 Q527.474 1548.78 525.067 1548.04 L525.067 1543.34 Q527.15 1544.47 529.372 1545.03 Q531.594 1545.58 534.071 1545.58 Q538.076 1545.58 540.414 1543.48 Q542.752 1541.37 542.752 1537.76 Q542.752 1534.15 540.414 1532.04 Q538.076 1529.94 534.071 1529.94 Q532.196 1529.94 530.321 1530.35 Q528.469 1530.77 526.525 1531.65 L526.525 1514.29 Z\" fill=\"#000000\" fill-rule=\"nonzero\" fill-opacity=\"1\" /><path clip-path=\"url(#clip150)\" d=\"M892.394 1544.91 L900.033 1544.91 L900.033 1518.55 L891.723 1520.21 L891.723 1515.95 L899.987 1514.29 L904.662 1514.29 L904.662 1544.91 L912.301 1544.91 L912.301 1548.85 L892.394 1548.85 L892.394 1544.91 Z\" fill=\"#000000\" fill-rule=\"nonzero\" fill-opacity=\"1\" /><path clip-path=\"url(#clip150)\" d=\"M931.746 1517.37 Q928.135 1517.37 926.306 1520.93 Q924.5 1524.47 924.5 1531.6 Q924.5 1538.71 926.306 1542.27 Q928.135 1545.82 931.746 1545.82 Q935.38 1545.82 937.185 1542.27 Q939.014 1538.71 939.014 1531.6 Q939.014 1524.47 937.185 1520.93 Q935.38 1517.37 931.746 1517.37 M931.746 1513.66 Q937.556 1513.66 940.611 1518.27 Q943.69 1522.85 943.69 1531.6 Q943.69 1540.33 940.611 1544.94 Q937.556 1549.52 931.746 1549.52 Q925.935 1549.52 922.857 1544.94 Q919.801 1540.33 919.801 1531.6 Q919.801 1522.85 922.857 1518.27 Q925.935 1513.66 931.746 1513.66 Z\" fill=\"#000000\" fill-rule=\"nonzero\" fill-opacity=\"1\" /><path clip-path=\"url(#clip150)\" d=\"M1274.35 1544.91 L1281.99 1544.91 L1281.99 1518.55 L1273.68 1520.21 L1273.68 1515.95 L1281.94 1514.29 L1286.62 1514.29 L1286.62 1544.91 L1294.26 1544.91 L1294.26 1548.85 L1274.35 1548.85 L1274.35 1544.91 Z\" fill=\"#000000\" fill-rule=\"nonzero\" fill-opacity=\"1\" /><path clip-path=\"url(#clip150)\" d=\"M1303.75 1514.29 L1322.11 1514.29 L1322.11 1518.22 L1308.03 1518.22 L1308.03 1526.7 Q1309.05 1526.35 1310.07 1526.19 Q1311.09 1526 1312.11 1526 Q1317.89 1526 1321.27 1529.17 Q1324.65 1532.34 1324.65 1537.76 Q1324.65 1543.34 1321.18 1546.44 Q1317.71 1549.52 1311.39 1549.52 Q1309.21 1549.52 1306.94 1549.15 Q1304.7 1548.78 1302.29 1548.04 L1302.29 1543.34 Q1304.37 1544.47 1306.6 1545.03 Q1308.82 1545.58 1311.3 1545.58 Q1315.3 1545.58 1317.64 1543.48 Q1319.98 1541.37 1319.98 1537.76 Q1319.98 1534.15 1317.64 1532.04 Q1315.3 1529.94 1311.3 1529.94 Q1309.42 1529.94 1307.55 1530.35 Q1305.69 1530.77 1303.75 1531.65 L1303.75 1514.29 Z\" fill=\"#000000\" fill-rule=\"nonzero\" fill-opacity=\"1\" /><path clip-path=\"url(#clip150)\" d=\"M1659.4 1544.91 L1675.72 1544.91 L1675.72 1548.85 L1653.77 1548.85 L1653.77 1544.91 Q1656.44 1542.16 1661.02 1537.53 Q1665.62 1532.88 1666.81 1531.53 Q1669.05 1529.01 1669.93 1527.27 Q1670.83 1525.51 1670.83 1523.82 Q1670.83 1521.07 1668.89 1519.33 Q1666.97 1517.6 1663.87 1517.6 Q1661.67 1517.6 1659.21 1518.36 Q1656.78 1519.13 1654 1520.68 L1654 1515.95 Q1656.83 1514.82 1659.28 1514.24 Q1661.74 1513.66 1663.77 1513.66 Q1669.14 1513.66 1672.34 1516.35 Q1675.53 1519.03 1675.53 1523.52 Q1675.53 1525.65 1674.72 1527.57 Q1673.93 1529.47 1671.83 1532.07 Q1671.25 1532.74 1668.15 1535.95 Q1665.05 1539.15 1659.4 1544.91 Z\" fill=\"#000000\" fill-rule=\"nonzero\" fill-opacity=\"1\" /><path clip-path=\"url(#clip150)\" d=\"M1695.53 1517.37 Q1691.92 1517.37 1690.09 1520.93 Q1688.29 1524.47 1688.29 1531.6 Q1688.29 1538.71 1690.09 1542.27 Q1691.92 1545.82 1695.53 1545.82 Q1699.17 1545.82 1700.97 1542.27 Q1702.8 1538.71 1702.8 1531.6 Q1702.8 1524.47 1700.97 1520.93 Q1699.17 1517.37 1695.53 1517.37 M1695.53 1513.66 Q1701.34 1513.66 1704.4 1518.27 Q1707.48 1522.85 1707.48 1531.6 Q1707.48 1540.33 1704.4 1544.94 Q1701.34 1549.52 1695.53 1549.52 Q1689.72 1549.52 1686.64 1544.94 Q1683.59 1540.33 1683.59 1531.6 Q1683.59 1522.85 1686.64 1518.27 Q1689.72 1513.66 1695.53 1513.66 Z\" fill=\"#000000\" fill-rule=\"nonzero\" fill-opacity=\"1\" /><path clip-path=\"url(#clip150)\" d=\"M2041.35 1544.91 L2057.67 1544.91 L2057.67 1548.85 L2035.73 1548.85 L2035.73 1544.91 Q2038.39 1542.16 2042.98 1537.53 Q2047.58 1532.88 2048.76 1531.53 Q2051.01 1529.01 2051.89 1527.27 Q2052.79 1525.51 2052.79 1523.82 Q2052.79 1521.07 2050.85 1519.33 Q2048.92 1517.6 2045.82 1517.6 Q2043.62 1517.6 2041.17 1518.36 Q2038.74 1519.13 2035.96 1520.68 L2035.96 1515.95 Q2038.79 1514.82 2041.24 1514.24 Q2043.69 1513.66 2045.73 1513.66 Q2051.1 1513.66 2054.29 1516.35 Q2057.49 1519.03 2057.49 1523.52 Q2057.49 1525.65 2056.68 1527.57 Q2055.89 1529.47 2053.79 1532.07 Q2053.21 1532.74 2050.1 1535.95 Q2047 1539.15 2041.35 1544.91 Z\" fill=\"#000000\" fill-rule=\"nonzero\" fill-opacity=\"1\" /><path clip-path=\"url(#clip150)\" d=\"M2067.54 1514.29 L2085.89 1514.29 L2085.89 1518.22 L2071.82 1518.22 L2071.82 1526.7 Q2072.84 1526.35 2073.85 1526.19 Q2074.87 1526 2075.89 1526 Q2081.68 1526 2085.06 1529.17 Q2088.44 1532.34 2088.44 1537.76 Q2088.44 1543.34 2084.97 1546.44 Q2081.49 1549.52 2075.17 1549.52 Q2073 1549.52 2070.73 1549.15 Q2068.48 1548.78 2066.08 1548.04 L2066.08 1543.34 Q2068.16 1544.47 2070.38 1545.03 Q2072.6 1545.58 2075.08 1545.58 Q2079.09 1545.58 2081.42 1543.48 Q2083.76 1541.37 2083.76 1537.76 Q2083.76 1534.15 2081.42 1532.04 Q2079.09 1529.94 2075.08 1529.94 Q2073.21 1529.94 2071.33 1530.35 Q2069.48 1530.77 2067.54 1531.65 L2067.54 1514.29 Z\" fill=\"#000000\" fill-rule=\"nonzero\" fill-opacity=\"1\" /><polyline clip-path=\"url(#clip152)\" style=\"stroke:#000000; stroke-linecap:round; stroke-linejoin:round; stroke-width:2; stroke-opacity:0.1; fill:none\" points=\"169.283,1445.72 2352.76,1445.72 \"/>\n",
       "<polyline clip-path=\"url(#clip152)\" style=\"stroke:#000000; stroke-linecap:round; stroke-linejoin:round; stroke-width:2; stroke-opacity:0.1; fill:none\" points=\"169.283,1130.69 2352.76,1130.69 \"/>\n",
       "<polyline clip-path=\"url(#clip152)\" style=\"stroke:#000000; stroke-linecap:round; stroke-linejoin:round; stroke-width:2; stroke-opacity:0.1; fill:none\" points=\"169.283,815.674 2352.76,815.674 \"/>\n",
       "<polyline clip-path=\"url(#clip152)\" style=\"stroke:#000000; stroke-linecap:round; stroke-linejoin:round; stroke-width:2; stroke-opacity:0.1; fill:none\" points=\"169.283,500.653 2352.76,500.653 \"/>\n",
       "<polyline clip-path=\"url(#clip152)\" style=\"stroke:#000000; stroke-linecap:round; stroke-linejoin:round; stroke-width:2; stroke-opacity:0.1; fill:none\" points=\"169.283,185.633 2352.76,185.633 \"/>\n",
       "<polyline clip-path=\"url(#clip150)\" style=\"stroke:#000000; stroke-linecap:round; stroke-linejoin:round; stroke-width:4; stroke-opacity:1; fill:none\" points=\"169.283,1486.45 169.283,47.2441 \"/>\n",
       "<polyline clip-path=\"url(#clip150)\" style=\"stroke:#000000; stroke-linecap:round; stroke-linejoin:round; stroke-width:4; stroke-opacity:1; fill:none\" points=\"169.283,1445.72 188.181,1445.72 \"/>\n",
       "<polyline clip-path=\"url(#clip150)\" style=\"stroke:#000000; stroke-linecap:round; stroke-linejoin:round; stroke-width:4; stroke-opacity:1; fill:none\" points=\"169.283,1130.69 188.181,1130.69 \"/>\n",
       "<polyline clip-path=\"url(#clip150)\" style=\"stroke:#000000; stroke-linecap:round; stroke-linejoin:round; stroke-width:4; stroke-opacity:1; fill:none\" points=\"169.283,815.674 188.181,815.674 \"/>\n",
       "<polyline clip-path=\"url(#clip150)\" style=\"stroke:#000000; stroke-linecap:round; stroke-linejoin:round; stroke-width:4; stroke-opacity:1; fill:none\" points=\"169.283,500.653 188.181,500.653 \"/>\n",
       "<polyline clip-path=\"url(#clip150)\" style=\"stroke:#000000; stroke-linecap:round; stroke-linejoin:round; stroke-width:4; stroke-opacity:1; fill:none\" points=\"169.283,185.633 188.181,185.633 \"/>\n",
       "<path clip-path=\"url(#clip150)\" d=\"M52.8208 1459.06 L60.4597 1459.06 L60.4597 1432.69 L52.1495 1434.36 L52.1495 1430.1 L60.4134 1428.44 L65.0893 1428.44 L65.0893 1459.06 L72.7281 1459.06 L72.7281 1463 L52.8208 1463 L52.8208 1459.06 Z\" fill=\"#000000\" fill-rule=\"nonzero\" fill-opacity=\"1\" /><path clip-path=\"url(#clip150)\" d=\"M82.2188 1428.44 L100.575 1428.44 L100.575 1432.37 L86.5012 1432.37 L86.5012 1440.84 Q87.5197 1440.5 88.5382 1440.33 Q89.5567 1440.15 90.5752 1440.15 Q96.3623 1440.15 99.7419 1443.32 Q103.121 1446.49 103.121 1451.91 Q103.121 1457.49 99.6493 1460.59 Q96.1771 1463.67 89.8577 1463.67 Q87.6817 1463.67 85.4132 1463.3 Q83.1679 1462.93 80.7605 1462.19 L80.7605 1457.49 Q82.8438 1458.62 85.066 1459.18 Q87.2882 1459.73 89.7651 1459.73 Q93.7697 1459.73 96.1076 1457.63 Q98.4456 1455.52 98.4456 1451.91 Q98.4456 1448.3 96.1076 1446.19 Q93.7697 1444.08 89.7651 1444.08 Q87.8901 1444.08 86.0151 1444.5 Q84.1632 1444.92 82.2188 1445.8 L82.2188 1428.44 Z\" fill=\"#000000\" fill-rule=\"nonzero\" fill-opacity=\"1\" /><path clip-path=\"url(#clip150)\" d=\"M112.381 1428.44 L130.737 1428.44 L130.737 1432.37 L116.663 1432.37 L116.663 1440.84 Q117.682 1440.5 118.7 1440.33 Q119.719 1440.15 120.737 1440.15 Q126.524 1440.15 129.904 1443.32 Q133.283 1446.49 133.283 1451.91 Q133.283 1457.49 129.811 1460.59 Q126.339 1463.67 120.02 1463.67 Q117.844 1463.67 115.575 1463.3 Q113.33 1462.93 110.922 1462.19 L110.922 1457.49 Q113.006 1458.62 115.228 1459.18 Q117.45 1459.73 119.927 1459.73 Q123.932 1459.73 126.27 1457.63 Q128.607 1455.52 128.607 1451.91 Q128.607 1448.3 126.27 1446.19 Q123.932 1444.08 119.927 1444.08 Q118.052 1444.08 116.177 1444.5 Q114.325 1444.92 112.381 1445.8 L112.381 1428.44 Z\" fill=\"#000000\" fill-rule=\"nonzero\" fill-opacity=\"1\" /><path clip-path=\"url(#clip150)\" d=\"M51.6634 1144.04 L59.3023 1144.04 L59.3023 1117.67 L50.9921 1119.34 L50.9921 1115.08 L59.256 1113.41 L63.9319 1113.41 L63.9319 1144.04 L71.5707 1144.04 L71.5707 1147.97 L51.6634 1147.97 L51.6634 1144.04 Z\" fill=\"#000000\" fill-rule=\"nonzero\" fill-opacity=\"1\" /><path clip-path=\"url(#clip150)\" d=\"M81.0614 1113.41 L99.4178 1113.41 L99.4178 1117.35 L85.3438 1117.35 L85.3438 1125.82 Q86.3623 1125.48 87.3808 1125.31 Q88.3993 1125.13 89.4178 1125.13 Q95.2049 1125.13 98.5845 1128.3 Q101.964 1131.47 101.964 1136.89 Q101.964 1142.47 98.4919 1145.57 Q95.0197 1148.65 88.7003 1148.65 Q86.5243 1148.65 84.2558 1148.28 Q82.0105 1147.91 79.6031 1147.16 L79.6031 1142.47 Q81.6864 1143.6 83.9086 1144.16 Q86.1308 1144.71 88.6077 1144.71 Q92.6123 1144.71 94.9502 1142.6 Q97.2882 1140.5 97.2882 1136.89 Q97.2882 1133.28 94.9502 1131.17 Q92.6123 1129.06 88.6077 1129.06 Q86.7327 1129.06 84.8577 1129.48 Q83.0058 1129.9 81.0614 1130.78 L81.0614 1113.41 Z\" fill=\"#000000\" fill-rule=\"nonzero\" fill-opacity=\"1\" /><path clip-path=\"url(#clip150)\" d=\"M121.756 1128.83 Q118.608 1128.83 116.756 1130.98 Q114.927 1133.14 114.927 1136.89 Q114.927 1140.61 116.756 1142.79 Q118.608 1144.94 121.756 1144.94 Q124.904 1144.94 126.732 1142.79 Q128.584 1140.61 128.584 1136.89 Q128.584 1133.14 126.732 1130.98 Q124.904 1128.83 121.756 1128.83 M131.038 1114.18 L131.038 1118.44 Q129.279 1117.6 127.473 1117.16 Q125.691 1116.73 123.932 1116.73 Q119.302 1116.73 116.848 1119.85 Q114.418 1122.98 114.07 1129.29 Q115.436 1127.28 117.496 1126.22 Q119.557 1125.13 122.033 1125.13 Q127.242 1125.13 130.251 1128.3 Q133.283 1131.45 133.283 1136.89 Q133.283 1142.21 130.135 1145.43 Q126.987 1148.65 121.756 1148.65 Q115.76 1148.65 112.589 1144.06 Q109.418 1139.46 109.418 1130.73 Q109.418 1122.54 113.307 1117.67 Q117.195 1112.79 123.746 1112.79 Q125.506 1112.79 127.288 1113.14 Q129.094 1113.48 131.038 1114.18 Z\" fill=\"#000000\" fill-rule=\"nonzero\" fill-opacity=\"1\" /><path clip-path=\"url(#clip150)\" d=\"M52.7282 829.019 L60.3671 829.019 L60.3671 802.653 L52.0569 804.32 L52.0569 800.061 L60.3208 798.394 L64.9967 798.394 L64.9967 829.019 L72.6355 829.019 L72.6355 832.954 L52.7282 832.954 L52.7282 829.019 Z\" fill=\"#000000\" fill-rule=\"nonzero\" fill-opacity=\"1\" /><path clip-path=\"url(#clip150)\" d=\"M82.1262 798.394 L100.483 798.394 L100.483 802.329 L86.4086 802.329 L86.4086 810.802 Q87.4271 810.454 88.4456 810.292 Q89.4641 810.107 90.4827 810.107 Q96.2697 810.107 99.6493 813.278 Q103.029 816.45 103.029 821.866 Q103.029 827.445 99.5567 830.547 Q96.0845 833.625 89.7651 833.625 Q87.5892 833.625 85.3206 833.255 Q83.0753 832.885 80.6679 832.144 L80.6679 827.445 Q82.7512 828.579 84.9734 829.135 Q87.1956 829.69 89.6725 829.69 Q93.6771 829.69 96.015 827.584 Q98.353 825.477 98.353 821.866 Q98.353 818.255 96.015 816.149 Q93.6771 814.042 89.6725 814.042 Q87.7975 814.042 85.9225 814.459 Q84.0707 814.876 82.1262 815.755 L82.1262 798.394 Z\" fill=\"#000000\" fill-rule=\"nonzero\" fill-opacity=\"1\" /><path clip-path=\"url(#clip150)\" d=\"M111.061 798.394 L133.283 798.394 L133.283 800.385 L120.737 832.954 L115.853 832.954 L127.658 802.329 L111.061 802.329 L111.061 798.394 Z\" fill=\"#000000\" fill-rule=\"nonzero\" fill-opacity=\"1\" /><path clip-path=\"url(#clip150)\" d=\"M51.918 513.998 L59.5569 513.998 L59.5569 487.633 L51.2468 489.299 L51.2468 485.04 L59.5106 483.373 L64.1865 483.373 L64.1865 513.998 L71.8253 513.998 L71.8253 517.933 L51.918 517.933 L51.918 513.998 Z\" fill=\"#000000\" fill-rule=\"nonzero\" fill-opacity=\"1\" /><path clip-path=\"url(#clip150)\" d=\"M81.316 483.373 L99.6724 483.373 L99.6724 487.309 L85.5984 487.309 L85.5984 495.781 Q86.6169 495.434 87.6354 495.272 Q88.654 495.086 89.6725 495.086 Q95.4595 495.086 98.8391 498.258 Q102.219 501.429 102.219 506.846 Q102.219 512.424 98.7465 515.526 Q95.2743 518.605 88.9549 518.605 Q86.779 518.605 84.5105 518.234 Q82.2651 517.864 79.8577 517.123 L79.8577 512.424 Q81.941 513.558 84.1632 514.114 Q86.3855 514.67 88.8623 514.67 Q92.8669 514.67 95.2049 512.563 Q97.5428 510.457 97.5428 506.846 Q97.5428 503.234 95.2049 501.128 Q92.8669 499.022 88.8623 499.022 Q86.9873 499.022 85.1123 499.438 Q83.2605 499.855 81.316 500.734 L81.316 483.373 Z\" fill=\"#000000\" fill-rule=\"nonzero\" fill-opacity=\"1\" /><path clip-path=\"url(#clip150)\" d=\"M121.432 501.522 Q118.098 501.522 116.177 503.304 Q114.279 505.086 114.279 508.211 Q114.279 511.336 116.177 513.119 Q118.098 514.901 121.432 514.901 Q124.765 514.901 126.686 513.119 Q128.607 511.313 128.607 508.211 Q128.607 505.086 126.686 503.304 Q124.788 501.522 121.432 501.522 M116.756 499.531 Q113.746 498.79 112.057 496.73 Q110.39 494.67 110.39 491.707 Q110.39 487.563 113.33 485.156 Q116.293 482.748 121.432 482.748 Q126.594 482.748 129.533 485.156 Q132.473 487.563 132.473 491.707 Q132.473 494.67 130.783 496.73 Q129.117 498.79 126.131 499.531 Q129.51 500.318 131.385 502.609 Q133.283 504.901 133.283 508.211 Q133.283 513.234 130.205 515.92 Q127.149 518.605 121.432 518.605 Q115.714 518.605 112.635 515.92 Q109.58 513.234 109.58 508.211 Q109.58 504.901 111.478 502.609 Q113.376 500.318 116.756 499.531 M115.043 492.147 Q115.043 494.832 116.709 496.336 Q118.399 497.841 121.432 497.841 Q124.441 497.841 126.131 496.336 Q127.844 494.832 127.844 492.147 Q127.844 489.461 126.131 487.957 Q124.441 486.452 121.432 486.452 Q118.399 486.452 116.709 487.957 Q115.043 489.461 115.043 492.147 Z\" fill=\"#000000\" fill-rule=\"nonzero\" fill-opacity=\"1\" /><path clip-path=\"url(#clip150)\" d=\"M52.0106 198.978 L59.6495 198.978 L59.6495 172.612 L51.3393 174.279 L51.3393 170.019 L59.6032 168.353 L64.2791 168.353 L64.2791 198.978 L71.9179 198.978 L71.9179 202.913 L52.0106 202.913 L52.0106 198.978 Z\" fill=\"#000000\" fill-rule=\"nonzero\" fill-opacity=\"1\" /><path clip-path=\"url(#clip150)\" d=\"M81.4086 168.353 L99.765 168.353 L99.765 172.288 L85.691 172.288 L85.691 180.76 Q86.7095 180.413 87.728 180.251 Q88.7466 180.066 89.7651 180.066 Q95.5521 180.066 98.9317 183.237 Q102.311 186.408 102.311 191.825 Q102.311 197.403 98.8391 200.505 Q95.3669 203.584 89.0475 203.584 Q86.8716 203.584 84.6031 203.214 Q82.3577 202.843 79.9503 202.103 L79.9503 197.403 Q82.0336 198.538 84.2558 199.093 Q86.478 199.649 88.9549 199.649 Q92.9595 199.649 95.2974 197.542 Q97.6354 195.436 97.6354 191.825 Q97.6354 188.214 95.2974 186.107 Q92.9595 184.001 88.9549 184.001 Q87.0799 184.001 85.2049 184.417 Q83.3531 184.834 81.4086 185.714 L81.4086 168.353 Z\" fill=\"#000000\" fill-rule=\"nonzero\" fill-opacity=\"1\" /><path clip-path=\"url(#clip150)\" d=\"M111.663 202.195 L111.663 197.936 Q113.422 198.769 115.228 199.209 Q117.033 199.649 118.77 199.649 Q123.399 199.649 125.83 196.547 Q128.283 193.422 128.631 187.079 Q127.288 189.07 125.228 190.135 Q123.168 191.2 120.668 191.2 Q115.483 191.2 112.45 188.075 Q109.441 184.927 109.441 179.487 Q109.441 174.163 112.589 170.945 Q115.737 167.728 120.969 167.728 Q126.964 167.728 130.112 172.334 Q133.283 176.917 133.283 185.667 Q133.283 193.839 129.394 198.723 Q125.529 203.584 118.978 203.584 Q117.219 203.584 115.413 203.237 Q113.608 202.89 111.663 202.195 M120.969 187.542 Q124.117 187.542 125.945 185.39 Q127.797 183.237 127.797 179.487 Q127.797 175.76 125.945 173.607 Q124.117 171.431 120.969 171.431 Q117.82 171.431 115.969 173.607 Q114.14 175.76 114.14 179.487 Q114.14 183.237 115.969 185.39 Q117.82 187.542 120.969 187.542 Z\" fill=\"#000000\" fill-rule=\"nonzero\" fill-opacity=\"1\" /><polyline clip-path=\"url(#clip152)\" style=\"stroke:#009af9; stroke-linecap:round; stroke-linejoin:round; stroke-width:4; stroke-opacity:1; fill:none\" points=\"231.08,1445.72 307.372,1445.72 383.663,1439.42 459.955,1439.42 536.247,1395.31 612.539,1300.81 688.831,1174.8 765.123,1174.8 841.414,1020.44 917.706,815.674 993.998,667.614 1070.29,418.748 1146.58,658.164 1222.87,642.413 1299.17,884.979 1375.46,289.59 1451.75,604.61 1528.04,276.989 1604.33,254.937 1680.62,236.036 1756.92,103.727 1833.21,380.946 1909.5,349.443 1985.79,339.993 2062.08,87.9763 2138.38,236.036 2214.67,491.203 2290.96,569.958 \"/>\n",
       "<path clip-path=\"url(#clip150)\" d=\"M242.066 198.898 L512.843 198.898 L512.843 95.2176 L242.066 95.2176  Z\" fill=\"#ffffff\" fill-rule=\"evenodd\" fill-opacity=\"1\"/>\n",
       "<polyline clip-path=\"url(#clip150)\" style=\"stroke:#000000; stroke-linecap:round; stroke-linejoin:round; stroke-width:4; stroke-opacity:1; fill:none\" points=\"242.066,198.898 512.843,198.898 512.843,95.2176 242.066,95.2176 242.066,198.898 \"/>\n",
       "<polyline clip-path=\"url(#clip150)\" style=\"stroke:#009af9; stroke-linecap:round; stroke-linejoin:round; stroke-width:4; stroke-opacity:1; fill:none\" points=\"266.327,147.058 411.891,147.058 \"/>\n",
       "<path clip-path=\"url(#clip150)\" d=\"M449.995 166.745 Q448.189 171.375 446.476 172.787 Q444.763 174.199 441.893 174.199 L438.49 174.199 L438.49 170.634 L440.99 170.634 Q442.749 170.634 443.722 169.8 Q444.694 168.967 445.874 165.865 L446.638 163.921 L436.152 138.412 L440.666 138.412 L448.768 158.689 L456.87 138.412 L461.384 138.412 L449.995 166.745 Z\" fill=\"#000000\" fill-rule=\"nonzero\" fill-opacity=\"1\" /><path clip-path=\"url(#clip150)\" d=\"M468.675 160.402 L476.314 160.402 L476.314 134.037 L468.004 135.703 L468.004 131.444 L476.268 129.778 L480.944 129.778 L480.944 160.402 L488.582 160.402 L488.582 164.338 L468.675 164.338 L468.675 160.402 Z\" fill=\"#000000\" fill-rule=\"nonzero\" fill-opacity=\"1\" /></svg>\n"
      ]
     },
     "execution_count": 136,
     "metadata": {},
     "output_type": "execute_result"
    }
   ],
   "source": [
    "plot([mean(count_muts_msa(step_matrices[i], nat_MSA[1,:])) for i in 1:28])"
   ]
  },
  {
   "cell_type": "code",
   "execution_count": 137,
   "id": "6597cf26-1162-408f-a8da-d02c1e7cedc8",
   "metadata": {},
   "outputs": [
    {
     "data": {
      "text/plain": [
       "100×254 Matrix{Int8}:\n",
       "  8   8   6  6  14  13   2   9  13   7  …   8  15  12  12  21  21  21  21  21\n",
       " 18   8  15  6  20  13   2   4  15  12      8  11  12  12  21  21  21  21  21\n",
       "  8   8   6  6  16  20   2  18   4   6      8  12  12  12  21  21  21  21  21\n",
       "  8   8   6  6  12  13   2   8  13  12      8   4   9  12  21  21  21  21  21\n",
       "  8  17   6  6   6  13   2  13  13  12     11  15  12  12  21  21  21  21  21\n",
       "  8   8   6  6  14  13   2  10  13  12  …   8  15  12  12  21  21  21  21  21\n",
       "  8   8   6  6  14  13   2  13  13   7      8   9  12  12  21  21  21  21  21\n",
       "  8   8   6  6   9  13  10  18  13   4      8  15  12  12  21  21  21  21  21\n",
       " 18   8   6  6   1  13   2  17  13   7      8  14  12  21  21  21  21  21  21\n",
       " 18   9   6  6   9  13   2  21  13   7      8  14  12  12  21  21  21  21  21\n",
       "  8   8   6  6  14  13   2   9  13   6  …   8  15  12  12  21  21  21  21  21\n",
       " 18   8   6  6   9  13   2  21   5  12      8  15  12  12  21  21  21  21  21\n",
       " 18   8   6  6   7  13   2  14  13  12      8  15  12  12  21  21  21  21  21\n",
       "  ⋮                  ⋮                  ⋱   ⋮                   ⋮          \n",
       " 18   8   6  6  20  13   2  11  13   7      8  14  16  12  21  21  21  21  21\n",
       "  8   8   6  6   7  13   2   7  13   7      8  14  12  12  21  21  21  21  21\n",
       "  8  11   6  6   6  13   2   8  13   7  …   8  14   1  12  21  21  21  21  21\n",
       "  8   8   6  6  16  13   2  14  15   7      8  12  12  12  21  21  21  21  21\n",
       " 18   8  21  6  12  13   2  10  13   7     11  14  12  12  21  21  21  21  21\n",
       " 18   8   6  6  14  13   2  17   1   7     11  12  12  12  21  21  21  21  21\n",
       " 18   8   6  6   1  13   2   6  13  12      8  12  12  12  21  21  21  21  21\n",
       " 18   8   6  6   7  13   2  17  13   7  …   8  14  12  12  21  21  21  21  21\n",
       "  8  10   6  6   9  13   2   8  13   6      8  14  12  12  21  21  21  21  21\n",
       "  8   8   6  6  14  18   2   2  13   7      8  15  15  12  21  21  21  21  21\n",
       "  8   8   6  6   9  13   2   4   1   7      8  14  12  12  21  21  21  21  21\n",
       "  8  18   6  6  18  13   2  14  13   7      8  14  12  12  21  21  21  21  21"
      ]
     },
     "execution_count": 137,
     "metadata": {},
     "output_type": "execute_result"
    }
   ],
   "source": [
    "step_matrices[10]"
   ]
  },
  {
   "cell_type": "code",
   "execution_count": null,
   "id": "926d0f4b-2fbe-4ff5-91b7-a830ae15bbb5",
   "metadata": {},
   "outputs": [],
   "source": []
  }
 ],
 "metadata": {
  "kernelspec": {
   "display_name": "Julia 1.10.0",
   "language": "julia",
   "name": "julia-1.10"
  },
  "language_info": {
   "file_extension": ".jl",
   "mimetype": "application/julia",
   "name": "julia",
   "version": "1.10.0"
  }
 },
 "nbformat": 4,
 "nbformat_minor": 5
}
