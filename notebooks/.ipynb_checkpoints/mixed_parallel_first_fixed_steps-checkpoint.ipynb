{
 "cells": [
  {
   "cell_type": "code",
   "execution_count": 1,
   "id": "9505b1d9",
   "metadata": {
    "tags": []
   },
   "outputs": [],
   "source": [
    "using Distributed"
   ]
  },
  {
   "cell_type": "code",
   "execution_count": 2,
   "id": "b19fe035",
   "metadata": {
    "tags": []
   },
   "outputs": [
    {
     "data": {
      "text/plain": [
       "1-element Vector{Int64}:\n",
       " 1"
      ]
     },
     "execution_count": 2,
     "metadata": {},
     "output_type": "execute_result"
    }
   ],
   "source": [
    "workers()"
   ]
  },
  {
   "cell_type": "code",
   "execution_count": 3,
   "id": "f26a5d02",
   "metadata": {
    "tags": []
   },
   "outputs": [],
   "source": [
    "addprocs(32)\n",
    ";"
   ]
  },
  {
   "cell_type": "code",
   "execution_count": 4,
   "id": "a39be161",
   "metadata": {
    "tags": []
   },
   "outputs": [
    {
     "data": {
      "text/plain": [
       "32"
      ]
     },
     "execution_count": 4,
     "metadata": {},
     "output_type": "execute_result"
    }
   ],
   "source": [
    "nworkers()"
   ]
  },
  {
   "cell_type": "code",
   "execution_count": 5,
   "id": "88d43f06",
   "metadata": {
    "tags": []
   },
   "outputs": [],
   "source": [
    "@everywhere using FastaIO\n",
    "@everywhere using MultivariateStats\n",
    "@everywhere using LinearAlgebra\n",
    "@everywhere using DelimitedFiles\n",
    "@everywhere using StatsBase\n",
    "@everywhere using DCAUtils\n",
    "@everywhere using Plots\n",
    "@everywhere using Random\n",
    "@everywhere using Statistics\n",
    "@everywhere using KitMSA"
   ]
  },
  {
   "cell_type": "code",
   "execution_count": 6,
   "id": "bcf18fa7",
   "metadata": {
    "tags": []
   },
   "outputs": [],
   "source": [
    "@everywhere include(\"../src/read_write.jl\")\n",
    "@everywhere include(\"../src/energy.jl\")\n",
    "@everywhere include(\"../src/msa_tools.jl\")\n",
    "@everywhere include(\"../src/extra_tools.jl\")"
   ]
  },
  {
   "cell_type": "code",
   "execution_count": 7,
   "id": "fdc4cf51",
   "metadata": {
    "tags": []
   },
   "outputs": [
    {
     "data": {
      "text/plain": [
       "plot_pca (generic function with 1 method)"
      ]
     },
     "execution_count": 7,
     "metadata": {},
     "output_type": "execute_result"
    }
   ],
   "source": [
    "function sweep1(ref_MSA, MSAs, steps, file)\n",
    "    \n",
    "    f_ref = first_stat(ref_MSA)\n",
    "    freqs = [first_stat(matrix) for matrix in MSAs]\n",
    "    \n",
    "    r_spearman = [corspearman(f_ref, f) for f in freqs]\n",
    "    r_pearson = [cor(f_ref, f) for f in freqs]\n",
    "    \n",
    "    scatter(steps, r_spearman, xscale=:log10, label =\"spearman\", legend=:bottomright)\n",
    "    scatter!(steps, r_pearson, label =\"pearson \")\n",
    "    savefig(file)\n",
    "    \n",
    "end\n",
    "\n",
    "function amino_seq2dna_seq(seq)\n",
    "    seq_dna=[]\n",
    "    for a in seq\n",
    "        push!(seq_dna, sample(amino2cod[a]))\n",
    "    end\n",
    "    return seq_dna\n",
    "end\n",
    "\n",
    "function dna_seq2amino_seq(seq_dna)\n",
    "    new = []\n",
    "    for a in seq_dna\n",
    "        push!(new, cod2amino[a])\n",
    "    end\n",
    "    return new\n",
    "end\n",
    "\n",
    "function pairwise_hamming(msa::Array{Int8,2})\n",
    "    num_seqs = size(msa, 1)\n",
    "    pairwise_distances = Array{Int,1}(undef, num_seqs*(num_seqs-1)÷2)\n",
    "    idx = 1\n",
    "    for i in 1:num_seqs-1\n",
    "        for j in i+1:num_seqs\n",
    "            dist = KitMSA.my_hamming(msa[i,:], msa[j,:])\n",
    "            pairwise_distances[idx] = dist\n",
    "            idx += 1\n",
    "        end\n",
    "    end\n",
    "    return pairwise_distances\n",
    "end\n",
    "\n",
    "\n",
    "function eliminate(msa, tresh, idx)\n",
    "    L = length(msa[idx,:])\n",
    "    trimmed_msa = []\n",
    "    for i in 1:length(msa[:,1])\n",
    "        d = KitMSA.my_hamming(msa[idx,:], msa[i,:])\n",
    "        if  d > L*tresh\n",
    "            push!(trimmed_msa, msa[i,:])\n",
    "        end\n",
    "    end\n",
    "    push!(trimmed_msa, msa[idx,:])\n",
    "    return hcat(trimmed_msa...)'\n",
    "end\n",
    "\n",
    "\n",
    "function reweighting(msa, tresh)\n",
    "    final_msa =[]\n",
    "    new_msa = deepcopy(msa)\n",
    "    a = 0\n",
    "    for i in 1:20000\n",
    "        new_msa = eliminate(new_msa, tresh, 1)\n",
    "    end    \n",
    "    println(length(new_msa[:,1]))\n",
    "    return new_msa\n",
    "end\n",
    "\n",
    "function project_pca(filename, label1, label2, eigenv, pc_ref, one_non_ref)\n",
    "    pc_proj = eigenv[:, [end, end-1]]'*one_non_ref'\n",
    "    scatter(pc_nat[1,:], pc_nat[2,:], alpha = 0.25, label= label1, legend=:topright)\n",
    "    scatter!(pc_proj[1,:], pc_proj[2,:], alpha = 0.25,color=:red, label= label2 )\n",
    "    savefig(filename)\n",
    "end\n",
    "\n",
    "function plot_pca(pc_ref, eigenv, matrices, filepath)\n",
    "    \n",
    "    for i in 1:length(matrices)\n",
    "        one_hot_proj = one_hot(matrices[i])\n",
    "        project_pca(joinpath(filepath, \"pca$(i).png\"), \"nat\", \"sil step $(i)\", eigenv, pc_ref, one_hot_proj)\n",
    "        println(i)\n",
    "    end\n",
    "end"
   ]
  },
  {
   "cell_type": "code",
   "execution_count": 8,
   "id": "4f5c4ed4",
   "metadata": {
    "tags": []
   },
   "outputs": [],
   "source": [
    "@everywhere function Delta_energy(h::Array{Float64,2}, J::Array{Float64,4}, \n",
    "        S::Array{<:Integer,1}, ref::Array{<:Integer, 1})\n",
    "    q, N = size(h)\n",
    "    E = 0.0\n",
    "    \n",
    "   \n",
    "    index_v = collect(1:N)\n",
    "    common = (S .== ref)\n",
    "    idx = findfirst(isequal(false), common)\n",
    "    common = index_v[common]\n",
    "    #println(idx)\n",
    "    #println(common)\n",
    "    E -= (h[S[idx],idx] - h[ref[idx],idx])\n",
    "    @fastmath for j = 1:N\n",
    "        if j > idx\n",
    "            @inbounds  E -= (J[S[j],S[idx],j,idx] - J[ref[j],ref[idx],j,idx] )\n",
    "        end\n",
    "    end\n",
    "    \n",
    "    @fastmath for i in common\n",
    "        if idx > i\n",
    "            @inbounds  E -= (J[S[idx],S[i],idx,i] - J[ref[idx],ref[i],idx,i] )\n",
    "        end\n",
    "    end\n",
    "    \n",
    "    return E\n",
    "end\n"
   ]
  },
  {
   "cell_type": "code",
   "execution_count": 9,
   "id": "c6f0e525",
   "metadata": {
    "tags": []
   },
   "outputs": [],
   "source": [
    "@everywhere function get_accessible_nucleo_muts_metro_DNA_det_bal(old_cod)\n",
    "    if old_cod .== \"---\"\n",
    "        amino_list = [i for i in 1:21]\n",
    "        codon_list = reduce(vcat,[amino2cod[a] for a in amino_list])\n",
    "        codon_list = filter!(aa->aa != old_cod, codon_list)\n",
    "        push!(codon_list, \"TAG\")\n",
    "        push!(codon_list, \"TAA\")\n",
    "        push!(codon_list, \"TGA\")\n",
    "        return amino_list, codon_list\n",
    "    end\n",
    "    \n",
    "    old_codon = [string(old_cod[i]) for i in 1:3 ]\n",
    "\tcodon_list = Vector{AbstractString}(undef, 12)\n",
    "    \n",
    "    for i in 1:3\n",
    "        new_codon = deepcopy(old_codon)\n",
    "        for (j, nucl) in enumerate([\"A\", \"C\", \"G\", \"T\"]) \n",
    "            new_codon[i] = nucl\n",
    "            codon_list[(i-1)*4 + j] = join(new_codon)\n",
    "        end\n",
    "    end\n",
    "    \n",
    "    push!(codon_list, \"---\")\n",
    "\tamino_list = get.(Ref(cod2amino), codon_list, 0)\n",
    "\tamino_list = unique!(filter!(aa->aa != 21, amino_list))\n",
    "\n",
    "    #codon_list = filter!(aa->aa != \"TAA\", codon_list)\n",
    "    #codon_list = filter!(aa->aa != \"TAG\", codon_list)\n",
    "    #codon_list = filter!(aa->aa != \"TGA\", codon_list)\n",
    "    codon_list = filter!(aa->aa != old_cod, codon_list)\n",
    "    \n",
    "\tamino_list = get.(Ref(cod2amino), codon_list, 0)\n",
    "\t#amino_list = filter!(aa->aa != 21, amino_list)\n",
    "\n",
    "\treturn amino_list, codon_list\n",
    "end\n",
    "\n",
    "\n",
    "@everywhere function get_accessible_nucleo_for_del_ins(old_cod)\n",
    "\n",
    "    if old_cod .== \"---\"\n",
    "        amino_list = [i for i in 0:20]\n",
    "        amino_list[1] = 21\n",
    "        codon_list = reduce(vcat,[amino2cod[a] for a in amino_list])\n",
    "        #push!(codon_list, old_cod )\n",
    "        push!(codon_list, \"TAG\")\n",
    "        push!(codon_list, \"TAA\")\n",
    "        push!(codon_list, \"TGA\")\n",
    "        return amino_list, codon_list\n",
    "    else\n",
    "        codon_list = [\"---\"]\n",
    "        push!(codon_list, old_cod)\n",
    "        amino_list = get.(Ref(cod2amino), codon_list, 0)\n",
    "        #println(amino_list)\n",
    "        return amino_list, codon_list\n",
    "    end\n",
    "end\n",
    "   "
   ]
  },
  {
   "cell_type": "code",
   "execution_count": 10,
   "id": "6c6ff988",
   "metadata": {
    "tags": []
   },
   "outputs": [],
   "source": [
    "@everywhere mutable struct SeqToEvolve\n",
    "    Amino   :: Array{Int64}\n",
    "    DNA :: Array{AbstractString}\n",
    "end\n",
    "\n",
    "@everywhere function get_accessible_nucleo_muts_DNA_det_bal(old_codon, nucleo_pos::Integer)\n",
    "    old_codon = [string(old_codon[i]) for i in 1:3 ]\n",
    "\tcodon_list = Vector{AbstractString}(undef, 4)\n",
    "\tnew_codon = deepcopy(old_codon)\n",
    "\tfor (j, nucl) in enumerate([\"A\", \"C\", \"G\", \"T\"]) \n",
    "\t\tnew_codon[nucleo_pos] = nucl\n",
    "\t\tcodon_list[j] = join(new_codon)\n",
    "\tend\n",
    "    \n",
    "    codon_list = filter!(aa->aa != \"TAA\", codon_list)\n",
    "    codon_list = filter!(aa->aa != \"TAG\", codon_list)\n",
    "    codon_list = filter!(aa->aa != \"TGA\", codon_list)\n",
    "    \n",
    "\tamino_list = get.(Ref(cod2amino), codon_list, 0)\n",
    "\t#amino_list = filter!(aa->aa != 21, amino_list)\n",
    "\n",
    "\treturn amino_list, codon_list\n",
    "end\n",
    "\n",
    "@everywhere function sum_couplings_inbounds(mutated_seq, q_k, k, J::Array{Float64,4}, N)\n",
    "    result = 0\n",
    "    @inbounds for i in 1:N\n",
    "        result += J[mutated_seq[i], q_k ,i, k]\n",
    "    end\n",
    "    return result\n",
    "end \n",
    "\n",
    "@everywhere function nucleo_cond_proba_DNA_gibbs(k, q, codon_list, mutated_seq, h::Array{Float64,2}, J::Array{Float64,4}, N::Integer,  T = 1)\n",
    "\tprob = zeros(length(codon_list))\n",
    "    #println(q)\n",
    "    #println(codon_list)\n",
    "\t@inbounds for (index, codon_k) in enumerate(codon_list)\n",
    "        #println(index)\n",
    "        q_k = q[index]\n",
    "        #println(q_k)\n",
    "        log_proba = h[q_k, k]-T*log(length(amino2cod[q_k]))\n",
    "        log_proba += sum_couplings_inbounds(mutated_seq, q_k, k, J, N)\n",
    "\t\tprob[index] = exp(log_proba/T)\n",
    "\tend\n",
    "\treturn normalize(prob,1)\n",
    "end\n",
    "\n",
    "\n",
    "\n",
    "@everywhere function log_p(mutated_seq, q_k, k, J::Array{Float64,4}, N::Integer,T=1)\n",
    "    \n",
    "    log_proba = h[q_k, k]-T*log(length(amino2cod[q_k]))\n",
    "    log_proba += sum_couplings_inbounds(mutated_seq, q_k, k, J, N)\n",
    "    return log_proba  \n",
    "end\n",
    "\n",
    "\n",
    "@everywhere function square_array(arr)\n",
    "    squares = Dict()\n",
    "    result = similar(arr)\n",
    "    for i in 1:length(arr)\n",
    "        if haskey(squares, arr[i])\n",
    "            result[i] = squares[arr[i]]\n",
    "            println(\"not computed\")\n",
    "        else\n",
    "            square = arr[i]^2\n",
    "            squares[arr[i]] = square\n",
    "            result[i] = square\n",
    "            println(\"computed\")\n",
    "        end\n",
    "    end\n",
    "    return result\n",
    "end\n",
    "\n",
    "\n",
    "@everywhere function nucleo_cond_proba_DNA_gibbs_new(k, q, codon_list, mutated_seq, h::Array{Float64,2}, J::Array{Float64,4}, N::Integer,  T = 1)\n",
    "\tprob = zeros(length(codon_list))\n",
    "        \n",
    "    d = Dict{Int64, Float64}()\n",
    "    \n",
    "\t@inbounds for (index, q_k) in enumerate(q)\n",
    "            \n",
    "        if haskey(d, q_k)\n",
    "            log_proba = d[q_k]\n",
    "            #println(\"not computed\")\n",
    "        else\n",
    "            log_proba = log_p(mutated_seq, q_k, k, J, N, T)\n",
    "            d[q_k] = log_proba\n",
    "            #println(\"computed\")\n",
    "        end\n",
    "\t\tprob[index] = exp(log_proba/T)\n",
    "\tend\n",
    "        \n",
    "\treturn normalize(prob,1)\n",
    "end"
   ]
  },
  {
   "cell_type": "code",
   "execution_count": 11,
   "id": "dbbe0482",
   "metadata": {
    "tags": []
   },
   "outputs": [],
   "source": [
    "@everywhere function del_ins_codon_sampling(arr)\n",
    "    n = length(arr)\n",
    "    beta = 1/64\n",
    "    alpha = 1-64*beta\n",
    "    gamma = 1-beta\n",
    "    if n==2\n",
    "        probabilities = [beta, gamma]\n",
    "        index = sample(1:n, Weights(probabilities))\n",
    "        return arr[index]\n",
    "    else \n",
    "        probabilities = fill(beta, n)\n",
    "        probabilities[1] = alpha\n",
    "        index = sample(1:n, Weights(probabilities))\n",
    "        return arr[index]\n",
    "    end\n",
    "end\n",
    "    \n",
    "#arr = [5,10]\n",
    "#sampled_elements = [del_ins_codon_sampling(arr) for i in 1:6400]\n",
    "#histogram(sampled_elements)\n",
    "    \n",
    "@everywhere function gibbs_step(mutated_seq, non_gapped_pos, h, J, N, T)\n",
    "    #println(\"doing gibbs step\")\n",
    "    pos_mut = rand(non_gapped_pos)\n",
    "\n",
    "\told_codon = mutated_seq.DNA[pos_mut]\n",
    "    #println(\"chain $chain_num mutating codon $(old_codon) at site $(pos_mut) \")\n",
    "        \n",
    "    nucleo_pos = rand(1:3)\n",
    "        \n",
    "    amino_list, codon_list = get_accessible_nucleo_muts_DNA_det_bal(old_codon, nucleo_pos)\n",
    "        \n",
    "    if length(unique(amino_list)) == 1\n",
    "        new_codon = rand(codon_list)\n",
    "    else\n",
    "        new_codon = sample(codon_list, ProbabilityWeights(nucleo_cond_proba_DNA_gibbs_new(pos_mut, amino_list, codon_list, mutated_seq.Amino, h, J, N, T)))\n",
    "    end\n",
    "            \n",
    "    aa = cod2amino[new_codon]\n",
    "        \n",
    "\tmutated_seq.DNA[pos_mut] = new_codon\t\n",
    "\tmutated_seq.Amino[pos_mut] = aa\n",
    "    \n",
    "    return mutated_seq\n",
    "end     \n",
    "\n",
    "\n",
    "@everywhere function metro_del_ins_step(mutated_seq, non_gapped_pos, h, J, N, T)\n",
    "    #println(\"doing metropolis insertion/deletion step\")\n",
    "        \n",
    "    pos_mut = rand(1:length(mutated_seq.Amino))\n",
    "\n",
    "\told_codon = mutated_seq.DNA[pos_mut]\n",
    "    old_amino = mutated_seq.Amino[pos_mut]\n",
    "    #println(\"chain $chain_num mutating codon $(old_codon) at site $(pos_mut) \")\n",
    "    amino_list, codon_list = get_accessible_nucleo_for_del_ins(old_codon)\n",
    "    #println(\"Accessible codons (step $steps ) : $(codon_list)\")\n",
    "        \n",
    "    new_codon = del_ins_codon_sampling(codon_list)\n",
    "    \n",
    "    #println(\"Proposed codon (step $steps ) : $(new_codon)\")\n",
    "    \n",
    "    if new_codon == \"TAA\"  ||  new_codon == \"TAG\"   || new_codon == \"TGA\"  || new_codon == old_codon\n",
    "        \n",
    "    else\n",
    "        new_amino = cod2amino[new_codon]  \n",
    "        new_sequence = deepcopy(mutated_seq.Amino)\n",
    "        new_sequence[pos_mut] = new_amino\n",
    "        deltaE = Delta_energy(h, J, new_sequence, mutated_seq.Amino)\n",
    "        accept_proba = (length(amino2cod[old_amino])/length(amino2cod[new_amino]))*exp(-(1/T)*deltaE)\n",
    "        if rand() < accept_proba\n",
    "            aa = cod2amino[new_codon]\n",
    "            mutated_seq.DNA[pos_mut] = new_codon\t\n",
    "            mutated_seq.Amino[pos_mut] = aa\n",
    "            #acceptance += 1\n",
    "        end\n",
    "    end\n",
    "    return mutated_seq\n",
    "end\n",
    "\n",
    "\n",
    "@everywhere function parallel_evol_seq_fix_steps_DNA_mixed_nucleo(ham, p, dir_amino::AbstractString,\n",
    "                    sampler_type::AbstractString, wt_name::AbstractString, ref_seq, \n",
    "                    MC_steps::Integer, h::Array{Float64,2}, J::Array{Float64,4}, N::Integer, chain_num::Integer, T = 1)\n",
    "    \n",
    "    \n",
    "    file_path_amino = joinpath(dir_amino, \"equil_det_bal_$(wt_name)_silico_chain_num_$(chain_num)_T_$(T).$(sampler_type)DNA\")\n",
    "    \n",
    "    #println(length(ref_seq))\n",
    "    mutated_seq = deepcopy(ref_seq[chain_num])\n",
    "                \n",
    "    \n",
    "    \n",
    "    \n",
    "    FastaWriter(file_path_amino, \"a\") do file\n",
    "        writeentry(file, \"sampler: $sampler_type | original wt: $wt_name | WT sequence | T = $(T)\", vec2string(mutated_seq.Amino))   \n",
    "    end\n",
    "                \n",
    "    wt = deepcopy(mutated_seq.Amino)\n",
    "    max_ham = Int.(round(ham * length(wt)))\n",
    "     # Create an array of 100 positions, each containing an empty array\n",
    "    proteins = Vector{Vector{Vector{Int}}}(undef, max_ham)\n",
    "    \n",
    "    sel_proteins = []\n",
    "\n",
    "    # Loop to initialize each empty array\n",
    "    for i in 1:max_ham\n",
    "        proteins[i] = Float64[]\n",
    "    end \n",
    "    \n",
    "    starting_seq = ref_seq[chain_num].Amino\n",
    "      \n",
    "    \n",
    "    #target = [i/100 for i in 1:70]\n",
    "    target = [i for i in 1:max_ham]\n",
    "    wind = 0.005\n",
    "                \n",
    "    @inbounds for steps in 1:MC_steps\n",
    "        non_gapped_pos = [pos for (pos, amino) in enumerate(mutated_seq.Amino) if amino != 21]\n",
    "        if rand()<(1-p)\n",
    "            mutated_seq = gibbs_step(mutated_seq, non_gapped_pos, h, J, N, T)\n",
    "        else\n",
    "            mutated_seq = metro_del_ins_step(mutated_seq, non_gapped_pos, h, J, N, T)\n",
    "        end  \n",
    "        \n",
    "        d = KitMSA.my_hamming(ref_seq[chain_num].Amino, mutated_seq.Amino)\n",
    "        \n",
    "     \n",
    "        for i in 1:max_ham\n",
    "            \n",
    "            if  d == target[i] \n",
    "                # Check if mutated_seq.Amino is different from all other sequences in proteins[i]\n",
    "                is_different = all(seq -> seq != mutated_seq.Amino, proteins[i])\n",
    "\n",
    "                if is_different\n",
    "                    t = target[i]\n",
    "                    #println(\"saving $chain_num at diverg $d, in cat $i, at step $steps\")\n",
    "                    sseq = deepcopy(mutated_seq.Amino)\n",
    "                    push!(proteins[i], sseq)\n",
    "                end                \n",
    "            end\n",
    "        end\n",
    "        \n",
    "        if steps == MC_steps\n",
    "            for i in 1:max_ham\n",
    "                if !isempty(proteins[i])\n",
    "                    arr = proteins[i][1]\n",
    "                    #println(arr)     \n",
    "                    push!(sel_proteins, arr) \n",
    "                end\n",
    "            end    \n",
    "        end\n",
    "    end\n",
    "                      \n",
    "    sel_proteins = hcat(sel_proteins...)'\n",
    "    lung = length(sel_proteins[:,1])\n",
    "    \n",
    "    #println(count_muts_msa(sel_proteins, ref_seq[chain_num].Amino)[end])\n",
    "    \n",
    "    for i in 1:length(sel_proteins[:,1])\n",
    "        #println(energy(h, J, sel_proteins[i,:]))\n",
    "    \n",
    "        FastaWriter(file_path_amino, \"a\") do file\n",
    "            writeentry(file, \"sampler: $sampler_type | original wt: $wt_name | T = $(T)\", vec2string(sel_proteins[i,:]))   \n",
    "        end\n",
    "            \n",
    "    end       \n",
    "end"
   ]
  },
  {
   "cell_type": "code",
   "execution_count": 12,
   "id": "6fbb61a9",
   "metadata": {
    "tags": []
   },
   "outputs": [],
   "source": [
    "@everywhere function sample_codons(arr)\n",
    "    n = length(arr)\n",
    "    probabilities = fill(7/64, n)\n",
    "    probabilities[end] = 1/64\n",
    "    index = sample(1:n, Weights(probabilities))\n",
    "    return arr[index]\n",
    "end\n",
    "\n",
    "#arr = [1, 2, 3, 4,5,6,7,8,9,10]\n",
    "\n",
    "#sampled_elements = [sample_codons(arr) for i in 1:640000]\n",
    "\n",
    "#histogram(sampled_elements, bins = 10)\n"
   ]
  },
  {
   "cell_type": "code",
   "execution_count": 13,
   "id": "52249bd1",
   "metadata": {
    "tags": []
   },
   "outputs": [
    {
     "data": {
      "text/plain": [
       "\"../data/model_parameters/Parameters_conv_Thr-PCD40.dat\""
      ]
     },
     "execution_count": 13,
     "metadata": {},
     "output_type": "execute_result"
    }
   ],
   "source": [
    "#PATH_PAR_beta = \"../data/model_parameters/Parameters_conv_Matteo_pc.dat\"\n",
    "PATH_PAR_dbd = \"../data/model_parameters/Parameters_conv_Thr-PCD40.dat\""
   ]
  },
  {
   "cell_type": "code",
   "execution_count": 14,
   "id": "10eb4f6d",
   "metadata": {
    "tags": []
   },
   "outputs": [
    {
     "ename": "LoadError",
     "evalue": "UndefVarError: `PATH_PAR_beta` not defined",
     "output_type": "error",
     "traceback": [
      "UndefVarError: `PATH_PAR_beta` not defined",
      "",
      "Stacktrace:",
      " [1] top-level scope",
      "   @ In[14]:2"
     ]
    }
   ],
   "source": [
    "#load fields\n",
    "h, J = KitMSA.extract_params(PATH_PAR_beta;q=21)\n",
    "maximum(J)"
   ]
  },
  {
   "cell_type": "code",
   "execution_count": 15,
   "id": "d7c06729",
   "metadata": {
    "tags": []
   },
   "outputs": [
    {
     "data": {
      "text/plain": [
       "1.959042"
      ]
     },
     "execution_count": 15,
     "metadata": {},
     "output_type": "execute_result"
    }
   ],
   "source": [
    "htmp, Jtmp = KitMSA.read_par_BM(PATH_PAR_dbd)\n",
    "h = KitMSA.set_max_field_to_0(htmp)\n",
    "J = KitMSA.symmetrize_J(Jtmp)\n",
    "maximum(J)"
   ]
  },
  {
   "cell_type": "code",
   "execution_count": 16,
   "id": "9ae78b01",
   "metadata": {
    "tags": []
   },
   "outputs": [],
   "source": [
    "\n",
    "#define paths\n",
    "path_wt_tem = \"../data/alignments/refs/TEM1_pfam_DNA.fasta\"\n",
    "path_wt_pse = \"../data/alignments/refs/PSE1_pfam_DNA.fasta\"\n",
    "\n",
    "#load wt\n",
    "wt_tem = join(readdlm(path_wt_tem, skipstart = 1))\n",
    "wt_pse = join(readdlm(path_wt_pse, skipstart = 1))\n",
    "\n",
    "\n",
    "#transform wt_dna in amino\n",
    "L_tem = Int64(length(wt_tem)/3)\n",
    "tem_DNA_seq = [wt_tem[((i-1)*3 +1):(i*3)] for i in 1:L_tem]\n",
    "tem_amino_seq = [cod2amino[codon] for codon in tem_DNA_seq]\n",
    "seed_seq_tem = SeqToEvolve(tem_amino_seq, tem_DNA_seq)\n",
    "\n",
    "L_pse = Int64(length(wt_pse)/3)\n",
    "pse_DNA_seq = [wt_pse[((i-1)*3 +1):(i*3)] for i in 1:L_pse]\n",
    "pse_amino_seq = [cod2amino[codon] for codon in pse_DNA_seq]\n",
    "seed_seq_pse = SeqToEvolve(pse_amino_seq, pse_DNA_seq)\n",
    ";"
   ]
  },
  {
   "cell_type": "code",
   "execution_count": 16,
   "id": "ac0ab109-da1a-4ec6-923b-55b383b3bca0",
   "metadata": {
    "tags": []
   },
   "outputs": [],
   "source": [
    "thornton_wt = Int8.(readdlm(\"../data/alignments/refs/wt_thornton\", '\\t')[:])\n",
    ";"
   ]
  },
  {
   "cell_type": "markdown",
   "id": "f43ee142",
   "metadata": {},
   "source": [
    "## Parallel Run"
   ]
  },
  {
   "cell_type": "code",
   "execution_count": 17,
   "id": "72f9944c",
   "metadata": {
    "tags": []
   },
   "outputs": [],
   "source": [
    "#nat_MSA = Int8.(fasta2matrix(\"../data/alignments/natural/PF13354_noinsert_max19gaps_nodupl_noclose.faa\"))\n",
    "nat_MSA = Int8.(fasta2matrix(\"../data/alignments/natural/DBD_alignment.uniref90.cov80.a2m\"))\n",
    ";"
   ]
  },
  {
   "cell_type": "code",
   "execution_count": 37,
   "id": "48433a2b",
   "metadata": {
    "tags": []
   },
   "outputs": [],
   "source": [
    "#steps = 256 #pse\n",
    "#steps = 220 #tem\n",
    "steps = 100\n",
    "ham = 0.40\n",
    "\n",
    "#T = 1.33 #pse experiment\n",
    "#T = 1.14 #tem experiment\n",
    "T = 1.0 #natural\n",
    "#sampler_type = \"gibbs\"\n",
    "#sampler_type = \"metro\"\n",
    "sampler_type = \"mixed\"\n",
    "#nseq = 1:34431 #tem\n",
    "#nseq = 1:456871 #pse\n",
    "nseq = 1:1500\n",
    "wt_name = \"dbd\"\n",
    "#wt_name = \"pse\"\n",
    "#wt_name = \"tem\"\n",
    "#wt_name = \"thornton_leaf\"\n",
    "N = length(nat_MSA[1,:])\n",
    "#c = filter_alignment(nseq[end], nat_MSA)\n",
    "#seed_seq = [SeqToEvolve(c[i,:], amino_seq2dna_seq(c[i,:])) for i in 1:length(c[:,1])]\n",
    "#seed_seq = [SeqToEvolve(nat_MSA[100,:] , amino_seq2dna_seq(nat_MSA[100,:])) for i in 1:nseq[end]] #dbd\n",
    "#dbd_sample = \"CKVCSNQSNGYNFDVMTCVSCGAFFRRALVNPKNLICLRKNSCSIIYENRRSCSRCRLRKCFSVGMKKTT------\"\n",
    "#dbd_sample_AA = [letter2num(val) for val in dbd_sample]\n",
    "#seed_seq = [SeqToEvolve(dbd_sample_AA , amino_seq2dna_seq(dbd_sample_AA)) \n",
    "    #for i in 1:nseq[end]] #dbd\n",
    "#pse\n",
    "\"\"\"\n",
    "beta_sample_AA = [21, 21, 12, 6, 4, 20, 19, 3, 20, 12, 6, 12, 14, 15, 5, 13, 10, 17, 16, \n",
    "    17, 5, 9, 17, 8, 1, 2, 1, 9, 10, 10, 20, 3, 1, 4, 14, 6, 9, 18, 12, 13, 12, 16, 17,\n",
    "    18, 4, 8, 9, 9, 1, 3, 10, 18, 17, 20, 16, 13, 18, 8, 4, 9, 14, 18, 6, 14, 1, 8, 17,\n",
    "    10, 3, 3, 1, 2, 5, 1, 17, 11, 17, 17, 16, 3, 12, 17, 1, 1, 12, 8, 8, 10, 16, 1, 18,\n",
    "    6, 13, 9, 6, 18, 17, 3, 5, 10, 15, 14, 8, 6, 3, 9, 4, 17, 15, 10, 3, 15, 8, 4, 13,\n",
    "    3, 10, 12, 6, 9, 10, 6, 3, 10, 15, 3, 17, 17, 17, 13, 9, 1, 8, 1, 16, 17, 10, 12, 9,\n",
    "    5, 10, 5, 6, 16, 1, 10, 16, 4, 11, 9, 10, 4, 16, 19, 11, 18, 12, 14, 18, 17, 6, 12, 10,\n",
    "    10, 15, 16, 18, 10, 13, 1, 6, 19, 12, 8, 1, 3, 15, 16, 6, 1, 6, 5, 6, 1, 15, 16, 8, 17,\n",
    "    1, 18, 18, 19, 16, 7, 14, 1, 13, 8, 8, 18, 16, 21]\n",
    "#\"\"\"\n",
    "#tem\n",
    "#beta_sample_AA = [10, 12, 16, 6, 9, 8, 10, 16, 5, 15, 13, 4, 4, 15, 5, 13, 11, 11, 16, 17, 5, 9, 18, 10, 10, 2, 6, 1, 18, 10, 16, 15, 8, 3, 1, 6, 14, 4, 14, 10, 6, 15, 15, 8, 7, 20, 16, 14, 12, 3, 10, 18, 4, 20, 16, 13, 18, 17, 4, 9, 7, 10, 17, 3, 6, 11, 17, 18, 15, 4, 10, 2, 16, 1, 1, 8, 17, 11, 16, 3, 12, 17, 1, 1, 12, 10, 10, 10, 17, 17, 8, 6, 13, 9, 4, 10, 17, 1, 5, 10, 7, 12, 11, 6, 3, 7, 18, 17, 15, 10, 3, 15, 19, 4, 13, 4, 10, 12, 1, 8, 13, 12, 3, 4, 15, 3, 17, 17, 11, 13, 18, 1, 11, 1, 17, 17, 10, 15, 9, 10, 10, 17, 6, 4, 10, 10, 17, 10, 1, 14, 10, 8, 3, 19, 11, 4, 3, 9, 18, 1, 6, 13, 10, 10, 15, 16, 1, 10, 13, 1, 6, 19, 5, 8, 1, 3, 9, 16, 6, 1, 4, 15, 6, 16, 15, 6, 8, 8, 1, 1, 10, 6, 13, 3, 6, 9, 13, 16, 15, 8, 21, 21]\n",
    "#\"\"\"\n",
    "\n",
    "#dbd thornton wt\n",
    "dbd_sample_AA = [2, 10, 18, 2, 6, 3, 15, 1, 16, 6, 20, 7, 20, 6, 18, 10, 16, 2, 4, 6, 2, 9, 1, 5, 5, 9, 15, 16, 8, 14, 6, 16, 18, 4, 20, 17, 2, 13, 1, 17, 12, 4, 2, 9, 8, 3, 9, 7, 15, 15, 9, 16, 2, 14, 1, 2, 15, 10, 14, 9, 2, 5, 4, 18, 6, 11, 11, 9, 4, 6, 18, 15, 9, 3, 15, 12]\n",
    "\n",
    "#dbd thornton leaf\n",
    "#dbd_sample_AA = [2, 14, 8, 2, 3, 3, 1, 1, 16, 6, 5, 7, 20, 6, 18, 19, 16, 2, 4, 6, 2, 9, 1, 5, 5, 9, 15, 16, 10, 14, 6, 13, 18, 3, 20, 18, 2, 13, 1, 17, 14, 12, 2, 17, 8, 3, 15, 14, 15, 15, 9, 16, 2, 14, 1, 2, 15, 10, 12, 9, 2, 8, 14, 11, 6, 11, 16, 15, 6, 12, 2, 15, 15, 4, 15, 6]\n",
    "\n",
    "start_wt = dbd_sample_AA\n",
    "seed_seq = [SeqToEvolve(start_wt , amino_seq2dna_seq(start_wt)) \n",
    "    for i in 1:nseq[end]] #beta\n",
    "\n",
    "#seed_seq = [seed_seq_pse for i in 1:nseq[end]]\n",
    "#seed_seq = [seed_seq_tem for i in 1:nseq[end]]\n",
    "p=0.\n",
    ";"
   ]
  },
  {
   "cell_type": "code",
   "execution_count": 38,
   "id": "213e59bc",
   "metadata": {
    "tags": []
   },
   "outputs": [
    {
     "data": {
      "text/plain": [
       "\"../../first_fixed_amino_mixed_dbd_steps100_seqs1500_T1.0p0.0\""
      ]
     },
     "execution_count": 38,
     "metadata": {},
     "output_type": "execute_result"
    }
   ],
   "source": [
    "dir_amino = \"../../first_fixed_amino_$(sampler_type)_$(wt_name)_steps$(steps)_seqs$(nseq[end])_T$(T)p$(p)\"\n",
    "\n",
    "mkdir(dir_amino)\n"
   ]
  },
  {
   "cell_type": "code",
   "execution_count": 39,
   "id": "2d909f6c",
   "metadata": {
    "tags": []
   },
   "outputs": [],
   "source": [
    "@everywhere function parallelo_evol_run(i) \n",
    "    if sampler_type == \"gibbs\"\n",
    "        parallel_evol_seq_fix_steps_DNA_gibbs_nucleo(dir_amino, sampler_type, wt_name, seed_seq, steps, h, J, N, i, T)\n",
    "        if i%4000 == 0\n",
    "            println(i)\n",
    "        end\n",
    "    elseif sampler_type == \"mixed\"\n",
    "        parallel_evol_seq_fix_steps_DNA_mixed_nucleo(ham, p, dir_amino, \n",
    "            sampler_type, wt_name, seed_seq, steps, h, J, N, i, T)\n",
    "        if i%1000 == 0\n",
    "            println(\"chain $(i)\")\n",
    "        end\n",
    "    else\n",
    "        throw(ArgumentError(\"Invalid sampler type: $sampler_type\"))\n",
    "    end\n",
    "end"
   ]
  },
  {
   "cell_type": "code",
   "execution_count": 24,
   "id": "507cb35d",
   "metadata": {
    "tags": []
   },
   "outputs": [],
   "source": [
    "for ww in workers()\n",
    "    fetch(@spawnat ww ham, p, dir_amino, sampler_type, wt_name, seed_seq, steps, h, J, T, amino2cod, cod2amino, N)\n",
    "    #println(\"fetched\")\n",
    "end\n",
    ";"
   ]
  },
  {
   "cell_type": "code",
   "execution_count": 40,
   "id": "348d6909",
   "metadata": {
    "tags": []
   },
   "outputs": [],
   "source": [
    "for ww in workers()\n",
    "    fetch(@spawnat ww ham, p, dir_amino, wt_name, sampler_type, T, N, seed_seq, steps)\n",
    "    #println(\"fetched\")\n",
    "end\n",
    ";\n"
   ]
  },
  {
   "cell_type": "code",
   "execution_count": 41,
   "id": "7a422594",
   "metadata": {
    "tags": []
   },
   "outputs": [
    {
     "name": "stdout",
     "output_type": "stream",
     "text": [
      "      From worker 15:\tchain 1000\n",
      "1.0011608600616455\n",
      "MSAs GENERATED!!\n"
     ]
    }
   ],
   "source": [
    "start=time()\n",
    "pmap(parallelo_evol_run, nseq)\n",
    "fine=time()\n",
    "\n",
    "println(fine-start)\n",
    "\n",
    "\n",
    "println(\"MSAs GENERATED!!\")"
   ]
  },
  {
   "cell_type": "code",
   "execution_count": 42,
   "id": "f0cbe0a7-5208-427d-b547-21a37798531c",
   "metadata": {},
   "outputs": [
    {
     "name": "stdout",
     "output_type": "stream",
     "text": [
      "  0.121180 seconds (199.55 k allocations: 38.039 MiB, 43.34% compilation time)\n"
     ]
    },
    {
     "data": {
      "text/plain": [
       "1500-element Vector{Matrix{Int8}}:\n",
       " [2 10 … 15 12; 2 10 … 15 12; … ; 2 10 … 15 9; 2 10 … 15 9]\n",
       " [2 10 … 15 12; 2 10 … 15 12; … ; 2 10 … 15 12; 2 10 … 15 12]\n",
       " [2 10 … 15 12; 2 10 … 15 12; … ; 2 10 … 15 12; 2 10 … 15 12]\n",
       " [2 10 … 15 12; 2 10 … 15 12; … ; 2 10 … 15 12; 2 10 … 15 12]\n",
       " [2 10 … 15 12; 2 10 … 15 12; … ; 2 10 … 9 12; 2 10 … 9 12]\n",
       " [2 10 … 15 12; 2 10 … 15 12; … ; 2 10 … 15 12; 2 10 … 15 12]\n",
       " [2 10 … 15 12; 2 10 … 15 12; … ; 2 18 … 9 9; 2 1 … 9 9]\n",
       " [2 10 … 15 12; 2 10 … 15 12; … ; 2 10 … 15 12; 2 10 … 15 12]\n",
       " [2 10 … 15 12; 2 10 … 15 12; … ; 2 10 … 15 9; 2 10 … 15 9]\n",
       " [2 10 … 15 12; 2 10 … 15 12; … ; 2 10 … 15 9; 2 10 … 15 9]\n",
       " [2 10 … 15 12; 2 10 … 15 12; … ; 2 10 … 15 12; 2 10 … 15 9]\n",
       " [2 10 … 15 12; 2 10 … 15 12; … ; 2 10 … 15 12; 2 10 … 15 12]\n",
       " [2 10 … 15 12; 2 10 … 15 12; … ; 2 10 … 15 12; 2 10 … 15 12]\n",
       " ⋮\n",
       " [2 10 … 15 12; 2 10 … 15 12; … ; 2 10 … 15 12; 2 10 … 15 12]\n",
       " [2 10 … 15 12; 2 10 … 15 12; … ; 2 10 … 15 12; 2 10 … 15 9]\n",
       " [2 10 … 15 12; 2 10 … 15 12; … ; 2 18 … 15 9; 2 18 … 15 9]\n",
       " [2 10 … 15 12; 2 10 … 15 12; … ; 2 10 … 15 12; 2 10 … 15 12]\n",
       " [2 10 … 15 12; 2 10 … 15 12; … ; 2 10 … 15 12; 2 10 … 15 12]\n",
       " [2 10 … 15 12; 2 10 … 15 12; … ; 2 10 … 15 12; 2 10 … 15 12]\n",
       " [2 10 … 15 12; 2 10 … 15 12; … ; 2 10 … 15 12; 2 10 … 15 12]\n",
       " [2 10 … 15 12; 2 10 … 15 12; … ; 2 10 … 15 12; 2 10 … 15 12]\n",
       " [2 10 … 15 12; 2 10 … 15 12; … ; 2 10 … 15 12; 2 10 … 15 12]\n",
       " [2 10 … 15 12; 2 10 … 15 12; … ; 2 14 … 15 12; 2 14 … 15 12]\n",
       " [2 10 … 15 12; 2 10 … 15 12; … ; 2 10 … 15 9; 2 10 … 15 9]\n",
       " [2 10 … 15 12; 2 10 … 15 12; … ; 2 13 … 15 12; 2 13 … 15 12]"
      ]
     },
     "execution_count": 42,
     "metadata": {},
     "output_type": "execute_result"
    }
   ],
   "source": [
    "folder_path = \"../../first_fixed_amino_mixed_dbd_steps100_seqs1500_T1.0p0.0\"\n",
    "\n",
    "fasta_files = filter(file -> endswith(file, \".mixedDNA\"), readdir(folder_path))\n",
    "@time matrices = [Int8.(fasta2matrix(joinpath(folder_path, file))) \n",
    "    for file in fasta_files]"
   ]
  },
  {
   "cell_type": "code",
   "execution_count": 50,
   "id": "8098eb11-b71c-45a9-835f-431e12d199b2",
   "metadata": {},
   "outputs": [
    {
     "data": {
      "text/plain": [
       "1500-element Vector{Float64}:\n",
       " -0.8417210000000002\n",
       " -0.464939\n",
       " -1.334046999999999\n",
       " -0.4940870000000003\n",
       " -0.464939\n",
       " -0.13123700000000008\n",
       " -1.334046999999999\n",
       "  0.6697069999999999\n",
       "  0.020209999999999624\n",
       " -1.4971299999999994\n",
       " -1.4971299999999994\n",
       " -0.4940870000000003\n",
       " -1.334046999999999\n",
       "  ⋮\n",
       " -1.334046999999999\n",
       " -0.8842239999999997\n",
       " -0.17778700000000003\n",
       " -0.8842239999999997\n",
       " -1.3511059999999997\n",
       "  0.18794299999999958\n",
       " -1.4971299999999994\n",
       "  4.873112000000001\n",
       " -0.8842239999999997\n",
       "  2.4089849999999995\n",
       "  0.5346939999999997\n",
       "  0.4294569999999999"
      ]
     },
     "execution_count": 50,
     "metadata": {},
     "output_type": "execute_result"
    }
   ],
   "source": [
    "model_muts = [delta_energy(h,J, matr[2,:], thornton_wt) for matr in matrices]"
   ]
  },
  {
   "cell_type": "code",
   "execution_count": 55,
   "id": "9d7fd8d6-b8af-44af-ae23-f6dc0b39aee6",
   "metadata": {},
   "outputs": [
    {
     "data": {
      "text/plain": [
       "seq_DMS (generic function with 2 methods)"
      ]
     },
     "execution_count": 55,
     "metadata": {},
     "output_type": "execute_result"
    }
   ],
   "source": [
    "function seq_DMS(seq, h::Array{Float64,2}, J::Array{Float64,4})\n",
    "    q = 21\n",
    "    L = size(seq,1)\n",
    "    res = zeros(q,L)\n",
    "    for i in 1:L\n",
    "        for a in 1:q\n",
    "            new_seq = deepcopy(seq)\n",
    "            new_seq[i] = a \n",
    "            res[a,i] = delta_energy(h,J, new_seq, seq)\n",
    "        end\n",
    "    end\n",
    "    return res\n",
    "end\n",
    "            "
   ]
  },
  {
   "cell_type": "code",
   "execution_count": 49,
   "id": "ed5a540d-49da-4aa1-94ec-df58676cd1c6",
   "metadata": {},
   "outputs": [
    {
     "data": {
      "text/plain": [
       "21×76 Matrix{Float64}:\n",
       " 9.9603   0.31059    6.479     7.24872  …   5.20023   10.5866    5.61978\n",
       " 0.0      2.92589    6.58999   0.0          7.13099   10.5859    5.61855\n",
       " 9.9589   3.8189     8.19234  10.3616       0.0       10.5859    5.61877\n",
       " 9.95917  2.47987   11.6514    7.12095      0.276352   5.38045   5.62006\n",
       " 9.95611  3.15474    8.02021   7.27481      6.87894   10.5855    5.62063\n",
       " 9.95719  2.37126    7.02744   7.95737  …   4.53102   10.5859    5.62118\n",
       " 9.95849  3.16904   11.6523   10.4121       4.99961    6.69069   5.62026\n",
       " 9.95908  3.23653    3.04592  10.0943       7.68807   10.5864    5.61902\n",
       " 9.95957  1.02594   11.6515   10.4127       4.25325    2.06882  -0.592275\n",
       " 9.95914  0.0        7.68725  10.4115       5.8724    10.5858    5.621\n",
       " 9.95806  2.30312    7.62056  10.4122   …   7.35694   10.5872    5.61799\n",
       " 9.95815  3.77095    9.28059  10.4117       3.14983    6.85763   0.0\n",
       " 9.95907  2.31029   11.4408   10.4105       5.544     10.5878    5.61952\n",
       " 9.95877  1.18581   11.6521   10.4113       4.21227    5.74437   0.011754\n",
       " 9.96062  1.61119   10.1264    8.27395      5.30548    0.0       5.62034\n",
       " 9.9589   2.33292    8.68743   6.58492  …   4.3837    10.5858    5.61945\n",
       " 9.96038  3.14279    7.46079  10.4118       4.04563   10.5864    5.6191\n",
       " 9.9585   0.584859   0.0      10.014        6.17177   10.5859    5.62212\n",
       " 9.95871  4.64134   11.6526   10.4104      11.0556    10.5851    5.61817\n",
       " 9.95884  4.37794   11.6533   10.412        5.67155   10.587     5.62081\n",
       " 3.50837  3.13249    6.04556   5.31029  …   5.04468    3.91984  -2.68098"
      ]
     },
     "execution_count": 49,
     "metadata": {},
     "output_type": "execute_result"
    }
   ],
   "source": [
    "rand_muts = seq_DMS(thornton_wt, h,J)"
   ]
  },
  {
   "cell_type": "code",
   "execution_count": 54,
   "id": "42cef2dd-0272-48c1-98a1-31b8d89be0d8",
   "metadata": {},
   "outputs": [
    {
     "data": {
      "text/plain": [
       "\"/home/disat/ldibari/Gen.jl/model_vs_random_muts.png\""
      ]
     },
     "execution_count": 54,
     "metadata": {},
     "output_type": "execute_result"
    }
   ],
   "source": [
    "histogram(model_muts[:], alpha = 0.5, label = \"model muts\")\n",
    "histogram!(rand_muts[:], alpha = 0.5, label = \"random muts\")\n",
    "savefig(\"../model_vs_random_muts.png\")"
   ]
  },
  {
   "cell_type": "code",
   "execution_count": null,
   "id": "41650a1c-23ae-4105-a0da-7a42446c2ed4",
   "metadata": {},
   "outputs": [],
   "source": [
    "count_muts("
   ]
  }
 ],
 "metadata": {
  "kernelspec": {
   "display_name": "Julia 1.10.0",
   "language": "julia",
   "name": "julia-1.10"
  },
  "language_info": {
   "file_extension": ".jl",
   "mimetype": "application/julia",
   "name": "julia",
   "version": "1.10.0"
  }
 },
 "nbformat": 4,
 "nbformat_minor": 5
}
